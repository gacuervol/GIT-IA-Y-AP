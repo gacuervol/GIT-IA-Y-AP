{
 "cells": [
  {
   "cell_type": "markdown",
   "metadata": {},
   "source": [
    "# Taller de Pandas\n",
    "### Giovanny Alejandro Cuervo Londoño\n",
    "---\n",
    "\n",
    "Dataset: Beijing PM2.5 Data Data Set\n",
    "\n",
    "<a href=\"https://archive.ics.uci.edu/ml/datasets/Beijing+PM2.5+Data#\"> Link\n",
    "    \n",
    "Fuente: Song Xi Chen, csx '@' gsm.pku.edu.cn, Guanghua School of Management, Center for Statistical Science, Peking University.\n",
    "\n",
    "\n",
    "Info. Data set: The data time period is between Jan 1st, 2010 to Dec 31st, 2014. Missing data are denoted as â€œNAâ€.\n",
    "\n",
    "\n",
    "Información:\n",
    "\n",
    "| Columna | Info |\n",
    "| :------- | -----: |\n",
    "| No | row number |\n",
    "| year | year of data in this row |\n",
    "| month | month of data in this row |\n",
    "| day | day of data in this row |\n",
    "| hour | hour of data in this row |\n",
    "| pm2.5 | PM2.5 concentration (ug/m^3) |\n",
    "| DEWP | Dew Point (â„ƒ) |\n",
    "| TEMP | Temperature (â„ƒ) |\n",
    "| PRES | Pressure (hPa) |\n",
    "| cbwd | Combined wind direction |\n",
    "| Iws | Cumulated wind speed (m/s) |\n",
    "| Is | Cumulated hours of snow |\n",
    "| Ir | Cumulated hours of rain |\n",
    "\n",
    "Articulos relevantes:\n",
    "\n",
    "> Liang, X., Zou, T., Guo, B., Li, S., Zhang, H., Zhang, S., Huang, H. and Chen, S. X. (2015). Assessing Beijing's PM2.5 pollution: severity, weather impact, APEC and winter heating. Proceedings of the Royal Society A, 471, 20150257.\n",
    "\n",
    "\n",
    "\n",
    "¿Como citar esta base de datos?:\n",
    "\n",
    "> Liang, X., Zou, T., Guo, B., Li, S., Zhang, H., Zhang, S., Huang, H. and Chen, S. X. (2015). Assessing Beijing's PM2.5 pollution: severity, weather impact, APEC and winter heating. Proceedings of the Royal Society A, 471, 20150257."
   ]
  },
  {
   "cell_type": "code",
   "execution_count": 16,
   "metadata": {},
   "outputs": [],
   "source": [
    "import numpy as np\n",
    "import pandas as pd\n",
    "import matplotlib.pyplot as plt\n"
   ]
  },
  {
   "cell_type": "markdown",
   "metadata": {},
   "source": [
    "## Caraga de Datos\n",
    "---\n"
   ]
  },
  {
   "cell_type": "code",
   "execution_count": 17,
   "metadata": {},
   "outputs": [
    {
     "data": {
      "text/html": [
       "<div>\n",
       "<style scoped>\n",
       "    .dataframe tbody tr th:only-of-type {\n",
       "        vertical-align: middle;\n",
       "    }\n",
       "\n",
       "    .dataframe tbody tr th {\n",
       "        vertical-align: top;\n",
       "    }\n",
       "\n",
       "    .dataframe thead th {\n",
       "        text-align: right;\n",
       "    }\n",
       "</style>\n",
       "<table border=\"1\" class=\"dataframe\">\n",
       "  <thead>\n",
       "    <tr style=\"text-align: right;\">\n",
       "      <th></th>\n",
       "      <th>No</th>\n",
       "      <th>year</th>\n",
       "      <th>month</th>\n",
       "      <th>day</th>\n",
       "      <th>hour</th>\n",
       "      <th>pm2.5</th>\n",
       "      <th>DEWP</th>\n",
       "      <th>TEMP</th>\n",
       "      <th>PRES</th>\n",
       "      <th>cbwd</th>\n",
       "      <th>Iws</th>\n",
       "      <th>Is</th>\n",
       "      <th>Ir</th>\n",
       "    </tr>\n",
       "  </thead>\n",
       "  <tbody>\n",
       "    <tr>\n",
       "      <th>0</th>\n",
       "      <td>1</td>\n",
       "      <td>2010</td>\n",
       "      <td>1</td>\n",
       "      <td>1</td>\n",
       "      <td>0</td>\n",
       "      <td>NaN</td>\n",
       "      <td>-21</td>\n",
       "      <td>-11.0</td>\n",
       "      <td>1021.0</td>\n",
       "      <td>NW</td>\n",
       "      <td>1.79</td>\n",
       "      <td>0</td>\n",
       "      <td>0</td>\n",
       "    </tr>\n",
       "    <tr>\n",
       "      <th>1</th>\n",
       "      <td>2</td>\n",
       "      <td>2010</td>\n",
       "      <td>1</td>\n",
       "      <td>1</td>\n",
       "      <td>1</td>\n",
       "      <td>NaN</td>\n",
       "      <td>-21</td>\n",
       "      <td>-12.0</td>\n",
       "      <td>1020.0</td>\n",
       "      <td>NW</td>\n",
       "      <td>4.92</td>\n",
       "      <td>0</td>\n",
       "      <td>0</td>\n",
       "    </tr>\n",
       "    <tr>\n",
       "      <th>2</th>\n",
       "      <td>3</td>\n",
       "      <td>2010</td>\n",
       "      <td>1</td>\n",
       "      <td>1</td>\n",
       "      <td>2</td>\n",
       "      <td>NaN</td>\n",
       "      <td>-21</td>\n",
       "      <td>-11.0</td>\n",
       "      <td>1019.0</td>\n",
       "      <td>NW</td>\n",
       "      <td>6.71</td>\n",
       "      <td>0</td>\n",
       "      <td>0</td>\n",
       "    </tr>\n",
       "    <tr>\n",
       "      <th>3</th>\n",
       "      <td>4</td>\n",
       "      <td>2010</td>\n",
       "      <td>1</td>\n",
       "      <td>1</td>\n",
       "      <td>3</td>\n",
       "      <td>NaN</td>\n",
       "      <td>-21</td>\n",
       "      <td>-14.0</td>\n",
       "      <td>1019.0</td>\n",
       "      <td>NW</td>\n",
       "      <td>9.84</td>\n",
       "      <td>0</td>\n",
       "      <td>0</td>\n",
       "    </tr>\n",
       "    <tr>\n",
       "      <th>4</th>\n",
       "      <td>5</td>\n",
       "      <td>2010</td>\n",
       "      <td>1</td>\n",
       "      <td>1</td>\n",
       "      <td>4</td>\n",
       "      <td>NaN</td>\n",
       "      <td>-20</td>\n",
       "      <td>-12.0</td>\n",
       "      <td>1018.0</td>\n",
       "      <td>NW</td>\n",
       "      <td>12.97</td>\n",
       "      <td>0</td>\n",
       "      <td>0</td>\n",
       "    </tr>\n",
       "  </tbody>\n",
       "</table>\n",
       "</div>"
      ],
      "text/plain": [
       "   No  year  month  day  hour  pm2.5  DEWP  TEMP    PRES cbwd    Iws  Is  Ir\n",
       "0   1  2010      1    1     0    NaN   -21 -11.0  1021.0   NW   1.79   0   0\n",
       "1   2  2010      1    1     1    NaN   -21 -12.0  1020.0   NW   4.92   0   0\n",
       "2   3  2010      1    1     2    NaN   -21 -11.0  1019.0   NW   6.71   0   0\n",
       "3   4  2010      1    1     3    NaN   -21 -14.0  1019.0   NW   9.84   0   0\n",
       "4   5  2010      1    1     4    NaN   -20 -12.0  1018.0   NW  12.97   0   0"
      ]
     },
     "execution_count": 17,
     "metadata": {},
     "output_type": "execute_result"
    }
   ],
   "source": [
    "ruta =  r\"/home/mofoko/Desktop/Diplomato intel artificial/IA y AP/3. Taller Pandas/PRSA_data_2010.1.1-2014.12.31.csv\"\n",
    "\n",
    "Data_set = pd.read_csv(ruta, sep = ',')\n",
    "\n",
    "Data_set.head()\n"
   ]
  },
  {
   "cell_type": "code",
   "execution_count": 18,
   "metadata": {},
   "outputs": [
    {
     "name": "stdout",
     "output_type": "stream",
     "text": [
      "<class 'pandas.core.frame.DataFrame'>\n",
      "RangeIndex: 43824 entries, 0 to 43823\n",
      "Data columns (total 13 columns):\n",
      " #   Column  Non-Null Count  Dtype  \n",
      "---  ------  --------------  -----  \n",
      " 0   No      43824 non-null  int64  \n",
      " 1   year    43824 non-null  int64  \n",
      " 2   month   43824 non-null  int64  \n",
      " 3   day     43824 non-null  int64  \n",
      " 4   hour    43824 non-null  int64  \n",
      " 5   pm2.5   41757 non-null  float64\n",
      " 6   DEWP    43824 non-null  int64  \n",
      " 7   TEMP    43824 non-null  float64\n",
      " 8   PRES    43824 non-null  float64\n",
      " 9   cbwd    43824 non-null  object \n",
      " 10  Iws     43824 non-null  float64\n",
      " 11  Is      43824 non-null  int64  \n",
      " 12  Ir      43824 non-null  int64  \n",
      "dtypes: float64(4), int64(8), object(1)\n",
      "memory usage: 4.3+ MB\n",
      "Info: \n",
      "None \n",
      "Shape: (43824, 13) \n",
      "\n",
      "                  No          year         month           day          hour  \\\n",
      "count  43824.000000  43824.000000  43824.000000  43824.000000  43824.000000   \n",
      "mean   21912.500000   2012.000000      6.523549     15.727820     11.500000   \n",
      "std    12651.043435      1.413842      3.448572      8.799425      6.922266   \n",
      "min        1.000000   2010.000000      1.000000      1.000000      0.000000   \n",
      "25%    10956.750000   2011.000000      4.000000      8.000000      5.750000   \n",
      "50%    21912.500000   2012.000000      7.000000     16.000000     11.500000   \n",
      "75%    32868.250000   2013.000000     10.000000     23.000000     17.250000   \n",
      "max    43824.000000   2014.000000     12.000000     31.000000     23.000000   \n",
      "\n",
      "              pm2.5          DEWP          TEMP          PRES           Iws  \\\n",
      "count  41757.000000  43824.000000  43824.000000  43824.000000  43824.000000   \n",
      "mean      98.613215      1.817246     12.448521   1016.447654     23.889140   \n",
      "std       92.050387     14.433440     12.198613     10.268698     50.010635   \n",
      "min        0.000000    -40.000000    -19.000000    991.000000      0.450000   \n",
      "25%       29.000000    -10.000000      2.000000   1008.000000      1.790000   \n",
      "50%       72.000000      2.000000     14.000000   1016.000000      5.370000   \n",
      "75%      137.000000     15.000000     23.000000   1025.000000     21.910000   \n",
      "max      994.000000     28.000000     42.000000   1046.000000    585.600000   \n",
      "\n",
      "                 Is            Ir  \n",
      "count  43824.000000  43824.000000  \n",
      "mean       0.052734      0.194916  \n",
      "std        0.760375      1.415867  \n",
      "min        0.000000      0.000000  \n",
      "25%        0.000000      0.000000  \n",
      "50%        0.000000      0.000000  \n",
      "75%        0.000000      0.000000  \n",
      "max       27.000000     36.000000  \n"
     ]
    }
   ],
   "source": [
    "print(f'Info: \\n{Data_set.info()} \\nShape: {Data_set.shape} ')\n",
    "print(f'\\n {Data_set.describe()}')"
   ]
  },
  {
   "cell_type": "markdown",
   "metadata": {},
   "source": [
    "## Actividades \n",
    "---\n",
    "\n",
    "1. Diga qué índices serían pertienentes tener y pongalos."
   ]
  },
  {
   "cell_type": "code",
   "execution_count": 19,
   "metadata": {},
   "outputs": [
    {
     "data": {
      "text/html": [
       "<div>\n",
       "<style scoped>\n",
       "    .dataframe tbody tr th:only-of-type {\n",
       "        vertical-align: middle;\n",
       "    }\n",
       "\n",
       "    .dataframe tbody tr th {\n",
       "        vertical-align: top;\n",
       "    }\n",
       "\n",
       "    .dataframe thead th {\n",
       "        text-align: right;\n",
       "    }\n",
       "</style>\n",
       "<table border=\"1\" class=\"dataframe\">\n",
       "  <thead>\n",
       "    <tr style=\"text-align: right;\">\n",
       "      <th></th>\n",
       "      <th></th>\n",
       "      <th>year</th>\n",
       "      <th>month</th>\n",
       "      <th>day</th>\n",
       "      <th>hour</th>\n",
       "      <th>pm2.5</th>\n",
       "      <th>DEWP</th>\n",
       "      <th>TEMP</th>\n",
       "      <th>PRES</th>\n",
       "      <th>cbwd</th>\n",
       "      <th>Iws</th>\n",
       "      <th>Is</th>\n",
       "      <th>Ir</th>\n",
       "    </tr>\n",
       "    <tr>\n",
       "      <th>No</th>\n",
       "      <th>date</th>\n",
       "      <th></th>\n",
       "      <th></th>\n",
       "      <th></th>\n",
       "      <th></th>\n",
       "      <th></th>\n",
       "      <th></th>\n",
       "      <th></th>\n",
       "      <th></th>\n",
       "      <th></th>\n",
       "      <th></th>\n",
       "      <th></th>\n",
       "      <th></th>\n",
       "    </tr>\n",
       "  </thead>\n",
       "  <tbody>\n",
       "    <tr>\n",
       "      <th>1</th>\n",
       "      <th>2010/01/01 12AM</th>\n",
       "      <td>2010</td>\n",
       "      <td>1</td>\n",
       "      <td>1</td>\n",
       "      <td>0</td>\n",
       "      <td>NaN</td>\n",
       "      <td>-21</td>\n",
       "      <td>-11.0</td>\n",
       "      <td>1021.0</td>\n",
       "      <td>NW</td>\n",
       "      <td>1.79</td>\n",
       "      <td>0</td>\n",
       "      <td>0</td>\n",
       "    </tr>\n",
       "    <tr>\n",
       "      <th>2</th>\n",
       "      <th>2010/01/01 01AM</th>\n",
       "      <td>2010</td>\n",
       "      <td>1</td>\n",
       "      <td>1</td>\n",
       "      <td>1</td>\n",
       "      <td>NaN</td>\n",
       "      <td>-21</td>\n",
       "      <td>-12.0</td>\n",
       "      <td>1020.0</td>\n",
       "      <td>NW</td>\n",
       "      <td>4.92</td>\n",
       "      <td>0</td>\n",
       "      <td>0</td>\n",
       "    </tr>\n",
       "    <tr>\n",
       "      <th>3</th>\n",
       "      <th>2010/01/01 02AM</th>\n",
       "      <td>2010</td>\n",
       "      <td>1</td>\n",
       "      <td>1</td>\n",
       "      <td>2</td>\n",
       "      <td>NaN</td>\n",
       "      <td>-21</td>\n",
       "      <td>-11.0</td>\n",
       "      <td>1019.0</td>\n",
       "      <td>NW</td>\n",
       "      <td>6.71</td>\n",
       "      <td>0</td>\n",
       "      <td>0</td>\n",
       "    </tr>\n",
       "    <tr>\n",
       "      <th>4</th>\n",
       "      <th>2010/01/01 03AM</th>\n",
       "      <td>2010</td>\n",
       "      <td>1</td>\n",
       "      <td>1</td>\n",
       "      <td>3</td>\n",
       "      <td>NaN</td>\n",
       "      <td>-21</td>\n",
       "      <td>-14.0</td>\n",
       "      <td>1019.0</td>\n",
       "      <td>NW</td>\n",
       "      <td>9.84</td>\n",
       "      <td>0</td>\n",
       "      <td>0</td>\n",
       "    </tr>\n",
       "    <tr>\n",
       "      <th>5</th>\n",
       "      <th>2010/01/01 04AM</th>\n",
       "      <td>2010</td>\n",
       "      <td>1</td>\n",
       "      <td>1</td>\n",
       "      <td>4</td>\n",
       "      <td>NaN</td>\n",
       "      <td>-20</td>\n",
       "      <td>-12.0</td>\n",
       "      <td>1018.0</td>\n",
       "      <td>NW</td>\n",
       "      <td>12.97</td>\n",
       "      <td>0</td>\n",
       "      <td>0</td>\n",
       "    </tr>\n",
       "  </tbody>\n",
       "</table>\n",
       "</div>"
      ],
      "text/plain": [
       "                    year  month  day  hour  pm2.5  DEWP  TEMP    PRES cbwd  \\\n",
       "No date                                                                      \n",
       "1  2010/01/01 12AM  2010      1    1     0    NaN   -21 -11.0  1021.0   NW   \n",
       "2  2010/01/01 01AM  2010      1    1     1    NaN   -21 -12.0  1020.0   NW   \n",
       "3  2010/01/01 02AM  2010      1    1     2    NaN   -21 -11.0  1019.0   NW   \n",
       "4  2010/01/01 03AM  2010      1    1     3    NaN   -21 -14.0  1019.0   NW   \n",
       "5  2010/01/01 04AM  2010      1    1     4    NaN   -20 -12.0  1018.0   NW   \n",
       "\n",
       "                      Iws  Is  Ir  \n",
       "No date                            \n",
       "1  2010/01/01 12AM   1.79   0   0  \n",
       "2  2010/01/01 01AM   4.92   0   0  \n",
       "3  2010/01/01 02AM   6.71   0   0  \n",
       "4  2010/01/01 03AM   9.84   0   0  \n",
       "5  2010/01/01 04AM  12.97   0   0  "
      ]
     },
     "execution_count": 19,
     "metadata": {},
     "output_type": "execute_result"
    }
   ],
   "source": [
    "col_fechas = ['year', 'month', 'day', 'hour']\n",
    "fecha = pd.to_datetime(Data_set[col_fechas]).dt.strftime('%Y/%m/%d %I%p')\n",
    "fecha = pd.Series(fecha, name = 'date')\n",
    "Data_set.set_index([Data_set['No'], fecha], inplace=True)\n",
    "Data_set.drop(['No'], axis=1,  inplace=True)\n",
    "Data_set.head()"
   ]
  },
  {
   "cell_type": "markdown",
   "metadata": {},
   "source": [
    "La variable `Data_set['No']` es necesario colocarla como índice del DataFrame, además se colocó la fecha `date` en formato %Y/%m/%d %I%p dado que sería pertinente a la hora de trabajarlo como una serie de tiempo."
   ]
  },
  {
   "cell_type": "markdown",
   "metadata": {},
   "source": [
    "2. Elimine registros que tengan NA en la columna \"pm2.5\"Data_set\n"
   ]
  },
  {
   "cell_type": "code",
   "execution_count": 20,
   "metadata": {},
   "outputs": [
    {
     "data": {
      "text/plain": [
       "year        0\n",
       "month       0\n",
       "day         0\n",
       "hour        0\n",
       "pm2.5    2067\n",
       "DEWP        0\n",
       "TEMP        0\n",
       "PRES        0\n",
       "cbwd        0\n",
       "Iws         0\n",
       "Is          0\n",
       "Ir          0\n",
       "dtype: int64"
      ]
     },
     "execution_count": 20,
     "metadata": {},
     "output_type": "execute_result"
    }
   ],
   "source": [
    "#La unica varaible con datos nulos NA es pm2.5\n",
    "Data_set.isna().sum() #eliminar datos NA equivale a eliminar 2067"
   ]
  },
  {
   "cell_type": "code",
   "execution_count": 21,
   "metadata": {},
   "outputs": [
    {
     "name": "stdout",
     "output_type": "stream",
     "text": [
      "Info: \n",
      "year     0\n",
      "month    0\n",
      "day      0\n",
      "hour     0\n",
      "pm2.5    0\n",
      "DEWP     0\n",
      "TEMP     0\n",
      "PRES     0\n",
      "cbwd     0\n",
      "Iws      0\n",
      "Is       0\n",
      "Ir       0\n",
      "dtype: int64 \n",
      "Shape: (41757, 12)\n",
      "\n",
      "filas Antes: 43824 y filas Depues: 41757 \n",
      "Filas Eliminadas: 2067\n"
     ]
    }
   ],
   "source": [
    "Data_NoNA = Data_set.copy()\n",
    "\n",
    "Data_NoNA = Data_NoNA.dropna()\n",
    "\n",
    "print(f'Info: \\n{Data_NoNA.isna().sum()} \\nShape: {Data_NoNA.shape}')\n",
    "\n",
    "print(f'\\nfilas Antes: {Data_set.shape[0]} y filas Depues: {Data_NoNA.shape[0]} \\nFilas Eliminadas: {Data_set.shape[0]-Data_NoNA.shape[0]}')\n",
    "\n"
   ]
  },
  {
   "cell_type": "markdown",
   "metadata": {},
   "source": [
    "3. Relice un describe de todas las variables por año. Además de realizar un gráfico como boxplot con el que pueda comparar los resultados dados."
   ]
  },
  {
   "cell_type": "code",
   "execution_count": 22,
   "metadata": {},
   "outputs": [
    {
     "name": "stdout",
     "output_type": "stream",
     "text": [
      "Años: [2010 2011 2012 2013 2014] \n",
      "Columnas numéricas: ['DEWP', 'TEMP', 'PRES', 'Iws', 'Is', 'Ir']\n",
      "\n",
      "Año 2010: \n",
      "              DEWP         TEMP         PRES          Iws           Is  \\\n",
      "count  8091.000000  8091.000000  8091.000000  8091.000000  8091.000000   \n",
      "mean      1.352120    11.313805  1016.291373    29.214860     0.077123   \n",
      "std      14.584996    12.684701     9.797649    56.150098     1.019457   \n",
      "min     -28.000000   -19.000000   994.000000     0.450000     0.000000   \n",
      "25%     -11.000000     0.000000  1009.000000     1.790000     0.000000   \n",
      "50%       1.000000    11.000000  1015.000000     7.140000     0.000000   \n",
      "75%      15.000000    23.000000  1023.000000    27.720000     0.000000   \n",
      "max      28.000000    41.000000  1043.000000   565.490000    27.000000   \n",
      "\n",
      "                Ir  \n",
      "count  8091.000000  \n",
      "mean      0.269312  \n",
      "std       1.836257  \n",
      "min       0.000000  \n",
      "25%       0.000000  \n",
      "50%       0.000000  \n",
      "75%       0.000000  \n",
      "max      36.000000   \n",
      " \n",
      "Año 2011: \n",
      "              DEWP         TEMP         PRES          Iws           Is  \\\n",
      "count  8032.000000  8032.000000  8032.000000  8032.000000  8032.000000   \n",
      "mean      2.033118    12.407869  1017.461653    25.491912     0.056399   \n",
      "std      14.503209    12.095837    11.296902    49.820456     0.748339   \n",
      "min     -27.000000   -15.000000   993.000000     0.450000     0.000000   \n",
      "25%     -10.000000     2.000000  1007.000000     1.790000     0.000000   \n",
      "50%       2.000000    14.000000  1018.000000     6.250000     0.000000   \n",
      "75%      16.000000    23.000000  1027.000000    24.130000     0.000000   \n",
      "max      28.000000    36.000000  1045.000000   445.660000    20.000000   \n",
      "\n",
      "                Ir  \n",
      "count  8032.000000  \n",
      "mean      0.149278  \n",
      "std       1.110730  \n",
      "min       0.000000  \n",
      "25%       0.000000  \n",
      "50%       0.000000  \n",
      "75%       0.000000  \n",
      "max      23.000000  \n",
      "\n",
      "Año 2012: \n",
      "              DEWP         TEMP         PRES          Iws           Is  \\\n",
      "count  8295.000000  8295.000000  8295.000000  8295.000000  8295.000000   \n",
      "mean      1.953707    12.109946  1016.080289    24.610321     0.076070   \n",
      "std      14.561339    12.339970    10.025194    49.794085     0.866199   \n",
      "min     -28.000000   -17.000000   992.000000     0.450000     0.000000   \n",
      "25%     -11.000000     1.000000  1008.000000     1.790000     0.000000   \n",
      "50%       3.000000    14.000000  1016.000000     5.810000     0.000000   \n",
      "75%      15.000000    23.000000  1024.000000    24.140000     0.000000   \n",
      "max      27.000000    38.000000  1041.000000   454.620000    19.000000   \n",
      "\n",
      "                Ir  \n",
      "count  8295.000000  \n",
      "mean      0.265943  \n",
      "std       1.766490  \n",
      "min       0.000000  \n",
      "25%       0.000000  \n",
      "50%       0.000000  \n",
      "75%       0.000000  \n",
      "max      32.000000  \n",
      " \n",
      "Año 2013: \n",
      "              DEWP         TEMP         PRES          Iws           Is  \\\n",
      "count  8678.000000  8678.000000  8678.000000  8678.000000  8678.000000   \n",
      "mean      1.342590    12.383614  1015.817066    21.058177     0.035262   \n",
      "std      14.360272    12.033222    10.506757    47.598791     0.460145   \n",
      "min     -33.000000   -17.000000   991.000000     0.450000     0.000000   \n",
      "25%     -11.000000     2.000000  1007.000000     1.790000     0.000000   \n",
      "50%       0.000000    13.000000  1016.000000     4.920000     0.000000   \n",
      "75%      15.000000    23.000000  1024.000000    18.790000     0.000000   \n",
      "max      26.000000    38.000000  1046.000000   490.380000    11.000000   \n",
      "\n",
      "                Ir  \n",
      "count  8678.000000  \n",
      "mean      0.161904  \n",
      "std       1.150911  \n",
      "min       0.000000  \n",
      "25%       0.000000  \n",
      "50%       0.000000  \n",
      "75%       0.000000  \n",
      "max      25.000000  \n",
      "\n",
      "Año 2014: \n",
      "              DEWP         TEMP         PRES          Iws           Is  \\\n",
      "count  8661.000000  8661.000000  8661.000000  8661.000000  8661.000000   \n",
      "mean      2.073086    13.709156  1016.614017    19.465400     0.034292   \n",
      "std      14.159683    11.616259     9.756248    43.837185     0.708804   \n",
      "min     -40.000000   -13.000000   993.000000     0.450000     0.000000   \n",
      "25%      -9.000000     3.000000  1008.000000     1.790000     0.000000   \n",
      "50%       4.000000    15.000000  1016.000000     4.900000     0.000000   \n",
      "75%      15.000000    23.000000  1025.000000    17.000000     0.000000   \n",
      "max      25.000000    42.000000  1039.000000   441.180000    23.000000   \n",
      "\n",
      "                Ir  \n",
      "count  8661.000000  \n",
      "mean      0.132548  \n",
      "std       1.034723  \n",
      "min       0.000000  \n",
      "25%       0.000000  \n",
      "50%       0.000000  \n",
      "75%       0.000000  \n",
      "max      23.000000  \n"
     ]
    }
   ],
   "source": [
    "years = Data_NoNA['year'].unique()\n",
    "Columns = Data_NoNA.select_dtypes(include=np.number).columns[5:].tolist()\n",
    "\n",
    "print(f'Años: {years} \\nColumnas numéricas: {Columns}')\n",
    "\n",
    "Por_año = {}\n",
    "\n",
    "for i in years:\n",
    "    Por_año[i] = Data_NoNA[Data_NoNA['year'] == i].select_dtypes(include=np.number)  \n",
    "\n",
    "#Describe\n",
    "print(f'\\nAño 2010: \\n{Por_año[2010].iloc[:, 5:].describe()} \\n \\nAño 2011: \\n{Por_año[2011].iloc[:, 5:].describe()}')\n",
    "print(f'\\nAño 2012: \\n{Por_año[2012].iloc[:, 5:].describe()}\\n \\nAño 2013: \\n{Por_año[2013].iloc[:, 5:].describe()}')\n",
    "print(f'\\nAño 2014: \\n{Por_año[2014].iloc[:, 5:].describe()}')"
   ]
  },
  {
   "cell_type": "code",
   "execution_count": 23,
   "metadata": {},
   "outputs": [
    {
     "data": {
      "image/png": "[encoded data removed]",
      "text/plain": [
       "<Figure size 1008x432 with 1 Axes>"
      ]
     },
     "metadata": {
      "needs_background": "light"
     },
     "output_type": "display_data"
    }
   ],
   "source": [
    "#Boxplot\n",
    "plt.figure(figsize=(14,6))\n",
    "bp2010 = plt.boxplot(Por_año[2010].iloc[:, 5:], labels=Columns, positions=np.array(range(len(Columns)))*2.0-0.62,sym='', widths=0.2)\n",
    "bp2011 = plt.boxplot(Por_año[2011].iloc[:, 5:], labels=Columns, positions=np.array(range(len(Columns)))*2.0-0.3, sym='', widths=0.2)\n",
    "bp2012 = plt.boxplot(Por_año[2012].iloc[:, 5:], labels=Columns, positions=np.array(range(len(Columns)))*2.0+0, sym='', widths=0.2)\n",
    "bp2013 = plt.boxplot(Por_año[2013].iloc[:, 5:], labels=Columns, positions=np.array(range(len(Columns)))*2.0+0.3, sym='', widths=0.2)\n",
    "bp2014 = plt.boxplot(Por_año[2014].iloc[:, 5:], labels=Columns, positions=np.array(range(len(Columns)))*2.0+0.62, sym='', widths=0.2)\n",
    "\n",
    "def set_box_color(bp, color):\n",
    "    plt.setp(bp['boxes'], color=color)\n",
    "    plt.setp(bp['whiskers'], color=color)\n",
    "    plt.setp(bp['caps'], color=color)\n",
    "    plt.setp(bp['medians'], color=color)\n",
    "\n",
    "c10, c11, c12, c13, c14 = '#016450', '#02818a', '#3690c0', '#67a9cf', '#a6bddb'\n",
    "set_box_color(bp2010, c10)\n",
    "set_box_color(bp2011, c11)\n",
    "set_box_color(bp2012, c12)\n",
    "set_box_color(bp2013, c13)\n",
    "set_box_color(bp2014, c14)\n",
    "\n",
    "plt.plot([], c= c10, label='2010')\n",
    "plt.plot([], c= c11, label='2011')\n",
    "plt.plot([], c= c12, label='2012')\n",
    "plt.plot([], c= c13, label='2013')\n",
    "plt.plot([], c= c14, label='2014')\n",
    "plt.legend()\n",
    "\n",
    "plt.xticks(range(0, len(Columns) * 2, 2), Columns)\n",
    "plt.xlim(-2, len(Columns)*2)\n",
    "\n",
    "plt.tight_layout()"
   ]
  },
  {
   "cell_type": "markdown",
   "metadata": {},
   "source": [
    "Nuvos puntos del taller"
   ]
  },
  {
   "cell_type": "markdown",
   "metadata": {},
   "source": [
    "4. Realice un gráfico de disperción de las variables \"pm2.5\" y \"TEMP\" con título, labels apropiados y color rojo para los datos. Describa: ¿Qué se puede inferir de dicho gráfico?"
   ]
  },
  {
   "cell_type": "code",
   "execution_count": 24,
   "metadata": {},
   "outputs": [
    {
     "data": {
      "image/png": "[encoded data removed]",
      "text/plain": [
       "<Figure size 432x288 with 1 Axes>"
      ]
     },
     "metadata": {
      "needs_background": "light"
     },
     "output_type": "display_data"
    }
   ],
   "source": [
    "#plt.scatter(Data_NoNA['pm2.5'], Data_NoNA['TEMP'], c='r', alpha=0.2)\n",
    "plt.scatter( Data_NoNA['TEMP'], Data_NoNA['pm2.5'], c='r', alpha=0.2)\n",
    "plt.title('Material Particulado vs. Temperatura')\n",
    "plt.xlabel('Temperatura \\n°C')\n",
    "plt.ylabel('Material Particulado \\n$\\mu g/m^{⁻3}$');\n"
   ]
  },
  {
   "cell_type": "markdown",
   "metadata": {},
   "source": [
    "El material particulado parece tener algun grado de correlación con la temeperatura, sin hacer ninguna regresión lineal, esposible ver una relación inversa donde mayor temperatura se observa una menor cantidad de material particulado, ademas también es posible observar una mayor varaibilidad de los datos de Material particulado hacia menores valores de temperatura"
   ]
  },
  {
   "cell_type": "markdown",
   "metadata": {},
   "source": [
    "5. Calcule la probabilidad de encontrar en la Base de datos el valor de pm2.5 encima de 120\n",
    "\n"
   ]
  },
  {
   "cell_type": "code",
   "execution_count": 31,
   "metadata": {},
   "outputs": [
    {
     "data": {
      "image/png": "[encoded data removed]",
      "text/plain": [
       "<Figure size 432x288 with 1 Axes>"
      ]
     },
     "metadata": {
      "needs_background": "light"
     },
     "output_type": "display_data"
    }
   ],
   "source": [
    "plt.hist(Data_NoNA['pm2.5'], bins=50);"
   ]
  },
  {
   "cell_type": "markdown",
   "metadata": {},
   "source": [
    "Se realiza una prueba de Bondad de Ajuste para conocer la Función de Distribución de probabilidad que mejor se ajusta a los datos; por lo que se usó \"Reduced Chi-square Statistic\""
   ]
  },
  {
   "cell_type": "code",
   "execution_count": 26,
   "metadata": {},
   "outputs": [],
   "source": [
    "#TOMADO DE: https://github.com/samread81/Distribution-Fitting-Used_Car_Dataset/blob/master/Workbook.ipynb\n",
    "import scipy.stats\n",
    "from scipy.stats import *\n",
    "from sklearn.preprocessing import StandardScaler\n",
    "\n",
    "def standarise(column,pct,pct_lower):\n",
    "    df = Data_NoNA #######AQUI COLOCA EL NOMBRE DEL DATAFRAME#######\n",
    "    sc = StandardScaler() \n",
    "    y = df[column][df[column].notnull()].to_list()\n",
    "    y.sort()\n",
    "    len_y = len(y)\n",
    "    y = y[int(pct_lower * len_y):int(len_y * pct)]\n",
    "    len_y = len(y)\n",
    "    yy=([[x] for x in y])\n",
    "    sc.fit(yy)\n",
    "    y_std =sc.transform(yy)\n",
    "    y_std = y_std.flatten()\n",
    "    return y_std,len_y,y\n",
    "\n",
    "def fit_distribution(column,pct,pct_lower):\n",
    "    # Set up list of candidate distributions to use\n",
    "    # See https://docs.scipy.org/doc/scipy/reference/stats.html for more\n",
    "    y_std,size,y_org = standarise(column,pct,pct_lower)\n",
    "    dist_names = ['weibull_min','norm','weibull_max','beta',\n",
    "                 'invgauss','uniform','gamma','expon', 'lognorm','pearson3','triang']\n",
    "\n",
    "    chi_square_statistics = []\n",
    "    # 11 bins\n",
    "    percentile_bins = np.linspace(0,100,11)\n",
    "    percentile_cutoffs = np.percentile(y_std, percentile_bins)\n",
    "    observed_frequency, bins = (np.histogram(y_std, bins=percentile_cutoffs))\n",
    "    cum_observed_frequency = np.cumsum(observed_frequency)\n",
    "\n",
    "    # Loop through candidate distributions\n",
    "\n",
    "    for distribution in dist_names:\n",
    "        # Set up distribution and get fitted distribution parameters\n",
    "        dist = getattr(scipy.stats, distribution)\n",
    "        param = dist.fit(y_std)\n",
    "        print(\"{}\\n{}\\n\".format(dist, param))\n",
    "      \n",
    "\n",
    "        # Get expected counts in percentile bins\n",
    "        # cdf of fitted sistrinution across bins\n",
    "        cdf_fitted = dist.cdf(percentile_cutoffs, *param)\n",
    "        expected_frequency = []\n",
    "        for bin in range(len(percentile_bins)-1):\n",
    "            expected_cdf_area = cdf_fitted[bin+1] - cdf_fitted[bin]\n",
    "            expected_frequency.append(expected_cdf_area)\n",
    "\n",
    "        # Chi-square Statistics\n",
    "        expected_frequency = np.array(expected_frequency) * size\n",
    "        cum_expected_frequency = np.cumsum(expected_frequency)\n",
    "        ss = round(sum (((cum_expected_frequency - cum_observed_frequency) ** 2) / cum_observed_frequency),0)\n",
    "        chi_square_statistics.append(ss)\n",
    "\n",
    "\n",
    "    #Sort by minimum ch-square statistics\n",
    "    results = pd.DataFrame()\n",
    "    results['Distribution'] = dist_names\n",
    "    results['chi_square'] = chi_square_statistics\n",
    "    results.sort_values(['chi_square'], inplace=True)\n",
    "\n",
    "\n",
    "    print ('\\nDistributions listed by Betterment of fit:')\n",
    "    print ('............................................')\n",
    "    print (results)"
   ]
  },
  {
   "cell_type": "code",
   "execution_count": 27,
   "metadata": {},
   "outputs": [
    {
     "name": "stdout",
     "output_type": "stream",
     "text": [
      "<scipy.stats._continuous_distns.weibull_min_gen object at 0x7fba31ee49a0>\n",
      "(1.0220932187761087, -1.0801333393398687, 1.0895950002741848)\n",
      "\n",
      "<scipy.stats._continuous_distns.norm_gen object at 0x7fba31f31a30>\n",
      "(0.0, 1.0)\n",
      "\n",
      "<scipy.stats._continuous_distns.weibull_max_gen object at 0x7fba31ee4d00>\n",
      "(185781562.16473442, 126165272.52069297, 126165272.94775501)\n",
      "\n"
     ]
    },
    {
     "name": "stderr",
     "output_type": "stream",
     "text": [
      "/home/mofoko/anaconda3/lib/python3.8/site-packages/scipy/stats/_continuous_distns.py:621: RuntimeWarning: invalid value encountered in sqrt\n",
      "  sk = 2*(b-a)*np.sqrt(a + b + 1) / (a + b + 2) / np.sqrt(a*b)\n"
     ]
    },
    {
     "name": "stdout",
     "output_type": "stream",
     "text": [
      "<scipy.stats._continuous_distns.beta_gen object at 0x7fba31f43430>\n",
      "(0.8507665079696258, 4.2836655283398635, -1.0800781836884887, 6.702020872170255)\n",
      "\n",
      "<scipy.stats._continuous_distns.invgauss_gen object at 0x7fba31e9f1c0>\n",
      "(0.9812201779213847, -1.2375274577590667, 1.261213747390637)\n",
      "\n",
      "<scipy.stats._continuous_distns.uniform_gen object at 0x7fba31e71400>\n",
      "(-1.0800781836884885, 4.994348569788795)\n",
      "\n",
      "<scipy.stats._continuous_distns.gamma_gen object at 0x7fba31efad90>\n",
      "(1.0110852773611025, -1.0801042572127284, 1.0682785304514035)\n",
      "\n",
      "<scipy.stats._continuous_distns.expon_gen object at 0x7fba31eda460>\n",
      "(-1.0800781836884885, 1.0800781836884885)\n",
      "\n",
      "<scipy.stats._continuous_distns.lognorm_gen object at 0x7fba31eb43d0>\n",
      "(0.9885566161420596, -1.151987347794911, 0.7580042652699854)\n",
      "\n",
      "<scipy.stats._continuous_distns.pearson3_gen object at 0x7fba31ec58b0>\n",
      "(1.9889884427495785, -3.9730053585784546e-05, 1.0741182078732643)\n",
      "\n",
      "<scipy.stats._continuous_distns.triang_gen object at 0x7fba31e5fa00>\n",
      "(0.003760950912621198, -1.086830734421064, 5.003039361742928)\n",
      "\n",
      "\n",
      "Distributions listed by Betterment of fit:\n",
      "............................................\n",
      "   Distribution  chi_square\n",
      "3          beta       119.0\n",
      "7         expon       229.0\n",
      "6         gamma       239.0\n",
      "9      pearson3       239.0\n",
      "0   weibull_min       270.0\n",
      "8       lognorm      1537.0\n",
      "4      invgauss      1606.0\n",
      "2   weibull_max     12326.0\n",
      "10       triang     23797.0\n",
      "1          norm     32513.0\n",
      "5       uniform     69652.0\n"
     ]
    }
   ],
   "source": [
    "fit_distribution('pm2.5',0.99,0.01);"
   ]
  },
  {
   "cell_type": "markdown",
   "metadata": {},
   "source": [
    "Por lo que la mejor Distribución de Probabilidad es: Beta\n",
    "para hallar los parámetros $\\alpha$ y $\\beta$"
   ]
  },
  {
   "cell_type": "code",
   "execution_count": 28,
   "metadata": {},
   "outputs": [
    {
     "data": {
      "image/png": "[encoded data removed]",
      "text/plain": [
       "<Figure size 432x288 with 2 Axes>"
      ]
     },
     "metadata": {
      "needs_background": "light"
     },
     "output_type": "display_data"
    },
    {
     "name": "stdout",
     "output_type": "stream",
     "text": [
      "la probabilidad de un valor mayor a 120 es: 0.3100382411945549\n"
     ]
    }
   ],
   "source": [
    "from scipy.stats import beta\n",
    "from sklearn import preprocessing\n",
    "from scipy import integrate\n",
    "from matplotlib.patches import Polygon\n",
    "\n",
    "data2array = np.array(Data_NoNA['pm2.5'])\n",
    "#norm_arr = preprocessing.normalize([data2array])\n",
    "norm_arr=[]\n",
    "for i in Data_NoNA['pm2.5']:\n",
    "    n = (i-np.min(data2array))/(np.max(data2array)-np.min(data2array))\n",
    "    norm_arr.append(n)\n",
    "    \n",
    "\n",
    "n_120=(120-np.min(data2array))/(np.max(data2array)-np.min(data2array))\n",
    "\n",
    "\n",
    "μ = np.mean(norm_arr)\n",
    "σ = np.std(norm_arr)\n",
    "α = (((1-μ)/(σ**2))-(1/μ))*(μ**2)\n",
    "β = α*((1/μ)-1)\n",
    "mean, var = beta.stats(α, β, moments='mv')\n",
    "\n",
    "x = np.linspace(beta.ppf(0.01, α, β),\n",
    "                beta.ppf(0.99, α, β), 100)\n",
    "\n",
    "\n",
    "fig, axs = plt.subplots(1,2)\n",
    "a1, b1 = n_120, np.max(norm_arr)\n",
    "ix1 = np.linspace(a1, b1)\n",
    "iy1 = scipy.stats.beta.pdf(ix1, α, β)\n",
    "verts1 = [(a1, 0), *zip(ix1, iy1), (b1, 0)]\n",
    "poly1 = Polygon(verts1, facecolor='0.9', edgecolor='0.5')\n",
    "axs[1].add_patch(poly1)\n",
    "\n",
    "axs[0].hist(pd.DataFrame(norm_arr), bins=20)\n",
    "axs[0].spines['left'].set_position('zero')\n",
    "\n",
    "axs[1].plot(x, beta.pdf(x, α, β))\n",
    "axs[1].spines['left'].set_position('zero')\n",
    "axs[1].spines['bottom'].set_position('zero')\n",
    "fig.tight_layout();\n",
    "plt.show()\n",
    "\n",
    "beta = lambda x: scipy.stats.beta.pdf(x, α, β)\n",
    "\n",
    "I_1, err_1 = integrate.quad(beta, n_120, np.inf)\n",
    "\n",
    "\n",
    "print(f'la probabilidad de un valor mayor a 120 es: {I_1}')\n"
   ]
  },
  {
   "cell_type": "markdown",
   "metadata": {},
   "source": [
    "6. Para finalizar, agrupe por año el valor de la variable \"pm2.5\", calcule el promedio y ordene la base de datos de manera ascendente por el promedio."
   ]
  },
  {
   "cell_type": "code",
   "execution_count": 29,
   "metadata": {},
   "outputs": [
    {
     "name": "stdout",
     "output_type": "stream",
     "text": [
      "year\n",
      "2012     90.545871\n",
      "2014     97.734557\n",
      "2011     99.071340\n",
      "2013    101.712376\n",
      "2010    104.045730\n",
      "Name: pm2.5, dtype: float64\n"
     ]
    }
   ],
   "source": [
    "Data_numeric = Data_NoNA.select_dtypes(include=np.number)\n",
    "Data_group = Data_numeric.groupby('year').mean()\n",
    "\n",
    "print(Data_group['pm2.5'].sort_values(ascending=True))"
   ]
  },
  {
   "cell_type": "markdown",
   "metadata": {},
   "source": [
    "## Bibliografía\n",
    "---\n",
    "> https://towardsdatascience.com/identify-your-datas-distribution-d76062fc0802"
   ]
  },
  {
   "cell_type": "code",
   "execution_count": null,
   "metadata": {},
   "outputs": [],
   "source": []
  }
 ],
 "metadata": {
  "kernelspec": {
   "display_name": "Python 3",
   "language": "python",
   "name": "python3"
  },
  "language_info": {
   "codemirror_mode": {
    "name": "ipython",
    "version": 3
   },
   "file_extension": ".py",
   "mimetype": "text/x-python",
   "name": "python",
   "nbconvert_exporter": "python",
   "pygments_lexer": "ipython3",
   "version": "3.8.5"
  }
 },
 "nbformat": 4,
 "nbformat_minor": 4
}
