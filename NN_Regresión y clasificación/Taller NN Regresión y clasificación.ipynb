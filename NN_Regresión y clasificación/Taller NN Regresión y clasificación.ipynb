{
  "nbformat": 4,
  "nbformat_minor": 0,
  "metadata": {
    "kernelspec": {
      "display_name": "Python 3",
      "language": "python",
      "name": "python3"
    },
    "language_info": {
      "codemirror_mode": {
        "name": "ipython",
        "version": 3
      },
      "file_extension": ".py",
      "mimetype": "text/x-python",
      "name": "python",
      "nbconvert_exporter": "python",
      "pygments_lexer": "ipython3",
      "version": "3.7.7"
    },
    "colab": {
      "name": "am-logistico-keras-cancer.ipynb",
      "provenance": []
    }
  },
  "cells": [
    {
      "cell_type": "markdown",
      "metadata": {
        "id": "msCRmawsj_ih"
      },
      "source": [
        "# Laboratorio Regresión y clasificación\n",
        "---\n",
        "Giovanny Alejandro Cuervo Londoño\n",
        "\n",
        "1. Construya una red neuronal de clasificación binaria para predecir el cáncer de seno. Use los datos <a srf=https://www.kaggle.com/uciml/breast-cancer-wisconsin-data>Breast Cancer Wisconsin</a>. Los datos los puede encontrar en el enlace de Kaggle.\n",
        "\n",
        "\n",
        "2. Construya una red neuronal de regresión poara predecir el precio de las viviendas. Use los datos <a src= https://www.kaggle.com/c/boston-housing>Boston Housing</a>.  Los datos los puede encontrar en el enlace de Kaggle.\n",
        "\n",
        "\n"
      ]
    },
    {
      "cell_type": "markdown",
      "metadata": {
        "id": "IMbtRDf70aGv"
      },
      "source": [
        "* **0. Importamos los paquetes necesarios** "
      ]
    },
    {
      "cell_type": "code",
      "metadata": {
        "id": "e0Ur6uJv0TbY"
      },
      "source": [
        "import numpy as np\n",
        "import pandas as pd\n",
        "import seaborn as sns\n",
        "import matplotlib.pyplot as plt\n",
        "import tensorflow as tf"
      ],
      "execution_count": 1,
      "outputs": []
    },
    {
      "cell_type": "code",
      "metadata": {
        "colab": {
          "base_uri": "https://localhost:8080/"
        },
        "id": "_BaEUcp2-FGd",
        "outputId": "7d799b60-2944-406e-df87-90a0c3c21cd6"
      },
      "source": [
        "print('Numpy', np.__version__)\n",
        "print('Pandas', pd.__version__)\n",
        "print('Seaborn' , sns.__version__)\n",
        "print('Tensor Flow', tf.__version__)"
      ],
      "execution_count": 2,
      "outputs": [
        {
          "output_type": "stream",
          "text": [
            "Numpy 1.19.5\n",
            "Pandas 1.1.5\n",
            "Seaborn 0.11.1\n",
            "Tensor Flow 2.4.1\n"
          ],
          "name": "stdout"
        }
      ]
    },
    {
      "cell_type": "markdown",
      "metadata": {
        "id": "lU3_3n6PHhMa"
      },
      "source": [
        "Este notebook se hizo con las librerías\n",
        "> Numpy 1.19.5\n",
        "\n",
        "> Pandas 1.1.5\n",
        "\n",
        "> Seaborn 0.11.1\n",
        "\n",
        "> Tensor Flow 2.4.1"
      ]
    },
    {
      "cell_type": "markdown",
      "metadata": {
        "id": "cp8qR2CpvN9O"
      },
      "source": [
        "* **0. Funciones Necesarias definidas** "
      ]
    },
    {
      "cell_type": "code",
      "metadata": {
        "id": "OZujcPc3f-5W"
      },
      "source": [
        "def list_confusion_matrix(cm,classes):\n",
        "  df = pd.DataFrame(data = cm,\n",
        "                    index = pd.MultiIndex.from_product([['Valor real'], classes]),\n",
        "                    columns = pd.MultiIndex.from_product([['Valor predicho'], classes]))\n",
        "  \n",
        "  return df"
      ],
      "execution_count": 3,
      "outputs": []
    },
    {
      "cell_type": "code",
      "metadata": {
        "id": "PmRyHCtVrrfZ"
      },
      "source": [
        "def plot_metric(history, metric):\n",
        "    train_metrics = history.history[metric]\n",
        "    val_metrics = history.history['val_'+metric]\n",
        "    epochs = range(1, len(train_metrics) + 1)\n",
        "    plt.plot(epochs, train_metrics, 'bo--')\n",
        "    plt.plot(epochs, val_metrics, 'ro-')\n",
        "    plt.title('Entrenamiento y validación '+ metric)\n",
        "    plt.xlabel(\"Epochs\")\n",
        "    plt.ylabel(metric)\n",
        "    plt.legend([\"train_\"+metric, 'val_'+metric])\n",
        "    plt.show()"
      ],
      "execution_count": 4,
      "outputs": []
    },
    {
      "cell_type": "markdown",
      "metadata": {
        "id": "WcOchJZbk8cg"
      },
      "source": [
        "## I. Red neuronal de Clasificación Binaria\n",
        "### Breast Cancer Wisconsin\n",
        "---\n"
      ]
    },
    {
      "cell_type": "markdown",
      "metadata": {
        "id": "GZCcVfAez2qj"
      },
      "source": [
        "* 1. Cargamos los datos y las etiquetas objetivo"
      ]
    },
    {
      "cell_type": "code",
      "metadata": {
        "colab": {
          "base_uri": "https://localhost:8080/"
        },
        "id": "sj9aallqk8ET",
        "outputId": "4b6409de-4620-4216-9283-ef9a03ac8e11"
      },
      "source": [
        "from sklearn.datasets import load_breast_cancer\n",
        "\n",
        "data = load_breast_cancer()\n",
        "X = data.data\n",
        "y = data.target\n",
        "\n",
        "\n",
        "print(f'Datos(filas, columnas){X.shape}y tipo: {type(X)}\\nEtiquetas(número): {y.shape} y tipo: {type(y)}')"
      ],
      "execution_count": 5,
      "outputs": [
        {
          "output_type": "stream",
          "text": [
            "Datos(filas, columnas)(569, 30)y tipo: <class 'numpy.ndarray'>\n",
            "Etiquetas(número): (569,) y tipo: <class 'numpy.ndarray'>\n"
          ],
          "name": "stdout"
        }
      ]
    },
    {
      "cell_type": "markdown",
      "metadata": {
        "id": "4f67QQQH0EtI"
      },
      "source": [
        "* 1.1 Exploramos los features"
      ]
    },
    {
      "cell_type": "code",
      "metadata": {
        "colab": {
          "base_uri": "https://localhost:8080/",
          "height": 513
        },
        "id": "AXukgw0EwbTf",
        "outputId": "3408b30c-9472-4a8e-ef53-a918e8493838"
      },
      "source": [
        "print(f'{data.feature_names}') #como numpy array\n",
        "print(f'{X[0, :]} \\ncantidad de features: {len(X[0, :])}') #primer fila\n",
        "\n",
        "df_X = pd.DataFrame(dict(zip(data.feature_names, X))) #como DataFrame\n",
        "df_X[:5] #primeras 5 filas"
      ],
      "execution_count": 6,
      "outputs": [
        {
          "output_type": "stream",
          "text": [
            "['mean radius' 'mean texture' 'mean perimeter' 'mean area'\n",
            " 'mean smoothness' 'mean compactness' 'mean concavity'\n",
            " 'mean concave points' 'mean symmetry' 'mean fractal dimension'\n",
            " 'radius error' 'texture error' 'perimeter error' 'area error'\n",
            " 'smoothness error' 'compactness error' 'concavity error'\n",
            " 'concave points error' 'symmetry error' 'fractal dimension error'\n",
            " 'worst radius' 'worst texture' 'worst perimeter' 'worst area'\n",
            " 'worst smoothness' 'worst compactness' 'worst concavity'\n",
            " 'worst concave points' 'worst symmetry' 'worst fractal dimension']\n",
            "[1.799e+01 1.038e+01 1.228e+02 1.001e+03 1.184e-01 2.776e-01 3.001e-01\n",
            " 1.471e-01 2.419e-01 7.871e-02 1.095e+00 9.053e-01 8.589e+00 1.534e+02\n",
            " 6.399e-03 4.904e-02 5.373e-02 1.587e-02 3.003e-02 6.193e-03 2.538e+01\n",
            " 1.733e+01 1.846e+02 2.019e+03 1.622e-01 6.656e-01 7.119e-01 2.654e-01\n",
            " 4.601e-01 1.189e-01] \n",
            "cantidad de features: 30\n"
          ],
          "name": "stdout"
        },
        {
          "output_type": "execute_result",
          "data": {
            "text/html": [
              "<div>\n",
              "<style scoped>\n",
              "    .dataframe tbody tr th:only-of-type {\n",
              "        vertical-align: middle;\n",
              "    }\n",
              "\n",
              "    .dataframe tbody tr th {\n",
              "        vertical-align: top;\n",
              "    }\n",
              "\n",
              "    .dataframe thead th {\n",
              "        text-align: right;\n",
              "    }\n",
              "</style>\n",
              "<table border=\"1\" class=\"dataframe\">\n",
              "  <thead>\n",
              "    <tr style=\"text-align: right;\">\n",
              "      <th></th>\n",
              "      <th>mean radius</th>\n",
              "      <th>mean texture</th>\n",
              "      <th>mean perimeter</th>\n",
              "      <th>mean area</th>\n",
              "      <th>mean smoothness</th>\n",
              "      <th>mean compactness</th>\n",
              "      <th>mean concavity</th>\n",
              "      <th>mean concave points</th>\n",
              "      <th>mean symmetry</th>\n",
              "      <th>mean fractal dimension</th>\n",
              "      <th>radius error</th>\n",
              "      <th>texture error</th>\n",
              "      <th>perimeter error</th>\n",
              "      <th>area error</th>\n",
              "      <th>smoothness error</th>\n",
              "      <th>compactness error</th>\n",
              "      <th>concavity error</th>\n",
              "      <th>concave points error</th>\n",
              "      <th>symmetry error</th>\n",
              "      <th>fractal dimension error</th>\n",
              "      <th>worst radius</th>\n",
              "      <th>worst texture</th>\n",
              "      <th>worst perimeter</th>\n",
              "      <th>worst area</th>\n",
              "      <th>worst smoothness</th>\n",
              "      <th>worst compactness</th>\n",
              "      <th>worst concavity</th>\n",
              "      <th>worst concave points</th>\n",
              "      <th>worst symmetry</th>\n",
              "      <th>worst fractal dimension</th>\n",
              "    </tr>\n",
              "  </thead>\n",
              "  <tbody>\n",
              "    <tr>\n",
              "      <th>0</th>\n",
              "      <td>17.9900</td>\n",
              "      <td>20.57000</td>\n",
              "      <td>19.6900</td>\n",
              "      <td>11.4200</td>\n",
              "      <td>20.2900</td>\n",
              "      <td>12.4500</td>\n",
              "      <td>18.25000</td>\n",
              "      <td>13.7100</td>\n",
              "      <td>13.0000</td>\n",
              "      <td>12.4600</td>\n",
              "      <td>16.02000</td>\n",
              "      <td>15.7800</td>\n",
              "      <td>19.1700</td>\n",
              "      <td>15.85000</td>\n",
              "      <td>13.7300</td>\n",
              "      <td>14.5400</td>\n",
              "      <td>14.68000</td>\n",
              "      <td>16.130</td>\n",
              "      <td>19.81000</td>\n",
              "      <td>13.54000</td>\n",
              "      <td>13.0800</td>\n",
              "      <td>9.5040</td>\n",
              "      <td>15.3400</td>\n",
              "      <td>21.16000</td>\n",
              "      <td>16.6500</td>\n",
              "      <td>17.1400</td>\n",
              "      <td>14.5800</td>\n",
              "      <td>18.6100</td>\n",
              "      <td>15.3000</td>\n",
              "      <td>17.57000</td>\n",
              "    </tr>\n",
              "    <tr>\n",
              "      <th>1</th>\n",
              "      <td>10.3800</td>\n",
              "      <td>17.77000</td>\n",
              "      <td>21.2500</td>\n",
              "      <td>20.3800</td>\n",
              "      <td>14.3400</td>\n",
              "      <td>15.7000</td>\n",
              "      <td>19.98000</td>\n",
              "      <td>20.8300</td>\n",
              "      <td>21.8200</td>\n",
              "      <td>24.0400</td>\n",
              "      <td>23.24000</td>\n",
              "      <td>17.8900</td>\n",
              "      <td>24.8000</td>\n",
              "      <td>23.95000</td>\n",
              "      <td>22.6100</td>\n",
              "      <td>27.5400</td>\n",
              "      <td>20.13000</td>\n",
              "      <td>20.680</td>\n",
              "      <td>22.15000</td>\n",
              "      <td>14.36000</td>\n",
              "      <td>15.7100</td>\n",
              "      <td>12.4400</td>\n",
              "      <td>14.2600</td>\n",
              "      <td>23.04000</td>\n",
              "      <td>21.3800</td>\n",
              "      <td>16.4000</td>\n",
              "      <td>21.5300</td>\n",
              "      <td>20.2500</td>\n",
              "      <td>25.2700</td>\n",
              "      <td>15.05000</td>\n",
              "    </tr>\n",
              "    <tr>\n",
              "      <th>2</th>\n",
              "      <td>122.8000</td>\n",
              "      <td>132.90000</td>\n",
              "      <td>130.0000</td>\n",
              "      <td>77.5800</td>\n",
              "      <td>135.1000</td>\n",
              "      <td>82.5700</td>\n",
              "      <td>119.60000</td>\n",
              "      <td>90.2000</td>\n",
              "      <td>87.5000</td>\n",
              "      <td>83.9700</td>\n",
              "      <td>102.70000</td>\n",
              "      <td>103.6000</td>\n",
              "      <td>132.4000</td>\n",
              "      <td>103.70000</td>\n",
              "      <td>93.6000</td>\n",
              "      <td>96.7300</td>\n",
              "      <td>94.74000</td>\n",
              "      <td>108.100</td>\n",
              "      <td>130.00000</td>\n",
              "      <td>87.46000</td>\n",
              "      <td>85.6300</td>\n",
              "      <td>60.3400</td>\n",
              "      <td>102.5000</td>\n",
              "      <td>137.20000</td>\n",
              "      <td>110.0000</td>\n",
              "      <td>116.0000</td>\n",
              "      <td>97.4100</td>\n",
              "      <td>122.1000</td>\n",
              "      <td>102.4000</td>\n",
              "      <td>115.00000</td>\n",
              "    </tr>\n",
              "    <tr>\n",
              "      <th>3</th>\n",
              "      <td>1001.0000</td>\n",
              "      <td>1326.00000</td>\n",
              "      <td>1203.0000</td>\n",
              "      <td>386.1000</td>\n",
              "      <td>1297.0000</td>\n",
              "      <td>477.1000</td>\n",
              "      <td>1040.00000</td>\n",
              "      <td>577.9000</td>\n",
              "      <td>519.8000</td>\n",
              "      <td>475.9000</td>\n",
              "      <td>797.80000</td>\n",
              "      <td>781.0000</td>\n",
              "      <td>1123.0000</td>\n",
              "      <td>782.70000</td>\n",
              "      <td>578.3000</td>\n",
              "      <td>658.8000</td>\n",
              "      <td>684.50000</td>\n",
              "      <td>798.800</td>\n",
              "      <td>1260.00000</td>\n",
              "      <td>566.30000</td>\n",
              "      <td>520.0000</td>\n",
              "      <td>273.9000</td>\n",
              "      <td>704.4000</td>\n",
              "      <td>1404.00000</td>\n",
              "      <td>904.6000</td>\n",
              "      <td>912.7000</td>\n",
              "      <td>644.8000</td>\n",
              "      <td>1094.0000</td>\n",
              "      <td>732.4000</td>\n",
              "      <td>955.10000</td>\n",
              "    </tr>\n",
              "    <tr>\n",
              "      <th>4</th>\n",
              "      <td>0.1184</td>\n",
              "      <td>0.08474</td>\n",
              "      <td>0.1096</td>\n",
              "      <td>0.1425</td>\n",
              "      <td>0.1003</td>\n",
              "      <td>0.1278</td>\n",
              "      <td>0.09463</td>\n",
              "      <td>0.1189</td>\n",
              "      <td>0.1273</td>\n",
              "      <td>0.1186</td>\n",
              "      <td>0.08206</td>\n",
              "      <td>0.0971</td>\n",
              "      <td>0.0974</td>\n",
              "      <td>0.08401</td>\n",
              "      <td>0.1131</td>\n",
              "      <td>0.1139</td>\n",
              "      <td>0.09867</td>\n",
              "      <td>0.117</td>\n",
              "      <td>0.09831</td>\n",
              "      <td>0.09779</td>\n",
              "      <td>0.1075</td>\n",
              "      <td>0.1024</td>\n",
              "      <td>0.1073</td>\n",
              "      <td>0.09428</td>\n",
              "      <td>0.1121</td>\n",
              "      <td>0.1186</td>\n",
              "      <td>0.1054</td>\n",
              "      <td>0.0944</td>\n",
              "      <td>0.1082</td>\n",
              "      <td>0.09847</td>\n",
              "    </tr>\n",
              "  </tbody>\n",
              "</table>\n",
              "</div>"
            ],
            "text/plain": [
              "   mean radius  mean texture  ...  worst symmetry  worst fractal dimension\n",
              "0      17.9900      20.57000  ...         15.3000                 17.57000\n",
              "1      10.3800      17.77000  ...         25.2700                 15.05000\n",
              "2     122.8000     132.90000  ...        102.4000                115.00000\n",
              "3    1001.0000    1326.00000  ...        732.4000                955.10000\n",
              "4       0.1184       0.08474  ...          0.1082                  0.09847\n",
              "\n",
              "[5 rows x 30 columns]"
            ]
          },
          "metadata": {
            "tags": []
          },
          "execution_count": 6
        }
      ]
    },
    {
      "cell_type": "markdown",
      "metadata": {
        "id": "n1ru31SR3oft"
      },
      "source": [
        "* 1.2 Exploramos  los target"
      ]
    },
    {
      "cell_type": "code",
      "metadata": {
        "colab": {
          "base_uri": "https://localhost:8080/"
        },
        "id": "8aGyf9oTxy_1",
        "outputId": "81e37263-8b61-404e-b773-28116dd15d04"
      },
      "source": [
        "print(f'{data.target_names[0]}:{np.unique(y)[0]}, {data.target_names[1]}:{np.unique(y)[1]}')\n"
      ],
      "execution_count": 7,
      "outputs": [
        {
          "output_type": "stream",
          "text": [
            "malignant:0, benign:1\n"
          ],
          "name": "stdout"
        }
      ]
    },
    {
      "cell_type": "code",
      "metadata": {
        "colab": {
          "base_uri": "https://localhost:8080/"
        },
        "id": "lUkox-2C5n-y",
        "outputId": "87e69a20-1690-45aa-a3c4-5729ede85a6c"
      },
      "source": [
        "print(f'conteo \\nmalignant: {list(y).count(0)} \\nbenign:{list(y).count(1)}')\n",
        "#vemos un ligero desbalance donde hay más benign "
      ],
      "execution_count": 8,
      "outputs": [
        {
          "output_type": "stream",
          "text": [
            "conteo \n",
            "malignant: 212 \n",
            "benign:357\n"
          ],
          "name": "stdout"
        }
      ]
    },
    {
      "cell_type": "markdown",
      "metadata": {
        "id": "bSi7d-Qv3492"
      },
      "source": [
        "* **2. dividimos los datos en test y train**"
      ]
    },
    {
      "cell_type": "code",
      "metadata": {
        "id": "10ptnS294Anl"
      },
      "source": [
        "from sklearn.model_selection import train_test_split\n",
        "\n",
        "X_train, X_test, y_train, y_test = train_test_split(X, y, test_size = 0.3, random_state = 0, stratify = y)"
      ],
      "execution_count": 9,
      "outputs": []
    },
    {
      "cell_type": "code",
      "metadata": {
        "colab": {
          "base_uri": "https://localhost:8080/"
        },
        "id": "XKwX5xqH5SSO",
        "outputId": "9243aa90-de31-4f87-b5e1-cef10dc0c36a"
      },
      "source": [
        "print(f'X test: {X_test.shape} & X train: {X_train.shape}')\n",
        "print(f'y test: {y_test.shape} & y train: {y_train.shape}')"
      ],
      "execution_count": 10,
      "outputs": [
        {
          "output_type": "stream",
          "text": [
            "X test: (171, 30) & X train: (398, 30)\n",
            "y test: (171,) & y train: (398,)\n"
          ],
          "name": "stdout"
        }
      ]
    },
    {
      "cell_type": "markdown",
      "metadata": {
        "id": "n_bDAEKF7hf0"
      },
      "source": [
        "* **3. Normalizamos los datos**"
      ]
    },
    {
      "cell_type": "code",
      "metadata": {
        "id": "tFVeSYeY5gFN"
      },
      "source": [
        "from sklearn.preprocessing import StandardScaler\n",
        "\n",
        "normalizar = StandardScaler()\n",
        "X_train = normalizar.fit_transform(X_train)\n",
        "X_test = normalizar.transform(X_test) #por que este y no transform"
      ],
      "execution_count": 11,
      "outputs": []
    },
    {
      "cell_type": "markdown",
      "metadata": {
        "id": "zq2f6SCV8_Ur"
      },
      "source": [
        "* **4. Definimos la arquitectura**"
      ]
    },
    {
      "cell_type": "code",
      "metadata": {
        "id": "cCzr5NGN84HE"
      },
      "source": [
        "from tensorflow.keras.models import Sequential\n",
        "from tensorflow.keras import layers \n",
        "\n",
        "model = Sequential()\n",
        "\n",
        "## add(): Adiciona capas una por una\n",
        "# layers.Dense(): Coloca una capa densa\n",
        "model.add(layers.Dense(units=16, activation='relu', input_shape=(30,), name='dense_1')) #capa de entrada 16 neuronas\n",
        "\n",
        "#layers.dropout(): esto previene el overfitting (Regularización)\n",
        "model.add(layers.Dropout(0.1)) # 10% de las neuronas son descativadas en cada epoca\n",
        "model.add(layers.Dense(units=16, activation='relu', name='dense_2')) #capa oculta 16 neuronas\n",
        "\n",
        "model.add(layers.Dropout(0.1))\n",
        "model.add(layers.Dense(units=1, activation='sigmoid', name='dense_3')) #capa de salida 1 neurona\n",
        "\n"
      ],
      "execution_count": 15,
      "outputs": []
    },
    {
      "cell_type": "markdown",
      "metadata": {
        "id": "fdRJLd5xaSdT"
      },
      "source": [
        "* **5. Compilamos el modelo**"
      ]
    },
    {
      "cell_type": "code",
      "metadata": {
        "colab": {
          "base_uri": "https://localhost:8080/",
          "height": 1000
        },
        "id": "Uyj7K6DN9vB0",
        "outputId": "5a7b4d5f-8ea3-4b1f-8287-0293a6f89c8d"
      },
      "source": [
        "from tensorflow.keras import utils\n",
        "\n",
        "print(f'1er capa entrada: {16*30+16} parámetros \\n2da capa oculta: {16*16+16} parámetros \\n3er capa salida: {16+1} parámetros \\n')\n",
        "#1er capa 16 neuronas * 30 columnas X_train + 16 bias o intercerptos\n",
        "#2da capa 16 neuronas * 16 neuronas 1er capa + 16 bias o intercerptos\n",
        "#3er capa 16 neuronas 2da capa + 1 neurona 3er capa\n",
        "\n",
        "model.compile(optimizer='adam', loss='binary_crossentropy', metrics=['accuracy'])\n",
        "\n",
        "\n",
        "model.summary()\n",
        "utils.plot_model(model, show_shapes=True)\n"
      ],
      "execution_count": 16,
      "outputs": [
        {
          "output_type": "stream",
          "text": [
            "1er capa entrada: 496 parámetros \n",
            "2da capa oculta: 272 parámetros \n",
            "3er capa salida: 17 parámetros \n",
            "\n",
            "Model: \"sequential_3\"\n",
            "_________________________________________________________________\n",
            "Layer (type)                 Output Shape              Param #   \n",
            "=================================================================\n",
            "dense_1 (Dense)              (None, 16)                496       \n",
            "_________________________________________________________________\n",
            "dropout_3 (Dropout)          (None, 16)                0         \n",
            "_________________________________________________________________\n",
            "dense_2 (Dense)              (None, 16)                272       \n",
            "_________________________________________________________________\n",
            "dropout_4 (Dropout)          (None, 16)                0         \n",
            "_________________________________________________________________\n",
            "dense_3 (Dense)              (None, 1)                 17        \n",
            "=================================================================\n",
            "Total params: 785\n",
            "Trainable params: 785\n",
            "Non-trainable params: 0\n",
            "_________________________________________________________________\n"
          ],
          "name": "stdout"
        },
        {
          "output_type": "execute_result",
          "data": {
            "image/png": "[encoded data removed]",
            "text/plain": [
              "<IPython.core.display.Image object>"
            ]
          },
          "metadata": {
            "tags": []
          },
          "execution_count": 16
        }
      ]
    },
    {
      "cell_type": "markdown",
      "metadata": {
        "id": "Y4OuvvRdegRC"
      },
      "source": [
        "* **6. Entrenamiento**"
      ]
    },
    {
      "cell_type": "code",
      "metadata": {
        "colab": {
          "base_uri": "https://localhost:8080/"
        },
        "id": "LrSJQXiNaree",
        "outputId": "f2a80920-3181-4c67-8139-5b578232e337"
      },
      "source": [
        "history = model.fit(X_train, y_train, batch_size=32, epochs=150, validation_split = 0.2)"
      ],
      "execution_count": 17,
      "outputs": [
        {
          "output_type": "stream",
          "text": [
            "Epoch 1/150\n",
            "10/10 [==============================] - 1s 29ms/step - loss: 0.8460 - accuracy: 0.2915 - val_loss: 0.6815 - val_accuracy: 0.5500\n",
            "Epoch 2/150\n",
            "10/10 [==============================] - 0s 6ms/step - loss: 0.6822 - accuracy: 0.5463 - val_loss: 0.5623 - val_accuracy: 0.8125\n",
            "Epoch 3/150\n",
            "10/10 [==============================] - 0s 6ms/step - loss: 0.5815 - accuracy: 0.7623 - val_loss: 0.4723 - val_accuracy: 0.9250\n",
            "Epoch 4/150\n",
            "10/10 [==============================] - 0s 6ms/step - loss: 0.5173 - accuracy: 0.8367 - val_loss: 0.3988 - val_accuracy: 0.9875\n",
            "Epoch 5/150\n",
            "10/10 [==============================] - 0s 6ms/step - loss: 0.4567 - accuracy: 0.8957 - val_loss: 0.3324 - val_accuracy: 0.9875\n",
            "Epoch 6/150\n",
            "10/10 [==============================] - 0s 6ms/step - loss: 0.3965 - accuracy: 0.9099 - val_loss: 0.2735 - val_accuracy: 1.0000\n",
            "Epoch 7/150\n",
            "10/10 [==============================] - 0s 6ms/step - loss: 0.3513 - accuracy: 0.9120 - val_loss: 0.2222 - val_accuracy: 1.0000\n",
            "Epoch 8/150\n",
            "10/10 [==============================] - 0s 6ms/step - loss: 0.3171 - accuracy: 0.9137 - val_loss: 0.1787 - val_accuracy: 1.0000\n",
            "Epoch 9/150\n",
            "10/10 [==============================] - 0s 6ms/step - loss: 0.2693 - accuracy: 0.9642 - val_loss: 0.1437 - val_accuracy: 1.0000\n",
            "Epoch 10/150\n",
            "10/10 [==============================] - 0s 6ms/step - loss: 0.2302 - accuracy: 0.9399 - val_loss: 0.1175 - val_accuracy: 1.0000\n",
            "Epoch 11/150\n",
            "10/10 [==============================] - 0s 6ms/step - loss: 0.1916 - accuracy: 0.9516 - val_loss: 0.0977 - val_accuracy: 1.0000\n",
            "Epoch 12/150\n",
            "10/10 [==============================] - 0s 7ms/step - loss: 0.1971 - accuracy: 0.9443 - val_loss: 0.0833 - val_accuracy: 1.0000\n",
            "Epoch 13/150\n",
            "10/10 [==============================] - 0s 6ms/step - loss: 0.1599 - accuracy: 0.9553 - val_loss: 0.0720 - val_accuracy: 1.0000\n",
            "Epoch 14/150\n",
            "10/10 [==============================] - 0s 6ms/step - loss: 0.1567 - accuracy: 0.9720 - val_loss: 0.0632 - val_accuracy: 1.0000\n",
            "Epoch 15/150\n",
            "10/10 [==============================] - 0s 6ms/step - loss: 0.1617 - accuracy: 0.9599 - val_loss: 0.0561 - val_accuracy: 1.0000\n",
            "Epoch 16/150\n",
            "10/10 [==============================] - 0s 6ms/step - loss: 0.1239 - accuracy: 0.9714 - val_loss: 0.0502 - val_accuracy: 1.0000\n",
            "Epoch 17/150\n",
            "10/10 [==============================] - 0s 7ms/step - loss: 0.1417 - accuracy: 0.9605 - val_loss: 0.0456 - val_accuracy: 1.0000\n",
            "Epoch 18/150\n",
            "10/10 [==============================] - 0s 6ms/step - loss: 0.1048 - accuracy: 0.9657 - val_loss: 0.0419 - val_accuracy: 1.0000\n",
            "Epoch 19/150\n",
            "10/10 [==============================] - 0s 7ms/step - loss: 0.1096 - accuracy: 0.9693 - val_loss: 0.0386 - val_accuracy: 1.0000\n",
            "Epoch 20/150\n",
            "10/10 [==============================] - 0s 7ms/step - loss: 0.1136 - accuracy: 0.9626 - val_loss: 0.0358 - val_accuracy: 1.0000\n",
            "Epoch 21/150\n",
            "10/10 [==============================] - 0s 7ms/step - loss: 0.1035 - accuracy: 0.9592 - val_loss: 0.0336 - val_accuracy: 1.0000\n",
            "Epoch 22/150\n",
            "10/10 [==============================] - 0s 7ms/step - loss: 0.0859 - accuracy: 0.9744 - val_loss: 0.0311 - val_accuracy: 1.0000\n",
            "Epoch 23/150\n",
            "10/10 [==============================] - 0s 7ms/step - loss: 0.0777 - accuracy: 0.9856 - val_loss: 0.0289 - val_accuracy: 1.0000\n",
            "Epoch 24/150\n",
            "10/10 [==============================] - 0s 9ms/step - loss: 0.0704 - accuracy: 0.9794 - val_loss: 0.0274 - val_accuracy: 1.0000\n",
            "Epoch 25/150\n",
            "10/10 [==============================] - 0s 6ms/step - loss: 0.1162 - accuracy: 0.9572 - val_loss: 0.0262 - val_accuracy: 1.0000\n",
            "Epoch 26/150\n",
            "10/10 [==============================] - 0s 6ms/step - loss: 0.0953 - accuracy: 0.9696 - val_loss: 0.0250 - val_accuracy: 1.0000\n",
            "Epoch 27/150\n",
            "10/10 [==============================] - 0s 6ms/step - loss: 0.1058 - accuracy: 0.9744 - val_loss: 0.0240 - val_accuracy: 1.0000\n",
            "Epoch 28/150\n",
            "10/10 [==============================] - 0s 6ms/step - loss: 0.0886 - accuracy: 0.9768 - val_loss: 0.0230 - val_accuracy: 1.0000\n",
            "Epoch 29/150\n",
            "10/10 [==============================] - 0s 7ms/step - loss: 0.0682 - accuracy: 0.9775 - val_loss: 0.0215 - val_accuracy: 1.0000\n",
            "Epoch 30/150\n",
            "10/10 [==============================] - 0s 7ms/step - loss: 0.0645 - accuracy: 0.9885 - val_loss: 0.0207 - val_accuracy: 1.0000\n",
            "Epoch 31/150\n",
            "10/10 [==============================] - 0s 6ms/step - loss: 0.0802 - accuracy: 0.9739 - val_loss: 0.0204 - val_accuracy: 1.0000\n",
            "Epoch 32/150\n",
            "10/10 [==============================] - 0s 6ms/step - loss: 0.0809 - accuracy: 0.9689 - val_loss: 0.0200 - val_accuracy: 1.0000\n",
            "Epoch 33/150\n",
            "10/10 [==============================] - 0s 7ms/step - loss: 0.0514 - accuracy: 0.9852 - val_loss: 0.0194 - val_accuracy: 1.0000\n",
            "Epoch 34/150\n",
            "10/10 [==============================] - 0s 6ms/step - loss: 0.0796 - accuracy: 0.9760 - val_loss: 0.0197 - val_accuracy: 1.0000\n",
            "Epoch 35/150\n",
            "10/10 [==============================] - 0s 7ms/step - loss: 0.0708 - accuracy: 0.9750 - val_loss: 0.0193 - val_accuracy: 1.0000\n",
            "Epoch 36/150\n",
            "10/10 [==============================] - 0s 7ms/step - loss: 0.0668 - accuracy: 0.9787 - val_loss: 0.0187 - val_accuracy: 1.0000\n",
            "Epoch 37/150\n",
            "10/10 [==============================] - 0s 8ms/step - loss: 0.0733 - accuracy: 0.9745 - val_loss: 0.0184 - val_accuracy: 1.0000\n",
            "Epoch 38/150\n",
            "10/10 [==============================] - 0s 7ms/step - loss: 0.0496 - accuracy: 0.9855 - val_loss: 0.0176 - val_accuracy: 1.0000\n",
            "Epoch 39/150\n",
            "10/10 [==============================] - 0s 6ms/step - loss: 0.0591 - accuracy: 0.9798 - val_loss: 0.0173 - val_accuracy: 1.0000\n",
            "Epoch 40/150\n",
            "10/10 [==============================] - 0s 7ms/step - loss: 0.0459 - accuracy: 0.9873 - val_loss: 0.0174 - val_accuracy: 1.0000\n",
            "Epoch 41/150\n",
            "10/10 [==============================] - 0s 7ms/step - loss: 0.0588 - accuracy: 0.9791 - val_loss: 0.0174 - val_accuracy: 1.0000\n",
            "Epoch 42/150\n",
            "10/10 [==============================] - 0s 6ms/step - loss: 0.0517 - accuracy: 0.9824 - val_loss: 0.0176 - val_accuracy: 1.0000\n",
            "Epoch 43/150\n",
            "10/10 [==============================] - 0s 8ms/step - loss: 0.0705 - accuracy: 0.9880 - val_loss: 0.0174 - val_accuracy: 1.0000\n",
            "Epoch 44/150\n",
            "10/10 [==============================] - 0s 7ms/step - loss: 0.0467 - accuracy: 0.9914 - val_loss: 0.0169 - val_accuracy: 1.0000\n",
            "Epoch 45/150\n",
            "10/10 [==============================] - 0s 8ms/step - loss: 0.0397 - accuracy: 0.9905 - val_loss: 0.0169 - val_accuracy: 1.0000\n",
            "Epoch 46/150\n",
            "10/10 [==============================] - 0s 6ms/step - loss: 0.0484 - accuracy: 0.9829 - val_loss: 0.0167 - val_accuracy: 1.0000\n",
            "Epoch 47/150\n",
            "10/10 [==============================] - 0s 6ms/step - loss: 0.0462 - accuracy: 0.9875 - val_loss: 0.0164 - val_accuracy: 1.0000\n",
            "Epoch 48/150\n",
            "10/10 [==============================] - 0s 7ms/step - loss: 0.0312 - accuracy: 0.9908 - val_loss: 0.0166 - val_accuracy: 1.0000\n",
            "Epoch 49/150\n",
            "10/10 [==============================] - 0s 7ms/step - loss: 0.0412 - accuracy: 0.9905 - val_loss: 0.0164 - val_accuracy: 1.0000\n",
            "Epoch 50/150\n",
            "10/10 [==============================] - 0s 7ms/step - loss: 0.0448 - accuracy: 0.9924 - val_loss: 0.0167 - val_accuracy: 1.0000\n",
            "Epoch 51/150\n",
            "10/10 [==============================] - 0s 7ms/step - loss: 0.0459 - accuracy: 0.9917 - val_loss: 0.0170 - val_accuracy: 1.0000\n",
            "Epoch 52/150\n",
            "10/10 [==============================] - 0s 7ms/step - loss: 0.0615 - accuracy: 0.9827 - val_loss: 0.0169 - val_accuracy: 1.0000\n",
            "Epoch 53/150\n",
            "10/10 [==============================] - 0s 7ms/step - loss: 0.0366 - accuracy: 0.9957 - val_loss: 0.0164 - val_accuracy: 1.0000\n",
            "Epoch 54/150\n",
            "10/10 [==============================] - 0s 7ms/step - loss: 0.0480 - accuracy: 0.9925 - val_loss: 0.0161 - val_accuracy: 1.0000\n",
            "Epoch 55/150\n",
            "10/10 [==============================] - 0s 7ms/step - loss: 0.0526 - accuracy: 0.9793 - val_loss: 0.0162 - val_accuracy: 1.0000\n",
            "Epoch 56/150\n",
            "10/10 [==============================] - 0s 6ms/step - loss: 0.0305 - accuracy: 0.9935 - val_loss: 0.0160 - val_accuracy: 1.0000\n",
            "Epoch 57/150\n",
            "10/10 [==============================] - 0s 7ms/step - loss: 0.0451 - accuracy: 0.9806 - val_loss: 0.0162 - val_accuracy: 1.0000\n",
            "Epoch 58/150\n",
            "10/10 [==============================] - 0s 7ms/step - loss: 0.0439 - accuracy: 0.9932 - val_loss: 0.0159 - val_accuracy: 1.0000\n",
            "Epoch 59/150\n",
            "10/10 [==============================] - 0s 10ms/step - loss: 0.0542 - accuracy: 0.9856 - val_loss: 0.0163 - val_accuracy: 1.0000\n",
            "Epoch 60/150\n",
            "10/10 [==============================] - 0s 7ms/step - loss: 0.0337 - accuracy: 0.9921 - val_loss: 0.0165 - val_accuracy: 1.0000\n",
            "Epoch 61/150\n",
            "10/10 [==============================] - 0s 6ms/step - loss: 0.0388 - accuracy: 0.9890 - val_loss: 0.0160 - val_accuracy: 1.0000\n",
            "Epoch 62/150\n",
            "10/10 [==============================] - 0s 6ms/step - loss: 0.0331 - accuracy: 0.9862 - val_loss: 0.0160 - val_accuracy: 1.0000\n",
            "Epoch 63/150\n",
            "10/10 [==============================] - 0s 7ms/step - loss: 0.0383 - accuracy: 0.9910 - val_loss: 0.0160 - val_accuracy: 1.0000\n",
            "Epoch 64/150\n",
            "10/10 [==============================] - 0s 7ms/step - loss: 0.0407 - accuracy: 0.9880 - val_loss: 0.0162 - val_accuracy: 1.0000\n",
            "Epoch 65/150\n",
            "10/10 [==============================] - 0s 7ms/step - loss: 0.0332 - accuracy: 0.9827 - val_loss: 0.0163 - val_accuracy: 1.0000\n",
            "Epoch 66/150\n",
            "10/10 [==============================] - 0s 7ms/step - loss: 0.0361 - accuracy: 0.9930 - val_loss: 0.0155 - val_accuracy: 1.0000\n",
            "Epoch 67/150\n",
            "10/10 [==============================] - 0s 6ms/step - loss: 0.0306 - accuracy: 0.9948 - val_loss: 0.0152 - val_accuracy: 1.0000\n",
            "Epoch 68/150\n",
            "10/10 [==============================] - 0s 6ms/step - loss: 0.0273 - accuracy: 0.9954 - val_loss: 0.0154 - val_accuracy: 1.0000\n",
            "Epoch 69/150\n",
            "10/10 [==============================] - 0s 8ms/step - loss: 0.0290 - accuracy: 0.9885 - val_loss: 0.0153 - val_accuracy: 1.0000\n",
            "Epoch 70/150\n",
            "10/10 [==============================] - 0s 7ms/step - loss: 0.0309 - accuracy: 0.9948 - val_loss: 0.0152 - val_accuracy: 1.0000\n",
            "Epoch 71/150\n",
            "10/10 [==============================] - 0s 7ms/step - loss: 0.0251 - accuracy: 0.9922 - val_loss: 0.0144 - val_accuracy: 1.0000\n",
            "Epoch 72/150\n",
            "10/10 [==============================] - 0s 7ms/step - loss: 0.0200 - accuracy: 0.9932 - val_loss: 0.0144 - val_accuracy: 1.0000\n",
            "Epoch 73/150\n",
            "10/10 [==============================] - 0s 7ms/step - loss: 0.0274 - accuracy: 0.9884 - val_loss: 0.0146 - val_accuracy: 1.0000\n",
            "Epoch 74/150\n",
            "10/10 [==============================] - 0s 7ms/step - loss: 0.0177 - accuracy: 0.9966 - val_loss: 0.0149 - val_accuracy: 1.0000\n",
            "Epoch 75/150\n",
            "10/10 [==============================] - 0s 7ms/step - loss: 0.0362 - accuracy: 0.9885 - val_loss: 0.0155 - val_accuracy: 1.0000\n",
            "Epoch 76/150\n",
            "10/10 [==============================] - 0s 6ms/step - loss: 0.0205 - accuracy: 0.9967 - val_loss: 0.0155 - val_accuracy: 1.0000\n",
            "Epoch 77/150\n",
            "10/10 [==============================] - 0s 7ms/step - loss: 0.0335 - accuracy: 0.9856 - val_loss: 0.0155 - val_accuracy: 1.0000\n",
            "Epoch 78/150\n",
            "10/10 [==============================] - 0s 7ms/step - loss: 0.0236 - accuracy: 0.9985 - val_loss: 0.0147 - val_accuracy: 1.0000\n",
            "Epoch 79/150\n",
            "10/10 [==============================] - 0s 7ms/step - loss: 0.0259 - accuracy: 0.9899 - val_loss: 0.0149 - val_accuracy: 1.0000\n",
            "Epoch 80/150\n",
            "10/10 [==============================] - 0s 7ms/step - loss: 0.0246 - accuracy: 0.9961 - val_loss: 0.0148 - val_accuracy: 1.0000\n",
            "Epoch 81/150\n",
            "10/10 [==============================] - 0s 7ms/step - loss: 0.0196 - accuracy: 0.9958 - val_loss: 0.0150 - val_accuracy: 1.0000\n",
            "Epoch 82/150\n",
            "10/10 [==============================] - 0s 6ms/step - loss: 0.0271 - accuracy: 0.9909 - val_loss: 0.0153 - val_accuracy: 1.0000\n",
            "Epoch 83/150\n",
            "10/10 [==============================] - 0s 7ms/step - loss: 0.0268 - accuracy: 0.9901 - val_loss: 0.0149 - val_accuracy: 1.0000\n",
            "Epoch 84/150\n",
            "10/10 [==============================] - 0s 7ms/step - loss: 0.0371 - accuracy: 0.9779 - val_loss: 0.0145 - val_accuracy: 1.0000\n",
            "Epoch 85/150\n",
            "10/10 [==============================] - 0s 7ms/step - loss: 0.0350 - accuracy: 0.9813 - val_loss: 0.0141 - val_accuracy: 1.0000\n",
            "Epoch 86/150\n",
            "10/10 [==============================] - 0s 6ms/step - loss: 0.0219 - accuracy: 0.9944 - val_loss: 0.0140 - val_accuracy: 1.0000\n",
            "Epoch 87/150\n",
            "10/10 [==============================] - 0s 8ms/step - loss: 0.0127 - accuracy: 0.9973 - val_loss: 0.0136 - val_accuracy: 1.0000\n",
            "Epoch 88/150\n",
            "10/10 [==============================] - 0s 7ms/step - loss: 0.0244 - accuracy: 0.9876 - val_loss: 0.0138 - val_accuracy: 1.0000\n",
            "Epoch 89/150\n",
            "10/10 [==============================] - 0s 7ms/step - loss: 0.0108 - accuracy: 1.0000 - val_loss: 0.0139 - val_accuracy: 1.0000\n",
            "Epoch 90/150\n",
            "10/10 [==============================] - 0s 8ms/step - loss: 0.0143 - accuracy: 1.0000 - val_loss: 0.0136 - val_accuracy: 1.0000\n",
            "Epoch 91/150\n",
            "10/10 [==============================] - 0s 7ms/step - loss: 0.0195 - accuracy: 0.9962 - val_loss: 0.0139 - val_accuracy: 1.0000\n",
            "Epoch 92/150\n",
            "10/10 [==============================] - 0s 7ms/step - loss: 0.0155 - accuracy: 0.9975 - val_loss: 0.0139 - val_accuracy: 1.0000\n",
            "Epoch 93/150\n",
            "10/10 [==============================] - 0s 7ms/step - loss: 0.0351 - accuracy: 0.9930 - val_loss: 0.0143 - val_accuracy: 1.0000\n",
            "Epoch 94/150\n",
            "10/10 [==============================] - 0s 6ms/step - loss: 0.0282 - accuracy: 0.9857 - val_loss: 0.0148 - val_accuracy: 1.0000\n",
            "Epoch 95/150\n",
            "10/10 [==============================] - 0s 8ms/step - loss: 0.0145 - accuracy: 0.9982 - val_loss: 0.0152 - val_accuracy: 1.0000\n",
            "Epoch 96/150\n",
            "10/10 [==============================] - 0s 7ms/step - loss: 0.0211 - accuracy: 0.9880 - val_loss: 0.0159 - val_accuracy: 0.9875\n",
            "Epoch 97/150\n",
            "10/10 [==============================] - 0s 7ms/step - loss: 0.0124 - accuracy: 0.9988 - val_loss: 0.0159 - val_accuracy: 0.9875\n",
            "Epoch 98/150\n",
            "10/10 [==============================] - 0s 7ms/step - loss: 0.0260 - accuracy: 0.9858 - val_loss: 0.0157 - val_accuracy: 0.9875\n",
            "Epoch 99/150\n",
            "10/10 [==============================] - 0s 7ms/step - loss: 0.0256 - accuracy: 0.9883 - val_loss: 0.0137 - val_accuracy: 1.0000\n",
            "Epoch 100/150\n",
            "10/10 [==============================] - 0s 6ms/step - loss: 0.0236 - accuracy: 0.9870 - val_loss: 0.0135 - val_accuracy: 1.0000\n",
            "Epoch 101/150\n",
            "10/10 [==============================] - 0s 7ms/step - loss: 0.0164 - accuracy: 0.9991 - val_loss: 0.0143 - val_accuracy: 0.9875\n",
            "Epoch 102/150\n",
            "10/10 [==============================] - 0s 7ms/step - loss: 0.0170 - accuracy: 0.9930 - val_loss: 0.0145 - val_accuracy: 0.9875\n",
            "Epoch 103/150\n",
            "10/10 [==============================] - 0s 7ms/step - loss: 0.0165 - accuracy: 0.9973 - val_loss: 0.0152 - val_accuracy: 0.9875\n",
            "Epoch 104/150\n",
            "10/10 [==============================] - 0s 7ms/step - loss: 0.0098 - accuracy: 1.0000 - val_loss: 0.0155 - val_accuracy: 0.9875\n",
            "Epoch 105/150\n",
            "10/10 [==============================] - 0s 8ms/step - loss: 0.0297 - accuracy: 0.9856 - val_loss: 0.0154 - val_accuracy: 0.9875\n",
            "Epoch 106/150\n",
            "10/10 [==============================] - 0s 7ms/step - loss: 0.0156 - accuracy: 0.9935 - val_loss: 0.0155 - val_accuracy: 0.9875\n",
            "Epoch 107/150\n",
            "10/10 [==============================] - 0s 7ms/step - loss: 0.0121 - accuracy: 1.0000 - val_loss: 0.0150 - val_accuracy: 0.9875\n",
            "Epoch 108/150\n",
            "10/10 [==============================] - 0s 7ms/step - loss: 0.0132 - accuracy: 0.9951 - val_loss: 0.0145 - val_accuracy: 0.9875\n",
            "Epoch 109/150\n",
            "10/10 [==============================] - 0s 7ms/step - loss: 0.0202 - accuracy: 0.9914 - val_loss: 0.0143 - val_accuracy: 0.9875\n",
            "Epoch 110/150\n",
            "10/10 [==============================] - 0s 7ms/step - loss: 0.0176 - accuracy: 0.9908 - val_loss: 0.0150 - val_accuracy: 0.9875\n",
            "Epoch 111/150\n",
            "10/10 [==============================] - 0s 7ms/step - loss: 0.0135 - accuracy: 1.0000 - val_loss: 0.0151 - val_accuracy: 0.9875\n",
            "Epoch 112/150\n",
            "10/10 [==============================] - 0s 7ms/step - loss: 0.0215 - accuracy: 0.9942 - val_loss: 0.0159 - val_accuracy: 0.9875\n",
            "Epoch 113/150\n",
            "10/10 [==============================] - 0s 7ms/step - loss: 0.0215 - accuracy: 0.9892 - val_loss: 0.0162 - val_accuracy: 0.9875\n",
            "Epoch 114/150\n",
            "10/10 [==============================] - 0s 7ms/step - loss: 0.0203 - accuracy: 1.0000 - val_loss: 0.0155 - val_accuracy: 0.9875\n",
            "Epoch 115/150\n",
            "10/10 [==============================] - 0s 8ms/step - loss: 0.0160 - accuracy: 0.9908 - val_loss: 0.0149 - val_accuracy: 0.9875\n",
            "Epoch 116/150\n",
            "10/10 [==============================] - 0s 8ms/step - loss: 0.0160 - accuracy: 0.9957 - val_loss: 0.0148 - val_accuracy: 0.9875\n",
            "Epoch 117/150\n",
            "10/10 [==============================] - 0s 7ms/step - loss: 0.0101 - accuracy: 1.0000 - val_loss: 0.0144 - val_accuracy: 0.9875\n",
            "Epoch 118/150\n",
            "10/10 [==============================] - 0s 7ms/step - loss: 0.0090 - accuracy: 0.9988 - val_loss: 0.0143 - val_accuracy: 0.9875\n",
            "Epoch 119/150\n",
            "10/10 [==============================] - 0s 7ms/step - loss: 0.0106 - accuracy: 0.9967 - val_loss: 0.0146 - val_accuracy: 0.9875\n",
            "Epoch 120/150\n",
            "10/10 [==============================] - 0s 8ms/step - loss: 0.0136 - accuracy: 0.9942 - val_loss: 0.0149 - val_accuracy: 0.9875\n",
            "Epoch 121/150\n",
            "10/10 [==============================] - 0s 7ms/step - loss: 0.0159 - accuracy: 0.9921 - val_loss: 0.0142 - val_accuracy: 0.9875\n",
            "Epoch 122/150\n",
            "10/10 [==============================] - 0s 7ms/step - loss: 0.0123 - accuracy: 1.0000 - val_loss: 0.0138 - val_accuracy: 0.9875\n",
            "Epoch 123/150\n",
            "10/10 [==============================] - 0s 8ms/step - loss: 0.0035 - accuracy: 1.0000 - val_loss: 0.0141 - val_accuracy: 0.9875\n",
            "Epoch 124/150\n",
            "10/10 [==============================] - 0s 7ms/step - loss: 0.0124 - accuracy: 0.9979 - val_loss: 0.0148 - val_accuracy: 0.9875\n",
            "Epoch 125/150\n",
            "10/10 [==============================] - 0s 6ms/step - loss: 0.0108 - accuracy: 0.9973 - val_loss: 0.0157 - val_accuracy: 0.9875\n",
            "Epoch 126/150\n",
            "10/10 [==============================] - 0s 7ms/step - loss: 0.0243 - accuracy: 0.9914 - val_loss: 0.0168 - val_accuracy: 0.9875\n",
            "Epoch 127/150\n",
            "10/10 [==============================] - 0s 8ms/step - loss: 0.0105 - accuracy: 0.9978 - val_loss: 0.0161 - val_accuracy: 0.9875\n",
            "Epoch 128/150\n",
            "10/10 [==============================] - 0s 7ms/step - loss: 0.0066 - accuracy: 1.0000 - val_loss: 0.0148 - val_accuracy: 0.9875\n",
            "Epoch 129/150\n",
            "10/10 [==============================] - 0s 8ms/step - loss: 0.0059 - accuracy: 1.0000 - val_loss: 0.0139 - val_accuracy: 1.0000\n",
            "Epoch 130/150\n",
            "10/10 [==============================] - 0s 9ms/step - loss: 0.0154 - accuracy: 0.9979 - val_loss: 0.0140 - val_accuracy: 1.0000\n",
            "Epoch 131/150\n",
            "10/10 [==============================] - 0s 6ms/step - loss: 0.0073 - accuracy: 1.0000 - val_loss: 0.0142 - val_accuracy: 1.0000\n",
            "Epoch 132/150\n",
            "10/10 [==============================] - 0s 7ms/step - loss: 0.0106 - accuracy: 1.0000 - val_loss: 0.0142 - val_accuracy: 0.9875\n",
            "Epoch 133/150\n",
            "10/10 [==============================] - 0s 8ms/step - loss: 0.0070 - accuracy: 1.0000 - val_loss: 0.0136 - val_accuracy: 0.9875\n",
            "Epoch 134/150\n",
            "10/10 [==============================] - 0s 8ms/step - loss: 0.0067 - accuracy: 1.0000 - val_loss: 0.0133 - val_accuracy: 0.9875\n",
            "Epoch 135/150\n",
            "10/10 [==============================] - 0s 8ms/step - loss: 0.0086 - accuracy: 1.0000 - val_loss: 0.0136 - val_accuracy: 0.9875\n",
            "Epoch 136/150\n",
            "10/10 [==============================] - 0s 7ms/step - loss: 0.0088 - accuracy: 1.0000 - val_loss: 0.0137 - val_accuracy: 0.9875\n",
            "Epoch 137/150\n",
            "10/10 [==============================] - 0s 7ms/step - loss: 0.0093 - accuracy: 1.0000 - val_loss: 0.0144 - val_accuracy: 0.9875\n",
            "Epoch 138/150\n",
            "10/10 [==============================] - 0s 7ms/step - loss: 0.0102 - accuracy: 1.0000 - val_loss: 0.0148 - val_accuracy: 0.9875\n",
            "Epoch 139/150\n",
            "10/10 [==============================] - 0s 7ms/step - loss: 0.0067 - accuracy: 1.0000 - val_loss: 0.0146 - val_accuracy: 0.9875\n",
            "Epoch 140/150\n",
            "10/10 [==============================] - 0s 7ms/step - loss: 0.0058 - accuracy: 1.0000 - val_loss: 0.0146 - val_accuracy: 0.9875\n",
            "Epoch 141/150\n",
            "10/10 [==============================] - 0s 7ms/step - loss: 0.0080 - accuracy: 0.9973 - val_loss: 0.0146 - val_accuracy: 0.9875\n",
            "Epoch 142/150\n",
            "10/10 [==============================] - 0s 7ms/step - loss: 0.0120 - accuracy: 0.9939 - val_loss: 0.0138 - val_accuracy: 0.9875\n",
            "Epoch 143/150\n",
            "10/10 [==============================] - 0s 7ms/step - loss: 0.0084 - accuracy: 0.9984 - val_loss: 0.0148 - val_accuracy: 0.9875\n",
            "Epoch 144/150\n",
            "10/10 [==============================] - 0s 7ms/step - loss: 0.0057 - accuracy: 1.0000 - val_loss: 0.0159 - val_accuracy: 0.9875\n",
            "Epoch 145/150\n",
            "10/10 [==============================] - 0s 7ms/step - loss: 0.0218 - accuracy: 0.9908 - val_loss: 0.0157 - val_accuracy: 0.9875\n",
            "Epoch 146/150\n",
            "10/10 [==============================] - 0s 7ms/step - loss: 0.0064 - accuracy: 0.9994 - val_loss: 0.0156 - val_accuracy: 0.9875\n",
            "Epoch 147/150\n",
            "10/10 [==============================] - 0s 9ms/step - loss: 0.0119 - accuracy: 0.9942 - val_loss: 0.0164 - val_accuracy: 0.9875\n",
            "Epoch 148/150\n",
            "10/10 [==============================] - 0s 7ms/step - loss: 0.0088 - accuracy: 1.0000 - val_loss: 0.0160 - val_accuracy: 0.9875\n",
            "Epoch 149/150\n",
            "10/10 [==============================] - 0s 7ms/step - loss: 0.0095 - accuracy: 0.9994 - val_loss: 0.0155 - val_accuracy: 0.9875\n",
            "Epoch 150/150\n",
            "10/10 [==============================] - 0s 7ms/step - loss: 0.0064 - accuracy: 1.0000 - val_loss: 0.0152 - val_accuracy: 0.9875\n"
          ],
          "name": "stdout"
        }
      ]
    },
    {
      "cell_type": "markdown",
      "metadata": {
        "id": "fyLnmQMjfPJi"
      },
      "source": [
        "* **7. Predicciones**\n",
        "\n",
        "Dado que la función de activación es sigmoid, las predicciones > 0.5 serán de la clase 1 y las predicciones <= 0.5 serán de la clase 0\n",
        "\n",
        "<image src=https://upload.wikimedia.org/wikipedia/commons/thumb/8/88/Logistic-curve.svg/480px-Logistic-curve.svg.png >"
      ]
    },
    {
      "cell_type": "code",
      "metadata": {
        "colab": {
          "base_uri": "https://localhost:8080/"
        },
        "id": "wc7d-y3Ferzt",
        "outputId": "a51b176e-e659-4b3a-9cee-80876c32ece4"
      },
      "source": [
        "# Predicting the Test set results\n",
        "y_pred = model.predict(X_test)\n",
        "\n",
        "y_pred[y_pred > 0.5] = 1\n",
        "y_pred[y_pred <=0.5] = 0\n",
        "\n",
        "print(f'predichos \\nmalignant: {list(y_pred).count(0)} \\nbenign:{list(y_pred).count(1)}')"
      ],
      "execution_count": 18,
      "outputs": [
        {
          "output_type": "stream",
          "text": [
            "predichos \n",
            "malignant: 65 \n",
            "benign:106\n"
          ],
          "name": "stdout"
        }
      ]
    },
    {
      "cell_type": "markdown",
      "metadata": {
        "id": "ggCF990sf_7P"
      },
      "source": [
        "* **8. Evaluación del modelo**"
      ]
    },
    {
      "cell_type": "code",
      "metadata": {
        "colab": {
          "base_uri": "https://localhost:8080/",
          "height": 282
        },
        "id": "VlMngVm7fdGd",
        "outputId": "d549242f-8d19-4918-9922-0f9bbedcaec4"
      },
      "source": [
        "from sklearn.metrics import confusion_matrix\n",
        "\n",
        "cm = confusion_matrix(y_test, y_pred)\n",
        "print(f\"Nuestra precisión es {((cm[0][0] + cm[1][1])/y_test.shape[0])*100}\")\n",
        "\n",
        "sns.heatmap(cm,annot=True)\n",
        "plt.savefig('h.png')"
      ],
      "execution_count": 19,
      "outputs": [
        {
          "output_type": "stream",
          "text": [
            "Nuestra precisión es 95.90643274853801\n"
          ],
          "name": "stdout"
        },
        {
          "output_type": "display_data",
          "data": {
            "image/png": "[encoded data removed]",
            "text/plain": [
              "<Figure size 432x288 with 2 Axes>"
            ]
          },
          "metadata": {
            "tags": [],
            "needs_background": "light"
          }
        }
      ]
    },
    {
      "cell_type": "code",
      "metadata": {
        "colab": {
          "base_uri": "https://localhost:8080/",
          "height": 142
        },
        "id": "UNCcT4kZfe8G",
        "outputId": "88857947-57cf-4f5f-89fd-75be9ecaad3e"
      },
      "source": [
        "class_names = data.target_names\n",
        "list_confusion_matrix(cm, class_names)"
      ],
      "execution_count": 20,
      "outputs": [
        {
          "output_type": "execute_result",
          "data": {
            "text/html": [
              "<div>\n",
              "<style scoped>\n",
              "    .dataframe tbody tr th:only-of-type {\n",
              "        vertical-align: middle;\n",
              "    }\n",
              "\n",
              "    .dataframe tbody tr th {\n",
              "        vertical-align: top;\n",
              "    }\n",
              "\n",
              "    .dataframe thead tr th {\n",
              "        text-align: left;\n",
              "    }\n",
              "</style>\n",
              "<table border=\"1\" class=\"dataframe\">\n",
              "  <thead>\n",
              "    <tr>\n",
              "      <th></th>\n",
              "      <th></th>\n",
              "      <th colspan=\"2\" halign=\"left\">Valor predicho</th>\n",
              "    </tr>\n",
              "    <tr>\n",
              "      <th></th>\n",
              "      <th></th>\n",
              "      <th>malignant</th>\n",
              "      <th>benign</th>\n",
              "    </tr>\n",
              "  </thead>\n",
              "  <tbody>\n",
              "    <tr>\n",
              "      <th rowspan=\"2\" valign=\"top\">Valor real</th>\n",
              "      <th>malignant</th>\n",
              "      <td>61</td>\n",
              "      <td>3</td>\n",
              "    </tr>\n",
              "    <tr>\n",
              "      <th>benign</th>\n",
              "      <td>4</td>\n",
              "      <td>103</td>\n",
              "    </tr>\n",
              "  </tbody>\n",
              "</table>\n",
              "</div>"
            ],
            "text/plain": [
              "                     Valor predicho       \n",
              "                          malignant benign\n",
              "Valor real malignant             61      3\n",
              "           benign                 4    103"
            ]
          },
          "metadata": {
            "tags": []
          },
          "execution_count": 20
        }
      ]
    },
    {
      "cell_type": "code",
      "metadata": {
        "colab": {
          "base_uri": "https://localhost:8080/",
          "height": 295
        },
        "id": "Hl7LPCWMsrAV",
        "outputId": "3a76ce34-6b6a-4f5e-f937-8f73d17b83de"
      },
      "source": [
        "plot_metric(history, 'loss')"
      ],
      "execution_count": 21,
      "outputs": [
        {
          "output_type": "display_data",
          "data": {
            "image/png": "[encoded data removed]",
            "text/plain": [
              "<Figure size 432x288 with 1 Axes>"
            ]
          },
          "metadata": {
            "tags": [],
            "needs_background": "light"
          }
        }
      ]
    },
    {
      "cell_type": "code",
      "metadata": {
        "colab": {
          "base_uri": "https://localhost:8080/",
          "height": 295
        },
        "id": "rfag4hqruPm8",
        "outputId": "cf4e9b3d-0afb-4c22-d698-8975916c4917"
      },
      "source": [
        "plot_metric(history, 'accuracy')"
      ],
      "execution_count": 22,
      "outputs": [
        {
          "output_type": "display_data",
          "data": {
            "image/png": "[encoded data removed]",
            "text/plain": [
              "<Figure size 432x288 with 1 Axes>"
            ]
          },
          "metadata": {
            "tags": [],
            "needs_background": "light"
          }
        }
      ]
    },
    {
      "cell_type": "markdown",
      "metadata": {
        "id": "VpKQLAYiyTyI"
      },
      "source": [
        "## I. Red neuronal de regresión\n",
        "### Boston Housing\n",
        "---\n"
      ]
    },
    {
      "cell_type": "markdown",
      "metadata": {
        "id": "xq97XNCYy_lp"
      },
      "source": [
        "* 1. Cargamos los datos y las etiquetas objetivo"
      ]
    },
    {
      "cell_type": "code",
      "metadata": {
        "colab": {
          "base_uri": "https://localhost:8080/"
        },
        "id": "AleXyqx3zPEB",
        "outputId": "879adf0c-caa7-4b12-e5d2-86de1f2b7da3"
      },
      "source": [
        "from sklearn.datasets import load_boston\n",
        "\n",
        "data = load_boston()\n",
        "X = data.data\n",
        "y = data.target\n",
        "\n",
        "print(f'Datos(filas, columnas){X.shape} y tipo: {type(X)}\\nEtiquetas(número): {y.shape} y tipo: {type(y)}')"
      ],
      "execution_count": null,
      "outputs": [
        {
          "output_type": "stream",
          "text": [
            "Datos(filas, columnas)(506, 13) y tipo: <class 'numpy.ndarray'>\n",
            "Etiquetas(número): (506,) y tipo: <class 'numpy.ndarray'>\n"
          ],
          "name": "stdout"
        }
      ]
    },
    {
      "cell_type": "markdown",
      "metadata": {
        "id": "lJrkIBFB07t2"
      },
      "source": [
        "* 1.1 Exploramos los features"
      ]
    },
    {
      "cell_type": "code",
      "metadata": {
        "colab": {
          "base_uri": "https://localhost:8080/",
          "height": 289
        },
        "id": "-LhmHoyB07t7",
        "outputId": "72ce633b-3d25-4259-95a5-d89c7bc9a264"
      },
      "source": [
        "print(f'{data.feature_names}') #como numpy array\n",
        "print(f'{X[0, :]} \\ncantidad de features: {len(X[0, :])}') #primer fila\n",
        "\n",
        "df_X = pd.DataFrame(dict(zip(data.feature_names, X))) #como DataFrame\n",
        "df_X[:5] #primeras 5 filas"
      ],
      "execution_count": null,
      "outputs": [
        {
          "output_type": "stream",
          "text": [
            "['CRIM' 'ZN' 'INDUS' 'CHAS' 'NOX' 'RM' 'AGE' 'DIS' 'RAD' 'TAX' 'PTRATIO'\n",
            " 'B' 'LSTAT']\n",
            "[6.320e-03 1.800e+01 2.310e+00 0.000e+00 5.380e-01 6.575e+00 6.520e+01\n",
            " 4.090e+00 1.000e+00 2.960e+02 1.530e+01 3.969e+02 4.980e+00] \n",
            "cantidad de features: 13\n"
          ],
          "name": "stdout"
        },
        {
          "output_type": "execute_result",
          "data": {
            "text/html": [
              "<div>\n",
              "<style scoped>\n",
              "    .dataframe tbody tr th:only-of-type {\n",
              "        vertical-align: middle;\n",
              "    }\n",
              "\n",
              "    .dataframe tbody tr th {\n",
              "        vertical-align: top;\n",
              "    }\n",
              "\n",
              "    .dataframe thead th {\n",
              "        text-align: right;\n",
              "    }\n",
              "</style>\n",
              "<table border=\"1\" class=\"dataframe\">\n",
              "  <thead>\n",
              "    <tr style=\"text-align: right;\">\n",
              "      <th></th>\n",
              "      <th>CRIM</th>\n",
              "      <th>ZN</th>\n",
              "      <th>INDUS</th>\n",
              "      <th>CHAS</th>\n",
              "      <th>NOX</th>\n",
              "      <th>RM</th>\n",
              "      <th>AGE</th>\n",
              "      <th>DIS</th>\n",
              "      <th>RAD</th>\n",
              "      <th>TAX</th>\n",
              "      <th>PTRATIO</th>\n",
              "      <th>B</th>\n",
              "      <th>LSTAT</th>\n",
              "    </tr>\n",
              "  </thead>\n",
              "  <tbody>\n",
              "    <tr>\n",
              "      <th>0</th>\n",
              "      <td>0.00632</td>\n",
              "      <td>0.02731</td>\n",
              "      <td>0.02729</td>\n",
              "      <td>0.03237</td>\n",
              "      <td>0.06905</td>\n",
              "      <td>0.02985</td>\n",
              "      <td>0.08829</td>\n",
              "      <td>0.14455</td>\n",
              "      <td>0.21124</td>\n",
              "      <td>0.17004</td>\n",
              "      <td>0.22489</td>\n",
              "      <td>0.11747</td>\n",
              "      <td>0.09378</td>\n",
              "    </tr>\n",
              "    <tr>\n",
              "      <th>1</th>\n",
              "      <td>18.00000</td>\n",
              "      <td>0.00000</td>\n",
              "      <td>0.00000</td>\n",
              "      <td>0.00000</td>\n",
              "      <td>0.00000</td>\n",
              "      <td>0.00000</td>\n",
              "      <td>12.50000</td>\n",
              "      <td>12.50000</td>\n",
              "      <td>12.50000</td>\n",
              "      <td>12.50000</td>\n",
              "      <td>12.50000</td>\n",
              "      <td>12.50000</td>\n",
              "      <td>12.50000</td>\n",
              "    </tr>\n",
              "    <tr>\n",
              "      <th>2</th>\n",
              "      <td>2.31000</td>\n",
              "      <td>7.07000</td>\n",
              "      <td>7.07000</td>\n",
              "      <td>2.18000</td>\n",
              "      <td>2.18000</td>\n",
              "      <td>2.18000</td>\n",
              "      <td>7.87000</td>\n",
              "      <td>7.87000</td>\n",
              "      <td>7.87000</td>\n",
              "      <td>7.87000</td>\n",
              "      <td>7.87000</td>\n",
              "      <td>7.87000</td>\n",
              "      <td>7.87000</td>\n",
              "    </tr>\n",
              "    <tr>\n",
              "      <th>3</th>\n",
              "      <td>0.00000</td>\n",
              "      <td>0.00000</td>\n",
              "      <td>0.00000</td>\n",
              "      <td>0.00000</td>\n",
              "      <td>0.00000</td>\n",
              "      <td>0.00000</td>\n",
              "      <td>0.00000</td>\n",
              "      <td>0.00000</td>\n",
              "      <td>0.00000</td>\n",
              "      <td>0.00000</td>\n",
              "      <td>0.00000</td>\n",
              "      <td>0.00000</td>\n",
              "      <td>0.00000</td>\n",
              "    </tr>\n",
              "    <tr>\n",
              "      <th>4</th>\n",
              "      <td>0.53800</td>\n",
              "      <td>0.46900</td>\n",
              "      <td>0.46900</td>\n",
              "      <td>0.45800</td>\n",
              "      <td>0.45800</td>\n",
              "      <td>0.45800</td>\n",
              "      <td>0.52400</td>\n",
              "      <td>0.52400</td>\n",
              "      <td>0.52400</td>\n",
              "      <td>0.52400</td>\n",
              "      <td>0.52400</td>\n",
              "      <td>0.52400</td>\n",
              "      <td>0.52400</td>\n",
              "    </tr>\n",
              "  </tbody>\n",
              "</table>\n",
              "</div>"
            ],
            "text/plain": [
              "       CRIM       ZN    INDUS     CHAS  ...       TAX   PTRATIO         B     LSTAT\n",
              "0   0.00632  0.02731  0.02729  0.03237  ...   0.17004   0.22489   0.11747   0.09378\n",
              "1  18.00000  0.00000  0.00000  0.00000  ...  12.50000  12.50000  12.50000  12.50000\n",
              "2   2.31000  7.07000  7.07000  2.18000  ...   7.87000   7.87000   7.87000   7.87000\n",
              "3   0.00000  0.00000  0.00000  0.00000  ...   0.00000   0.00000   0.00000   0.00000\n",
              "4   0.53800  0.46900  0.46900  0.45800  ...   0.52400   0.52400   0.52400   0.52400\n",
              "\n",
              "[5 rows x 13 columns]"
            ]
          },
          "metadata": {
            "tags": []
          },
          "execution_count": 57
        }
      ]
    },
    {
      "cell_type": "markdown",
      "metadata": {
        "id": "cG_jW8sQ1Z0M"
      },
      "source": [
        "* 1.2 Exploramos  los target"
      ]
    },
    {
      "cell_type": "code",
      "metadata": {
        "colab": {
          "base_uri": "https://localhost:8080/",
          "height": 331
        },
        "id": "pA1w3-vR3vkE",
        "outputId": "afee809b-4093-4f34-a613-b8e7fca3bbaf"
      },
      "source": [
        "print(data.keys())\n",
        "#usando data.DESCR encontramos que la variable a predecir es MEDV\n",
        "print(\"MEDV: Median value of owner-occupied homes in $1000's\")\n",
        "pd.DataFrame({'MEDV': y}).describe()"
      ],
      "execution_count": null,
      "outputs": [
        {
          "output_type": "stream",
          "text": [
            "dict_keys(['data', 'target', 'feature_names', 'DESCR', 'filename'])\n",
            "MEDV: Median value of owner-occupied homes in $1000's\n"
          ],
          "name": "stdout"
        },
        {
          "output_type": "execute_result",
          "data": {
            "text/html": [
              "<div>\n",
              "<style scoped>\n",
              "    .dataframe tbody tr th:only-of-type {\n",
              "        vertical-align: middle;\n",
              "    }\n",
              "\n",
              "    .dataframe tbody tr th {\n",
              "        vertical-align: top;\n",
              "    }\n",
              "\n",
              "    .dataframe thead th {\n",
              "        text-align: right;\n",
              "    }\n",
              "</style>\n",
              "<table border=\"1\" class=\"dataframe\">\n",
              "  <thead>\n",
              "    <tr style=\"text-align: right;\">\n",
              "      <th></th>\n",
              "      <th>MEDV</th>\n",
              "    </tr>\n",
              "  </thead>\n",
              "  <tbody>\n",
              "    <tr>\n",
              "      <th>count</th>\n",
              "      <td>506.000000</td>\n",
              "    </tr>\n",
              "    <tr>\n",
              "      <th>mean</th>\n",
              "      <td>22.532806</td>\n",
              "    </tr>\n",
              "    <tr>\n",
              "      <th>std</th>\n",
              "      <td>9.197104</td>\n",
              "    </tr>\n",
              "    <tr>\n",
              "      <th>min</th>\n",
              "      <td>5.000000</td>\n",
              "    </tr>\n",
              "    <tr>\n",
              "      <th>25%</th>\n",
              "      <td>17.025000</td>\n",
              "    </tr>\n",
              "    <tr>\n",
              "      <th>50%</th>\n",
              "      <td>21.200000</td>\n",
              "    </tr>\n",
              "    <tr>\n",
              "      <th>75%</th>\n",
              "      <td>25.000000</td>\n",
              "    </tr>\n",
              "    <tr>\n",
              "      <th>max</th>\n",
              "      <td>50.000000</td>\n",
              "    </tr>\n",
              "  </tbody>\n",
              "</table>\n",
              "</div>"
            ],
            "text/plain": [
              "             MEDV\n",
              "count  506.000000\n",
              "mean    22.532806\n",
              "std      9.197104\n",
              "min      5.000000\n",
              "25%     17.025000\n",
              "50%     21.200000\n",
              "75%     25.000000\n",
              "max     50.000000"
            ]
          },
          "metadata": {
            "tags": []
          },
          "execution_count": 70
        }
      ]
    },
    {
      "cell_type": "markdown",
      "metadata": {
        "id": "gTFUQoSM_HqX"
      },
      "source": [
        "* **2. dividimos los datos en test y train**"
      ]
    },
    {
      "cell_type": "code",
      "metadata": {
        "id": "-6B2QCq4_Hqa"
      },
      "source": [
        "from sklearn.model_selection import train_test_split\n",
        "\n",
        "X_train, X_test, y_train, y_test = train_test_split(X, y, test_size = 0.3, random_state = 0)"
      ],
      "execution_count": null,
      "outputs": []
    },
    {
      "cell_type": "code",
      "metadata": {
        "colab": {
          "base_uri": "https://localhost:8080/"
        },
        "id": "zXbNSjgA_Hqc",
        "outputId": "497657d7-cfb7-4f4d-964e-cb7cc5730ba5"
      },
      "source": [
        "print(f'X test: {X_test.shape} & X train: {X_train.shape}')\n",
        "print(f'y test: {y_test.shape} & y train: {y_train.shape}')"
      ],
      "execution_count": null,
      "outputs": [
        {
          "output_type": "stream",
          "text": [
            "X test: (152, 13) & X train: (354, 13)\n",
            "y test: (152,) & y train: (354,)\n"
          ],
          "name": "stdout"
        }
      ]
    },
    {
      "cell_type": "markdown",
      "metadata": {
        "id": "3guOAw4s_f8p"
      },
      "source": [
        "* **3. Normalizamos los datos**"
      ]
    },
    {
      "cell_type": "code",
      "metadata": {
        "id": "daYukOI7_f9A"
      },
      "source": [
        "from sklearn.preprocessing import StandardScaler\n",
        "\n",
        "normalizar = StandardScaler()\n",
        "X_train = normalizar.fit_transform(X_train)\n",
        "X_test = normalizar.transform(X_test) #por que este y no transform"
      ],
      "execution_count": null,
      "outputs": []
    },
    {
      "cell_type": "code",
      "metadata": {
        "id": "wkI0Qcpq_joV"
      },
      "source": [
        ""
      ],
      "execution_count": null,
      "outputs": []
    },
    {
      "cell_type": "markdown",
      "metadata": {
        "id": "ecEg_HrDAwyE"
      },
      "source": [
        "* **4. Definimos la arquitectura**"
      ]
    },
    {
      "cell_type": "code",
      "metadata": {
        "id": "pOiomzVcAwyb"
      },
      "source": [
        "from tensorflow.keras.models import Sequential\n",
        "from tensorflow.keras import layers \n",
        "\n",
        "model = Sequential()\n",
        "\n",
        "## add(): Adiciona capas una por una\n",
        "# layers.Dense(): Coloca una capa densa\n",
        "model.add(layers.Dense(units=128, activation='relu', input_shape=(13,), name='dense_1')) #capa de entrada 128 neuronas\n",
        ",\n",
        "#layers.dropout(): esto previene el overfitting (Regularización)\n",
        "model.add(layers.Dropout(0.1)) # 10% de las neuronas son descativadas en cada epoca\n",
        "model.add(layers.Dense(units=64, activation='relu', name='dense_2')) #capa oculta 64 neuronas\n",
        "\n",
        "model.add(layers.Dropout(0.1))\n",
        "model.add(layers.Dense(units=1, activation='linear', name='dense_3')) #capa de salida 1 neurona"
      ],
      "execution_count": null,
      "outputs": []
    },
    {
      "cell_type": "code",
      "metadata": {
        "id": "GsoTQZ5FAx-6"
      },
      "source": [
        ""
      ],
      "execution_count": null,
      "outputs": []
    },
    {
      "cell_type": "markdown",
      "metadata": {
        "id": "VwdAtpGGA6j3"
      },
      "source": [
        "* **5. Compilamos el modelo**"
      ]
    },
    {
      "cell_type": "code",
      "metadata": {
        "colab": {
          "base_uri": "https://localhost:8080/",
          "height": 1000
        },
        "id": "sG2o8SFFA6j4",
        "outputId": "5eb39631-ddd1-468d-9e9d-c4c10b4a36ba"
      },
      "source": [
        "from tensorflow.keras import utils\n",
        "\n",
        "print(f'1er capa entrada: {128*13+128} parámetros \\n2da capa oculta: {64*128+64} parámetros \\n3er capa salida: {64+1} parámetros \\n')\n",
        "#1er capa 128 neuronas * 13 columnas X_train + 128 bias o intercerptos\n",
        "#2da capa 64 neuronas * 128 neuronas 1er capa + 64 bias o intercerptos\n",
        "#3er capa 16 neuronas 2da capa + 1 neurona 3er capa\n",
        "\n",
        "#model.compile(optimizer='adam', loss='binary_crossentropy', metrics=['mae'])\n",
        "model.compile(optimizer='adam', loss='mse', metrics=['mae'])\n",
        "\n",
        "model.summary()\n",
        "utils.plot_model(model, show_shapes=True)\n"
      ],
      "execution_count": null,
      "outputs": [
        {
          "output_type": "stream",
          "text": [
            "1er capa entrada: 1792 parámetros \n",
            "2da capa oculta: 8256 parámetros \n",
            "3er capa salida: 65 parámetros \n",
            "\n",
            "Model: \"sequential_10\"\n",
            "_________________________________________________________________\n",
            "Layer (type)                 Output Shape              Param #   \n",
            "=================================================================\n",
            "dense_1 (Dense)              (None, 128)               1792      \n",
            "_________________________________________________________________\n",
            "dropout_19 (Dropout)         (None, 128)               0         \n",
            "_________________________________________________________________\n",
            "dense_2 (Dense)              (None, 64)                8256      \n",
            "_________________________________________________________________\n",
            "dropout_20 (Dropout)         (None, 64)                0         \n",
            "_________________________________________________________________\n",
            "dense_3 (Dense)              (None, 1)                 65        \n",
            "=================================================================\n",
            "Total params: 10,113\n",
            "Trainable params: 10,113\n",
            "Non-trainable params: 0\n",
            "_________________________________________________________________\n"
          ],
          "name": "stdout"
        },
        {
          "output_type": "execute_result",
          "data": {
            "image/png": "[encoded data removed]",
            "text/plain": [
              "<IPython.core.display.Image object>"
            ]
          },
          "metadata": {
            "tags": []
          },
          "execution_count": 110
        }
      ]
    },
    {
      "cell_type": "markdown",
      "metadata": {
        "id": "IrQIW1jNA6kG"
      },
      "source": [
        "* **6. Entrenamiento**"
      ]
    },
    {
      "cell_type": "code",
      "metadata": {
        "colab": {
          "base_uri": "https://localhost:8080/"
        },
        "id": "JmddPE58A6kH",
        "outputId": "4edebb49-0a14-4b58-d193-a2163fe2013f"
      },
      "source": [
        "history = model.fit(X_train, y_train, batch_size=32, epochs=150, validation_split = 0.2)"
      ],
      "execution_count": null,
      "outputs": [
        {
          "output_type": "stream",
          "text": [
            "Epoch 1/150\n",
            "9/9 [==============================] - 1s 30ms/step - loss: 631.5913 - mae: 23.2697 - val_loss: 537.2524 - val_mae: 21.3595\n",
            "Epoch 2/150\n",
            "9/9 [==============================] - 0s 9ms/step - loss: 591.6560 - mae: 22.4196 - val_loss: 488.6920 - val_mae: 20.2676\n",
            "Epoch 3/150\n",
            "9/9 [==============================] - 0s 9ms/step - loss: 503.8389 - mae: 20.5849 - val_loss: 429.9243 - val_mae: 18.8635\n",
            "Epoch 4/150\n",
            "9/9 [==============================] - 0s 8ms/step - loss: 439.8707 - mae: 19.3067 - val_loss: 356.6434 - val_mae: 17.0142\n",
            "Epoch 5/150\n",
            "9/9 [==============================] - 0s 9ms/step - loss: 384.6440 - mae: 17.4669 - val_loss: 270.0337 - val_mae: 14.5563\n",
            "Epoch 6/150\n",
            "9/9 [==============================] - 0s 7ms/step - loss: 290.9970 - mae: 14.9482 - val_loss: 179.1511 - val_mae: 11.6179\n",
            "Epoch 7/150\n",
            "9/9 [==============================] - 0s 11ms/step - loss: 196.6019 - mae: 11.8962 - val_loss: 102.7386 - val_mae: 8.2460\n",
            "Epoch 8/150\n",
            "9/9 [==============================] - 0s 10ms/step - loss: 119.5171 - mae: 8.7154 - val_loss: 59.5232 - val_mae: 5.6939\n",
            "Epoch 9/150\n",
            "9/9 [==============================] - 0s 9ms/step - loss: 71.8857 - mae: 6.6686 - val_loss: 47.0607 - val_mae: 5.1497\n",
            "Epoch 10/150\n",
            "9/9 [==============================] - 0s 8ms/step - loss: 50.2157 - mae: 5.2606 - val_loss: 42.6173 - val_mae: 4.9594\n",
            "Epoch 11/150\n",
            "9/9 [==============================] - 0s 9ms/step - loss: 35.3881 - mae: 4.6003 - val_loss: 34.6806 - val_mae: 4.4590\n",
            "Epoch 12/150\n",
            "9/9 [==============================] - 0s 9ms/step - loss: 39.1087 - mae: 4.6914 - val_loss: 29.4805 - val_mae: 4.0681\n",
            "Epoch 13/150\n",
            "9/9 [==============================] - 0s 9ms/step - loss: 34.3616 - mae: 4.3011 - val_loss: 26.4692 - val_mae: 3.8130\n",
            "Epoch 14/150\n",
            "9/9 [==============================] - 0s 10ms/step - loss: 30.3724 - mae: 3.9734 - val_loss: 24.8792 - val_mae: 3.6837\n",
            "Epoch 15/150\n",
            "9/9 [==============================] - 0s 8ms/step - loss: 29.0575 - mae: 3.7919 - val_loss: 23.4823 - val_mae: 3.5917\n",
            "Epoch 16/150\n",
            "9/9 [==============================] - 0s 11ms/step - loss: 25.6988 - mae: 3.6089 - val_loss: 22.7711 - val_mae: 3.5583\n",
            "Epoch 17/150\n",
            "9/9 [==============================] - 0s 10ms/step - loss: 30.0876 - mae: 3.7091 - val_loss: 22.0953 - val_mae: 3.5100\n",
            "Epoch 18/150\n",
            "9/9 [==============================] - 0s 10ms/step - loss: 25.4472 - mae: 3.6248 - val_loss: 21.2179 - val_mae: 3.4343\n",
            "Epoch 19/150\n",
            "9/9 [==============================] - 0s 10ms/step - loss: 23.3763 - mae: 3.6725 - val_loss: 20.5374 - val_mae: 3.3806\n",
            "Epoch 20/150\n",
            "9/9 [==============================] - 0s 10ms/step - loss: 19.5063 - mae: 3.2831 - val_loss: 19.7995 - val_mae: 3.3222\n",
            "Epoch 21/150\n",
            "9/9 [==============================] - 0s 8ms/step - loss: 15.9581 - mae: 2.9695 - val_loss: 19.3669 - val_mae: 3.2756\n",
            "Epoch 22/150\n",
            "9/9 [==============================] - 0s 10ms/step - loss: 18.7596 - mae: 3.2647 - val_loss: 18.7115 - val_mae: 3.2323\n",
            "Epoch 23/150\n",
            "9/9 [==============================] - 0s 8ms/step - loss: 14.4789 - mae: 2.9052 - val_loss: 18.1161 - val_mae: 3.1534\n",
            "Epoch 24/150\n",
            "9/9 [==============================] - 0s 9ms/step - loss: 20.9514 - mae: 3.2500 - val_loss: 17.9538 - val_mae: 3.1370\n",
            "Epoch 25/150\n",
            "9/9 [==============================] - 0s 10ms/step - loss: 15.2583 - mae: 2.8260 - val_loss: 17.8293 - val_mae: 3.1178\n",
            "Epoch 26/150\n",
            "9/9 [==============================] - 0s 10ms/step - loss: 13.0076 - mae: 2.7489 - val_loss: 17.2525 - val_mae: 3.0626\n",
            "Epoch 27/150\n",
            "9/9 [==============================] - 0s 10ms/step - loss: 18.0019 - mae: 3.0734 - val_loss: 16.5252 - val_mae: 2.9985\n",
            "Epoch 28/150\n",
            "9/9 [==============================] - 0s 11ms/step - loss: 14.5048 - mae: 2.8010 - val_loss: 16.2713 - val_mae: 2.9688\n",
            "Epoch 29/150\n",
            "9/9 [==============================] - 0s 10ms/step - loss: 13.0143 - mae: 2.7311 - val_loss: 15.9345 - val_mae: 2.9295\n",
            "Epoch 30/150\n",
            "9/9 [==============================] - 0s 10ms/step - loss: 18.4720 - mae: 2.9597 - val_loss: 15.9146 - val_mae: 2.9271\n",
            "Epoch 31/150\n",
            "9/9 [==============================] - 0s 9ms/step - loss: 14.3233 - mae: 2.8993 - val_loss: 15.9141 - val_mae: 2.9135\n",
            "Epoch 32/150\n",
            "9/9 [==============================] - 0s 10ms/step - loss: 14.0820 - mae: 2.8325 - val_loss: 15.3455 - val_mae: 2.8458\n",
            "Epoch 33/150\n",
            "9/9 [==============================] - 0s 8ms/step - loss: 12.9511 - mae: 2.7854 - val_loss: 14.8615 - val_mae: 2.7920\n",
            "Epoch 34/150\n",
            "9/9 [==============================] - 0s 10ms/step - loss: 12.7771 - mae: 2.6384 - val_loss: 14.6326 - val_mae: 2.7745\n",
            "Epoch 35/150\n",
            "9/9 [==============================] - 0s 10ms/step - loss: 14.6234 - mae: 2.7878 - val_loss: 14.8223 - val_mae: 2.7890\n",
            "Epoch 36/150\n",
            "9/9 [==============================] - 0s 10ms/step - loss: 15.1692 - mae: 2.8557 - val_loss: 14.9345 - val_mae: 2.7994\n",
            "Epoch 37/150\n",
            "9/9 [==============================] - 0s 10ms/step - loss: 13.2539 - mae: 2.8053 - val_loss: 14.3412 - val_mae: 2.7442\n",
            "Epoch 38/150\n",
            "9/9 [==============================] - 0s 10ms/step - loss: 13.9827 - mae: 2.5576 - val_loss: 13.9597 - val_mae: 2.7122\n",
            "Epoch 39/150\n",
            "9/9 [==============================] - 0s 8ms/step - loss: 12.9914 - mae: 2.7407 - val_loss: 13.9868 - val_mae: 2.6968\n",
            "Epoch 40/150\n",
            "9/9 [==============================] - 0s 11ms/step - loss: 11.1034 - mae: 2.3288 - val_loss: 14.0714 - val_mae: 2.6984\n",
            "Epoch 41/150\n",
            "9/9 [==============================] - 0s 9ms/step - loss: 11.2123 - mae: 2.4864 - val_loss: 14.2906 - val_mae: 2.7151\n",
            "Epoch 42/150\n",
            "9/9 [==============================] - 0s 9ms/step - loss: 13.7919 - mae: 2.8151 - val_loss: 14.2253 - val_mae: 2.7064\n",
            "Epoch 43/150\n",
            "9/9 [==============================] - 0s 9ms/step - loss: 13.9038 - mae: 2.5522 - val_loss: 13.9616 - val_mae: 2.6747\n",
            "Epoch 44/150\n",
            "9/9 [==============================] - 0s 10ms/step - loss: 13.5753 - mae: 2.7588 - val_loss: 13.5085 - val_mae: 2.6383\n",
            "Epoch 45/150\n",
            "9/9 [==============================] - 0s 9ms/step - loss: 12.5080 - mae: 2.7301 - val_loss: 12.8980 - val_mae: 2.5951\n",
            "Epoch 46/150\n",
            "9/9 [==============================] - 0s 9ms/step - loss: 14.1337 - mae: 2.6537 - val_loss: 12.5001 - val_mae: 2.5483\n",
            "Epoch 47/150\n",
            "9/9 [==============================] - 0s 9ms/step - loss: 10.6824 - mae: 2.4922 - val_loss: 12.5254 - val_mae: 2.5510\n",
            "Epoch 48/150\n",
            "9/9 [==============================] - 0s 8ms/step - loss: 15.1042 - mae: 2.8793 - val_loss: 12.5406 - val_mae: 2.5504\n",
            "Epoch 49/150\n",
            "9/9 [==============================] - 0s 9ms/step - loss: 12.5920 - mae: 2.6359 - val_loss: 12.5136 - val_mae: 2.5471\n",
            "Epoch 50/150\n",
            "9/9 [==============================] - 0s 9ms/step - loss: 14.4082 - mae: 2.7279 - val_loss: 12.5167 - val_mae: 2.5619\n",
            "Epoch 51/150\n",
            "9/9 [==============================] - 0s 10ms/step - loss: 11.1148 - mae: 2.4912 - val_loss: 12.4201 - val_mae: 2.5511\n",
            "Epoch 52/150\n",
            "9/9 [==============================] - 0s 9ms/step - loss: 11.9398 - mae: 2.5754 - val_loss: 12.2971 - val_mae: 2.5424\n",
            "Epoch 53/150\n",
            "9/9 [==============================] - 0s 9ms/step - loss: 12.6482 - mae: 2.6461 - val_loss: 12.3459 - val_mae: 2.5312\n",
            "Epoch 54/150\n",
            "9/9 [==============================] - 0s 10ms/step - loss: 11.4546 - mae: 2.6733 - val_loss: 12.4220 - val_mae: 2.5554\n",
            "Epoch 55/150\n",
            "9/9 [==============================] - 0s 9ms/step - loss: 11.9088 - mae: 2.6042 - val_loss: 12.2086 - val_mae: 2.5425\n",
            "Epoch 56/150\n",
            "9/9 [==============================] - 0s 10ms/step - loss: 13.5483 - mae: 2.6940 - val_loss: 11.7549 - val_mae: 2.4666\n",
            "Epoch 57/150\n",
            "9/9 [==============================] - 0s 9ms/step - loss: 10.6263 - mae: 2.5159 - val_loss: 11.8733 - val_mae: 2.4814\n",
            "Epoch 58/150\n",
            "9/9 [==============================] - 0s 8ms/step - loss: 11.6776 - mae: 2.5790 - val_loss: 11.6468 - val_mae: 2.4752\n",
            "Epoch 59/150\n",
            "9/9 [==============================] - 0s 9ms/step - loss: 13.4523 - mae: 2.8271 - val_loss: 12.3054 - val_mae: 2.5445\n",
            "Epoch 60/150\n",
            "9/9 [==============================] - 0s 10ms/step - loss: 11.1338 - mae: 2.6013 - val_loss: 12.3210 - val_mae: 2.5353\n",
            "Epoch 61/150\n",
            "9/9 [==============================] - 0s 10ms/step - loss: 15.0776 - mae: 2.5362 - val_loss: 11.7228 - val_mae: 2.4511\n",
            "Epoch 62/150\n",
            "9/9 [==============================] - 0s 9ms/step - loss: 12.3540 - mae: 2.5967 - val_loss: 11.8632 - val_mae: 2.4764\n",
            "Epoch 63/150\n",
            "9/9 [==============================] - 0s 9ms/step - loss: 10.7431 - mae: 2.3927 - val_loss: 12.0623 - val_mae: 2.4951\n",
            "Epoch 64/150\n",
            "9/9 [==============================] - 0s 9ms/step - loss: 12.9223 - mae: 2.5740 - val_loss: 11.9303 - val_mae: 2.4576\n",
            "Epoch 65/150\n",
            "9/9 [==============================] - 0s 8ms/step - loss: 12.2399 - mae: 2.6029 - val_loss: 11.2972 - val_mae: 2.4204\n",
            "Epoch 66/150\n",
            "9/9 [==============================] - 0s 8ms/step - loss: 14.8109 - mae: 2.8629 - val_loss: 11.4969 - val_mae: 2.4498\n",
            "Epoch 67/150\n",
            "9/9 [==============================] - 0s 9ms/step - loss: 13.3820 - mae: 2.5764 - val_loss: 11.2528 - val_mae: 2.4319\n",
            "Epoch 68/150\n",
            "9/9 [==============================] - 0s 11ms/step - loss: 12.6427 - mae: 2.6767 - val_loss: 11.1430 - val_mae: 2.4087\n",
            "Epoch 69/150\n",
            "9/9 [==============================] - 0s 10ms/step - loss: 10.8710 - mae: 2.4053 - val_loss: 10.9007 - val_mae: 2.3673\n",
            "Epoch 70/150\n",
            "9/9 [==============================] - 0s 10ms/step - loss: 9.0896 - mae: 2.2216 - val_loss: 11.4301 - val_mae: 2.4291\n",
            "Epoch 71/150\n",
            "9/9 [==============================] - 0s 10ms/step - loss: 11.2362 - mae: 2.4962 - val_loss: 12.0217 - val_mae: 2.5238\n",
            "Epoch 72/150\n",
            "9/9 [==============================] - 0s 10ms/step - loss: 11.6545 - mae: 2.5583 - val_loss: 11.3475 - val_mae: 2.4425\n",
            "Epoch 73/150\n",
            "9/9 [==============================] - 0s 10ms/step - loss: 10.4507 - mae: 2.4651 - val_loss: 10.4995 - val_mae: 2.3369\n",
            "Epoch 74/150\n",
            "9/9 [==============================] - 0s 10ms/step - loss: 13.6610 - mae: 2.6824 - val_loss: 10.7542 - val_mae: 2.3788\n",
            "Epoch 75/150\n",
            "9/9 [==============================] - 0s 11ms/step - loss: 10.9976 - mae: 2.5519 - val_loss: 11.1755 - val_mae: 2.4328\n",
            "Epoch 76/150\n",
            "9/9 [==============================] - 0s 11ms/step - loss: 9.1077 - mae: 2.2999 - val_loss: 10.8041 - val_mae: 2.3898\n",
            "Epoch 77/150\n",
            "9/9 [==============================] - 0s 8ms/step - loss: 10.0820 - mae: 2.4106 - val_loss: 10.7187 - val_mae: 2.3807\n",
            "Epoch 78/150\n",
            "9/9 [==============================] - 0s 9ms/step - loss: 12.1757 - mae: 2.5952 - val_loss: 11.3663 - val_mae: 2.4427\n",
            "Epoch 79/150\n",
            "9/9 [==============================] - 0s 10ms/step - loss: 13.8488 - mae: 2.7567 - val_loss: 10.9359 - val_mae: 2.3912\n",
            "Epoch 80/150\n",
            "9/9 [==============================] - 0s 10ms/step - loss: 11.5154 - mae: 2.5487 - val_loss: 10.9885 - val_mae: 2.3982\n",
            "Epoch 81/150\n",
            "9/9 [==============================] - 0s 9ms/step - loss: 9.9471 - mae: 2.4178 - val_loss: 10.8943 - val_mae: 2.3850\n",
            "Epoch 82/150\n",
            "9/9 [==============================] - 0s 10ms/step - loss: 12.2636 - mae: 2.6309 - val_loss: 11.2614 - val_mae: 2.4300\n",
            "Epoch 83/150\n",
            "9/9 [==============================] - 0s 9ms/step - loss: 11.8845 - mae: 2.5612 - val_loss: 10.8294 - val_mae: 2.3570\n",
            "Epoch 84/150\n",
            "9/9 [==============================] - 0s 8ms/step - loss: 9.3145 - mae: 2.3007 - val_loss: 10.7424 - val_mae: 2.3503\n",
            "Epoch 85/150\n",
            "9/9 [==============================] - 0s 9ms/step - loss: 13.6974 - mae: 2.5995 - val_loss: 10.8912 - val_mae: 2.3797\n",
            "Epoch 86/150\n",
            "9/9 [==============================] - 0s 8ms/step - loss: 12.2355 - mae: 2.6505 - val_loss: 10.8421 - val_mae: 2.3637\n",
            "Epoch 87/150\n",
            "9/9 [==============================] - 0s 9ms/step - loss: 10.7752 - mae: 2.4558 - val_loss: 10.9376 - val_mae: 2.3729\n",
            "Epoch 88/150\n",
            "9/9 [==============================] - 0s 10ms/step - loss: 9.1930 - mae: 2.3754 - val_loss: 11.0427 - val_mae: 2.4011\n",
            "Epoch 89/150\n",
            "9/9 [==============================] - 0s 11ms/step - loss: 9.2728 - mae: 2.3049 - val_loss: 10.3643 - val_mae: 2.3308\n",
            "Epoch 90/150\n",
            "9/9 [==============================] - 0s 10ms/step - loss: 9.1972 - mae: 2.3144 - val_loss: 10.4010 - val_mae: 2.3530\n",
            "Epoch 91/150\n",
            "9/9 [==============================] - 0s 10ms/step - loss: 10.5363 - mae: 2.3958 - val_loss: 10.2720 - val_mae: 2.3428\n",
            "Epoch 92/150\n",
            "9/9 [==============================] - 0s 11ms/step - loss: 10.6176 - mae: 2.4254 - val_loss: 9.8646 - val_mae: 2.2731\n",
            "Epoch 93/150\n",
            "9/9 [==============================] - 0s 10ms/step - loss: 11.1193 - mae: 2.4900 - val_loss: 10.5295 - val_mae: 2.3827\n",
            "Epoch 94/150\n",
            "9/9 [==============================] - 0s 10ms/step - loss: 12.7852 - mae: 2.6872 - val_loss: 10.7894 - val_mae: 2.3837\n",
            "Epoch 95/150\n",
            "9/9 [==============================] - 0s 10ms/step - loss: 11.1236 - mae: 2.6105 - val_loss: 10.9385 - val_mae: 2.4058\n",
            "Epoch 96/150\n",
            "9/9 [==============================] - 0s 11ms/step - loss: 10.9694 - mae: 2.4512 - val_loss: 10.4561 - val_mae: 2.3699\n",
            "Epoch 97/150\n",
            "9/9 [==============================] - 0s 11ms/step - loss: 8.4881 - mae: 2.2229 - val_loss: 9.6746 - val_mae: 2.2859\n",
            "Epoch 98/150\n",
            "9/9 [==============================] - 0s 14ms/step - loss: 11.3212 - mae: 2.5530 - val_loss: 9.9415 - val_mae: 2.3273\n",
            "Epoch 99/150\n",
            "9/9 [==============================] - 0s 10ms/step - loss: 10.1082 - mae: 2.1913 - val_loss: 10.0000 - val_mae: 2.3281\n",
            "Epoch 100/150\n",
            "9/9 [==============================] - 0s 10ms/step - loss: 10.2062 - mae: 2.3488 - val_loss: 10.0928 - val_mae: 2.3221\n",
            "Epoch 101/150\n",
            "9/9 [==============================] - 0s 9ms/step - loss: 12.5449 - mae: 2.5948 - val_loss: 10.3479 - val_mae: 2.3436\n",
            "Epoch 102/150\n",
            "9/9 [==============================] - 0s 9ms/step - loss: 9.6875 - mae: 2.3949 - val_loss: 10.4390 - val_mae: 2.3458\n",
            "Epoch 103/150\n",
            "9/9 [==============================] - 0s 9ms/step - loss: 11.3331 - mae: 2.4930 - val_loss: 10.5176 - val_mae: 2.3624\n",
            "Epoch 104/150\n",
            "9/9 [==============================] - 0s 9ms/step - loss: 11.2771 - mae: 2.4365 - val_loss: 10.5354 - val_mae: 2.3538\n",
            "Epoch 105/150\n",
            "9/9 [==============================] - 0s 10ms/step - loss: 8.9209 - mae: 2.3361 - val_loss: 10.1851 - val_mae: 2.3052\n",
            "Epoch 106/150\n",
            "9/9 [==============================] - 0s 10ms/step - loss: 11.1136 - mae: 2.4099 - val_loss: 9.9292 - val_mae: 2.2753\n",
            "Epoch 107/150\n",
            "9/9 [==============================] - 0s 9ms/step - loss: 8.7676 - mae: 2.3178 - val_loss: 10.3389 - val_mae: 2.3418\n",
            "Epoch 108/150\n",
            "9/9 [==============================] - 0s 11ms/step - loss: 8.3210 - mae: 2.2508 - val_loss: 10.0663 - val_mae: 2.3196\n",
            "Epoch 109/150\n",
            "9/9 [==============================] - 0s 9ms/step - loss: 10.3626 - mae: 2.2421 - val_loss: 10.3386 - val_mae: 2.3494\n",
            "Epoch 110/150\n",
            "9/9 [==============================] - 0s 10ms/step - loss: 8.5147 - mae: 2.1201 - val_loss: 10.6046 - val_mae: 2.3450\n",
            "Epoch 111/150\n",
            "9/9 [==============================] - 0s 9ms/step - loss: 10.1534 - mae: 2.4474 - val_loss: 9.9697 - val_mae: 2.2994\n",
            "Epoch 112/150\n",
            "9/9 [==============================] - 0s 9ms/step - loss: 10.4547 - mae: 2.4476 - val_loss: 9.5149 - val_mae: 2.2309\n",
            "Epoch 113/150\n",
            "9/9 [==============================] - 0s 11ms/step - loss: 8.8661 - mae: 2.2356 - val_loss: 9.9060 - val_mae: 2.2787\n",
            "Epoch 114/150\n",
            "9/9 [==============================] - 0s 9ms/step - loss: 9.0942 - mae: 2.3238 - val_loss: 10.0444 - val_mae: 2.3082\n",
            "Epoch 115/150\n",
            "9/9 [==============================] - 0s 10ms/step - loss: 7.8289 - mae: 2.1422 - val_loss: 10.5486 - val_mae: 2.3605\n",
            "Epoch 116/150\n",
            "9/9 [==============================] - 0s 9ms/step - loss: 8.6167 - mae: 2.2942 - val_loss: 10.1819 - val_mae: 2.3000\n",
            "Epoch 117/150\n",
            "9/9 [==============================] - 0s 9ms/step - loss: 11.6972 - mae: 2.4506 - val_loss: 9.8410 - val_mae: 2.2832\n",
            "Epoch 118/150\n",
            "9/9 [==============================] - 0s 10ms/step - loss: 7.9381 - mae: 2.0801 - val_loss: 9.7225 - val_mae: 2.2805\n",
            "Epoch 119/150\n",
            "9/9 [==============================] - 0s 10ms/step - loss: 9.3262 - mae: 2.2394 - val_loss: 9.3977 - val_mae: 2.2496\n",
            "Epoch 120/150\n",
            "9/9 [==============================] - 0s 10ms/step - loss: 9.2357 - mae: 2.2589 - val_loss: 9.3536 - val_mae: 2.2378\n",
            "Epoch 121/150\n",
            "9/9 [==============================] - 0s 10ms/step - loss: 8.8576 - mae: 2.2419 - val_loss: 9.3823 - val_mae: 2.2416\n",
            "Epoch 122/150\n",
            "9/9 [==============================] - 0s 9ms/step - loss: 10.8173 - mae: 2.4268 - val_loss: 9.5002 - val_mae: 2.2653\n",
            "Epoch 123/150\n",
            "9/9 [==============================] - 0s 8ms/step - loss: 10.8296 - mae: 2.4698 - val_loss: 9.1268 - val_mae: 2.2259\n",
            "Epoch 124/150\n",
            "9/9 [==============================] - 0s 12ms/step - loss: 9.1858 - mae: 2.3778 - val_loss: 8.9663 - val_mae: 2.1885\n",
            "Epoch 125/150\n",
            "9/9 [==============================] - 0s 8ms/step - loss: 8.3450 - mae: 2.2091 - val_loss: 9.1695 - val_mae: 2.2335\n",
            "Epoch 126/150\n",
            "9/9 [==============================] - 0s 9ms/step - loss: 8.1988 - mae: 2.2933 - val_loss: 10.1784 - val_mae: 2.3595\n",
            "Epoch 127/150\n",
            "9/9 [==============================] - 0s 11ms/step - loss: 9.4206 - mae: 2.3047 - val_loss: 9.2439 - val_mae: 2.2305\n",
            "Epoch 128/150\n",
            "9/9 [==============================] - 0s 9ms/step - loss: 10.8175 - mae: 2.4156 - val_loss: 8.9591 - val_mae: 2.2034\n",
            "Epoch 129/150\n",
            "9/9 [==============================] - 0s 11ms/step - loss: 9.0212 - mae: 2.3219 - val_loss: 9.0561 - val_mae: 2.2094\n",
            "Epoch 130/150\n",
            "9/9 [==============================] - 0s 11ms/step - loss: 7.5927 - mae: 2.0629 - val_loss: 8.7428 - val_mae: 2.1716\n",
            "Epoch 131/150\n",
            "9/9 [==============================] - 0s 10ms/step - loss: 6.9309 - mae: 1.9283 - val_loss: 9.1465 - val_mae: 2.2356\n",
            "Epoch 132/150\n",
            "9/9 [==============================] - 0s 11ms/step - loss: 6.9988 - mae: 2.0096 - val_loss: 9.4282 - val_mae: 2.2483\n",
            "Epoch 133/150\n",
            "9/9 [==============================] - 0s 9ms/step - loss: 9.1107 - mae: 2.3029 - val_loss: 9.6236 - val_mae: 2.2823\n",
            "Epoch 134/150\n",
            "9/9 [==============================] - 0s 10ms/step - loss: 10.2986 - mae: 2.3999 - val_loss: 9.1219 - val_mae: 2.2186\n",
            "Epoch 135/150\n",
            "9/9 [==============================] - 0s 11ms/step - loss: 6.8479 - mae: 1.9696 - val_loss: 9.1919 - val_mae: 2.2063\n",
            "Epoch 136/150\n",
            "9/9 [==============================] - 0s 9ms/step - loss: 7.0165 - mae: 2.0466 - val_loss: 9.5983 - val_mae: 2.2511\n",
            "Epoch 137/150\n",
            "9/9 [==============================] - 0s 10ms/step - loss: 8.8512 - mae: 2.4102 - val_loss: 9.7867 - val_mae: 2.3027\n",
            "Epoch 138/150\n",
            "9/9 [==============================] - 0s 10ms/step - loss: 6.9965 - mae: 2.0797 - val_loss: 9.2636 - val_mae: 2.2218\n",
            "Epoch 139/150\n",
            "9/9 [==============================] - 0s 11ms/step - loss: 6.9983 - mae: 1.9957 - val_loss: 8.8792 - val_mae: 2.1812\n",
            "Epoch 140/150\n",
            "9/9 [==============================] - 0s 10ms/step - loss: 8.4206 - mae: 2.2174 - val_loss: 8.8072 - val_mae: 2.1728\n",
            "Epoch 141/150\n",
            "9/9 [==============================] - 0s 10ms/step - loss: 7.3235 - mae: 2.0454 - val_loss: 8.9937 - val_mae: 2.2062\n",
            "Epoch 142/150\n",
            "9/9 [==============================] - 0s 9ms/step - loss: 7.5997 - mae: 2.1055 - val_loss: 9.0416 - val_mae: 2.2034\n",
            "Epoch 143/150\n",
            "9/9 [==============================] - 0s 10ms/step - loss: 9.0109 - mae: 2.3258 - val_loss: 9.5796 - val_mae: 2.2666\n",
            "Epoch 144/150\n",
            "9/9 [==============================] - 0s 10ms/step - loss: 8.8953 - mae: 2.2288 - val_loss: 8.9003 - val_mae: 2.1680\n",
            "Epoch 145/150\n",
            "9/9 [==============================] - 0s 11ms/step - loss: 8.6992 - mae: 2.3503 - val_loss: 9.1943 - val_mae: 2.1985\n",
            "Epoch 146/150\n",
            "9/9 [==============================] - 0s 10ms/step - loss: 8.7184 - mae: 2.0967 - val_loss: 9.2302 - val_mae: 2.2119\n",
            "Epoch 147/150\n",
            "9/9 [==============================] - 0s 10ms/step - loss: 6.0990 - mae: 1.8976 - val_loss: 9.4381 - val_mae: 2.2487\n",
            "Epoch 148/150\n",
            "9/9 [==============================] - 0s 9ms/step - loss: 8.9561 - mae: 2.1582 - val_loss: 8.7820 - val_mae: 2.1662\n",
            "Epoch 149/150\n",
            "9/9 [==============================] - 0s 11ms/step - loss: 8.1668 - mae: 2.2588 - val_loss: 9.1505 - val_mae: 2.2000\n",
            "Epoch 150/150\n",
            "9/9 [==============================] - 0s 11ms/step - loss: 7.0948 - mae: 1.9745 - val_loss: 9.8265 - val_mae: 2.3143\n"
          ],
          "name": "stdout"
        }
      ]
    },
    {
      "cell_type": "markdown",
      "metadata": {
        "id": "5H5mPCGnR7Zk"
      },
      "source": [
        "* **7. Predicciones**\n",
        "\n"
      ]
    },
    {
      "cell_type": "code",
      "metadata": {
        "colab": {
          "base_uri": "https://localhost:8080/",
          "height": 204
        },
        "id": "Y96p5KoJSMbL",
        "outputId": "4c01e7fd-abc4-4bc6-94c3-30fd3cd18e13"
      },
      "source": [
        "hist = pd.DataFrame(history.history)\n",
        "hist['epoch'] = history.epoch\n",
        "hist.tail()"
      ],
      "execution_count": null,
      "outputs": [
        {
          "output_type": "execute_result",
          "data": {
            "text/html": [
              "<div>\n",
              "<style scoped>\n",
              "    .dataframe tbody tr th:only-of-type {\n",
              "        vertical-align: middle;\n",
              "    }\n",
              "\n",
              "    .dataframe tbody tr th {\n",
              "        vertical-align: top;\n",
              "    }\n",
              "\n",
              "    .dataframe thead th {\n",
              "        text-align: right;\n",
              "    }\n",
              "</style>\n",
              "<table border=\"1\" class=\"dataframe\">\n",
              "  <thead>\n",
              "    <tr style=\"text-align: right;\">\n",
              "      <th></th>\n",
              "      <th>loss</th>\n",
              "      <th>mae</th>\n",
              "      <th>val_loss</th>\n",
              "      <th>val_mae</th>\n",
              "      <th>epoch</th>\n",
              "    </tr>\n",
              "  </thead>\n",
              "  <tbody>\n",
              "    <tr>\n",
              "      <th>145</th>\n",
              "      <td>9.065969</td>\n",
              "      <td>2.181102</td>\n",
              "      <td>9.230165</td>\n",
              "      <td>2.211896</td>\n",
              "      <td>145</td>\n",
              "    </tr>\n",
              "    <tr>\n",
              "      <th>146</th>\n",
              "      <td>7.155889</td>\n",
              "      <td>2.026540</td>\n",
              "      <td>9.438144</td>\n",
              "      <td>2.248697</td>\n",
              "      <td>146</td>\n",
              "    </tr>\n",
              "    <tr>\n",
              "      <th>147</th>\n",
              "      <td>8.600340</td>\n",
              "      <td>2.204933</td>\n",
              "      <td>8.781988</td>\n",
              "      <td>2.166163</td>\n",
              "      <td>147</td>\n",
              "    </tr>\n",
              "    <tr>\n",
              "      <th>148</th>\n",
              "      <td>7.780641</td>\n",
              "      <td>2.111997</td>\n",
              "      <td>9.150525</td>\n",
              "      <td>2.199990</td>\n",
              "      <td>148</td>\n",
              "    </tr>\n",
              "    <tr>\n",
              "      <th>149</th>\n",
              "      <td>7.561364</td>\n",
              "      <td>2.086079</td>\n",
              "      <td>9.826482</td>\n",
              "      <td>2.314298</td>\n",
              "      <td>149</td>\n",
              "    </tr>\n",
              "  </tbody>\n",
              "</table>\n",
              "</div>"
            ],
            "text/plain": [
              "         loss       mae  val_loss   val_mae  epoch\n",
              "145  9.065969  2.181102  9.230165  2.211896    145\n",
              "146  7.155889  2.026540  9.438144  2.248697    146\n",
              "147  8.600340  2.204933  8.781988  2.166163    147\n",
              "148  7.780641  2.111997  9.150525  2.199990    148\n",
              "149  7.561364  2.086079  9.826482  2.314298    149"
            ]
          },
          "metadata": {
            "tags": []
          },
          "execution_count": 113
        }
      ]
    },
    {
      "cell_type": "markdown",
      "metadata": {
        "id": "4nau5JMtR7Zr"
      },
      "source": [
        "* **8. Evaluación del modelo**"
      ]
    },
    {
      "cell_type": "code",
      "metadata": {
        "colab": {
          "base_uri": "https://localhost:8080/",
          "height": 283
        },
        "id": "PBrcdNXpSYJR",
        "outputId": "00fadf13-8e84-4af6-d54d-932123499783"
      },
      "source": [
        "def plot_history(history):\n",
        "  hist = pd.DataFrame(history.history)\n",
        "  hist['epoch'] = history.epoch\n",
        "\n",
        "  plt.figure()\n",
        "  plt.xlabel('Epoch')\n",
        "  plt.ylabel('Mean Abs Error [MPG]')\n",
        "  plt.plot(hist['epoch'], hist['mae'],\n",
        "           label='Train Error')\n",
        "  plt.plot(hist['epoch'], hist['val_mae'],\n",
        "           label = 'Val Error')\n",
        "  plt.ylim([0,5])\n",
        "  plt.legend()\n",
        "\n",
        "  plt.show()\n",
        "\n",
        "\n",
        "plot_history(history)"
      ],
      "execution_count": null,
      "outputs": [
        {
          "output_type": "display_data",
          "data": {
            "image/png": "[encoded data removed]",
            "text/plain": [
              "<Figure size 432x288 with 1 Axes>"
            ]
          },
          "metadata": {
            "tags": [],
            "needs_background": "light"
          }
        }
      ]
    }
  ]
}