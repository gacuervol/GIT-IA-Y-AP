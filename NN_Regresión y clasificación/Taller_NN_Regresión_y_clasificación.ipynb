{
  "nbformat": 4,
  "nbformat_minor": 0,
  "metadata": {
    "kernelspec": {
      "display_name": "Python 3",
      "language": "python",
      "name": "python3"
    },
    "language_info": {
      "codemirror_mode": {
        "name": "ipython",
        "version": 3
      },
      "file_extension": ".py",
      "mimetype": "text/x-python",
      "name": "python",
      "nbconvert_exporter": "python",
      "pygments_lexer": "ipython3",
      "version": "3.7.7"
    },
    "colab": {
      "name": "Taller NN Regresión y clasificación.ipynb",
      "provenance": [],
      "collapsed_sections": [],
      "toc_visible": true
    }
  },
  "cells": [
    {
      "cell_type": "markdown",
      "metadata": {
        "id": "msCRmawsj_ih"
      },
      "source": [
        "# Laboratorio Regresión y clasificación\n",
        "---\n",
        "Giovanny Alejandro Cuervo Londoño\n",
        "\n",
        "1. Construya una red neuronal de clasificación binaria para predecir el cáncer de seno. Use los datos <a srf=https://www.kaggle.com/uciml/breast-cancer-wisconsin-data>Breast Cancer Wisconsin</a>. Los datos los puede encontrar en el enlace de Kaggle.\n",
        "\n",
        "\n",
        "2. Construya una red neuronal de regresión poara predecir el precio de las viviendas. Use los datos <a src= https://www.kaggle.com/c/boston-housing>Boston Housing</a>.  Los datos los puede encontrar en el enlace de Kaggle.\n",
        "\n",
        "\n"
      ]
    },
    {
      "cell_type": "markdown",
      "metadata": {
        "id": "IMbtRDf70aGv"
      },
      "source": [
        "* **0. Importamos los paquetes necesarios** "
      ]
    },
    {
      "cell_type": "code",
      "metadata": {
        "id": "e0Ur6uJv0TbY"
      },
      "source": [
        "import numpy as np\n",
        "import pandas as pd\n",
        "import seaborn as sns\n",
        "import matplotlib.pyplot as plt\n",
        "import tensorflow as tf"
      ],
      "execution_count": null,
      "outputs": []
    },
    {
      "cell_type": "code",
      "metadata": {
        "colab": {
          "base_uri": "https://localhost:8080/"
        },
        "id": "_BaEUcp2-FGd",
        "outputId": "9ff55ebf-d332-443d-ffc0-0ff2a7382c45"
      },
      "source": [
        "print('Numpy', np.__version__)\n",
        "print('Pandas', pd.__version__)\n",
        "print('Seaborn' , sns.__version__)\n",
        "print('Tensor Flow', tf.__version__)"
      ],
      "execution_count": null,
      "outputs": [
        {
          "output_type": "stream",
          "text": [
            "Numpy 1.19.5\n",
            "Pandas 1.1.5\n",
            "Seaborn 0.11.1\n",
            "Tensor Flow 2.4.1\n"
          ],
          "name": "stdout"
        }
      ]
    },
    {
      "cell_type": "markdown",
      "metadata": {
        "id": "lU3_3n6PHhMa"
      },
      "source": [
        "Este notebook se hizo con las librerías\n",
        "> Numpy 1.19.5\n",
        "\n",
        "> Pandas 1.1.5\n",
        "\n",
        "> Seaborn 0.11.1\n",
        "\n",
        "> Tensor Flow 2.4.1"
      ]
    },
    {
      "cell_type": "markdown",
      "metadata": {
        "id": "cp8qR2CpvN9O"
      },
      "source": [
        "* **0. Funciones Necesarias definidas** "
      ]
    },
    {
      "cell_type": "code",
      "metadata": {
        "id": "OZujcPc3f-5W"
      },
      "source": [
        "def list_confusion_matrix(cm,classes):\n",
        "  df = pd.DataFrame(data = cm,\n",
        "                    index = pd.MultiIndex.from_product([['Valor real'], classes]),\n",
        "                    columns = pd.MultiIndex.from_product([['Valor predicho'], classes]))\n",
        "  \n",
        "  return df"
      ],
      "execution_count": null,
      "outputs": []
    },
    {
      "cell_type": "code",
      "metadata": {
        "id": "PmRyHCtVrrfZ"
      },
      "source": [
        "def plot_metric(history, metric):\n",
        "    train_metrics = history.history[metric]\n",
        "    val_metrics = history.history['val_'+metric]\n",
        "    epochs = range(1, len(train_metrics) + 1)\n",
        "    plt.plot(epochs, train_metrics, 'bo--')\n",
        "    plt.plot(epochs, val_metrics, 'ro-')\n",
        "    plt.title('Entrenamiento y validación '+ metric)\n",
        "    plt.xlabel(\"Epochs\")\n",
        "    plt.ylabel(metric)\n",
        "    plt.legend([\"train_\"+metric, 'val_'+metric])\n",
        "    plt.show()"
      ],
      "execution_count": null,
      "outputs": []
    },
    {
      "cell_type": "markdown",
      "metadata": {
        "id": "WcOchJZbk8cg"
      },
      "source": [
        "## I. Red neuronal de Clasificación Binaria\n",
        "### Breast Cancer Wisconsin\n",
        "---\n"
      ]
    },
    {
      "cell_type": "markdown",
      "metadata": {
        "id": "GZCcVfAez2qj"
      },
      "source": [
        "* 1. Cargamos los datos y las etiquetas objetivo"
      ]
    },
    {
      "cell_type": "code",
      "metadata": {
        "colab": {
          "base_uri": "https://localhost:8080/"
        },
        "id": "sj9aallqk8ET",
        "outputId": "61461db7-1443-441d-e5ae-6cfade47fe84"
      },
      "source": [
        "from sklearn.datasets import load_breast_cancer\n",
        "\n",
        "data = load_breast_cancer()\n",
        "X = data.data\n",
        "y = data.target\n",
        "\n",
        "\n",
        "print(f'Datos(filas, columnas){X.shape}y tipo: {type(X)}\\nEtiquetas(número): {y.shape} y tipo: {type(y)}')"
      ],
      "execution_count": null,
      "outputs": [
        {
          "output_type": "stream",
          "text": [
            "Datos(filas, columnas)(569, 30)y tipo: <class 'numpy.ndarray'>\n",
            "Etiquetas(número): (569,) y tipo: <class 'numpy.ndarray'>\n"
          ],
          "name": "stdout"
        }
      ]
    },
    {
      "cell_type": "markdown",
      "metadata": {
        "id": "4f67QQQH0EtI"
      },
      "source": [
        "* 1.1 Exploramos los features"
      ]
    },
    {
      "cell_type": "code",
      "metadata": {
        "colab": {
          "base_uri": "https://localhost:8080/",
          "height": 513
        },
        "id": "AXukgw0EwbTf",
        "outputId": "23986851-18e8-4091-fb59-71486cbe6c42"
      },
      "source": [
        "print(f'{data.feature_names}') #como numpy array\n",
        "print(f'{X[0, :]} \\ncantidad de features: {len(X[0, :])}') #primer fila\n",
        "\n",
        "df_X = pd.DataFrame(dict(zip(data.feature_names, X))) #como DataFrame\n",
        "df_X[:5] #primeras 5 filas"
      ],
      "execution_count": null,
      "outputs": [
        {
          "output_type": "stream",
          "text": [
            "['mean radius' 'mean texture' 'mean perimeter' 'mean area'\n",
            " 'mean smoothness' 'mean compactness' 'mean concavity'\n",
            " 'mean concave points' 'mean symmetry' 'mean fractal dimension'\n",
            " 'radius error' 'texture error' 'perimeter error' 'area error'\n",
            " 'smoothness error' 'compactness error' 'concavity error'\n",
            " 'concave points error' 'symmetry error' 'fractal dimension error'\n",
            " 'worst radius' 'worst texture' 'worst perimeter' 'worst area'\n",
            " 'worst smoothness' 'worst compactness' 'worst concavity'\n",
            " 'worst concave points' 'worst symmetry' 'worst fractal dimension']\n",
            "[1.799e+01 1.038e+01 1.228e+02 1.001e+03 1.184e-01 2.776e-01 3.001e-01\n",
            " 1.471e-01 2.419e-01 7.871e-02 1.095e+00 9.053e-01 8.589e+00 1.534e+02\n",
            " 6.399e-03 4.904e-02 5.373e-02 1.587e-02 3.003e-02 6.193e-03 2.538e+01\n",
            " 1.733e+01 1.846e+02 2.019e+03 1.622e-01 6.656e-01 7.119e-01 2.654e-01\n",
            " 4.601e-01 1.189e-01] \n",
            "cantidad de features: 30\n"
          ],
          "name": "stdout"
        },
        {
          "output_type": "execute_result",
          "data": {
            "text/html": [
              "<div>\n",
              "<style scoped>\n",
              "    .dataframe tbody tr th:only-of-type {\n",
              "        vertical-align: middle;\n",
              "    }\n",
              "\n",
              "    .dataframe tbody tr th {\n",
              "        vertical-align: top;\n",
              "    }\n",
              "\n",
              "    .dataframe thead th {\n",
              "        text-align: right;\n",
              "    }\n",
              "</style>\n",
              "<table border=\"1\" class=\"dataframe\">\n",
              "  <thead>\n",
              "    <tr style=\"text-align: right;\">\n",
              "      <th></th>\n",
              "      <th>mean radius</th>\n",
              "      <th>mean texture</th>\n",
              "      <th>mean perimeter</th>\n",
              "      <th>mean area</th>\n",
              "      <th>mean smoothness</th>\n",
              "      <th>mean compactness</th>\n",
              "      <th>mean concavity</th>\n",
              "      <th>mean concave points</th>\n",
              "      <th>mean symmetry</th>\n",
              "      <th>mean fractal dimension</th>\n",
              "      <th>radius error</th>\n",
              "      <th>texture error</th>\n",
              "      <th>perimeter error</th>\n",
              "      <th>area error</th>\n",
              "      <th>smoothness error</th>\n",
              "      <th>compactness error</th>\n",
              "      <th>concavity error</th>\n",
              "      <th>concave points error</th>\n",
              "      <th>symmetry error</th>\n",
              "      <th>fractal dimension error</th>\n",
              "      <th>worst radius</th>\n",
              "      <th>worst texture</th>\n",
              "      <th>worst perimeter</th>\n",
              "      <th>worst area</th>\n",
              "      <th>worst smoothness</th>\n",
              "      <th>worst compactness</th>\n",
              "      <th>worst concavity</th>\n",
              "      <th>worst concave points</th>\n",
              "      <th>worst symmetry</th>\n",
              "      <th>worst fractal dimension</th>\n",
              "    </tr>\n",
              "  </thead>\n",
              "  <tbody>\n",
              "    <tr>\n",
              "      <th>0</th>\n",
              "      <td>17.9900</td>\n",
              "      <td>20.57000</td>\n",
              "      <td>19.6900</td>\n",
              "      <td>11.4200</td>\n",
              "      <td>20.2900</td>\n",
              "      <td>12.4500</td>\n",
              "      <td>18.25000</td>\n",
              "      <td>13.7100</td>\n",
              "      <td>13.0000</td>\n",
              "      <td>12.4600</td>\n",
              "      <td>16.02000</td>\n",
              "      <td>15.7800</td>\n",
              "      <td>19.1700</td>\n",
              "      <td>15.85000</td>\n",
              "      <td>13.7300</td>\n",
              "      <td>14.5400</td>\n",
              "      <td>14.68000</td>\n",
              "      <td>16.130</td>\n",
              "      <td>19.81000</td>\n",
              "      <td>13.54000</td>\n",
              "      <td>13.0800</td>\n",
              "      <td>9.5040</td>\n",
              "      <td>15.3400</td>\n",
              "      <td>21.16000</td>\n",
              "      <td>16.6500</td>\n",
              "      <td>17.1400</td>\n",
              "      <td>14.5800</td>\n",
              "      <td>18.6100</td>\n",
              "      <td>15.3000</td>\n",
              "      <td>17.57000</td>\n",
              "    </tr>\n",
              "    <tr>\n",
              "      <th>1</th>\n",
              "      <td>10.3800</td>\n",
              "      <td>17.77000</td>\n",
              "      <td>21.2500</td>\n",
              "      <td>20.3800</td>\n",
              "      <td>14.3400</td>\n",
              "      <td>15.7000</td>\n",
              "      <td>19.98000</td>\n",
              "      <td>20.8300</td>\n",
              "      <td>21.8200</td>\n",
              "      <td>24.0400</td>\n",
              "      <td>23.24000</td>\n",
              "      <td>17.8900</td>\n",
              "      <td>24.8000</td>\n",
              "      <td>23.95000</td>\n",
              "      <td>22.6100</td>\n",
              "      <td>27.5400</td>\n",
              "      <td>20.13000</td>\n",
              "      <td>20.680</td>\n",
              "      <td>22.15000</td>\n",
              "      <td>14.36000</td>\n",
              "      <td>15.7100</td>\n",
              "      <td>12.4400</td>\n",
              "      <td>14.2600</td>\n",
              "      <td>23.04000</td>\n",
              "      <td>21.3800</td>\n",
              "      <td>16.4000</td>\n",
              "      <td>21.5300</td>\n",
              "      <td>20.2500</td>\n",
              "      <td>25.2700</td>\n",
              "      <td>15.05000</td>\n",
              "    </tr>\n",
              "    <tr>\n",
              "      <th>2</th>\n",
              "      <td>122.8000</td>\n",
              "      <td>132.90000</td>\n",
              "      <td>130.0000</td>\n",
              "      <td>77.5800</td>\n",
              "      <td>135.1000</td>\n",
              "      <td>82.5700</td>\n",
              "      <td>119.60000</td>\n",
              "      <td>90.2000</td>\n",
              "      <td>87.5000</td>\n",
              "      <td>83.9700</td>\n",
              "      <td>102.70000</td>\n",
              "      <td>103.6000</td>\n",
              "      <td>132.4000</td>\n",
              "      <td>103.70000</td>\n",
              "      <td>93.6000</td>\n",
              "      <td>96.7300</td>\n",
              "      <td>94.74000</td>\n",
              "      <td>108.100</td>\n",
              "      <td>130.00000</td>\n",
              "      <td>87.46000</td>\n",
              "      <td>85.6300</td>\n",
              "      <td>60.3400</td>\n",
              "      <td>102.5000</td>\n",
              "      <td>137.20000</td>\n",
              "      <td>110.0000</td>\n",
              "      <td>116.0000</td>\n",
              "      <td>97.4100</td>\n",
              "      <td>122.1000</td>\n",
              "      <td>102.4000</td>\n",
              "      <td>115.00000</td>\n",
              "    </tr>\n",
              "    <tr>\n",
              "      <th>3</th>\n",
              "      <td>1001.0000</td>\n",
              "      <td>1326.00000</td>\n",
              "      <td>1203.0000</td>\n",
              "      <td>386.1000</td>\n",
              "      <td>1297.0000</td>\n",
              "      <td>477.1000</td>\n",
              "      <td>1040.00000</td>\n",
              "      <td>577.9000</td>\n",
              "      <td>519.8000</td>\n",
              "      <td>475.9000</td>\n",
              "      <td>797.80000</td>\n",
              "      <td>781.0000</td>\n",
              "      <td>1123.0000</td>\n",
              "      <td>782.70000</td>\n",
              "      <td>578.3000</td>\n",
              "      <td>658.8000</td>\n",
              "      <td>684.50000</td>\n",
              "      <td>798.800</td>\n",
              "      <td>1260.00000</td>\n",
              "      <td>566.30000</td>\n",
              "      <td>520.0000</td>\n",
              "      <td>273.9000</td>\n",
              "      <td>704.4000</td>\n",
              "      <td>1404.00000</td>\n",
              "      <td>904.6000</td>\n",
              "      <td>912.7000</td>\n",
              "      <td>644.8000</td>\n",
              "      <td>1094.0000</td>\n",
              "      <td>732.4000</td>\n",
              "      <td>955.10000</td>\n",
              "    </tr>\n",
              "    <tr>\n",
              "      <th>4</th>\n",
              "      <td>0.1184</td>\n",
              "      <td>0.08474</td>\n",
              "      <td>0.1096</td>\n",
              "      <td>0.1425</td>\n",
              "      <td>0.1003</td>\n",
              "      <td>0.1278</td>\n",
              "      <td>0.09463</td>\n",
              "      <td>0.1189</td>\n",
              "      <td>0.1273</td>\n",
              "      <td>0.1186</td>\n",
              "      <td>0.08206</td>\n",
              "      <td>0.0971</td>\n",
              "      <td>0.0974</td>\n",
              "      <td>0.08401</td>\n",
              "      <td>0.1131</td>\n",
              "      <td>0.1139</td>\n",
              "      <td>0.09867</td>\n",
              "      <td>0.117</td>\n",
              "      <td>0.09831</td>\n",
              "      <td>0.09779</td>\n",
              "      <td>0.1075</td>\n",
              "      <td>0.1024</td>\n",
              "      <td>0.1073</td>\n",
              "      <td>0.09428</td>\n",
              "      <td>0.1121</td>\n",
              "      <td>0.1186</td>\n",
              "      <td>0.1054</td>\n",
              "      <td>0.0944</td>\n",
              "      <td>0.1082</td>\n",
              "      <td>0.09847</td>\n",
              "    </tr>\n",
              "  </tbody>\n",
              "</table>\n",
              "</div>"
            ],
            "text/plain": [
              "   mean radius  mean texture  ...  worst symmetry  worst fractal dimension\n",
              "0      17.9900      20.57000  ...         15.3000                 17.57000\n",
              "1      10.3800      17.77000  ...         25.2700                 15.05000\n",
              "2     122.8000     132.90000  ...        102.4000                115.00000\n",
              "3    1001.0000    1326.00000  ...        732.4000                955.10000\n",
              "4       0.1184       0.08474  ...          0.1082                  0.09847\n",
              "\n",
              "[5 rows x 30 columns]"
            ]
          },
          "metadata": {
            "tags": []
          },
          "execution_count": 7
        }
      ]
    },
    {
      "cell_type": "markdown",
      "metadata": {
        "id": "n1ru31SR3oft"
      },
      "source": [
        "* 1.2 Exploramos  los target"
      ]
    },
    {
      "cell_type": "code",
      "metadata": {
        "colab": {
          "base_uri": "https://localhost:8080/"
        },
        "id": "8aGyf9oTxy_1",
        "outputId": "b9d95b5d-404f-40ed-c74f-37f72e993b8d"
      },
      "source": [
        "print(f'{data.target_names[0]}:{np.unique(y)[0]}, {data.target_names[1]}:{np.unique(y)[1]}')\n"
      ],
      "execution_count": null,
      "outputs": [
        {
          "output_type": "stream",
          "text": [
            "malignant:0, benign:1\n"
          ],
          "name": "stdout"
        }
      ]
    },
    {
      "cell_type": "code",
      "metadata": {
        "colab": {
          "base_uri": "https://localhost:8080/"
        },
        "id": "lUkox-2C5n-y",
        "outputId": "5343a10e-6801-42bf-a2ba-f6f8fa8aa14c"
      },
      "source": [
        "print(f'conteo \\nmalignant: {list(y).count(0)} \\nbenign:{list(y).count(1)}')\n",
        "#vemos un ligero desbalance donde hay más benign "
      ],
      "execution_count": null,
      "outputs": [
        {
          "output_type": "stream",
          "text": [
            "conteo \n",
            "malignant: 212 \n",
            "benign:357\n"
          ],
          "name": "stdout"
        }
      ]
    },
    {
      "cell_type": "markdown",
      "metadata": {
        "id": "bSi7d-Qv3492"
      },
      "source": [
        "* **2. dividimos los datos en test y train**"
      ]
    },
    {
      "cell_type": "code",
      "metadata": {
        "id": "10ptnS294Anl"
      },
      "source": [
        "from sklearn.model_selection import train_test_split\n",
        "\n",
        "X_train, X_test, y_train, y_test = train_test_split(X, y, test_size = 0.3, random_state = 0, stratify = y)"
      ],
      "execution_count": null,
      "outputs": []
    },
    {
      "cell_type": "code",
      "metadata": {
        "colab": {
          "base_uri": "https://localhost:8080/"
        },
        "id": "XKwX5xqH5SSO",
        "outputId": "c0158cc0-17b0-402a-abb7-5d23badb2477"
      },
      "source": [
        "print(f'X test: {X_test.shape} & X train: {X_train.shape}')\n",
        "print(f'y test: {y_test.shape} & y train: {y_train.shape}')"
      ],
      "execution_count": null,
      "outputs": [
        {
          "output_type": "stream",
          "text": [
            "X test: (171, 30) & X train: (398, 30)\n",
            "y test: (171,) & y train: (398,)\n"
          ],
          "name": "stdout"
        }
      ]
    },
    {
      "cell_type": "markdown",
      "metadata": {
        "id": "n_bDAEKF7hf0"
      },
      "source": [
        "* **3. Normalizamos los datos**"
      ]
    },
    {
      "cell_type": "code",
      "metadata": {
        "id": "tFVeSYeY5gFN"
      },
      "source": [
        "from sklearn.preprocessing import StandardScaler\n",
        "\n",
        "normalizar = StandardScaler()\n",
        "X_train = normalizar.fit_transform(X_train)\n",
        "X_test = normalizar.transform(X_test) #por que este y no transform"
      ],
      "execution_count": null,
      "outputs": []
    },
    {
      "cell_type": "markdown",
      "metadata": {
        "id": "zq2f6SCV8_Ur"
      },
      "source": [
        "* **4. Definimos la arquitectura**"
      ]
    },
    {
      "cell_type": "code",
      "metadata": {
        "id": "cCzr5NGN84HE"
      },
      "source": [
        "from tensorflow.keras.models import Sequential\n",
        "from tensorflow.keras import layers \n",
        "\n",
        "model = Sequential()\n",
        "\n",
        "## add(): Adiciona capas una por una\n",
        "# layers.Dense(): Coloca una capa densa\n",
        "model.add(layers.Dense(units=16, activation='relu', input_shape=(30,), name='dense_1')) #capa de entrada 16 neuronas\n",
        "\n",
        "#layers.dropout(): esto previene el overfitting (Regularización)\n",
        "model.add(layers.Dropout(0.1)) # 10% de las neuronas son descativadas en cada epoca\n",
        "model.add(layers.Dense(units=16, activation='relu', name='dense_2')) #capa oculta 16 neuronas\n",
        "\n",
        "model.add(layers.Dropout(0.1))\n",
        "model.add(layers.Dense(units=1, activation='sigmoid', name='dense_3')) #capa de salida 1 neurona\n",
        "\n"
      ],
      "execution_count": null,
      "outputs": []
    },
    {
      "cell_type": "markdown",
      "metadata": {
        "id": "fdRJLd5xaSdT"
      },
      "source": [
        "* **5. Compilamos el modelo**"
      ]
    },
    {
      "cell_type": "code",
      "metadata": {
        "colab": {
          "base_uri": "https://localhost:8080/",
          "height": 1000
        },
        "id": "Uyj7K6DN9vB0",
        "outputId": "bf0db0bb-0fe6-4a5f-d359-66417c83c4e6"
      },
      "source": [
        "from tensorflow.keras import utils\n",
        "\n",
        "print(f'1er capa entrada: {16*30+16} parámetros \\n2da capa oculta: {16*16+16} parámetros \\n3er capa salida: {16+1} parámetros \\n')\n",
        "#1er capa 16 neuronas * 30 columnas X_train + 16 bias o intercerptos\n",
        "#2da capa 16 neuronas * 16 neuronas 1er capa + 16 bias o intercerptos\n",
        "#3er capa 16 neuronas 2da capa + 1 neurona 3er capa\n",
        "\n",
        "model.compile(optimizer='adam', loss='binary_crossentropy', metrics=['accuracy'])\n",
        "\n",
        "\n",
        "model.summary()\n",
        "utils.plot_model(model, show_shapes=True)\n"
      ],
      "execution_count": null,
      "outputs": [
        {
          "output_type": "stream",
          "text": [
            "1er capa entrada: 496 parámetros \n",
            "2da capa oculta: 272 parámetros \n",
            "3er capa salida: 17 parámetros \n",
            "\n",
            "Model: \"sequential\"\n",
            "_________________________________________________________________\n",
            "Layer (type)                 Output Shape              Param #   \n",
            "=================================================================\n",
            "dense_1 (Dense)              (None, 16)                496       \n",
            "_________________________________________________________________\n",
            "dropout (Dropout)            (None, 16)                0         \n",
            "_________________________________________________________________\n",
            "dense_2 (Dense)              (None, 16)                272       \n",
            "_________________________________________________________________\n",
            "dropout_1 (Dropout)          (None, 16)                0         \n",
            "_________________________________________________________________\n",
            "dense_3 (Dense)              (None, 1)                 17        \n",
            "=================================================================\n",
            "Total params: 785\n",
            "Trainable params: 785\n",
            "Non-trainable params: 0\n",
            "_________________________________________________________________\n"
          ],
          "name": "stdout"
        },
        {
          "output_type": "execute_result",
          "data": {
            "image/png": "[encoded data removed]",
            "text/plain": [
              "<IPython.core.display.Image object>"
            ]
          },
          "metadata": {
            "tags": []
          },
          "execution_count": 14
        }
      ]
    },
    {
      "cell_type": "markdown",
      "metadata": {
        "id": "Y4OuvvRdegRC"
      },
      "source": [
        "* **6. Entrenamiento**"
      ]
    },
    {
      "cell_type": "code",
      "metadata": {
        "colab": {
          "base_uri": "https://localhost:8080/"
        },
        "id": "LrSJQXiNaree",
        "outputId": "064f774f-8233-4717-ea18-822ca82d9776"
      },
      "source": [
        "history = model.fit(X_train, y_train, batch_size=32, epochs=150, validation_split = 0.2)"
      ],
      "execution_count": null,
      "outputs": [
        {
          "output_type": "stream",
          "text": [
            "Epoch 1/150\n",
            "10/10 [==============================] - 1s 50ms/step - loss: 0.7990 - accuracy: 0.4449 - val_loss: 0.6395 - val_accuracy: 0.5750\n",
            "Epoch 2/150\n",
            "10/10 [==============================] - 0s 6ms/step - loss: 0.6850 - accuracy: 0.6149 - val_loss: 0.5578 - val_accuracy: 0.7125\n",
            "Epoch 3/150\n",
            "10/10 [==============================] - 0s 7ms/step - loss: 0.6181 - accuracy: 0.6870 - val_loss: 0.4938 - val_accuracy: 0.8500\n",
            "Epoch 4/150\n",
            "10/10 [==============================] - 0s 7ms/step - loss: 0.5337 - accuracy: 0.7625 - val_loss: 0.4388 - val_accuracy: 0.8875\n",
            "Epoch 5/150\n",
            "10/10 [==============================] - 0s 6ms/step - loss: 0.5037 - accuracy: 0.8125 - val_loss: 0.3880 - val_accuracy: 0.9375\n",
            "Epoch 6/150\n",
            "10/10 [==============================] - 0s 7ms/step - loss: 0.4461 - accuracy: 0.8586 - val_loss: 0.3402 - val_accuracy: 0.9375\n",
            "Epoch 7/150\n",
            "10/10 [==============================] - 0s 6ms/step - loss: 0.3692 - accuracy: 0.9110 - val_loss: 0.2967 - val_accuracy: 0.9500\n",
            "Epoch 8/150\n",
            "10/10 [==============================] - 0s 6ms/step - loss: 0.3653 - accuracy: 0.8829 - val_loss: 0.2588 - val_accuracy: 0.9625\n",
            "Epoch 9/150\n",
            "10/10 [==============================] - 0s 6ms/step - loss: 0.3116 - accuracy: 0.9128 - val_loss: 0.2250 - val_accuracy: 0.9750\n",
            "Epoch 10/150\n",
            "10/10 [==============================] - 0s 7ms/step - loss: 0.2956 - accuracy: 0.9148 - val_loss: 0.1969 - val_accuracy: 0.9750\n",
            "Epoch 11/150\n",
            "10/10 [==============================] - 0s 6ms/step - loss: 0.2567 - accuracy: 0.9269 - val_loss: 0.1728 - val_accuracy: 0.9750\n",
            "Epoch 12/150\n",
            "10/10 [==============================] - 0s 6ms/step - loss: 0.2602 - accuracy: 0.9261 - val_loss: 0.1527 - val_accuracy: 0.9750\n",
            "Epoch 13/150\n",
            "10/10 [==============================] - 0s 6ms/step - loss: 0.2343 - accuracy: 0.9241 - val_loss: 0.1362 - val_accuracy: 0.9750\n",
            "Epoch 14/150\n",
            "10/10 [==============================] - 0s 6ms/step - loss: 0.1981 - accuracy: 0.9488 - val_loss: 0.1213 - val_accuracy: 0.9750\n",
            "Epoch 15/150\n",
            "10/10 [==============================] - 0s 6ms/step - loss: 0.1970 - accuracy: 0.9317 - val_loss: 0.1095 - val_accuracy: 0.9875\n",
            "Epoch 16/150\n",
            "10/10 [==============================] - 0s 6ms/step - loss: 0.1496 - accuracy: 0.9622 - val_loss: 0.0983 - val_accuracy: 0.9875\n",
            "Epoch 17/150\n",
            "10/10 [==============================] - 0s 7ms/step - loss: 0.1615 - accuracy: 0.9649 - val_loss: 0.0895 - val_accuracy: 0.9875\n",
            "Epoch 18/150\n",
            "10/10 [==============================] - 0s 7ms/step - loss: 0.1553 - accuracy: 0.9525 - val_loss: 0.0820 - val_accuracy: 0.9875\n",
            "Epoch 19/150\n",
            "10/10 [==============================] - 0s 7ms/step - loss: 0.1603 - accuracy: 0.9607 - val_loss: 0.0755 - val_accuracy: 0.9875\n",
            "Epoch 20/150\n",
            "10/10 [==============================] - 0s 6ms/step - loss: 0.1344 - accuracy: 0.9606 - val_loss: 0.0701 - val_accuracy: 0.9875\n",
            "Epoch 21/150\n",
            "10/10 [==============================] - 0s 6ms/step - loss: 0.1372 - accuracy: 0.9722 - val_loss: 0.0657 - val_accuracy: 0.9875\n",
            "Epoch 22/150\n",
            "10/10 [==============================] - 0s 7ms/step - loss: 0.1114 - accuracy: 0.9711 - val_loss: 0.0609 - val_accuracy: 0.9875\n",
            "Epoch 23/150\n",
            "10/10 [==============================] - 0s 6ms/step - loss: 0.1292 - accuracy: 0.9563 - val_loss: 0.0565 - val_accuracy: 0.9875\n",
            "Epoch 24/150\n",
            "10/10 [==============================] - 0s 8ms/step - loss: 0.1013 - accuracy: 0.9687 - val_loss: 0.0532 - val_accuracy: 0.9875\n",
            "Epoch 25/150\n",
            "10/10 [==============================] - 0s 6ms/step - loss: 0.1162 - accuracy: 0.9679 - val_loss: 0.0501 - val_accuracy: 0.9875\n",
            "Epoch 26/150\n",
            "10/10 [==============================] - 0s 6ms/step - loss: 0.0883 - accuracy: 0.9841 - val_loss: 0.0478 - val_accuracy: 0.9875\n",
            "Epoch 27/150\n",
            "10/10 [==============================] - 0s 7ms/step - loss: 0.1061 - accuracy: 0.9796 - val_loss: 0.0455 - val_accuracy: 0.9875\n",
            "Epoch 28/150\n",
            "10/10 [==============================] - 0s 7ms/step - loss: 0.1076 - accuracy: 0.9801 - val_loss: 0.0435 - val_accuracy: 0.9875\n",
            "Epoch 29/150\n",
            "10/10 [==============================] - 0s 6ms/step - loss: 0.0798 - accuracy: 0.9854 - val_loss: 0.0411 - val_accuracy: 0.9875\n",
            "Epoch 30/150\n",
            "10/10 [==============================] - 0s 6ms/step - loss: 0.1027 - accuracy: 0.9568 - val_loss: 0.0396 - val_accuracy: 0.9875\n",
            "Epoch 31/150\n",
            "10/10 [==============================] - 0s 6ms/step - loss: 0.0967 - accuracy: 0.9727 - val_loss: 0.0380 - val_accuracy: 0.9875\n",
            "Epoch 32/150\n",
            "10/10 [==============================] - 0s 6ms/step - loss: 0.0682 - accuracy: 0.9927 - val_loss: 0.0363 - val_accuracy: 0.9875\n",
            "Epoch 33/150\n",
            "10/10 [==============================] - 0s 6ms/step - loss: 0.0891 - accuracy: 0.9786 - val_loss: 0.0353 - val_accuracy: 0.9875\n",
            "Epoch 34/150\n",
            "10/10 [==============================] - 0s 6ms/step - loss: 0.0725 - accuracy: 0.9704 - val_loss: 0.0343 - val_accuracy: 0.9875\n",
            "Epoch 35/150\n",
            "10/10 [==============================] - 0s 6ms/step - loss: 0.0703 - accuracy: 0.9836 - val_loss: 0.0330 - val_accuracy: 0.9875\n",
            "Epoch 36/150\n",
            "10/10 [==============================] - 0s 6ms/step - loss: 0.0875 - accuracy: 0.9777 - val_loss: 0.0318 - val_accuracy: 0.9875\n",
            "Epoch 37/150\n",
            "10/10 [==============================] - 0s 6ms/step - loss: 0.0705 - accuracy: 0.9768 - val_loss: 0.0307 - val_accuracy: 0.9875\n",
            "Epoch 38/150\n",
            "10/10 [==============================] - 0s 7ms/step - loss: 0.0714 - accuracy: 0.9781 - val_loss: 0.0295 - val_accuracy: 0.9875\n",
            "Epoch 39/150\n",
            "10/10 [==============================] - 0s 6ms/step - loss: 0.0549 - accuracy: 0.9897 - val_loss: 0.0280 - val_accuracy: 0.9875\n",
            "Epoch 40/150\n",
            "10/10 [==============================] - 0s 6ms/step - loss: 0.1039 - accuracy: 0.9846 - val_loss: 0.0275 - val_accuracy: 0.9875\n",
            "Epoch 41/150\n",
            "10/10 [==============================] - 0s 6ms/step - loss: 0.0633 - accuracy: 0.9843 - val_loss: 0.0264 - val_accuracy: 0.9875\n",
            "Epoch 42/150\n",
            "10/10 [==============================] - 0s 6ms/step - loss: 0.0527 - accuracy: 0.9760 - val_loss: 0.0254 - val_accuracy: 0.9875\n",
            "Epoch 43/150\n",
            "10/10 [==============================] - 0s 6ms/step - loss: 0.0686 - accuracy: 0.9791 - val_loss: 0.0244 - val_accuracy: 0.9875\n",
            "Epoch 44/150\n",
            "10/10 [==============================] - 0s 6ms/step - loss: 0.0659 - accuracy: 0.9849 - val_loss: 0.0236 - val_accuracy: 0.9875\n",
            "Epoch 45/150\n",
            "10/10 [==============================] - 0s 6ms/step - loss: 0.0692 - accuracy: 0.9838 - val_loss: 0.0228 - val_accuracy: 0.9875\n",
            "Epoch 46/150\n",
            "10/10 [==============================] - 0s 7ms/step - loss: 0.1004 - accuracy: 0.9744 - val_loss: 0.0224 - val_accuracy: 0.9875\n",
            "Epoch 47/150\n",
            "10/10 [==============================] - 0s 7ms/step - loss: 0.0643 - accuracy: 0.9739 - val_loss: 0.0218 - val_accuracy: 0.9875\n",
            "Epoch 48/150\n",
            "10/10 [==============================] - 0s 7ms/step - loss: 0.0762 - accuracy: 0.9771 - val_loss: 0.0208 - val_accuracy: 1.0000\n",
            "Epoch 49/150\n",
            "10/10 [==============================] - 0s 6ms/step - loss: 0.0599 - accuracy: 0.9753 - val_loss: 0.0202 - val_accuracy: 1.0000\n",
            "Epoch 50/150\n",
            "10/10 [==============================] - 0s 7ms/step - loss: 0.0548 - accuracy: 0.9897 - val_loss: 0.0197 - val_accuracy: 1.0000\n",
            "Epoch 51/150\n",
            "10/10 [==============================] - 0s 6ms/step - loss: 0.0496 - accuracy: 0.9892 - val_loss: 0.0194 - val_accuracy: 1.0000\n",
            "Epoch 52/150\n",
            "10/10 [==============================] - 0s 6ms/step - loss: 0.0384 - accuracy: 0.9901 - val_loss: 0.0191 - val_accuracy: 1.0000\n",
            "Epoch 53/150\n",
            "10/10 [==============================] - 0s 6ms/step - loss: 0.0667 - accuracy: 0.9737 - val_loss: 0.0192 - val_accuracy: 1.0000\n",
            "Epoch 54/150\n",
            "10/10 [==============================] - 0s 7ms/step - loss: 0.0513 - accuracy: 0.9806 - val_loss: 0.0192 - val_accuracy: 1.0000\n",
            "Epoch 55/150\n",
            "10/10 [==============================] - 0s 7ms/step - loss: 0.0481 - accuracy: 0.9790 - val_loss: 0.0186 - val_accuracy: 1.0000\n",
            "Epoch 56/150\n",
            "10/10 [==============================] - 0s 7ms/step - loss: 0.0479 - accuracy: 0.9870 - val_loss: 0.0179 - val_accuracy: 1.0000\n",
            "Epoch 57/150\n",
            "10/10 [==============================] - 0s 7ms/step - loss: 0.0626 - accuracy: 0.9887 - val_loss: 0.0177 - val_accuracy: 1.0000\n",
            "Epoch 58/150\n",
            "10/10 [==============================] - 0s 7ms/step - loss: 0.0419 - accuracy: 0.9878 - val_loss: 0.0174 - val_accuracy: 1.0000\n",
            "Epoch 59/150\n",
            "10/10 [==============================] - 0s 7ms/step - loss: 0.0436 - accuracy: 0.9911 - val_loss: 0.0169 - val_accuracy: 1.0000\n",
            "Epoch 60/150\n",
            "10/10 [==============================] - 0s 7ms/step - loss: 0.0479 - accuracy: 0.9903 - val_loss: 0.0166 - val_accuracy: 1.0000\n",
            "Epoch 61/150\n",
            "10/10 [==============================] - 0s 7ms/step - loss: 0.0578 - accuracy: 0.9827 - val_loss: 0.0165 - val_accuracy: 1.0000\n",
            "Epoch 62/150\n",
            "10/10 [==============================] - 0s 7ms/step - loss: 0.0509 - accuracy: 0.9826 - val_loss: 0.0162 - val_accuracy: 1.0000\n",
            "Epoch 63/150\n",
            "10/10 [==============================] - 0s 6ms/step - loss: 0.0387 - accuracy: 0.9933 - val_loss: 0.0158 - val_accuracy: 1.0000\n",
            "Epoch 64/150\n",
            "10/10 [==============================] - 0s 6ms/step - loss: 0.0482 - accuracy: 0.9934 - val_loss: 0.0160 - val_accuracy: 1.0000\n",
            "Epoch 65/150\n",
            "10/10 [==============================] - 0s 7ms/step - loss: 0.0340 - accuracy: 0.9938 - val_loss: 0.0155 - val_accuracy: 1.0000\n",
            "Epoch 66/150\n",
            "10/10 [==============================] - 0s 6ms/step - loss: 0.0586 - accuracy: 0.9782 - val_loss: 0.0160 - val_accuracy: 1.0000\n",
            "Epoch 67/150\n",
            "10/10 [==============================] - 0s 6ms/step - loss: 0.0204 - accuracy: 0.9948 - val_loss: 0.0157 - val_accuracy: 1.0000\n",
            "Epoch 68/150\n",
            "10/10 [==============================] - 0s 6ms/step - loss: 0.0667 - accuracy: 0.9795 - val_loss: 0.0160 - val_accuracy: 1.0000\n",
            "Epoch 69/150\n",
            "10/10 [==============================] - 0s 6ms/step - loss: 0.0501 - accuracy: 0.9899 - val_loss: 0.0159 - val_accuracy: 1.0000\n",
            "Epoch 70/150\n",
            "10/10 [==============================] - 0s 7ms/step - loss: 0.0739 - accuracy: 0.9800 - val_loss: 0.0155 - val_accuracy: 1.0000\n",
            "Epoch 71/150\n",
            "10/10 [==============================] - 0s 7ms/step - loss: 0.0271 - accuracy: 0.9951 - val_loss: 0.0152 - val_accuracy: 1.0000\n",
            "Epoch 72/150\n",
            "10/10 [==============================] - 0s 6ms/step - loss: 0.0299 - accuracy: 0.9935 - val_loss: 0.0152 - val_accuracy: 1.0000\n",
            "Epoch 73/150\n",
            "10/10 [==============================] - 0s 6ms/step - loss: 0.0598 - accuracy: 0.9893 - val_loss: 0.0150 - val_accuracy: 1.0000\n",
            "Epoch 74/150\n",
            "10/10 [==============================] - 0s 7ms/step - loss: 0.0303 - accuracy: 0.9966 - val_loss: 0.0147 - val_accuracy: 1.0000\n",
            "Epoch 75/150\n",
            "10/10 [==============================] - 0s 6ms/step - loss: 0.0222 - accuracy: 0.9961 - val_loss: 0.0143 - val_accuracy: 1.0000\n",
            "Epoch 76/150\n",
            "10/10 [==============================] - 0s 7ms/step - loss: 0.0283 - accuracy: 0.9962 - val_loss: 0.0144 - val_accuracy: 1.0000\n",
            "Epoch 77/150\n",
            "10/10 [==============================] - 0s 7ms/step - loss: 0.0326 - accuracy: 0.9900 - val_loss: 0.0143 - val_accuracy: 1.0000\n",
            "Epoch 78/150\n",
            "10/10 [==============================] - 0s 7ms/step - loss: 0.0413 - accuracy: 0.9873 - val_loss: 0.0148 - val_accuracy: 1.0000\n",
            "Epoch 79/150\n",
            "10/10 [==============================] - 0s 6ms/step - loss: 0.0369 - accuracy: 0.9950 - val_loss: 0.0147 - val_accuracy: 1.0000\n",
            "Epoch 80/150\n",
            "10/10 [==============================] - 0s 8ms/step - loss: 0.0351 - accuracy: 0.9921 - val_loss: 0.0148 - val_accuracy: 1.0000\n",
            "Epoch 81/150\n",
            "10/10 [==============================] - 0s 7ms/step - loss: 0.0372 - accuracy: 0.9924 - val_loss: 0.0146 - val_accuracy: 1.0000\n",
            "Epoch 82/150\n",
            "10/10 [==============================] - 0s 6ms/step - loss: 0.0462 - accuracy: 0.9914 - val_loss: 0.0150 - val_accuracy: 1.0000\n",
            "Epoch 83/150\n",
            "10/10 [==============================] - 0s 6ms/step - loss: 0.0300 - accuracy: 0.9975 - val_loss: 0.0146 - val_accuracy: 1.0000\n",
            "Epoch 84/150\n",
            "10/10 [==============================] - 0s 6ms/step - loss: 0.0286 - accuracy: 0.9934 - val_loss: 0.0143 - val_accuracy: 1.0000\n",
            "Epoch 85/150\n",
            "10/10 [==============================] - 0s 6ms/step - loss: 0.0572 - accuracy: 0.9842 - val_loss: 0.0145 - val_accuracy: 1.0000\n",
            "Epoch 86/150\n",
            "10/10 [==============================] - 0s 8ms/step - loss: 0.0494 - accuracy: 0.9865 - val_loss: 0.0144 - val_accuracy: 1.0000\n",
            "Epoch 87/150\n",
            "10/10 [==============================] - 0s 7ms/step - loss: 0.0265 - accuracy: 0.9855 - val_loss: 0.0143 - val_accuracy: 1.0000\n",
            "Epoch 88/150\n",
            "10/10 [==============================] - 0s 7ms/step - loss: 0.0193 - accuracy: 0.9959 - val_loss: 0.0143 - val_accuracy: 1.0000\n",
            "Epoch 89/150\n",
            "10/10 [==============================] - 0s 6ms/step - loss: 0.0283 - accuracy: 0.9957 - val_loss: 0.0148 - val_accuracy: 1.0000\n",
            "Epoch 90/150\n",
            "10/10 [==============================] - 0s 6ms/step - loss: 0.0260 - accuracy: 0.9963 - val_loss: 0.0141 - val_accuracy: 1.0000\n",
            "Epoch 91/150\n",
            "10/10 [==============================] - 0s 6ms/step - loss: 0.0300 - accuracy: 0.9869 - val_loss: 0.0145 - val_accuracy: 1.0000\n",
            "Epoch 92/150\n",
            "10/10 [==============================] - 0s 6ms/step - loss: 0.0296 - accuracy: 0.9923 - val_loss: 0.0145 - val_accuracy: 1.0000\n",
            "Epoch 93/150\n",
            "10/10 [==============================] - 0s 6ms/step - loss: 0.0319 - accuracy: 0.9871 - val_loss: 0.0143 - val_accuracy: 1.0000\n",
            "Epoch 94/150\n",
            "10/10 [==============================] - 0s 7ms/step - loss: 0.0538 - accuracy: 0.9736 - val_loss: 0.0146 - val_accuracy: 1.0000\n",
            "Epoch 95/150\n",
            "10/10 [==============================] - 0s 7ms/step - loss: 0.0318 - accuracy: 0.9948 - val_loss: 0.0156 - val_accuracy: 1.0000\n",
            "Epoch 96/150\n",
            "10/10 [==============================] - 0s 8ms/step - loss: 0.0297 - accuracy: 0.9921 - val_loss: 0.0165 - val_accuracy: 1.0000\n",
            "Epoch 97/150\n",
            "10/10 [==============================] - 0s 6ms/step - loss: 0.0406 - accuracy: 0.9819 - val_loss: 0.0172 - val_accuracy: 1.0000\n",
            "Epoch 98/150\n",
            "10/10 [==============================] - 0s 7ms/step - loss: 0.0340 - accuracy: 0.9901 - val_loss: 0.0175 - val_accuracy: 1.0000\n",
            "Epoch 99/150\n",
            "10/10 [==============================] - 0s 7ms/step - loss: 0.0418 - accuracy: 0.9871 - val_loss: 0.0174 - val_accuracy: 1.0000\n",
            "Epoch 100/150\n",
            "10/10 [==============================] - 0s 6ms/step - loss: 0.0372 - accuracy: 0.9942 - val_loss: 0.0167 - val_accuracy: 1.0000\n",
            "Epoch 101/150\n",
            "10/10 [==============================] - 0s 6ms/step - loss: 0.0238 - accuracy: 0.9932 - val_loss: 0.0167 - val_accuracy: 1.0000\n",
            "Epoch 102/150\n",
            "10/10 [==============================] - 0s 8ms/step - loss: 0.0350 - accuracy: 0.9942 - val_loss: 0.0161 - val_accuracy: 1.0000\n",
            "Epoch 103/150\n",
            "10/10 [==============================] - 0s 6ms/step - loss: 0.0326 - accuracy: 0.9882 - val_loss: 0.0151 - val_accuracy: 1.0000\n",
            "Epoch 104/150\n",
            "10/10 [==============================] - 0s 7ms/step - loss: 0.0214 - accuracy: 0.9940 - val_loss: 0.0147 - val_accuracy: 1.0000\n",
            "Epoch 105/150\n",
            "10/10 [==============================] - 0s 6ms/step - loss: 0.0166 - accuracy: 0.9960 - val_loss: 0.0148 - val_accuracy: 1.0000\n",
            "Epoch 106/150\n",
            "10/10 [==============================] - 0s 6ms/step - loss: 0.0357 - accuracy: 0.9899 - val_loss: 0.0152 - val_accuracy: 1.0000\n",
            "Epoch 107/150\n",
            "10/10 [==============================] - 0s 7ms/step - loss: 0.0308 - accuracy: 0.9908 - val_loss: 0.0162 - val_accuracy: 1.0000\n",
            "Epoch 108/150\n",
            "10/10 [==============================] - 0s 6ms/step - loss: 0.0330 - accuracy: 0.9894 - val_loss: 0.0160 - val_accuracy: 1.0000\n",
            "Epoch 109/150\n",
            "10/10 [==============================] - 0s 7ms/step - loss: 0.0189 - accuracy: 0.9967 - val_loss: 0.0166 - val_accuracy: 1.0000\n",
            "Epoch 110/150\n",
            "10/10 [==============================] - 0s 6ms/step - loss: 0.0310 - accuracy: 0.9901 - val_loss: 0.0163 - val_accuracy: 1.0000\n",
            "Epoch 111/150\n",
            "10/10 [==============================] - 0s 7ms/step - loss: 0.0255 - accuracy: 0.9834 - val_loss: 0.0151 - val_accuracy: 1.0000\n",
            "Epoch 112/150\n",
            "10/10 [==============================] - 0s 6ms/step - loss: 0.0589 - accuracy: 0.9792 - val_loss: 0.0160 - val_accuracy: 1.0000\n",
            "Epoch 113/150\n",
            "10/10 [==============================] - 0s 6ms/step - loss: 0.0262 - accuracy: 0.9893 - val_loss: 0.0157 - val_accuracy: 1.0000\n",
            "Epoch 114/150\n",
            "10/10 [==============================] - 0s 7ms/step - loss: 0.0216 - accuracy: 0.9942 - val_loss: 0.0146 - val_accuracy: 1.0000\n",
            "Epoch 115/150\n",
            "10/10 [==============================] - 0s 6ms/step - loss: 0.0195 - accuracy: 0.9921 - val_loss: 0.0144 - val_accuracy: 1.0000\n",
            "Epoch 116/150\n",
            "10/10 [==============================] - 0s 7ms/step - loss: 0.0253 - accuracy: 0.9950 - val_loss: 0.0145 - val_accuracy: 1.0000\n",
            "Epoch 117/150\n",
            "10/10 [==============================] - 0s 7ms/step - loss: 0.0299 - accuracy: 0.9878 - val_loss: 0.0159 - val_accuracy: 1.0000\n",
            "Epoch 118/150\n",
            "10/10 [==============================] - 0s 7ms/step - loss: 0.0128 - accuracy: 0.9942 - val_loss: 0.0161 - val_accuracy: 1.0000\n",
            "Epoch 119/150\n",
            "10/10 [==============================] - 0s 7ms/step - loss: 0.0143 - accuracy: 0.9979 - val_loss: 0.0159 - val_accuracy: 1.0000\n",
            "Epoch 120/150\n",
            "10/10 [==============================] - 0s 6ms/step - loss: 0.0138 - accuracy: 0.9966 - val_loss: 0.0158 - val_accuracy: 1.0000\n",
            "Epoch 121/150\n",
            "10/10 [==============================] - 0s 6ms/step - loss: 0.0243 - accuracy: 0.9914 - val_loss: 0.0163 - val_accuracy: 1.0000\n",
            "Epoch 122/150\n",
            "10/10 [==============================] - 0s 6ms/step - loss: 0.0210 - accuracy: 0.9944 - val_loss: 0.0163 - val_accuracy: 1.0000\n",
            "Epoch 123/150\n",
            "10/10 [==============================] - 0s 6ms/step - loss: 0.0233 - accuracy: 0.9878 - val_loss: 0.0159 - val_accuracy: 1.0000\n",
            "Epoch 124/150\n",
            "10/10 [==============================] - 0s 7ms/step - loss: 0.0141 - accuracy: 0.9960 - val_loss: 0.0152 - val_accuracy: 1.0000\n",
            "Epoch 125/150\n",
            "10/10 [==============================] - 0s 8ms/step - loss: 0.0132 - accuracy: 0.9971 - val_loss: 0.0148 - val_accuracy: 1.0000\n",
            "Epoch 126/150\n",
            "10/10 [==============================] - 0s 7ms/step - loss: 0.0167 - accuracy: 0.9973 - val_loss: 0.0142 - val_accuracy: 1.0000\n",
            "Epoch 127/150\n",
            "10/10 [==============================] - 0s 7ms/step - loss: 0.0085 - accuracy: 1.0000 - val_loss: 0.0134 - val_accuracy: 1.0000\n",
            "Epoch 128/150\n",
            "10/10 [==============================] - 0s 6ms/step - loss: 0.0146 - accuracy: 0.9967 - val_loss: 0.0133 - val_accuracy: 1.0000\n",
            "Epoch 129/150\n",
            "10/10 [==============================] - 0s 6ms/step - loss: 0.0103 - accuracy: 0.9991 - val_loss: 0.0134 - val_accuracy: 1.0000\n",
            "Epoch 130/150\n",
            "10/10 [==============================] - 0s 7ms/step - loss: 0.0075 - accuracy: 0.9991 - val_loss: 0.0134 - val_accuracy: 1.0000\n",
            "Epoch 131/150\n",
            "10/10 [==============================] - 0s 7ms/step - loss: 0.0225 - accuracy: 0.9957 - val_loss: 0.0138 - val_accuracy: 1.0000\n",
            "Epoch 132/150\n",
            "10/10 [==============================] - 0s 7ms/step - loss: 0.0083 - accuracy: 1.0000 - val_loss: 0.0137 - val_accuracy: 1.0000\n",
            "Epoch 133/150\n",
            "10/10 [==============================] - 0s 7ms/step - loss: 0.0118 - accuracy: 0.9957 - val_loss: 0.0135 - val_accuracy: 1.0000\n",
            "Epoch 134/150\n",
            "10/10 [==============================] - 0s 6ms/step - loss: 0.0150 - accuracy: 0.9944 - val_loss: 0.0139 - val_accuracy: 1.0000\n",
            "Epoch 135/150\n",
            "10/10 [==============================] - 0s 6ms/step - loss: 0.0149 - accuracy: 0.9910 - val_loss: 0.0149 - val_accuracy: 1.0000\n",
            "Epoch 136/150\n",
            "10/10 [==============================] - 0s 6ms/step - loss: 0.0204 - accuracy: 0.9966 - val_loss: 0.0154 - val_accuracy: 1.0000\n",
            "Epoch 137/150\n",
            "10/10 [==============================] - 0s 6ms/step - loss: 0.0186 - accuracy: 0.9944 - val_loss: 0.0143 - val_accuracy: 1.0000\n",
            "Epoch 138/150\n",
            "10/10 [==============================] - 0s 7ms/step - loss: 0.0149 - accuracy: 0.9966 - val_loss: 0.0133 - val_accuracy: 1.0000\n",
            "Epoch 139/150\n",
            "10/10 [==============================] - 0s 6ms/step - loss: 0.0208 - accuracy: 0.9869 - val_loss: 0.0138 - val_accuracy: 1.0000\n",
            "Epoch 140/150\n",
            "10/10 [==============================] - 0s 6ms/step - loss: 0.0262 - accuracy: 0.9856 - val_loss: 0.0145 - val_accuracy: 1.0000\n",
            "Epoch 141/150\n",
            "10/10 [==============================] - 0s 6ms/step - loss: 0.0200 - accuracy: 0.9941 - val_loss: 0.0149 - val_accuracy: 1.0000\n",
            "Epoch 142/150\n",
            "10/10 [==============================] - 0s 7ms/step - loss: 0.0195 - accuracy: 0.9908 - val_loss: 0.0173 - val_accuracy: 1.0000\n",
            "Epoch 143/150\n",
            "10/10 [==============================] - 0s 7ms/step - loss: 0.0106 - accuracy: 0.9957 - val_loss: 0.0175 - val_accuracy: 1.0000\n",
            "Epoch 144/150\n",
            "10/10 [==============================] - 0s 7ms/step - loss: 0.0159 - accuracy: 0.9957 - val_loss: 0.0176 - val_accuracy: 1.0000\n",
            "Epoch 145/150\n",
            "10/10 [==============================] - 0s 7ms/step - loss: 0.0131 - accuracy: 1.0000 - val_loss: 0.0173 - val_accuracy: 1.0000\n",
            "Epoch 146/150\n",
            "10/10 [==============================] - 0s 6ms/step - loss: 0.0058 - accuracy: 1.0000 - val_loss: 0.0178 - val_accuracy: 1.0000\n",
            "Epoch 147/150\n",
            "10/10 [==============================] - 0s 7ms/step - loss: 0.0191 - accuracy: 0.9979 - val_loss: 0.0187 - val_accuracy: 0.9875\n",
            "Epoch 148/150\n",
            "10/10 [==============================] - 0s 7ms/step - loss: 0.0274 - accuracy: 0.9811 - val_loss: 0.0216 - val_accuracy: 0.9875\n",
            "Epoch 149/150\n",
            "10/10 [==============================] - 0s 6ms/step - loss: 0.0109 - accuracy: 0.9958 - val_loss: 0.0202 - val_accuracy: 0.9875\n",
            "Epoch 150/150\n",
            "10/10 [==============================] - 0s 6ms/step - loss: 0.0168 - accuracy: 0.9936 - val_loss: 0.0182 - val_accuracy: 0.9875\n"
          ],
          "name": "stdout"
        }
      ]
    },
    {
      "cell_type": "markdown",
      "metadata": {
        "id": "beSSmmZQQrVk"
      },
      "source": [
        "* **7. Evaluación**"
      ]
    },
    {
      "cell_type": "code",
      "metadata": {
        "colab": {
          "base_uri": "https://localhost:8080/"
        },
        "id": "iWwSoH2cQ4Q6",
        "outputId": "bb2a39cb-98a0-4598-8174-3cd19f0d88dd"
      },
      "source": [
        "model.evaluate(X_test, y_test)"
      ],
      "execution_count": null,
      "outputs": [
        {
          "output_type": "stream",
          "text": [
            "6/6 [==============================] - 0s 2ms/step - loss: 0.1913 - accuracy: 0.9474\n"
          ],
          "name": "stdout"
        },
        {
          "output_type": "execute_result",
          "data": {
            "text/plain": [
              "[0.19131344556808472, 0.9473684430122375]"
            ]
          },
          "metadata": {
            "tags": []
          },
          "execution_count": 16
        }
      ]
    },
    {
      "cell_type": "markdown",
      "metadata": {
        "id": "L_djaDW0ToRw"
      },
      "source": [
        "* **8. Guardamos el modelo entrenado y evaluado**"
      ]
    },
    {
      "cell_type": "code",
      "metadata": {
        "id": "cuIHR0gXR1wV"
      },
      "source": [
        "model.save('./Breast_Cancer.h5') #guardamos el modelo entrenado y evaluado"
      ],
      "execution_count": null,
      "outputs": []
    },
    {
      "cell_type": "code",
      "metadata": {
        "id": "wt9lwxGtScZL"
      },
      "source": [
        "#para cargamos nuestro modelo entrenado y evaluado\n",
        "from tensorflow.keras.models import load_model\n",
        "\n",
        "model = load_model('/content/Breast_Cancer.h5')"
      ],
      "execution_count": null,
      "outputs": []
    },
    {
      "cell_type": "markdown",
      "metadata": {
        "id": "fyLnmQMjfPJi"
      },
      "source": [
        "* **9. Predicciones**\n",
        "\n",
        "Dado que la función de activación es sigmoid, las predicciones > 0.5 serán de la clase 1 y las predicciones <= 0.5 serán de la clase 0\n",
        "\n",
        "<image src=https://upload.wikimedia.org/wikipedia/commons/thumb/8/88/Logistic-curve.svg/480px-Logistic-curve.svg.png >"
      ]
    },
    {
      "cell_type": "code",
      "metadata": {
        "colab": {
          "base_uri": "https://localhost:8080/"
        },
        "id": "wc7d-y3Ferzt",
        "outputId": "ab61bfca-782b-4ebc-f72c-076bbb537258"
      },
      "source": [
        "# Predicting the Test set results\n",
        "y_pred = model.predict(X_test)\n",
        "\n",
        "y_pred[y_pred > 0.5] = 1\n",
        "y_pred[y_pred <=0.5] = 0\n",
        "\n",
        "print(f'predichos \\nmalignant: {list(y_pred).count(0)} \\nbenign:{list(y_pred).count(1)}')"
      ],
      "execution_count": null,
      "outputs": [
        {
          "output_type": "stream",
          "text": [
            "predichos \n",
            "malignant: 65 \n",
            "benign:106\n"
          ],
          "name": "stdout"
        }
      ]
    },
    {
      "cell_type": "markdown",
      "metadata": {
        "id": "ggCF990sf_7P"
      },
      "source": [
        "* **10. Evaluación del modelo**"
      ]
    },
    {
      "cell_type": "code",
      "metadata": {
        "colab": {
          "base_uri": "https://localhost:8080/",
          "height": 282
        },
        "id": "VlMngVm7fdGd",
        "outputId": "d549242f-8d19-4918-9922-0f9bbedcaec4"
      },
      "source": [
        "from sklearn.metrics import confusion_matrix\n",
        "\n",
        "cm = confusion_matrix(y_test, y_pred)\n",
        "print(f\"Nuestra precisión es {((cm[0][0] + cm[1][1])/y_test.shape[0])*100}\")\n",
        "\n",
        "sns.heatmap(cm,annot=True)\n",
        "plt.savefig('h.png')"
      ],
      "execution_count": null,
      "outputs": [
        {
          "output_type": "stream",
          "text": [
            "Nuestra precisión es 95.90643274853801\n"
          ],
          "name": "stdout"
        },
        {
          "output_type": "display_data",
          "data": {
            "image/png": "[encoded data removed]",
            "text/plain": [
              "<Figure size 432x288 with 2 Axes>"
            ]
          },
          "metadata": {
            "tags": [],
            "needs_background": "light"
          }
        }
      ]
    },
    {
      "cell_type": "code",
      "metadata": {
        "colab": {
          "base_uri": "https://localhost:8080/",
          "height": 142
        },
        "id": "UNCcT4kZfe8G",
        "outputId": "88857947-57cf-4f5f-89fd-75be9ecaad3e"
      },
      "source": [
        "class_names = data.target_names\n",
        "list_confusion_matrix(cm, class_names)"
      ],
      "execution_count": null,
      "outputs": [
        {
          "output_type": "execute_result",
          "data": {
            "text/html": [
              "<div>\n",
              "<style scoped>\n",
              "    .dataframe tbody tr th:only-of-type {\n",
              "        vertical-align: middle;\n",
              "    }\n",
              "\n",
              "    .dataframe tbody tr th {\n",
              "        vertical-align: top;\n",
              "    }\n",
              "\n",
              "    .dataframe thead tr th {\n",
              "        text-align: left;\n",
              "    }\n",
              "</style>\n",
              "<table border=\"1\" class=\"dataframe\">\n",
              "  <thead>\n",
              "    <tr>\n",
              "      <th></th>\n",
              "      <th></th>\n",
              "      <th colspan=\"2\" halign=\"left\">Valor predicho</th>\n",
              "    </tr>\n",
              "    <tr>\n",
              "      <th></th>\n",
              "      <th></th>\n",
              "      <th>malignant</th>\n",
              "      <th>benign</th>\n",
              "    </tr>\n",
              "  </thead>\n",
              "  <tbody>\n",
              "    <tr>\n",
              "      <th rowspan=\"2\" valign=\"top\">Valor real</th>\n",
              "      <th>malignant</th>\n",
              "      <td>61</td>\n",
              "      <td>3</td>\n",
              "    </tr>\n",
              "    <tr>\n",
              "      <th>benign</th>\n",
              "      <td>4</td>\n",
              "      <td>103</td>\n",
              "    </tr>\n",
              "  </tbody>\n",
              "</table>\n",
              "</div>"
            ],
            "text/plain": [
              "                     Valor predicho       \n",
              "                          malignant benign\n",
              "Valor real malignant             61      3\n",
              "           benign                 4    103"
            ]
          },
          "metadata": {
            "tags": []
          },
          "execution_count": 20
        }
      ]
    },
    {
      "cell_type": "code",
      "metadata": {
        "colab": {
          "base_uri": "https://localhost:8080/",
          "height": 295
        },
        "id": "Hl7LPCWMsrAV",
        "outputId": "3a76ce34-6b6a-4f5e-f937-8f73d17b83de"
      },
      "source": [
        "plot_metric(history, 'loss')"
      ],
      "execution_count": null,
      "outputs": [
        {
          "output_type": "display_data",
          "data": {
            "image/png": "[encoded data removed]",
            "text/plain": [
              "<Figure size 432x288 with 1 Axes>"
            ]
          },
          "metadata": {
            "tags": [],
            "needs_background": "light"
          }
        }
      ]
    },
    {
      "cell_type": "code",
      "metadata": {
        "colab": {
          "base_uri": "https://localhost:8080/",
          "height": 295
        },
        "id": "rfag4hqruPm8",
        "outputId": "cf4e9b3d-0afb-4c22-d698-8975916c4917"
      },
      "source": [
        "plot_metric(history, 'accuracy')"
      ],
      "execution_count": null,
      "outputs": [
        {
          "output_type": "display_data",
          "data": {
            "image/png": "[encoded data removed]",
            "text/plain": [
              "<Figure size 432x288 with 1 Axes>"
            ]
          },
          "metadata": {
            "tags": [],
            "needs_background": "light"
          }
        }
      ]
    },
    {
      "cell_type": "markdown",
      "metadata": {
        "id": "VpKQLAYiyTyI"
      },
      "source": [
        "## I. Red neuronal de regresión\n",
        "### Boston Housing\n",
        "---\n"
      ]
    },
    {
      "cell_type": "markdown",
      "metadata": {
        "id": "xq97XNCYy_lp"
      },
      "source": [
        "* 1. Cargamos los datos y las etiquetas objetivo"
      ]
    },
    {
      "cell_type": "code",
      "metadata": {
        "colab": {
          "base_uri": "https://localhost:8080/"
        },
        "id": "AleXyqx3zPEB",
        "outputId": "b3c6dabe-9535-4775-e085-42460bca2000"
      },
      "source": [
        "from sklearn.datasets import load_boston\n",
        "\n",
        "data = load_boston()\n",
        "X = data.data\n",
        "y = data.target\n",
        "\n",
        "print(f'Datos(filas, columnas){X.shape} y tipo: {type(X)}\\nEtiquetas(número): {y.shape} y tipo: {type(y)}')"
      ],
      "execution_count": null,
      "outputs": [
        {
          "output_type": "stream",
          "text": [
            "Datos(filas, columnas)(506, 13) y tipo: <class 'numpy.ndarray'>\n",
            "Etiquetas(número): (506,) y tipo: <class 'numpy.ndarray'>\n"
          ],
          "name": "stdout"
        }
      ]
    },
    {
      "cell_type": "markdown",
      "metadata": {
        "id": "lJrkIBFB07t2"
      },
      "source": [
        "* 1.1 Exploramos los features"
      ]
    },
    {
      "cell_type": "code",
      "metadata": {
        "colab": {
          "base_uri": "https://localhost:8080/",
          "height": 309
        },
        "id": "-LhmHoyB07t7",
        "outputId": "77ca5b43-eea3-46ae-d36f-28810fc6be87"
      },
      "source": [
        "print(f'{data.feature_names}') #como numpy array\n",
        "print(f'{X[0, :]} \\ncantidad de features: {len(X[0, :])}') #primer fila\n",
        "\n",
        "df_X = pd.DataFrame(dict(zip(data.feature_names, X))) #como DataFrame\n",
        "df_X[:5] #primeras 5 filas"
      ],
      "execution_count": null,
      "outputs": [
        {
          "output_type": "stream",
          "text": [
            "['CRIM' 'ZN' 'INDUS' 'CHAS' 'NOX' 'RM' 'AGE' 'DIS' 'RAD' 'TAX' 'PTRATIO'\n",
            " 'B' 'LSTAT']\n",
            "[6.320e-03 1.800e+01 2.310e+00 0.000e+00 5.380e-01 6.575e+00 6.520e+01\n",
            " 4.090e+00 1.000e+00 2.960e+02 1.530e+01 3.969e+02 4.980e+00] \n",
            "cantidad de features: 13\n"
          ],
          "name": "stdout"
        },
        {
          "output_type": "execute_result",
          "data": {
            "text/html": [
              "<div>\n",
              "<style scoped>\n",
              "    .dataframe tbody tr th:only-of-type {\n",
              "        vertical-align: middle;\n",
              "    }\n",
              "\n",
              "    .dataframe tbody tr th {\n",
              "        vertical-align: top;\n",
              "    }\n",
              "\n",
              "    .dataframe thead th {\n",
              "        text-align: right;\n",
              "    }\n",
              "</style>\n",
              "<table border=\"1\" class=\"dataframe\">\n",
              "  <thead>\n",
              "    <tr style=\"text-align: right;\">\n",
              "      <th></th>\n",
              "      <th>CRIM</th>\n",
              "      <th>ZN</th>\n",
              "      <th>INDUS</th>\n",
              "      <th>CHAS</th>\n",
              "      <th>NOX</th>\n",
              "      <th>RM</th>\n",
              "      <th>AGE</th>\n",
              "      <th>DIS</th>\n",
              "      <th>RAD</th>\n",
              "      <th>TAX</th>\n",
              "      <th>PTRATIO</th>\n",
              "      <th>B</th>\n",
              "      <th>LSTAT</th>\n",
              "    </tr>\n",
              "  </thead>\n",
              "  <tbody>\n",
              "    <tr>\n",
              "      <th>0</th>\n",
              "      <td>0.00632</td>\n",
              "      <td>0.02731</td>\n",
              "      <td>0.02729</td>\n",
              "      <td>0.03237</td>\n",
              "      <td>0.06905</td>\n",
              "      <td>0.02985</td>\n",
              "      <td>0.08829</td>\n",
              "      <td>0.14455</td>\n",
              "      <td>0.21124</td>\n",
              "      <td>0.17004</td>\n",
              "      <td>0.22489</td>\n",
              "      <td>0.11747</td>\n",
              "      <td>0.09378</td>\n",
              "    </tr>\n",
              "    <tr>\n",
              "      <th>1</th>\n",
              "      <td>18.00000</td>\n",
              "      <td>0.00000</td>\n",
              "      <td>0.00000</td>\n",
              "      <td>0.00000</td>\n",
              "      <td>0.00000</td>\n",
              "      <td>0.00000</td>\n",
              "      <td>12.50000</td>\n",
              "      <td>12.50000</td>\n",
              "      <td>12.50000</td>\n",
              "      <td>12.50000</td>\n",
              "      <td>12.50000</td>\n",
              "      <td>12.50000</td>\n",
              "      <td>12.50000</td>\n",
              "    </tr>\n",
              "    <tr>\n",
              "      <th>2</th>\n",
              "      <td>2.31000</td>\n",
              "      <td>7.07000</td>\n",
              "      <td>7.07000</td>\n",
              "      <td>2.18000</td>\n",
              "      <td>2.18000</td>\n",
              "      <td>2.18000</td>\n",
              "      <td>7.87000</td>\n",
              "      <td>7.87000</td>\n",
              "      <td>7.87000</td>\n",
              "      <td>7.87000</td>\n",
              "      <td>7.87000</td>\n",
              "      <td>7.87000</td>\n",
              "      <td>7.87000</td>\n",
              "    </tr>\n",
              "    <tr>\n",
              "      <th>3</th>\n",
              "      <td>0.00000</td>\n",
              "      <td>0.00000</td>\n",
              "      <td>0.00000</td>\n",
              "      <td>0.00000</td>\n",
              "      <td>0.00000</td>\n",
              "      <td>0.00000</td>\n",
              "      <td>0.00000</td>\n",
              "      <td>0.00000</td>\n",
              "      <td>0.00000</td>\n",
              "      <td>0.00000</td>\n",
              "      <td>0.00000</td>\n",
              "      <td>0.00000</td>\n",
              "      <td>0.00000</td>\n",
              "    </tr>\n",
              "    <tr>\n",
              "      <th>4</th>\n",
              "      <td>0.53800</td>\n",
              "      <td>0.46900</td>\n",
              "      <td>0.46900</td>\n",
              "      <td>0.45800</td>\n",
              "      <td>0.45800</td>\n",
              "      <td>0.45800</td>\n",
              "      <td>0.52400</td>\n",
              "      <td>0.52400</td>\n",
              "      <td>0.52400</td>\n",
              "      <td>0.52400</td>\n",
              "      <td>0.52400</td>\n",
              "      <td>0.52400</td>\n",
              "      <td>0.52400</td>\n",
              "    </tr>\n",
              "  </tbody>\n",
              "</table>\n",
              "</div>"
            ],
            "text/plain": [
              "       CRIM       ZN    INDUS     CHAS  ...       TAX   PTRATIO         B     LSTAT\n",
              "0   0.00632  0.02731  0.02729  0.03237  ...   0.17004   0.22489   0.11747   0.09378\n",
              "1  18.00000  0.00000  0.00000  0.00000  ...  12.50000  12.50000  12.50000  12.50000\n",
              "2   2.31000  7.07000  7.07000  2.18000  ...   7.87000   7.87000   7.87000   7.87000\n",
              "3   0.00000  0.00000  0.00000  0.00000  ...   0.00000   0.00000   0.00000   0.00000\n",
              "4   0.53800  0.46900  0.46900  0.45800  ...   0.52400   0.52400   0.52400   0.52400\n",
              "\n",
              "[5 rows x 13 columns]"
            ]
          },
          "metadata": {
            "tags": []
          },
          "execution_count": 22
        }
      ]
    },
    {
      "cell_type": "markdown",
      "metadata": {
        "id": "cG_jW8sQ1Z0M"
      },
      "source": [
        "* 1.2 Exploramos  los target"
      ]
    },
    {
      "cell_type": "code",
      "metadata": {
        "colab": {
          "base_uri": "https://localhost:8080/",
          "height": 331
        },
        "id": "pA1w3-vR3vkE",
        "outputId": "596f02ae-4979-476a-cad9-b94103fbf1e4"
      },
      "source": [
        "print(data.keys())\n",
        "#usando data.DESCR encontramos que la variable a predecir es MEDV\n",
        "print(\"MEDV: Median value of owner-occupied homes in $1000's\")\n",
        "pd.DataFrame({'MEDV': y}).describe()"
      ],
      "execution_count": null,
      "outputs": [
        {
          "output_type": "stream",
          "text": [
            "dict_keys(['data', 'target', 'feature_names', 'DESCR', 'filename'])\n",
            "MEDV: Median value of owner-occupied homes in $1000's\n"
          ],
          "name": "stdout"
        },
        {
          "output_type": "execute_result",
          "data": {
            "text/html": [
              "<div>\n",
              "<style scoped>\n",
              "    .dataframe tbody tr th:only-of-type {\n",
              "        vertical-align: middle;\n",
              "    }\n",
              "\n",
              "    .dataframe tbody tr th {\n",
              "        vertical-align: top;\n",
              "    }\n",
              "\n",
              "    .dataframe thead th {\n",
              "        text-align: right;\n",
              "    }\n",
              "</style>\n",
              "<table border=\"1\" class=\"dataframe\">\n",
              "  <thead>\n",
              "    <tr style=\"text-align: right;\">\n",
              "      <th></th>\n",
              "      <th>MEDV</th>\n",
              "    </tr>\n",
              "  </thead>\n",
              "  <tbody>\n",
              "    <tr>\n",
              "      <th>count</th>\n",
              "      <td>506.000000</td>\n",
              "    </tr>\n",
              "    <tr>\n",
              "      <th>mean</th>\n",
              "      <td>22.532806</td>\n",
              "    </tr>\n",
              "    <tr>\n",
              "      <th>std</th>\n",
              "      <td>9.197104</td>\n",
              "    </tr>\n",
              "    <tr>\n",
              "      <th>min</th>\n",
              "      <td>5.000000</td>\n",
              "    </tr>\n",
              "    <tr>\n",
              "      <th>25%</th>\n",
              "      <td>17.025000</td>\n",
              "    </tr>\n",
              "    <tr>\n",
              "      <th>50%</th>\n",
              "      <td>21.200000</td>\n",
              "    </tr>\n",
              "    <tr>\n",
              "      <th>75%</th>\n",
              "      <td>25.000000</td>\n",
              "    </tr>\n",
              "    <tr>\n",
              "      <th>max</th>\n",
              "      <td>50.000000</td>\n",
              "    </tr>\n",
              "  </tbody>\n",
              "</table>\n",
              "</div>"
            ],
            "text/plain": [
              "             MEDV\n",
              "count  506.000000\n",
              "mean    22.532806\n",
              "std      9.197104\n",
              "min      5.000000\n",
              "25%     17.025000\n",
              "50%     21.200000\n",
              "75%     25.000000\n",
              "max     50.000000"
            ]
          },
          "metadata": {
            "tags": []
          },
          "execution_count": 23
        }
      ]
    },
    {
      "cell_type": "markdown",
      "metadata": {
        "id": "gTFUQoSM_HqX"
      },
      "source": [
        "* **2. dividimos los datos en test y train**"
      ]
    },
    {
      "cell_type": "code",
      "metadata": {
        "id": "-6B2QCq4_Hqa"
      },
      "source": [
        "from sklearn.model_selection import train_test_split\n",
        "\n",
        "X_train, X_test, y_train, y_test = train_test_split(X, y, test_size = 0.3, random_state = 0)"
      ],
      "execution_count": null,
      "outputs": []
    },
    {
      "cell_type": "code",
      "metadata": {
        "colab": {
          "base_uri": "https://localhost:8080/"
        },
        "id": "zXbNSjgA_Hqc",
        "outputId": "41bcc1c6-b5bd-4784-e23c-de8606869970"
      },
      "source": [
        "print(f'X test: {X_test.shape} & X train: {X_train.shape}')\n",
        "print(f'y test: {y_test.shape} & y train: {y_train.shape}')"
      ],
      "execution_count": null,
      "outputs": [
        {
          "output_type": "stream",
          "text": [
            "X test: (152, 13) & X train: (354, 13)\n",
            "y test: (152,) & y train: (354,)\n"
          ],
          "name": "stdout"
        }
      ]
    },
    {
      "cell_type": "markdown",
      "metadata": {
        "id": "3guOAw4s_f8p"
      },
      "source": [
        "* **3. Normalizamos los datos**"
      ]
    },
    {
      "cell_type": "code",
      "metadata": {
        "id": "daYukOI7_f9A"
      },
      "source": [
        "from sklearn.preprocessing import StandardScaler\n",
        "\n",
        "normalizar = StandardScaler()\n",
        "X_train = normalizar.fit_transform(X_train)\n",
        "X_test = normalizar.transform(X_test) #por que este y no transform"
      ],
      "execution_count": null,
      "outputs": []
    },
    {
      "cell_type": "markdown",
      "metadata": {
        "id": "ecEg_HrDAwyE"
      },
      "source": [
        "* **4. Definimos la arquitectura**"
      ]
    },
    {
      "cell_type": "code",
      "metadata": {
        "id": "pOiomzVcAwyb"
      },
      "source": [
        "from tensorflow.keras.models import Sequential\n",
        "from tensorflow.keras import layers \n",
        "\n",
        "model = Sequential()\n",
        "\n",
        "## add(): Adiciona capas una por una\n",
        "# layers.Dense(): Coloca una capa densa\n",
        "model.add(layers.Dense(units=128, activation='relu', input_shape=(13,), name='dense_1')) #capa de entrada 128 neuronas\n",
        ",\n",
        "#layers.dropout(): esto previene el overfitting (Regularización)\n",
        "model.add(layers.Dropout(0.1)) # 10% de las neuronas son descativadas en cada epoca\n",
        "model.add(layers.Dense(units=64, activation='relu', name='dense_2')) #capa oculta 64 neuronas\n",
        "\n",
        "model.add(layers.Dropout(0.1))\n",
        "model.add(layers.Dense(units=1, activation='linear', name='dense_3')) #capa de salida 1 neurona"
      ],
      "execution_count": null,
      "outputs": []
    },
    {
      "cell_type": "markdown",
      "metadata": {
        "id": "VwdAtpGGA6j3"
      },
      "source": [
        "* **5. Compilamos el modelo**"
      ]
    },
    {
      "cell_type": "code",
      "metadata": {
        "colab": {
          "base_uri": "https://localhost:8080/",
          "height": 1000
        },
        "id": "sG2o8SFFA6j4",
        "outputId": "40e17ae0-de2c-4fca-f75d-7dc18368365f"
      },
      "source": [
        "from tensorflow.keras import utils\n",
        "\n",
        "print(f'1er capa entrada: {128*13+128} parámetros \\n2da capa oculta: {64*128+64} parámetros \\n3er capa salida: {64+1} parámetros \\n')\n",
        "#1er capa 128 neuronas * 13 columnas X_train + 128 bias o intercerptos\n",
        "#2da capa 64 neuronas * 128 neuronas 1er capa + 64 bias o intercerptos\n",
        "#3er capa 16 neuronas 2da capa + 1 neurona 3er capa\n",
        "\n",
        "#model.compile(optimizer='adam', loss='binary_crossentropy', metrics=['mae'])\n",
        "model.compile(optimizer='adam', loss='mse', metrics=['mae'])\n",
        "\n",
        "model.summary()\n",
        "utils.plot_model(model, show_shapes=True)\n"
      ],
      "execution_count": null,
      "outputs": [
        {
          "output_type": "stream",
          "text": [
            "1er capa entrada: 1792 parámetros \n",
            "2da capa oculta: 8256 parámetros \n",
            "3er capa salida: 65 parámetros \n",
            "\n",
            "Model: \"sequential_1\"\n",
            "_________________________________________________________________\n",
            "Layer (type)                 Output Shape              Param #   \n",
            "=================================================================\n",
            "dense_1 (Dense)              (None, 128)               1792      \n",
            "_________________________________________________________________\n",
            "dropout_2 (Dropout)          (None, 128)               0         \n",
            "_________________________________________________________________\n",
            "dense_2 (Dense)              (None, 64)                8256      \n",
            "_________________________________________________________________\n",
            "dropout_3 (Dropout)          (None, 64)                0         \n",
            "_________________________________________________________________\n",
            "dense_3 (Dense)              (None, 1)                 65        \n",
            "=================================================================\n",
            "Total params: 10,113\n",
            "Trainable params: 10,113\n",
            "Non-trainable params: 0\n",
            "_________________________________________________________________\n"
          ],
          "name": "stdout"
        },
        {
          "output_type": "execute_result",
          "data": {
            "image/png": "[encoded data removed]",
            "text/plain": [
              "<IPython.core.display.Image object>"
            ]
          },
          "metadata": {
            "tags": []
          },
          "execution_count": 28
        }
      ]
    },
    {
      "cell_type": "markdown",
      "metadata": {
        "id": "IrQIW1jNA6kG"
      },
      "source": [
        "* **6. Entrenamiento**"
      ]
    },
    {
      "cell_type": "code",
      "metadata": {
        "colab": {
          "base_uri": "https://localhost:8080/"
        },
        "id": "JmddPE58A6kH",
        "outputId": "343c1eb7-ecc7-4a68-dea3-482161452f6f"
      },
      "source": [
        "history = model.fit(X_train, y_train, batch_size=32, epochs=150, validation_split = 0.2)\n",
        "#X_train = 354\n",
        "#354/32 = 11 es decir se divide 354 en 32 paquetes  \n",
        "#pero los dos ultimos batch son pequeños entonces los deja como uno\n",
        "#quedadndo asi 9 paquetes"
      ],
      "execution_count": null,
      "outputs": [
        {
          "output_type": "stream",
          "text": [
            "Epoch 1/150\n",
            "9/9 [==============================] - 1s 29ms/step - loss: 613.4389 - mae: 22.7303 - val_loss: 540.9305 - val_mae: 21.3219\n",
            "Epoch 2/150\n",
            "9/9 [==============================] - 0s 8ms/step - loss: 543.7374 - mae: 21.4997 - val_loss: 493.4472 - val_mae: 20.2086\n",
            "Epoch 3/150\n",
            "9/9 [==============================] - 0s 7ms/step - loss: 514.8923 - mae: 20.7221 - val_loss: 440.7760 - val_mae: 18.9426\n",
            "Epoch 4/150\n",
            "9/9 [==============================] - 0s 7ms/step - loss: 439.1001 - mae: 18.5837 - val_loss: 376.2068 - val_mae: 17.3181\n",
            "Epoch 5/150\n",
            "9/9 [==============================] - 0s 7ms/step - loss: 397.5660 - mae: 17.7306 - val_loss: 296.2558 - val_mae: 15.2060\n",
            "Epoch 6/150\n",
            "9/9 [==============================] - 0s 8ms/step - loss: 328.0023 - mae: 15.6769 - val_loss: 208.4138 - val_mae: 12.5935\n",
            "Epoch 7/150\n",
            "9/9 [==============================] - 0s 7ms/step - loss: 210.0004 - mae: 12.5165 - val_loss: 126.1766 - val_mae: 9.5317\n",
            "Epoch 8/150\n",
            "9/9 [==============================] - 0s 8ms/step - loss: 127.3649 - mae: 9.3265 - val_loss: 68.5030 - val_mae: 6.5970\n",
            "Epoch 9/150\n",
            "9/9 [==============================] - 0s 8ms/step - loss: 81.3260 - mae: 7.1975 - val_loss: 45.5349 - val_mae: 5.3286\n",
            "Epoch 10/150\n",
            "9/9 [==============================] - 0s 7ms/step - loss: 61.7807 - mae: 6.1376 - val_loss: 39.2535 - val_mae: 4.7871\n",
            "Epoch 11/150\n",
            "9/9 [==============================] - 0s 7ms/step - loss: 42.4987 - mae: 5.1545 - val_loss: 32.1644 - val_mae: 4.2414\n",
            "Epoch 12/150\n",
            "9/9 [==============================] - 0s 7ms/step - loss: 29.8941 - mae: 4.2988 - val_loss: 25.9510 - val_mae: 3.7106\n",
            "Epoch 13/150\n",
            "9/9 [==============================] - 0s 8ms/step - loss: 31.1474 - mae: 4.1812 - val_loss: 23.2577 - val_mae: 3.4667\n",
            "Epoch 14/150\n",
            "9/9 [==============================] - 0s 8ms/step - loss: 27.7369 - mae: 3.9315 - val_loss: 22.1951 - val_mae: 3.3744\n",
            "Epoch 15/150\n",
            "9/9 [==============================] - 0s 8ms/step - loss: 25.2428 - mae: 3.7155 - val_loss: 21.6771 - val_mae: 3.3442\n",
            "Epoch 16/150\n",
            "9/9 [==============================] - 0s 8ms/step - loss: 25.3649 - mae: 3.5492 - val_loss: 21.3312 - val_mae: 3.3402\n",
            "Epoch 17/150\n",
            "9/9 [==============================] - 0s 8ms/step - loss: 22.5543 - mae: 3.5304 - val_loss: 20.9536 - val_mae: 3.3119\n",
            "Epoch 18/150\n",
            "9/9 [==============================] - 0s 7ms/step - loss: 22.5077 - mae: 3.4935 - val_loss: 20.5881 - val_mae: 3.2913\n",
            "Epoch 19/150\n",
            "9/9 [==============================] - 0s 8ms/step - loss: 18.6028 - mae: 3.1788 - val_loss: 20.2893 - val_mae: 3.2624\n",
            "Epoch 20/150\n",
            "9/9 [==============================] - 0s 8ms/step - loss: 20.4715 - mae: 3.3447 - val_loss: 19.7809 - val_mae: 3.2314\n",
            "Epoch 21/150\n",
            "9/9 [==============================] - 0s 8ms/step - loss: 20.1586 - mae: 3.3787 - val_loss: 19.3972 - val_mae: 3.1989\n",
            "Epoch 22/150\n",
            "9/9 [==============================] - 0s 8ms/step - loss: 18.3041 - mae: 3.1887 - val_loss: 18.9947 - val_mae: 3.1272\n",
            "Epoch 23/150\n",
            "9/9 [==============================] - 0s 7ms/step - loss: 16.2135 - mae: 3.0853 - val_loss: 18.4841 - val_mae: 3.0750\n",
            "Epoch 24/150\n",
            "9/9 [==============================] - 0s 8ms/step - loss: 16.1221 - mae: 3.0057 - val_loss: 18.0648 - val_mae: 3.0486\n",
            "Epoch 25/150\n",
            "9/9 [==============================] - 0s 7ms/step - loss: 19.9327 - mae: 3.0730 - val_loss: 17.6592 - val_mae: 3.0071\n",
            "Epoch 26/150\n",
            "9/9 [==============================] - 0s 8ms/step - loss: 15.6209 - mae: 2.9133 - val_loss: 17.4633 - val_mae: 2.9814\n",
            "Epoch 27/150\n",
            "9/9 [==============================] - 0s 8ms/step - loss: 14.6668 - mae: 2.8525 - val_loss: 17.1998 - val_mae: 2.9521\n",
            "Epoch 28/150\n",
            "9/9 [==============================] - 0s 7ms/step - loss: 15.4147 - mae: 3.0607 - val_loss: 17.0545 - val_mae: 2.9490\n",
            "Epoch 29/150\n",
            "9/9 [==============================] - 0s 7ms/step - loss: 12.9802 - mae: 2.8160 - val_loss: 16.6207 - val_mae: 2.8949\n",
            "Epoch 30/150\n",
            "9/9 [==============================] - 0s 8ms/step - loss: 18.1871 - mae: 3.1394 - val_loss: 16.2681 - val_mae: 2.8614\n",
            "Epoch 31/150\n",
            "9/9 [==============================] - 0s 7ms/step - loss: 14.5305 - mae: 2.8637 - val_loss: 16.1226 - val_mae: 2.8411\n",
            "Epoch 32/150\n",
            "9/9 [==============================] - 0s 6ms/step - loss: 14.3857 - mae: 2.8905 - val_loss: 15.5666 - val_mae: 2.7841\n",
            "Epoch 33/150\n",
            "9/9 [==============================] - 0s 7ms/step - loss: 13.5749 - mae: 2.7398 - val_loss: 15.0060 - val_mae: 2.7323\n",
            "Epoch 34/150\n",
            "9/9 [==============================] - 0s 7ms/step - loss: 14.9580 - mae: 2.9029 - val_loss: 14.6730 - val_mae: 2.7007\n",
            "Epoch 35/150\n",
            "9/9 [==============================] - 0s 7ms/step - loss: 14.2204 - mae: 2.7580 - val_loss: 14.1942 - val_mae: 2.6566\n",
            "Epoch 36/150\n",
            "9/9 [==============================] - 0s 7ms/step - loss: 14.1812 - mae: 2.7624 - val_loss: 13.9908 - val_mae: 2.6461\n",
            "Epoch 37/150\n",
            "9/9 [==============================] - 0s 8ms/step - loss: 15.4149 - mae: 2.7965 - val_loss: 14.0891 - val_mae: 2.6575\n",
            "Epoch 38/150\n",
            "9/9 [==============================] - 0s 7ms/step - loss: 12.8163 - mae: 2.6875 - val_loss: 14.1874 - val_mae: 2.6623\n",
            "Epoch 39/150\n",
            "9/9 [==============================] - 0s 8ms/step - loss: 13.3526 - mae: 2.7111 - val_loss: 14.4217 - val_mae: 2.6630\n",
            "Epoch 40/150\n",
            "9/9 [==============================] - 0s 8ms/step - loss: 11.5287 - mae: 2.6072 - val_loss: 14.2809 - val_mae: 2.6388\n",
            "Epoch 41/150\n",
            "9/9 [==============================] - 0s 7ms/step - loss: 14.4930 - mae: 2.7900 - val_loss: 14.1626 - val_mae: 2.6298\n",
            "Epoch 42/150\n",
            "9/9 [==============================] - 0s 8ms/step - loss: 12.9148 - mae: 2.6320 - val_loss: 13.9901 - val_mae: 2.6262\n",
            "Epoch 43/150\n",
            "9/9 [==============================] - 0s 7ms/step - loss: 11.0351 - mae: 2.5236 - val_loss: 13.7767 - val_mae: 2.6034\n",
            "Epoch 44/150\n",
            "9/9 [==============================] - 0s 7ms/step - loss: 14.3144 - mae: 2.7835 - val_loss: 13.5543 - val_mae: 2.5944\n",
            "Epoch 45/150\n",
            "9/9 [==============================] - 0s 7ms/step - loss: 14.8527 - mae: 2.8509 - val_loss: 13.1919 - val_mae: 2.5628\n",
            "Epoch 46/150\n",
            "9/9 [==============================] - 0s 7ms/step - loss: 16.6100 - mae: 2.8477 - val_loss: 13.2775 - val_mae: 2.5614\n",
            "Epoch 47/150\n",
            "9/9 [==============================] - 0s 7ms/step - loss: 15.3050 - mae: 2.7458 - val_loss: 13.4914 - val_mae: 2.5843\n",
            "Epoch 48/150\n",
            "9/9 [==============================] - 0s 9ms/step - loss: 16.2105 - mae: 2.8361 - val_loss: 14.0773 - val_mae: 2.6642\n",
            "Epoch 49/150\n",
            "9/9 [==============================] - 0s 7ms/step - loss: 16.3849 - mae: 2.9882 - val_loss: 13.7607 - val_mae: 2.6355\n",
            "Epoch 50/150\n",
            "9/9 [==============================] - 0s 7ms/step - loss: 13.2808 - mae: 2.6824 - val_loss: 13.5286 - val_mae: 2.5815\n",
            "Epoch 51/150\n",
            "9/9 [==============================] - 0s 8ms/step - loss: 13.9359 - mae: 2.8279 - val_loss: 13.1308 - val_mae: 2.5268\n",
            "Epoch 52/150\n",
            "9/9 [==============================] - 0s 8ms/step - loss: 10.9556 - mae: 2.5174 - val_loss: 12.9840 - val_mae: 2.5227\n",
            "Epoch 53/150\n",
            "9/9 [==============================] - 0s 7ms/step - loss: 13.0028 - mae: 2.5311 - val_loss: 12.4275 - val_mae: 2.4631\n",
            "Epoch 54/150\n",
            "9/9 [==============================] - 0s 8ms/step - loss: 13.6022 - mae: 2.7137 - val_loss: 12.4607 - val_mae: 2.4720\n",
            "Epoch 55/150\n",
            "9/9 [==============================] - 0s 9ms/step - loss: 13.1509 - mae: 2.6964 - val_loss: 13.1870 - val_mae: 2.5808\n",
            "Epoch 56/150\n",
            "9/9 [==============================] - 0s 7ms/step - loss: 14.3997 - mae: 2.7863 - val_loss: 12.5792 - val_mae: 2.5079\n",
            "Epoch 57/150\n",
            "9/9 [==============================] - 0s 7ms/step - loss: 11.0497 - mae: 2.5767 - val_loss: 12.2945 - val_mae: 2.4507\n",
            "Epoch 58/150\n",
            "9/9 [==============================] - 0s 7ms/step - loss: 11.1381 - mae: 2.5315 - val_loss: 12.1719 - val_mae: 2.4508\n",
            "Epoch 59/150\n",
            "9/9 [==============================] - 0s 8ms/step - loss: 12.2825 - mae: 2.6517 - val_loss: 12.1834 - val_mae: 2.4742\n",
            "Epoch 60/150\n",
            "9/9 [==============================] - 0s 8ms/step - loss: 11.7991 - mae: 2.6558 - val_loss: 11.9107 - val_mae: 2.4433\n",
            "Epoch 61/150\n",
            "9/9 [==============================] - 0s 7ms/step - loss: 10.6160 - mae: 2.5427 - val_loss: 11.6114 - val_mae: 2.3936\n",
            "Epoch 62/150\n",
            "9/9 [==============================] - 0s 7ms/step - loss: 10.7500 - mae: 2.2978 - val_loss: 12.1378 - val_mae: 2.5000\n",
            "Epoch 63/150\n",
            "9/9 [==============================] - 0s 7ms/step - loss: 10.7178 - mae: 2.3525 - val_loss: 11.6236 - val_mae: 2.4414\n",
            "Epoch 64/150\n",
            "9/9 [==============================] - 0s 9ms/step - loss: 12.5777 - mae: 2.7342 - val_loss: 11.1503 - val_mae: 2.3707\n",
            "Epoch 65/150\n",
            "9/9 [==============================] - 0s 8ms/step - loss: 13.0496 - mae: 2.5761 - val_loss: 11.5305 - val_mae: 2.4169\n",
            "Epoch 66/150\n",
            "9/9 [==============================] - 0s 8ms/step - loss: 11.4376 - mae: 2.4914 - val_loss: 11.6091 - val_mae: 2.4169\n",
            "Epoch 67/150\n",
            "9/9 [==============================] - 0s 7ms/step - loss: 12.2200 - mae: 2.7209 - val_loss: 11.4207 - val_mae: 2.4249\n",
            "Epoch 68/150\n",
            "9/9 [==============================] - 0s 8ms/step - loss: 12.3659 - mae: 2.6096 - val_loss: 11.3714 - val_mae: 2.4381\n",
            "Epoch 69/150\n",
            "9/9 [==============================] - 0s 8ms/step - loss: 11.6950 - mae: 2.5653 - val_loss: 11.1192 - val_mae: 2.3776\n",
            "Epoch 70/150\n",
            "9/9 [==============================] - 0s 8ms/step - loss: 10.7173 - mae: 2.5170 - val_loss: 11.3547 - val_mae: 2.4084\n",
            "Epoch 71/150\n",
            "9/9 [==============================] - 0s 8ms/step - loss: 10.7998 - mae: 2.5428 - val_loss: 11.0270 - val_mae: 2.3463\n",
            "Epoch 72/150\n",
            "9/9 [==============================] - 0s 7ms/step - loss: 13.1711 - mae: 2.6436 - val_loss: 11.2109 - val_mae: 2.3715\n",
            "Epoch 73/150\n",
            "9/9 [==============================] - 0s 8ms/step - loss: 10.0504 - mae: 2.4351 - val_loss: 11.0735 - val_mae: 2.3560\n",
            "Epoch 74/150\n",
            "9/9 [==============================] - 0s 7ms/step - loss: 13.5579 - mae: 2.6275 - val_loss: 11.2791 - val_mae: 2.3873\n",
            "Epoch 75/150\n",
            "9/9 [==============================] - 0s 8ms/step - loss: 10.9663 - mae: 2.5005 - val_loss: 10.8948 - val_mae: 2.3376\n",
            "Epoch 76/150\n",
            "9/9 [==============================] - 0s 8ms/step - loss: 11.4378 - mae: 2.5237 - val_loss: 10.6588 - val_mae: 2.3295\n",
            "Epoch 77/150\n",
            "9/9 [==============================] - 0s 7ms/step - loss: 12.6168 - mae: 2.5070 - val_loss: 11.4742 - val_mae: 2.4497\n",
            "Epoch 78/150\n",
            "9/9 [==============================] - 0s 8ms/step - loss: 10.1252 - mae: 2.4757 - val_loss: 10.8937 - val_mae: 2.3544\n",
            "Epoch 79/150\n",
            "9/9 [==============================] - 0s 9ms/step - loss: 10.5977 - mae: 2.4586 - val_loss: 10.6669 - val_mae: 2.3123\n",
            "Epoch 80/150\n",
            "9/9 [==============================] - 0s 7ms/step - loss: 12.0308 - mae: 2.6480 - val_loss: 10.5851 - val_mae: 2.3182\n",
            "Epoch 81/150\n",
            "9/9 [==============================] - 0s 8ms/step - loss: 9.6591 - mae: 2.3041 - val_loss: 10.7563 - val_mae: 2.3581\n",
            "Epoch 82/150\n",
            "9/9 [==============================] - 0s 8ms/step - loss: 11.5778 - mae: 2.3152 - val_loss: 10.6899 - val_mae: 2.3596\n",
            "Epoch 83/150\n",
            "9/9 [==============================] - 0s 8ms/step - loss: 12.3325 - mae: 2.6243 - val_loss: 10.5922 - val_mae: 2.3153\n",
            "Epoch 84/150\n",
            "9/9 [==============================] - 0s 8ms/step - loss: 10.2468 - mae: 2.3262 - val_loss: 11.2179 - val_mae: 2.3887\n",
            "Epoch 85/150\n",
            "9/9 [==============================] - 0s 7ms/step - loss: 10.7313 - mae: 2.4846 - val_loss: 10.7805 - val_mae: 2.3274\n",
            "Epoch 86/150\n",
            "9/9 [==============================] - 0s 7ms/step - loss: 12.1754 - mae: 2.6037 - val_loss: 10.1635 - val_mae: 2.2451\n",
            "Epoch 87/150\n",
            "9/9 [==============================] - 0s 7ms/step - loss: 9.3157 - mae: 2.2709 - val_loss: 10.1159 - val_mae: 2.2680\n",
            "Epoch 88/150\n",
            "9/9 [==============================] - 0s 7ms/step - loss: 11.2355 - mae: 2.4784 - val_loss: 10.3608 - val_mae: 2.3055\n",
            "Epoch 89/150\n",
            "9/9 [==============================] - 0s 8ms/step - loss: 10.4663 - mae: 2.4266 - val_loss: 9.8273 - val_mae: 2.2330\n",
            "Epoch 90/150\n",
            "9/9 [==============================] - 0s 7ms/step - loss: 10.3244 - mae: 2.4866 - val_loss: 10.3827 - val_mae: 2.3279\n",
            "Epoch 91/150\n",
            "9/9 [==============================] - 0s 8ms/step - loss: 10.4987 - mae: 2.4700 - val_loss: 10.0522 - val_mae: 2.2648\n",
            "Epoch 92/150\n",
            "9/9 [==============================] - 0s 7ms/step - loss: 10.3659 - mae: 2.4398 - val_loss: 9.8446 - val_mae: 2.2682\n",
            "Epoch 93/150\n",
            "9/9 [==============================] - 0s 7ms/step - loss: 10.4080 - mae: 2.3697 - val_loss: 10.1608 - val_mae: 2.3164\n",
            "Epoch 94/150\n",
            "9/9 [==============================] - 0s 8ms/step - loss: 10.0035 - mae: 2.3716 - val_loss: 10.1087 - val_mae: 2.2979\n",
            "Epoch 95/150\n",
            "9/9 [==============================] - 0s 8ms/step - loss: 10.5545 - mae: 2.4534 - val_loss: 10.2844 - val_mae: 2.3499\n",
            "Epoch 96/150\n",
            "9/9 [==============================] - 0s 7ms/step - loss: 9.6868 - mae: 2.3382 - val_loss: 10.0972 - val_mae: 2.3427\n",
            "Epoch 97/150\n",
            "9/9 [==============================] - 0s 7ms/step - loss: 11.6341 - mae: 2.6313 - val_loss: 9.6251 - val_mae: 2.2605\n",
            "Epoch 98/150\n",
            "9/9 [==============================] - 0s 9ms/step - loss: 9.7888 - mae: 2.3800 - val_loss: 10.3554 - val_mae: 2.3182\n",
            "Epoch 99/150\n",
            "9/9 [==============================] - 0s 8ms/step - loss: 10.2025 - mae: 2.4123 - val_loss: 10.3012 - val_mae: 2.3337\n",
            "Epoch 100/150\n",
            "9/9 [==============================] - 0s 7ms/step - loss: 11.7470 - mae: 2.5281 - val_loss: 9.8018 - val_mae: 2.2709\n",
            "Epoch 101/150\n",
            "9/9 [==============================] - 0s 8ms/step - loss: 8.3344 - mae: 2.2072 - val_loss: 9.5045 - val_mae: 2.2583\n",
            "Epoch 102/150\n",
            "9/9 [==============================] - 0s 8ms/step - loss: 9.8086 - mae: 2.3901 - val_loss: 10.5974 - val_mae: 2.3912\n",
            "Epoch 103/150\n",
            "9/9 [==============================] - 0s 8ms/step - loss: 12.5160 - mae: 2.6921 - val_loss: 10.5452 - val_mae: 2.3454\n",
            "Epoch 104/150\n",
            "9/9 [==============================] - 0s 9ms/step - loss: 8.9510 - mae: 2.2390 - val_loss: 10.1211 - val_mae: 2.3255\n",
            "Epoch 105/150\n",
            "9/9 [==============================] - 0s 8ms/step - loss: 9.5351 - mae: 2.2646 - val_loss: 9.9041 - val_mae: 2.2998\n",
            "Epoch 106/150\n",
            "9/9 [==============================] - 0s 8ms/step - loss: 7.6400 - mae: 2.1215 - val_loss: 9.9768 - val_mae: 2.3155\n",
            "Epoch 107/150\n",
            "9/9 [==============================] - 0s 8ms/step - loss: 10.0883 - mae: 2.4384 - val_loss: 9.3097 - val_mae: 2.2328\n",
            "Epoch 108/150\n",
            "9/9 [==============================] - 0s 9ms/step - loss: 10.0731 - mae: 2.3773 - val_loss: 9.2302 - val_mae: 2.2212\n",
            "Epoch 109/150\n",
            "9/9 [==============================] - 0s 8ms/step - loss: 11.2839 - mae: 2.4962 - val_loss: 10.1068 - val_mae: 2.3398\n",
            "Epoch 110/150\n",
            "9/9 [==============================] - 0s 9ms/step - loss: 9.3996 - mae: 2.3551 - val_loss: 9.6361 - val_mae: 2.2698\n",
            "Epoch 111/150\n",
            "9/9 [==============================] - 0s 9ms/step - loss: 9.1813 - mae: 2.2800 - val_loss: 9.5067 - val_mae: 2.2613\n",
            "Epoch 112/150\n",
            "9/9 [==============================] - 0s 8ms/step - loss: 8.1374 - mae: 2.1659 - val_loss: 9.2648 - val_mae: 2.2381\n",
            "Epoch 113/150\n",
            "9/9 [==============================] - 0s 8ms/step - loss: 10.2907 - mae: 2.2718 - val_loss: 8.9317 - val_mae: 2.2385\n",
            "Epoch 114/150\n",
            "9/9 [==============================] - 0s 8ms/step - loss: 7.8628 - mae: 2.0280 - val_loss: 9.8829 - val_mae: 2.3759\n",
            "Epoch 115/150\n",
            "9/9 [==============================] - 0s 9ms/step - loss: 8.4935 - mae: 2.4207 - val_loss: 9.2250 - val_mae: 2.2380\n",
            "Epoch 116/150\n",
            "9/9 [==============================] - 0s 9ms/step - loss: 10.2403 - mae: 2.2712 - val_loss: 8.8118 - val_mae: 2.1879\n",
            "Epoch 117/150\n",
            "9/9 [==============================] - 0s 8ms/step - loss: 8.9726 - mae: 2.2492 - val_loss: 8.9337 - val_mae: 2.2482\n",
            "Epoch 118/150\n",
            "9/9 [==============================] - 0s 8ms/step - loss: 9.4262 - mae: 2.4261 - val_loss: 8.9290 - val_mae: 2.2316\n",
            "Epoch 119/150\n",
            "9/9 [==============================] - 0s 8ms/step - loss: 8.1747 - mae: 2.1848 - val_loss: 9.0770 - val_mae: 2.2491\n",
            "Epoch 120/150\n",
            "9/9 [==============================] - 0s 8ms/step - loss: 9.2329 - mae: 2.3010 - val_loss: 8.8280 - val_mae: 2.2176\n",
            "Epoch 121/150\n",
            "9/9 [==============================] - 0s 8ms/step - loss: 11.3421 - mae: 2.4325 - val_loss: 8.3752 - val_mae: 2.1526\n",
            "Epoch 122/150\n",
            "9/9 [==============================] - 0s 7ms/step - loss: 9.9841 - mae: 2.3893 - val_loss: 8.5519 - val_mae: 2.1678\n",
            "Epoch 123/150\n",
            "9/9 [==============================] - 0s 7ms/step - loss: 8.8435 - mae: 2.2418 - val_loss: 8.5513 - val_mae: 2.1702\n",
            "Epoch 124/150\n",
            "9/9 [==============================] - 0s 7ms/step - loss: 7.5779 - mae: 2.0953 - val_loss: 8.9295 - val_mae: 2.2107\n",
            "Epoch 125/150\n",
            "9/9 [==============================] - 0s 7ms/step - loss: 10.2561 - mae: 2.4858 - val_loss: 9.1329 - val_mae: 2.2359\n",
            "Epoch 126/150\n",
            "9/9 [==============================] - 0s 7ms/step - loss: 9.2045 - mae: 2.3843 - val_loss: 8.6753 - val_mae: 2.1749\n",
            "Epoch 127/150\n",
            "9/9 [==============================] - 0s 7ms/step - loss: 8.7504 - mae: 2.2228 - val_loss: 8.4889 - val_mae: 2.1460\n",
            "Epoch 128/150\n",
            "9/9 [==============================] - 0s 8ms/step - loss: 8.1221 - mae: 2.0908 - val_loss: 8.4996 - val_mae: 2.1655\n",
            "Epoch 129/150\n",
            "9/9 [==============================] - 0s 7ms/step - loss: 9.1964 - mae: 2.3053 - val_loss: 8.4756 - val_mae: 2.1672\n",
            "Epoch 130/150\n",
            "9/9 [==============================] - 0s 7ms/step - loss: 7.7104 - mae: 2.1612 - val_loss: 8.3572 - val_mae: 2.1785\n",
            "Epoch 131/150\n",
            "9/9 [==============================] - 0s 7ms/step - loss: 8.4209 - mae: 2.1623 - val_loss: 8.7568 - val_mae: 2.2048\n",
            "Epoch 132/150\n",
            "9/9 [==============================] - 0s 7ms/step - loss: 9.2172 - mae: 2.3205 - val_loss: 8.8994 - val_mae: 2.1900\n",
            "Epoch 133/150\n",
            "9/9 [==============================] - 0s 7ms/step - loss: 9.8536 - mae: 2.4416 - val_loss: 9.6214 - val_mae: 2.3086\n",
            "Epoch 134/150\n",
            "9/9 [==============================] - 0s 8ms/step - loss: 8.8829 - mae: 2.2632 - val_loss: 8.6267 - val_mae: 2.1560\n",
            "Epoch 135/150\n",
            "9/9 [==============================] - 0s 8ms/step - loss: 9.2915 - mae: 2.2711 - val_loss: 8.7542 - val_mae: 2.1655\n",
            "Epoch 136/150\n",
            "9/9 [==============================] - 0s 7ms/step - loss: 7.1273 - mae: 2.0325 - val_loss: 9.3198 - val_mae: 2.2166\n",
            "Epoch 137/150\n",
            "9/9 [==============================] - 0s 7ms/step - loss: 8.6473 - mae: 2.2632 - val_loss: 9.1278 - val_mae: 2.2243\n",
            "Epoch 138/150\n",
            "9/9 [==============================] - 0s 7ms/step - loss: 7.1823 - mae: 2.0571 - val_loss: 8.2850 - val_mae: 2.1357\n",
            "Epoch 139/150\n",
            "9/9 [==============================] - 0s 7ms/step - loss: 7.9817 - mae: 2.1716 - val_loss: 7.9161 - val_mae: 2.1017\n",
            "Epoch 140/150\n",
            "9/9 [==============================] - 0s 8ms/step - loss: 9.7920 - mae: 2.3690 - val_loss: 8.2294 - val_mae: 2.1331\n",
            "Epoch 141/150\n",
            "9/9 [==============================] - 0s 8ms/step - loss: 9.3351 - mae: 2.1918 - val_loss: 8.4686 - val_mae: 2.2064\n",
            "Epoch 142/150\n",
            "9/9 [==============================] - 0s 7ms/step - loss: 7.1530 - mae: 2.0827 - val_loss: 7.9531 - val_mae: 2.1070\n",
            "Epoch 143/150\n",
            "9/9 [==============================] - 0s 8ms/step - loss: 7.5769 - mae: 2.0548 - val_loss: 9.0586 - val_mae: 2.2395\n",
            "Epoch 144/150\n",
            "9/9 [==============================] - 0s 8ms/step - loss: 9.3827 - mae: 2.3518 - val_loss: 8.6857 - val_mae: 2.1488\n",
            "Epoch 145/150\n",
            "9/9 [==============================] - 0s 7ms/step - loss: 8.7453 - mae: 2.2818 - val_loss: 8.4362 - val_mae: 2.1198\n",
            "Epoch 146/150\n",
            "9/9 [==============================] - 0s 8ms/step - loss: 7.7175 - mae: 2.1660 - val_loss: 8.7770 - val_mae: 2.1886\n",
            "Epoch 147/150\n",
            "9/9 [==============================] - 0s 8ms/step - loss: 10.4331 - mae: 2.3998 - val_loss: 8.8677 - val_mae: 2.1828\n",
            "Epoch 148/150\n",
            "9/9 [==============================] - 0s 7ms/step - loss: 8.7483 - mae: 2.3798 - val_loss: 8.6491 - val_mae: 2.1649\n",
            "Epoch 149/150\n",
            "9/9 [==============================] - 0s 7ms/step - loss: 8.3172 - mae: 2.1622 - val_loss: 7.8947 - val_mae: 2.0845\n",
            "Epoch 150/150\n",
            "9/9 [==============================] - 0s 7ms/step - loss: 7.0568 - mae: 2.0600 - val_loss: 7.8876 - val_mae: 2.0987\n"
          ],
          "name": "stdout"
        }
      ]
    },
    {
      "cell_type": "markdown",
      "metadata": {
        "id": "z3qq2onKUMm1"
      },
      "source": [
        "* **7. Evaluación**"
      ]
    },
    {
      "cell_type": "code",
      "metadata": {
        "colab": {
          "base_uri": "https://localhost:8080/"
        },
        "id": "6e6QP0WVUMm5",
        "outputId": "1a3a47b7-71f2-4638-f6c2-2194eaaca38d"
      },
      "source": [
        "model.evaluate(X_test, y_test)"
      ],
      "execution_count": null,
      "outputs": [
        {
          "output_type": "stream",
          "text": [
            "5/5 [==============================] - 0s 2ms/step - loss: 17.2641 - mae: 2.9338\n"
          ],
          "name": "stdout"
        },
        {
          "output_type": "execute_result",
          "data": {
            "text/plain": [
              "[17.264137268066406, 2.933847665786743]"
            ]
          },
          "metadata": {
            "tags": []
          },
          "execution_count": 34
        }
      ]
    },
    {
      "cell_type": "markdown",
      "metadata": {
        "id": "5KbjN5JqUuv1"
      },
      "source": [
        "* **8. Guardamos el modelo entrenado y evaluado**"
      ]
    },
    {
      "cell_type": "code",
      "metadata": {
        "id": "0PAlrJujUuv3"
      },
      "source": [
        "model.save('./Boston_Housing.h5') #guardamos el modelo entrenado y evaluado"
      ],
      "execution_count": null,
      "outputs": []
    },
    {
      "cell_type": "code",
      "metadata": {
        "id": "WmLuUwj6Uuv4"
      },
      "source": [
        "#para cargamos nuestro modelo entrenado y evaluado\n",
        "from tensorflow.keras.models import load_model\n",
        "\n",
        "model = load_model('/content/Boston_Housing.h5')"
      ],
      "execution_count": null,
      "outputs": []
    },
    {
      "cell_type": "markdown",
      "metadata": {
        "id": "5H5mPCGnR7Zk"
      },
      "source": [
        "* **9. Predicciones**\n",
        "\n"
      ]
    },
    {
      "cell_type": "code",
      "metadata": {
        "colab": {
          "base_uri": "https://localhost:8080/",
          "height": 204
        },
        "id": "Y96p5KoJSMbL",
        "outputId": "6e75e104-cff5-42b5-a664-40311e078308"
      },
      "source": [
        "hist = pd.DataFrame(history.history)\n",
        "hist['epoch'] = history.epoch\n",
        "hist.tail()"
      ],
      "execution_count": null,
      "outputs": [
        {
          "output_type": "execute_result",
          "data": {
            "text/html": [
              "<div>\n",
              "<style scoped>\n",
              "    .dataframe tbody tr th:only-of-type {\n",
              "        vertical-align: middle;\n",
              "    }\n",
              "\n",
              "    .dataframe tbody tr th {\n",
              "        vertical-align: top;\n",
              "    }\n",
              "\n",
              "    .dataframe thead th {\n",
              "        text-align: right;\n",
              "    }\n",
              "</style>\n",
              "<table border=\"1\" class=\"dataframe\">\n",
              "  <thead>\n",
              "    <tr style=\"text-align: right;\">\n",
              "      <th></th>\n",
              "      <th>loss</th>\n",
              "      <th>mae</th>\n",
              "      <th>val_loss</th>\n",
              "      <th>val_mae</th>\n",
              "      <th>epoch</th>\n",
              "    </tr>\n",
              "  </thead>\n",
              "  <tbody>\n",
              "    <tr>\n",
              "      <th>145</th>\n",
              "      <td>7.505076</td>\n",
              "      <td>2.081522</td>\n",
              "      <td>8.776972</td>\n",
              "      <td>2.188648</td>\n",
              "      <td>145</td>\n",
              "    </tr>\n",
              "    <tr>\n",
              "      <th>146</th>\n",
              "      <td>8.992286</td>\n",
              "      <td>2.212087</td>\n",
              "      <td>8.867738</td>\n",
              "      <td>2.182807</td>\n",
              "      <td>146</td>\n",
              "    </tr>\n",
              "    <tr>\n",
              "      <th>147</th>\n",
              "      <td>8.624917</td>\n",
              "      <td>2.259599</td>\n",
              "      <td>8.649142</td>\n",
              "      <td>2.164888</td>\n",
              "      <td>147</td>\n",
              "    </tr>\n",
              "    <tr>\n",
              "      <th>148</th>\n",
              "      <td>9.626659</td>\n",
              "      <td>2.337097</td>\n",
              "      <td>7.894725</td>\n",
              "      <td>2.084470</td>\n",
              "      <td>148</td>\n",
              "    </tr>\n",
              "    <tr>\n",
              "      <th>149</th>\n",
              "      <td>7.938334</td>\n",
              "      <td>2.161636</td>\n",
              "      <td>7.887567</td>\n",
              "      <td>2.098739</td>\n",
              "      <td>149</td>\n",
              "    </tr>\n",
              "  </tbody>\n",
              "</table>\n",
              "</div>"
            ],
            "text/plain": [
              "         loss       mae  val_loss   val_mae  epoch\n",
              "145  7.505076  2.081522  8.776972  2.188648    145\n",
              "146  8.992286  2.212087  8.867738  2.182807    146\n",
              "147  8.624917  2.259599  8.649142  2.164888    147\n",
              "148  9.626659  2.337097  7.894725  2.084470    148\n",
              "149  7.938334  2.161636  7.887567  2.098739    149"
            ]
          },
          "metadata": {
            "tags": []
          },
          "execution_count": 37
        }
      ]
    },
    {
      "cell_type": "markdown",
      "metadata": {
        "id": "4nau5JMtR7Zr"
      },
      "source": [
        "* **10. Evaluación del modelo**"
      ]
    },
    {
      "cell_type": "code",
      "metadata": {
        "colab": {
          "base_uri": "https://localhost:8080/",
          "height": 283
        },
        "id": "PBrcdNXpSYJR",
        "outputId": "b4a1ccc1-39d3-450b-d307-319510891174"
      },
      "source": [
        "def plot_history(history):\n",
        "  hist = pd.DataFrame(history.history)\n",
        "  hist['epoch'] = history.epoch\n",
        "\n",
        "  plt.figure()\n",
        "  plt.xlabel('Epoch')\n",
        "  plt.ylabel('Mean Abs Error [MPG]')\n",
        "  plt.plot(hist['epoch'], hist['mae'],\n",
        "           label='Train Error')\n",
        "  plt.plot(hist['epoch'], hist['val_mae'],\n",
        "           label = 'Val Error')\n",
        "  plt.ylim([0,5])\n",
        "  plt.legend()\n",
        "\n",
        "  plt.show()\n",
        "\n",
        "\n",
        "plot_history(history)"
      ],
      "execution_count": null,
      "outputs": [
        {
          "output_type": "display_data",
          "data": {
            "image/png": "[encoded data removed]",
            "text/plain": [
              "<Figure size 432x288 with 1 Axes>"
            ]
          },
          "metadata": {
            "tags": [],
            "needs_background": "light"
          }
        }
      ]
    },
    {
      "cell_type": "code",
      "metadata": {
        "colab": {
          "base_uri": "https://localhost:8080/"
        },
        "id": "0kcUFxSo8Lb_",
        "outputId": "e55b7f2e-2c1d-4e36-8e9d-3266f57e0ac6"
      },
      "source": [
        "y_pred = model.predict(X_test).flatten()\n",
        "y_pred.shape"
      ],
      "execution_count": null,
      "outputs": [
        {
          "output_type": "execute_result",
          "data": {
            "text/plain": [
              "(152,)"
            ]
          },
          "metadata": {
            "tags": []
          },
          "execution_count": 38
        }
      ]
    },
    {
      "cell_type": "code",
      "metadata": {
        "colab": {
          "base_uri": "https://localhost:8080/",
          "height": 283
        },
        "id": "VsfM2y2a8tR1",
        "outputId": "cbf6ae42-17f7-40d4-ec01-3a00ecc924b0"
      },
      "source": [
        "plt.scatter(y_test, y_pred)\n",
        "plt.xlabel('True Values [MDEV]')\n",
        "plt.ylabel('Predictions [MDEV]')\n",
        "plt.xlim([0, 60])\n",
        "plt.ylim([0, 60])\n",
        "_ = plt.plot([0, 60], [0, 60])"
      ],
      "execution_count": null,
      "outputs": [
        {
          "output_type": "display_data",
          "data": {
            "image/png": "[encoded data removed]",
            "text/plain": [
              "<Figure size 432x288 with 1 Axes>"
            ]
          },
          "metadata": {
            "tags": [],
            "needs_background": "light"
          }
        }
      ]
    },
    {
      "cell_type": "code",
      "metadata": {
        "id": "kvGbG00G9Gcs"
      },
      "source": [
        ""
      ],
      "execution_count": null,
      "outputs": []
    }
  ]
}