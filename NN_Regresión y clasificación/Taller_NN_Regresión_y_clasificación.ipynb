{
  "nbformat": 4,
  "nbformat_minor": 0,
  "metadata": {
    "kernelspec": {
      "display_name": "Python 3",
      "language": "python",
      "name": "python3"
    },
    "language_info": {
      "codemirror_mode": {
        "name": "ipython",
        "version": 3
      },
      "file_extension": ".py",
      "mimetype": "text/x-python",
      "name": "python",
      "nbconvert_exporter": "python",
      "pygments_lexer": "ipython3",
      "version": "3.7.7"
    },
    "colab": {
      "name": "Taller NN Regresión y clasificación.ipynb",
      "provenance": [],
      "collapsed_sections": []
    }
  },
  "cells": [
    {
      "cell_type": "markdown",
      "metadata": {
        "id": "msCRmawsj_ih"
      },
      "source": [
        "# Laboratorio Regresión y clasificación\n",
        "---\n",
        "Giovanny Alejandro Cuervo Londoño\n",
        "\n",
        "1. Construya una red neuronal de clasificación binaria para predecir el cáncer de seno. Use los datos <a srf=https://www.kaggle.com/uciml/breast-cancer-wisconsin-data>Breast Cancer Wisconsin</a>. Los datos los puede encontrar en el enlace de Kaggle.\n",
        "\n",
        "\n",
        "2. Construya una red neuronal de regresión poara predecir el precio de las viviendas. Use los datos <a src= https://www.kaggle.com/c/boston-housing>Boston Housing</a>.  Los datos los puede encontrar en el enlace de Kaggle.\n",
        "\n",
        "\n"
      ]
    },
    {
      "cell_type": "markdown",
      "metadata": {
        "id": "IMbtRDf70aGv"
      },
      "source": [
        "* **0. Importamos los paquetes necesarios** "
      ]
    },
    {
      "cell_type": "code",
      "metadata": {
        "id": "e0Ur6uJv0TbY"
      },
      "source": [
        "import numpy as np\n",
        "import pandas as pd\n",
        "import seaborn as sns\n",
        "import matplotlib.pyplot as plt\n",
        "import tensorflow as tf"
      ],
      "execution_count": 1,
      "outputs": []
    },
    {
      "cell_type": "code",
      "metadata": {
        "colab": {
          "base_uri": "https://localhost:8080/"
        },
        "id": "_BaEUcp2-FGd",
        "outputId": "2e1b9e72-a7ff-4f97-8900-473c45454bd8"
      },
      "source": [
        "print('Numpy', np.__version__)\n",
        "print('Pandas', pd.__version__)\n",
        "print('Seaborn' , sns.__version__)\n",
        "print('Tensor Flow', tf.__version__)"
      ],
      "execution_count": 2,
      "outputs": [
        {
          "output_type": "stream",
          "text": [
            "Numpy 1.19.5\n",
            "Pandas 1.1.5\n",
            "Seaborn 0.11.1\n",
            "Tensor Flow 2.4.1\n"
          ],
          "name": "stdout"
        }
      ]
    },
    {
      "cell_type": "markdown",
      "metadata": {
        "id": "lU3_3n6PHhMa"
      },
      "source": [
        "Este notebook se hizo con las librerías\n",
        "> Numpy 1.19.5\n",
        "\n",
        "> Pandas 1.1.5\n",
        "\n",
        "> Seaborn 0.11.1\n",
        "\n",
        "> Tensor Flow 2.4.1"
      ]
    },
    {
      "cell_type": "markdown",
      "metadata": {
        "id": "cp8qR2CpvN9O"
      },
      "source": [
        "* **0. Funciones Necesarias definidas** "
      ]
    },
    {
      "cell_type": "code",
      "metadata": {
        "id": "OZujcPc3f-5W"
      },
      "source": [
        "def list_confusion_matrix(cm,classes):\n",
        "  df = pd.DataFrame(data = cm,\n",
        "                    index = pd.MultiIndex.from_product([['Valor real'], classes]),\n",
        "                    columns = pd.MultiIndex.from_product([['Valor predicho'], classes]))\n",
        "  \n",
        "  return df"
      ],
      "execution_count": 3,
      "outputs": []
    },
    {
      "cell_type": "code",
      "metadata": {
        "id": "PmRyHCtVrrfZ"
      },
      "source": [
        "def plot_metric(history, metric):\n",
        "    train_metrics = history.history[metric]\n",
        "    val_metrics = history.history['val_'+metric]\n",
        "    epochs = range(1, len(train_metrics) + 1)\n",
        "    plt.plot(epochs, train_metrics, 'bo--')\n",
        "    plt.plot(epochs, val_metrics, 'ro-')\n",
        "    plt.title('Entrenamiento y validación '+ metric)\n",
        "    plt.xlabel(\"Epochs\")\n",
        "    plt.ylabel(metric)\n",
        "    plt.legend([\"train_\"+metric, 'val_'+metric])\n",
        "    plt.show()"
      ],
      "execution_count": 4,
      "outputs": []
    },
    {
      "cell_type": "markdown",
      "metadata": {
        "id": "WcOchJZbk8cg"
      },
      "source": [
        "## I. Red neuronal de Clasificación Binaria\n",
        "### Breast Cancer Wisconsin\n",
        "---\n"
      ]
    },
    {
      "cell_type": "markdown",
      "metadata": {
        "id": "GZCcVfAez2qj"
      },
      "source": [
        "* 1. Cargamos los datos y las etiquetas objetivo"
      ]
    },
    {
      "cell_type": "code",
      "metadata": {
        "colab": {
          "base_uri": "https://localhost:8080/"
        },
        "id": "sj9aallqk8ET",
        "outputId": "c3c3455a-38f3-41ef-b8b6-999440a9837e"
      },
      "source": [
        "from sklearn.datasets import load_breast_cancer\n",
        "\n",
        "data = load_breast_cancer()\n",
        "X = data.data\n",
        "y = data.target\n",
        "\n",
        "\n",
        "print(f'Datos(filas, columnas){X.shape}y tipo: {type(X)}\\nEtiquetas(número): {y.shape} y tipo: {type(y)}')"
      ],
      "execution_count": 5,
      "outputs": [
        {
          "output_type": "stream",
          "text": [
            "Datos(filas, columnas)(569, 30)y tipo: <class 'numpy.ndarray'>\n",
            "Etiquetas(número): (569,) y tipo: <class 'numpy.ndarray'>\n"
          ],
          "name": "stdout"
        }
      ]
    },
    {
      "cell_type": "markdown",
      "metadata": {
        "id": "4f67QQQH0EtI"
      },
      "source": [
        "* 1.1 Exploramos los features"
      ]
    },
    {
      "cell_type": "code",
      "metadata": {
        "colab": {
          "base_uri": "https://localhost:8080/",
          "height": 513
        },
        "id": "AXukgw0EwbTf",
        "outputId": "be1b7b58-81de-426a-d699-3dca164c85c4"
      },
      "source": [
        "print(f'{data.feature_names}') #como numpy array\n",
        "print(f'{X[0, :]} \\ncantidad de features: {len(X[0, :])}') #primer fila\n",
        "\n",
        "df_X = pd.DataFrame(dict(zip(data.feature_names, X))) #como DataFrame\n",
        "df_X[:5] #primeras 5 filas"
      ],
      "execution_count": 6,
      "outputs": [
        {
          "output_type": "stream",
          "text": [
            "['mean radius' 'mean texture' 'mean perimeter' 'mean area'\n",
            " 'mean smoothness' 'mean compactness' 'mean concavity'\n",
            " 'mean concave points' 'mean symmetry' 'mean fractal dimension'\n",
            " 'radius error' 'texture error' 'perimeter error' 'area error'\n",
            " 'smoothness error' 'compactness error' 'concavity error'\n",
            " 'concave points error' 'symmetry error' 'fractal dimension error'\n",
            " 'worst radius' 'worst texture' 'worst perimeter' 'worst area'\n",
            " 'worst smoothness' 'worst compactness' 'worst concavity'\n",
            " 'worst concave points' 'worst symmetry' 'worst fractal dimension']\n",
            "[1.799e+01 1.038e+01 1.228e+02 1.001e+03 1.184e-01 2.776e-01 3.001e-01\n",
            " 1.471e-01 2.419e-01 7.871e-02 1.095e+00 9.053e-01 8.589e+00 1.534e+02\n",
            " 6.399e-03 4.904e-02 5.373e-02 1.587e-02 3.003e-02 6.193e-03 2.538e+01\n",
            " 1.733e+01 1.846e+02 2.019e+03 1.622e-01 6.656e-01 7.119e-01 2.654e-01\n",
            " 4.601e-01 1.189e-01] \n",
            "cantidad de features: 30\n"
          ],
          "name": "stdout"
        },
        {
          "output_type": "execute_result",
          "data": {
            "text/html": [
              "<div>\n",
              "<style scoped>\n",
              "    .dataframe tbody tr th:only-of-type {\n",
              "        vertical-align: middle;\n",
              "    }\n",
              "\n",
              "    .dataframe tbody tr th {\n",
              "        vertical-align: top;\n",
              "    }\n",
              "\n",
              "    .dataframe thead th {\n",
              "        text-align: right;\n",
              "    }\n",
              "</style>\n",
              "<table border=\"1\" class=\"dataframe\">\n",
              "  <thead>\n",
              "    <tr style=\"text-align: right;\">\n",
              "      <th></th>\n",
              "      <th>mean radius</th>\n",
              "      <th>mean texture</th>\n",
              "      <th>mean perimeter</th>\n",
              "      <th>mean area</th>\n",
              "      <th>mean smoothness</th>\n",
              "      <th>mean compactness</th>\n",
              "      <th>mean concavity</th>\n",
              "      <th>mean concave points</th>\n",
              "      <th>mean symmetry</th>\n",
              "      <th>mean fractal dimension</th>\n",
              "      <th>radius error</th>\n",
              "      <th>texture error</th>\n",
              "      <th>perimeter error</th>\n",
              "      <th>area error</th>\n",
              "      <th>smoothness error</th>\n",
              "      <th>compactness error</th>\n",
              "      <th>concavity error</th>\n",
              "      <th>concave points error</th>\n",
              "      <th>symmetry error</th>\n",
              "      <th>fractal dimension error</th>\n",
              "      <th>worst radius</th>\n",
              "      <th>worst texture</th>\n",
              "      <th>worst perimeter</th>\n",
              "      <th>worst area</th>\n",
              "      <th>worst smoothness</th>\n",
              "      <th>worst compactness</th>\n",
              "      <th>worst concavity</th>\n",
              "      <th>worst concave points</th>\n",
              "      <th>worst symmetry</th>\n",
              "      <th>worst fractal dimension</th>\n",
              "    </tr>\n",
              "  </thead>\n",
              "  <tbody>\n",
              "    <tr>\n",
              "      <th>0</th>\n",
              "      <td>17.9900</td>\n",
              "      <td>20.57000</td>\n",
              "      <td>19.6900</td>\n",
              "      <td>11.4200</td>\n",
              "      <td>20.2900</td>\n",
              "      <td>12.4500</td>\n",
              "      <td>18.25000</td>\n",
              "      <td>13.7100</td>\n",
              "      <td>13.0000</td>\n",
              "      <td>12.4600</td>\n",
              "      <td>16.02000</td>\n",
              "      <td>15.7800</td>\n",
              "      <td>19.1700</td>\n",
              "      <td>15.85000</td>\n",
              "      <td>13.7300</td>\n",
              "      <td>14.5400</td>\n",
              "      <td>14.68000</td>\n",
              "      <td>16.130</td>\n",
              "      <td>19.81000</td>\n",
              "      <td>13.54000</td>\n",
              "      <td>13.0800</td>\n",
              "      <td>9.5040</td>\n",
              "      <td>15.3400</td>\n",
              "      <td>21.16000</td>\n",
              "      <td>16.6500</td>\n",
              "      <td>17.1400</td>\n",
              "      <td>14.5800</td>\n",
              "      <td>18.6100</td>\n",
              "      <td>15.3000</td>\n",
              "      <td>17.57000</td>\n",
              "    </tr>\n",
              "    <tr>\n",
              "      <th>1</th>\n",
              "      <td>10.3800</td>\n",
              "      <td>17.77000</td>\n",
              "      <td>21.2500</td>\n",
              "      <td>20.3800</td>\n",
              "      <td>14.3400</td>\n",
              "      <td>15.7000</td>\n",
              "      <td>19.98000</td>\n",
              "      <td>20.8300</td>\n",
              "      <td>21.8200</td>\n",
              "      <td>24.0400</td>\n",
              "      <td>23.24000</td>\n",
              "      <td>17.8900</td>\n",
              "      <td>24.8000</td>\n",
              "      <td>23.95000</td>\n",
              "      <td>22.6100</td>\n",
              "      <td>27.5400</td>\n",
              "      <td>20.13000</td>\n",
              "      <td>20.680</td>\n",
              "      <td>22.15000</td>\n",
              "      <td>14.36000</td>\n",
              "      <td>15.7100</td>\n",
              "      <td>12.4400</td>\n",
              "      <td>14.2600</td>\n",
              "      <td>23.04000</td>\n",
              "      <td>21.3800</td>\n",
              "      <td>16.4000</td>\n",
              "      <td>21.5300</td>\n",
              "      <td>20.2500</td>\n",
              "      <td>25.2700</td>\n",
              "      <td>15.05000</td>\n",
              "    </tr>\n",
              "    <tr>\n",
              "      <th>2</th>\n",
              "      <td>122.8000</td>\n",
              "      <td>132.90000</td>\n",
              "      <td>130.0000</td>\n",
              "      <td>77.5800</td>\n",
              "      <td>135.1000</td>\n",
              "      <td>82.5700</td>\n",
              "      <td>119.60000</td>\n",
              "      <td>90.2000</td>\n",
              "      <td>87.5000</td>\n",
              "      <td>83.9700</td>\n",
              "      <td>102.70000</td>\n",
              "      <td>103.6000</td>\n",
              "      <td>132.4000</td>\n",
              "      <td>103.70000</td>\n",
              "      <td>93.6000</td>\n",
              "      <td>96.7300</td>\n",
              "      <td>94.74000</td>\n",
              "      <td>108.100</td>\n",
              "      <td>130.00000</td>\n",
              "      <td>87.46000</td>\n",
              "      <td>85.6300</td>\n",
              "      <td>60.3400</td>\n",
              "      <td>102.5000</td>\n",
              "      <td>137.20000</td>\n",
              "      <td>110.0000</td>\n",
              "      <td>116.0000</td>\n",
              "      <td>97.4100</td>\n",
              "      <td>122.1000</td>\n",
              "      <td>102.4000</td>\n",
              "      <td>115.00000</td>\n",
              "    </tr>\n",
              "    <tr>\n",
              "      <th>3</th>\n",
              "      <td>1001.0000</td>\n",
              "      <td>1326.00000</td>\n",
              "      <td>1203.0000</td>\n",
              "      <td>386.1000</td>\n",
              "      <td>1297.0000</td>\n",
              "      <td>477.1000</td>\n",
              "      <td>1040.00000</td>\n",
              "      <td>577.9000</td>\n",
              "      <td>519.8000</td>\n",
              "      <td>475.9000</td>\n",
              "      <td>797.80000</td>\n",
              "      <td>781.0000</td>\n",
              "      <td>1123.0000</td>\n",
              "      <td>782.70000</td>\n",
              "      <td>578.3000</td>\n",
              "      <td>658.8000</td>\n",
              "      <td>684.50000</td>\n",
              "      <td>798.800</td>\n",
              "      <td>1260.00000</td>\n",
              "      <td>566.30000</td>\n",
              "      <td>520.0000</td>\n",
              "      <td>273.9000</td>\n",
              "      <td>704.4000</td>\n",
              "      <td>1404.00000</td>\n",
              "      <td>904.6000</td>\n",
              "      <td>912.7000</td>\n",
              "      <td>644.8000</td>\n",
              "      <td>1094.0000</td>\n",
              "      <td>732.4000</td>\n",
              "      <td>955.10000</td>\n",
              "    </tr>\n",
              "    <tr>\n",
              "      <th>4</th>\n",
              "      <td>0.1184</td>\n",
              "      <td>0.08474</td>\n",
              "      <td>0.1096</td>\n",
              "      <td>0.1425</td>\n",
              "      <td>0.1003</td>\n",
              "      <td>0.1278</td>\n",
              "      <td>0.09463</td>\n",
              "      <td>0.1189</td>\n",
              "      <td>0.1273</td>\n",
              "      <td>0.1186</td>\n",
              "      <td>0.08206</td>\n",
              "      <td>0.0971</td>\n",
              "      <td>0.0974</td>\n",
              "      <td>0.08401</td>\n",
              "      <td>0.1131</td>\n",
              "      <td>0.1139</td>\n",
              "      <td>0.09867</td>\n",
              "      <td>0.117</td>\n",
              "      <td>0.09831</td>\n",
              "      <td>0.09779</td>\n",
              "      <td>0.1075</td>\n",
              "      <td>0.1024</td>\n",
              "      <td>0.1073</td>\n",
              "      <td>0.09428</td>\n",
              "      <td>0.1121</td>\n",
              "      <td>0.1186</td>\n",
              "      <td>0.1054</td>\n",
              "      <td>0.0944</td>\n",
              "      <td>0.1082</td>\n",
              "      <td>0.09847</td>\n",
              "    </tr>\n",
              "  </tbody>\n",
              "</table>\n",
              "</div>"
            ],
            "text/plain": [
              "   mean radius  mean texture  ...  worst symmetry  worst fractal dimension\n",
              "0      17.9900      20.57000  ...         15.3000                 17.57000\n",
              "1      10.3800      17.77000  ...         25.2700                 15.05000\n",
              "2     122.8000     132.90000  ...        102.4000                115.00000\n",
              "3    1001.0000    1326.00000  ...        732.4000                955.10000\n",
              "4       0.1184       0.08474  ...          0.1082                  0.09847\n",
              "\n",
              "[5 rows x 30 columns]"
            ]
          },
          "metadata": {
            "tags": []
          },
          "execution_count": 6
        }
      ]
    },
    {
      "cell_type": "markdown",
      "metadata": {
        "id": "n1ru31SR3oft"
      },
      "source": [
        "* 1.2 Exploramos  los target"
      ]
    },
    {
      "cell_type": "code",
      "metadata": {
        "colab": {
          "base_uri": "https://localhost:8080/"
        },
        "id": "8aGyf9oTxy_1",
        "outputId": "6d8f3745-3654-4da6-f3a9-7f240ad899e6"
      },
      "source": [
        "print(f'{data.target_names[0]}:{np.unique(y)[0]}, {data.target_names[1]}:{np.unique(y)[1]}')\n"
      ],
      "execution_count": 7,
      "outputs": [
        {
          "output_type": "stream",
          "text": [
            "malignant:0, benign:1\n"
          ],
          "name": "stdout"
        }
      ]
    },
    {
      "cell_type": "code",
      "metadata": {
        "colab": {
          "base_uri": "https://localhost:8080/"
        },
        "id": "lUkox-2C5n-y",
        "outputId": "703c6a2c-3d14-424e-c5da-1d06ccfbcc48"
      },
      "source": [
        "print(f'conteo \\nmalignant: {list(y).count(0)} \\nbenign:{list(y).count(1)}')\n",
        "#vemos un ligero desbalance donde hay más benign "
      ],
      "execution_count": 8,
      "outputs": [
        {
          "output_type": "stream",
          "text": [
            "conteo \n",
            "malignant: 212 \n",
            "benign:357\n"
          ],
          "name": "stdout"
        }
      ]
    },
    {
      "cell_type": "markdown",
      "metadata": {
        "id": "bSi7d-Qv3492"
      },
      "source": [
        "* **2. dividimos los datos en test y train**"
      ]
    },
    {
      "cell_type": "code",
      "metadata": {
        "id": "10ptnS294Anl"
      },
      "source": [
        "from sklearn.model_selection import train_test_split\n",
        "\n",
        "X_train, X_test, y_train, y_test = train_test_split(X, y, test_size = 0.3, random_state = 0, stratify = y)"
      ],
      "execution_count": 9,
      "outputs": []
    },
    {
      "cell_type": "code",
      "metadata": {
        "colab": {
          "base_uri": "https://localhost:8080/"
        },
        "id": "XKwX5xqH5SSO",
        "outputId": "e4d85314-719b-48e7-f32d-57438a4e89a0"
      },
      "source": [
        "print(f'X test: {X_test.shape} & X train: {X_train.shape}')\n",
        "print(f'y test: {y_test.shape} & y train: {y_train.shape}')"
      ],
      "execution_count": 10,
      "outputs": [
        {
          "output_type": "stream",
          "text": [
            "X test: (171, 30) & X train: (398, 30)\n",
            "y test: (171,) & y train: (398,)\n"
          ],
          "name": "stdout"
        }
      ]
    },
    {
      "cell_type": "markdown",
      "metadata": {
        "id": "n_bDAEKF7hf0"
      },
      "source": [
        "* **3. Normalizamos los datos**"
      ]
    },
    {
      "cell_type": "code",
      "metadata": {
        "id": "tFVeSYeY5gFN"
      },
      "source": [
        "from sklearn.preprocessing import StandardScaler\n",
        "\n",
        "normalizar = StandardScaler()\n",
        "X_train = normalizar.fit_transform(X_train)\n",
        "X_test = normalizar.transform(X_test) #por que este y no transform"
      ],
      "execution_count": 11,
      "outputs": []
    },
    {
      "cell_type": "markdown",
      "metadata": {
        "id": "zq2f6SCV8_Ur"
      },
      "source": [
        "* **4. Definimos la arquitectura**"
      ]
    },
    {
      "cell_type": "code",
      "metadata": {
        "id": "cCzr5NGN84HE"
      },
      "source": [
        "from tensorflow.keras.models import Sequential\n",
        "from tensorflow.keras import layers \n",
        "\n",
        "model = Sequential()\n",
        "\n",
        "## add(): Adiciona capas una por una\n",
        "# layers.Dense(): Coloca una capa densa\n",
        "model.add(layers.Dense(units=16, activation='relu', input_shape=(30,), name='dense_1')) #capa de entrada 16 neuronas\n",
        "\n",
        "#layers.dropout(): esto previene el overfitting (Regularización)\n",
        "model.add(layers.Dropout(0.1)) # 10% de las neuronas son descativadas en cada epoca\n",
        "model.add(layers.Dense(units=16, activation='relu', name='dense_2')) #capa oculta 16 neuronas\n",
        "\n",
        "model.add(layers.Dropout(0.1))\n",
        "model.add(layers.Dense(units=1, activation='sigmoid', name='dense_3')) #capa de salida 1 neurona\n",
        "\n"
      ],
      "execution_count": 12,
      "outputs": []
    },
    {
      "cell_type": "markdown",
      "metadata": {
        "id": "fdRJLd5xaSdT"
      },
      "source": [
        "* **5. Compilamos el modelo**"
      ]
    },
    {
      "cell_type": "code",
      "metadata": {
        "colab": {
          "base_uri": "https://localhost:8080/",
          "height": 1000
        },
        "id": "Uyj7K6DN9vB0",
        "outputId": "355c076a-57b8-4875-c973-a37da57b389b"
      },
      "source": [
        "from tensorflow.keras import utils\n",
        "\n",
        "print(f'1er capa entrada: {16*30+16} parámetros \\n2da capa oculta: {16*16+16} parámetros \\n3er capa salida: {16+1} parámetros \\n')\n",
        "#1er capa 16 neuronas * 30 columnas X_train + 16 bias o intercerptos\n",
        "#2da capa 16 neuronas * 16 neuronas 1er capa + 16 bias o intercerptos\n",
        "#3er capa 16 neuronas 2da capa + 1 neurona 3er capa\n",
        "\n",
        "model.compile(optimizer='adam', loss='binary_crossentropy', metrics=['accuracy'])\n",
        "\n",
        "\n",
        "model.summary()\n",
        "utils.plot_model(model, show_shapes=True)\n"
      ],
      "execution_count": 13,
      "outputs": [
        {
          "output_type": "stream",
          "text": [
            "1er capa entrada: 496 parámetros \n",
            "2da capa oculta: 272 parámetros \n",
            "3er capa salida: 17 parámetros \n",
            "\n",
            "Model: \"sequential\"\n",
            "_________________________________________________________________\n",
            "Layer (type)                 Output Shape              Param #   \n",
            "=================================================================\n",
            "dense_1 (Dense)              (None, 16)                496       \n",
            "_________________________________________________________________\n",
            "dropout (Dropout)            (None, 16)                0         \n",
            "_________________________________________________________________\n",
            "dense_2 (Dense)              (None, 16)                272       \n",
            "_________________________________________________________________\n",
            "dropout_1 (Dropout)          (None, 16)                0         \n",
            "_________________________________________________________________\n",
            "dense_3 (Dense)              (None, 1)                 17        \n",
            "=================================================================\n",
            "Total params: 785\n",
            "Trainable params: 785\n",
            "Non-trainable params: 0\n",
            "_________________________________________________________________\n"
          ],
          "name": "stdout"
        },
        {
          "output_type": "execute_result",
          "data": {
            "image/png": "[encoded data removed]",
            "text/plain": [
              "<IPython.core.display.Image object>"
            ]
          },
          "metadata": {
            "tags": []
          },
          "execution_count": 13
        }
      ]
    },
    {
      "cell_type": "markdown",
      "metadata": {
        "id": "Y4OuvvRdegRC"
      },
      "source": [
        "* **6. Entrenamiento**"
      ]
    },
    {
      "cell_type": "code",
      "metadata": {
        "colab": {
          "base_uri": "https://localhost:8080/"
        },
        "id": "LrSJQXiNaree",
        "outputId": "f2a80920-3181-4c67-8139-5b578232e337"
      },
      "source": [
        "history = model.fit(X_train, y_train, batch_size=32, epochs=150, validation_split = 0.2)"
      ],
      "execution_count": null,
      "outputs": [
        {
          "output_type": "stream",
          "text": [
            "Epoch 1/150\n",
            "10/10 [==============================] - 1s 29ms/step - loss: 0.8460 - accuracy: 0.2915 - val_loss: 0.6815 - val_accuracy: 0.5500\n",
            "Epoch 2/150\n",
            "10/10 [==============================] - 0s 6ms/step - loss: 0.6822 - accuracy: 0.5463 - val_loss: 0.5623 - val_accuracy: 0.8125\n",
            "Epoch 3/150\n",
            "10/10 [==============================] - 0s 6ms/step - loss: 0.5815 - accuracy: 0.7623 - val_loss: 0.4723 - val_accuracy: 0.9250\n",
            "Epoch 4/150\n",
            "10/10 [==============================] - 0s 6ms/step - loss: 0.5173 - accuracy: 0.8367 - val_loss: 0.3988 - val_accuracy: 0.9875\n",
            "Epoch 5/150\n",
            "10/10 [==============================] - 0s 6ms/step - loss: 0.4567 - accuracy: 0.8957 - val_loss: 0.3324 - val_accuracy: 0.9875\n",
            "Epoch 6/150\n",
            "10/10 [==============================] - 0s 6ms/step - loss: 0.3965 - accuracy: 0.9099 - val_loss: 0.2735 - val_accuracy: 1.0000\n",
            "Epoch 7/150\n",
            "10/10 [==============================] - 0s 6ms/step - loss: 0.3513 - accuracy: 0.9120 - val_loss: 0.2222 - val_accuracy: 1.0000\n",
            "Epoch 8/150\n",
            "10/10 [==============================] - 0s 6ms/step - loss: 0.3171 - accuracy: 0.9137 - val_loss: 0.1787 - val_accuracy: 1.0000\n",
            "Epoch 9/150\n",
            "10/10 [==============================] - 0s 6ms/step - loss: 0.2693 - accuracy: 0.9642 - val_loss: 0.1437 - val_accuracy: 1.0000\n",
            "Epoch 10/150\n",
            "10/10 [==============================] - 0s 6ms/step - loss: 0.2302 - accuracy: 0.9399 - val_loss: 0.1175 - val_accuracy: 1.0000\n",
            "Epoch 11/150\n",
            "10/10 [==============================] - 0s 6ms/step - loss: 0.1916 - accuracy: 0.9516 - val_loss: 0.0977 - val_accuracy: 1.0000\n",
            "Epoch 12/150\n",
            "10/10 [==============================] - 0s 7ms/step - loss: 0.1971 - accuracy: 0.9443 - val_loss: 0.0833 - val_accuracy: 1.0000\n",
            "Epoch 13/150\n",
            "10/10 [==============================] - 0s 6ms/step - loss: 0.1599 - accuracy: 0.9553 - val_loss: 0.0720 - val_accuracy: 1.0000\n",
            "Epoch 14/150\n",
            "10/10 [==============================] - 0s 6ms/step - loss: 0.1567 - accuracy: 0.9720 - val_loss: 0.0632 - val_accuracy: 1.0000\n",
            "Epoch 15/150\n",
            "10/10 [==============================] - 0s 6ms/step - loss: 0.1617 - accuracy: 0.9599 - val_loss: 0.0561 - val_accuracy: 1.0000\n",
            "Epoch 16/150\n",
            "10/10 [==============================] - 0s 6ms/step - loss: 0.1239 - accuracy: 0.9714 - val_loss: 0.0502 - val_accuracy: 1.0000\n",
            "Epoch 17/150\n",
            "10/10 [==============================] - 0s 7ms/step - loss: 0.1417 - accuracy: 0.9605 - val_loss: 0.0456 - val_accuracy: 1.0000\n",
            "Epoch 18/150\n",
            "10/10 [==============================] - 0s 6ms/step - loss: 0.1048 - accuracy: 0.9657 - val_loss: 0.0419 - val_accuracy: 1.0000\n",
            "Epoch 19/150\n",
            "10/10 [==============================] - 0s 7ms/step - loss: 0.1096 - accuracy: 0.9693 - val_loss: 0.0386 - val_accuracy: 1.0000\n",
            "Epoch 20/150\n",
            "10/10 [==============================] - 0s 7ms/step - loss: 0.1136 - accuracy: 0.9626 - val_loss: 0.0358 - val_accuracy: 1.0000\n",
            "Epoch 21/150\n",
            "10/10 [==============================] - 0s 7ms/step - loss: 0.1035 - accuracy: 0.9592 - val_loss: 0.0336 - val_accuracy: 1.0000\n",
            "Epoch 22/150\n",
            "10/10 [==============================] - 0s 7ms/step - loss: 0.0859 - accuracy: 0.9744 - val_loss: 0.0311 - val_accuracy: 1.0000\n",
            "Epoch 23/150\n",
            "10/10 [==============================] - 0s 7ms/step - loss: 0.0777 - accuracy: 0.9856 - val_loss: 0.0289 - val_accuracy: 1.0000\n",
            "Epoch 24/150\n",
            "10/10 [==============================] - 0s 9ms/step - loss: 0.0704 - accuracy: 0.9794 - val_loss: 0.0274 - val_accuracy: 1.0000\n",
            "Epoch 25/150\n",
            "10/10 [==============================] - 0s 6ms/step - loss: 0.1162 - accuracy: 0.9572 - val_loss: 0.0262 - val_accuracy: 1.0000\n",
            "Epoch 26/150\n",
            "10/10 [==============================] - 0s 6ms/step - loss: 0.0953 - accuracy: 0.9696 - val_loss: 0.0250 - val_accuracy: 1.0000\n",
            "Epoch 27/150\n",
            "10/10 [==============================] - 0s 6ms/step - loss: 0.1058 - accuracy: 0.9744 - val_loss: 0.0240 - val_accuracy: 1.0000\n",
            "Epoch 28/150\n",
            "10/10 [==============================] - 0s 6ms/step - loss: 0.0886 - accuracy: 0.9768 - val_loss: 0.0230 - val_accuracy: 1.0000\n",
            "Epoch 29/150\n",
            "10/10 [==============================] - 0s 7ms/step - loss: 0.0682 - accuracy: 0.9775 - val_loss: 0.0215 - val_accuracy: 1.0000\n",
            "Epoch 30/150\n",
            "10/10 [==============================] - 0s 7ms/step - loss: 0.0645 - accuracy: 0.9885 - val_loss: 0.0207 - val_accuracy: 1.0000\n",
            "Epoch 31/150\n",
            "10/10 [==============================] - 0s 6ms/step - loss: 0.0802 - accuracy: 0.9739 - val_loss: 0.0204 - val_accuracy: 1.0000\n",
            "Epoch 32/150\n",
            "10/10 [==============================] - 0s 6ms/step - loss: 0.0809 - accuracy: 0.9689 - val_loss: 0.0200 - val_accuracy: 1.0000\n",
            "Epoch 33/150\n",
            "10/10 [==============================] - 0s 7ms/step - loss: 0.0514 - accuracy: 0.9852 - val_loss: 0.0194 - val_accuracy: 1.0000\n",
            "Epoch 34/150\n",
            "10/10 [==============================] - 0s 6ms/step - loss: 0.0796 - accuracy: 0.9760 - val_loss: 0.0197 - val_accuracy: 1.0000\n",
            "Epoch 35/150\n",
            "10/10 [==============================] - 0s 7ms/step - loss: 0.0708 - accuracy: 0.9750 - val_loss: 0.0193 - val_accuracy: 1.0000\n",
            "Epoch 36/150\n",
            "10/10 [==============================] - 0s 7ms/step - loss: 0.0668 - accuracy: 0.9787 - val_loss: 0.0187 - val_accuracy: 1.0000\n",
            "Epoch 37/150\n",
            "10/10 [==============================] - 0s 8ms/step - loss: 0.0733 - accuracy: 0.9745 - val_loss: 0.0184 - val_accuracy: 1.0000\n",
            "Epoch 38/150\n",
            "10/10 [==============================] - 0s 7ms/step - loss: 0.0496 - accuracy: 0.9855 - val_loss: 0.0176 - val_accuracy: 1.0000\n",
            "Epoch 39/150\n",
            "10/10 [==============================] - 0s 6ms/step - loss: 0.0591 - accuracy: 0.9798 - val_loss: 0.0173 - val_accuracy: 1.0000\n",
            "Epoch 40/150\n",
            "10/10 [==============================] - 0s 7ms/step - loss: 0.0459 - accuracy: 0.9873 - val_loss: 0.0174 - val_accuracy: 1.0000\n",
            "Epoch 41/150\n",
            "10/10 [==============================] - 0s 7ms/step - loss: 0.0588 - accuracy: 0.9791 - val_loss: 0.0174 - val_accuracy: 1.0000\n",
            "Epoch 42/150\n",
            "10/10 [==============================] - 0s 6ms/step - loss: 0.0517 - accuracy: 0.9824 - val_loss: 0.0176 - val_accuracy: 1.0000\n",
            "Epoch 43/150\n",
            "10/10 [==============================] - 0s 8ms/step - loss: 0.0705 - accuracy: 0.9880 - val_loss: 0.0174 - val_accuracy: 1.0000\n",
            "Epoch 44/150\n",
            "10/10 [==============================] - 0s 7ms/step - loss: 0.0467 - accuracy: 0.9914 - val_loss: 0.0169 - val_accuracy: 1.0000\n",
            "Epoch 45/150\n",
            "10/10 [==============================] - 0s 8ms/step - loss: 0.0397 - accuracy: 0.9905 - val_loss: 0.0169 - val_accuracy: 1.0000\n",
            "Epoch 46/150\n",
            "10/10 [==============================] - 0s 6ms/step - loss: 0.0484 - accuracy: 0.9829 - val_loss: 0.0167 - val_accuracy: 1.0000\n",
            "Epoch 47/150\n",
            "10/10 [==============================] - 0s 6ms/step - loss: 0.0462 - accuracy: 0.9875 - val_loss: 0.0164 - val_accuracy: 1.0000\n",
            "Epoch 48/150\n",
            "10/10 [==============================] - 0s 7ms/step - loss: 0.0312 - accuracy: 0.9908 - val_loss: 0.0166 - val_accuracy: 1.0000\n",
            "Epoch 49/150\n",
            "10/10 [==============================] - 0s 7ms/step - loss: 0.0412 - accuracy: 0.9905 - val_loss: 0.0164 - val_accuracy: 1.0000\n",
            "Epoch 50/150\n",
            "10/10 [==============================] - 0s 7ms/step - loss: 0.0448 - accuracy: 0.9924 - val_loss: 0.0167 - val_accuracy: 1.0000\n",
            "Epoch 51/150\n",
            "10/10 [==============================] - 0s 7ms/step - loss: 0.0459 - accuracy: 0.9917 - val_loss: 0.0170 - val_accuracy: 1.0000\n",
            "Epoch 52/150\n",
            "10/10 [==============================] - 0s 7ms/step - loss: 0.0615 - accuracy: 0.9827 - val_loss: 0.0169 - val_accuracy: 1.0000\n",
            "Epoch 53/150\n",
            "10/10 [==============================] - 0s 7ms/step - loss: 0.0366 - accuracy: 0.9957 - val_loss: 0.0164 - val_accuracy: 1.0000\n",
            "Epoch 54/150\n",
            "10/10 [==============================] - 0s 7ms/step - loss: 0.0480 - accuracy: 0.9925 - val_loss: 0.0161 - val_accuracy: 1.0000\n",
            "Epoch 55/150\n",
            "10/10 [==============================] - 0s 7ms/step - loss: 0.0526 - accuracy: 0.9793 - val_loss: 0.0162 - val_accuracy: 1.0000\n",
            "Epoch 56/150\n",
            "10/10 [==============================] - 0s 6ms/step - loss: 0.0305 - accuracy: 0.9935 - val_loss: 0.0160 - val_accuracy: 1.0000\n",
            "Epoch 57/150\n",
            "10/10 [==============================] - 0s 7ms/step - loss: 0.0451 - accuracy: 0.9806 - val_loss: 0.0162 - val_accuracy: 1.0000\n",
            "Epoch 58/150\n",
            "10/10 [==============================] - 0s 7ms/step - loss: 0.0439 - accuracy: 0.9932 - val_loss: 0.0159 - val_accuracy: 1.0000\n",
            "Epoch 59/150\n",
            "10/10 [==============================] - 0s 10ms/step - loss: 0.0542 - accuracy: 0.9856 - val_loss: 0.0163 - val_accuracy: 1.0000\n",
            "Epoch 60/150\n",
            "10/10 [==============================] - 0s 7ms/step - loss: 0.0337 - accuracy: 0.9921 - val_loss: 0.0165 - val_accuracy: 1.0000\n",
            "Epoch 61/150\n",
            "10/10 [==============================] - 0s 6ms/step - loss: 0.0388 - accuracy: 0.9890 - val_loss: 0.0160 - val_accuracy: 1.0000\n",
            "Epoch 62/150\n",
            "10/10 [==============================] - 0s 6ms/step - loss: 0.0331 - accuracy: 0.9862 - val_loss: 0.0160 - val_accuracy: 1.0000\n",
            "Epoch 63/150\n",
            "10/10 [==============================] - 0s 7ms/step - loss: 0.0383 - accuracy: 0.9910 - val_loss: 0.0160 - val_accuracy: 1.0000\n",
            "Epoch 64/150\n",
            "10/10 [==============================] - 0s 7ms/step - loss: 0.0407 - accuracy: 0.9880 - val_loss: 0.0162 - val_accuracy: 1.0000\n",
            "Epoch 65/150\n",
            "10/10 [==============================] - 0s 7ms/step - loss: 0.0332 - accuracy: 0.9827 - val_loss: 0.0163 - val_accuracy: 1.0000\n",
            "Epoch 66/150\n",
            "10/10 [==============================] - 0s 7ms/step - loss: 0.0361 - accuracy: 0.9930 - val_loss: 0.0155 - val_accuracy: 1.0000\n",
            "Epoch 67/150\n",
            "10/10 [==============================] - 0s 6ms/step - loss: 0.0306 - accuracy: 0.9948 - val_loss: 0.0152 - val_accuracy: 1.0000\n",
            "Epoch 68/150\n",
            "10/10 [==============================] - 0s 6ms/step - loss: 0.0273 - accuracy: 0.9954 - val_loss: 0.0154 - val_accuracy: 1.0000\n",
            "Epoch 69/150\n",
            "10/10 [==============================] - 0s 8ms/step - loss: 0.0290 - accuracy: 0.9885 - val_loss: 0.0153 - val_accuracy: 1.0000\n",
            "Epoch 70/150\n",
            "10/10 [==============================] - 0s 7ms/step - loss: 0.0309 - accuracy: 0.9948 - val_loss: 0.0152 - val_accuracy: 1.0000\n",
            "Epoch 71/150\n",
            "10/10 [==============================] - 0s 7ms/step - loss: 0.0251 - accuracy: 0.9922 - val_loss: 0.0144 - val_accuracy: 1.0000\n",
            "Epoch 72/150\n",
            "10/10 [==============================] - 0s 7ms/step - loss: 0.0200 - accuracy: 0.9932 - val_loss: 0.0144 - val_accuracy: 1.0000\n",
            "Epoch 73/150\n",
            "10/10 [==============================] - 0s 7ms/step - loss: 0.0274 - accuracy: 0.9884 - val_loss: 0.0146 - val_accuracy: 1.0000\n",
            "Epoch 74/150\n",
            "10/10 [==============================] - 0s 7ms/step - loss: 0.0177 - accuracy: 0.9966 - val_loss: 0.0149 - val_accuracy: 1.0000\n",
            "Epoch 75/150\n",
            "10/10 [==============================] - 0s 7ms/step - loss: 0.0362 - accuracy: 0.9885 - val_loss: 0.0155 - val_accuracy: 1.0000\n",
            "Epoch 76/150\n",
            "10/10 [==============================] - 0s 6ms/step - loss: 0.0205 - accuracy: 0.9967 - val_loss: 0.0155 - val_accuracy: 1.0000\n",
            "Epoch 77/150\n",
            "10/10 [==============================] - 0s 7ms/step - loss: 0.0335 - accuracy: 0.9856 - val_loss: 0.0155 - val_accuracy: 1.0000\n",
            "Epoch 78/150\n",
            "10/10 [==============================] - 0s 7ms/step - loss: 0.0236 - accuracy: 0.9985 - val_loss: 0.0147 - val_accuracy: 1.0000\n",
            "Epoch 79/150\n",
            "10/10 [==============================] - 0s 7ms/step - loss: 0.0259 - accuracy: 0.9899 - val_loss: 0.0149 - val_accuracy: 1.0000\n",
            "Epoch 80/150\n",
            "10/10 [==============================] - 0s 7ms/step - loss: 0.0246 - accuracy: 0.9961 - val_loss: 0.0148 - val_accuracy: 1.0000\n",
            "Epoch 81/150\n",
            "10/10 [==============================] - 0s 7ms/step - loss: 0.0196 - accuracy: 0.9958 - val_loss: 0.0150 - val_accuracy: 1.0000\n",
            "Epoch 82/150\n",
            "10/10 [==============================] - 0s 6ms/step - loss: 0.0271 - accuracy: 0.9909 - val_loss: 0.0153 - val_accuracy: 1.0000\n",
            "Epoch 83/150\n",
            "10/10 [==============================] - 0s 7ms/step - loss: 0.0268 - accuracy: 0.9901 - val_loss: 0.0149 - val_accuracy: 1.0000\n",
            "Epoch 84/150\n",
            "10/10 [==============================] - 0s 7ms/step - loss: 0.0371 - accuracy: 0.9779 - val_loss: 0.0145 - val_accuracy: 1.0000\n",
            "Epoch 85/150\n",
            "10/10 [==============================] - 0s 7ms/step - loss: 0.0350 - accuracy: 0.9813 - val_loss: 0.0141 - val_accuracy: 1.0000\n",
            "Epoch 86/150\n",
            "10/10 [==============================] - 0s 6ms/step - loss: 0.0219 - accuracy: 0.9944 - val_loss: 0.0140 - val_accuracy: 1.0000\n",
            "Epoch 87/150\n",
            "10/10 [==============================] - 0s 8ms/step - loss: 0.0127 - accuracy: 0.9973 - val_loss: 0.0136 - val_accuracy: 1.0000\n",
            "Epoch 88/150\n",
            "10/10 [==============================] - 0s 7ms/step - loss: 0.0244 - accuracy: 0.9876 - val_loss: 0.0138 - val_accuracy: 1.0000\n",
            "Epoch 89/150\n",
            "10/10 [==============================] - 0s 7ms/step - loss: 0.0108 - accuracy: 1.0000 - val_loss: 0.0139 - val_accuracy: 1.0000\n",
            "Epoch 90/150\n",
            "10/10 [==============================] - 0s 8ms/step - loss: 0.0143 - accuracy: 1.0000 - val_loss: 0.0136 - val_accuracy: 1.0000\n",
            "Epoch 91/150\n",
            "10/10 [==============================] - 0s 7ms/step - loss: 0.0195 - accuracy: 0.9962 - val_loss: 0.0139 - val_accuracy: 1.0000\n",
            "Epoch 92/150\n",
            "10/10 [==============================] - 0s 7ms/step - loss: 0.0155 - accuracy: 0.9975 - val_loss: 0.0139 - val_accuracy: 1.0000\n",
            "Epoch 93/150\n",
            "10/10 [==============================] - 0s 7ms/step - loss: 0.0351 - accuracy: 0.9930 - val_loss: 0.0143 - val_accuracy: 1.0000\n",
            "Epoch 94/150\n",
            "10/10 [==============================] - 0s 6ms/step - loss: 0.0282 - accuracy: 0.9857 - val_loss: 0.0148 - val_accuracy: 1.0000\n",
            "Epoch 95/150\n",
            "10/10 [==============================] - 0s 8ms/step - loss: 0.0145 - accuracy: 0.9982 - val_loss: 0.0152 - val_accuracy: 1.0000\n",
            "Epoch 96/150\n",
            "10/10 [==============================] - 0s 7ms/step - loss: 0.0211 - accuracy: 0.9880 - val_loss: 0.0159 - val_accuracy: 0.9875\n",
            "Epoch 97/150\n",
            "10/10 [==============================] - 0s 7ms/step - loss: 0.0124 - accuracy: 0.9988 - val_loss: 0.0159 - val_accuracy: 0.9875\n",
            "Epoch 98/150\n",
            "10/10 [==============================] - 0s 7ms/step - loss: 0.0260 - accuracy: 0.9858 - val_loss: 0.0157 - val_accuracy: 0.9875\n",
            "Epoch 99/150\n",
            "10/10 [==============================] - 0s 7ms/step - loss: 0.0256 - accuracy: 0.9883 - val_loss: 0.0137 - val_accuracy: 1.0000\n",
            "Epoch 100/150\n",
            "10/10 [==============================] - 0s 6ms/step - loss: 0.0236 - accuracy: 0.9870 - val_loss: 0.0135 - val_accuracy: 1.0000\n",
            "Epoch 101/150\n",
            "10/10 [==============================] - 0s 7ms/step - loss: 0.0164 - accuracy: 0.9991 - val_loss: 0.0143 - val_accuracy: 0.9875\n",
            "Epoch 102/150\n",
            "10/10 [==============================] - 0s 7ms/step - loss: 0.0170 - accuracy: 0.9930 - val_loss: 0.0145 - val_accuracy: 0.9875\n",
            "Epoch 103/150\n",
            "10/10 [==============================] - 0s 7ms/step - loss: 0.0165 - accuracy: 0.9973 - val_loss: 0.0152 - val_accuracy: 0.9875\n",
            "Epoch 104/150\n",
            "10/10 [==============================] - 0s 7ms/step - loss: 0.0098 - accuracy: 1.0000 - val_loss: 0.0155 - val_accuracy: 0.9875\n",
            "Epoch 105/150\n",
            "10/10 [==============================] - 0s 8ms/step - loss: 0.0297 - accuracy: 0.9856 - val_loss: 0.0154 - val_accuracy: 0.9875\n",
            "Epoch 106/150\n",
            "10/10 [==============================] - 0s 7ms/step - loss: 0.0156 - accuracy: 0.9935 - val_loss: 0.0155 - val_accuracy: 0.9875\n",
            "Epoch 107/150\n",
            "10/10 [==============================] - 0s 7ms/step - loss: 0.0121 - accuracy: 1.0000 - val_loss: 0.0150 - val_accuracy: 0.9875\n",
            "Epoch 108/150\n",
            "10/10 [==============================] - 0s 7ms/step - loss: 0.0132 - accuracy: 0.9951 - val_loss: 0.0145 - val_accuracy: 0.9875\n",
            "Epoch 109/150\n",
            "10/10 [==============================] - 0s 7ms/step - loss: 0.0202 - accuracy: 0.9914 - val_loss: 0.0143 - val_accuracy: 0.9875\n",
            "Epoch 110/150\n",
            "10/10 [==============================] - 0s 7ms/step - loss: 0.0176 - accuracy: 0.9908 - val_loss: 0.0150 - val_accuracy: 0.9875\n",
            "Epoch 111/150\n",
            "10/10 [==============================] - 0s 7ms/step - loss: 0.0135 - accuracy: 1.0000 - val_loss: 0.0151 - val_accuracy: 0.9875\n",
            "Epoch 112/150\n",
            "10/10 [==============================] - 0s 7ms/step - loss: 0.0215 - accuracy: 0.9942 - val_loss: 0.0159 - val_accuracy: 0.9875\n",
            "Epoch 113/150\n",
            "10/10 [==============================] - 0s 7ms/step - loss: 0.0215 - accuracy: 0.9892 - val_loss: 0.0162 - val_accuracy: 0.9875\n",
            "Epoch 114/150\n",
            "10/10 [==============================] - 0s 7ms/step - loss: 0.0203 - accuracy: 1.0000 - val_loss: 0.0155 - val_accuracy: 0.9875\n",
            "Epoch 115/150\n",
            "10/10 [==============================] - 0s 8ms/step - loss: 0.0160 - accuracy: 0.9908 - val_loss: 0.0149 - val_accuracy: 0.9875\n",
            "Epoch 116/150\n",
            "10/10 [==============================] - 0s 8ms/step - loss: 0.0160 - accuracy: 0.9957 - val_loss: 0.0148 - val_accuracy: 0.9875\n",
            "Epoch 117/150\n",
            "10/10 [==============================] - 0s 7ms/step - loss: 0.0101 - accuracy: 1.0000 - val_loss: 0.0144 - val_accuracy: 0.9875\n",
            "Epoch 118/150\n",
            "10/10 [==============================] - 0s 7ms/step - loss: 0.0090 - accuracy: 0.9988 - val_loss: 0.0143 - val_accuracy: 0.9875\n",
            "Epoch 119/150\n",
            "10/10 [==============================] - 0s 7ms/step - loss: 0.0106 - accuracy: 0.9967 - val_loss: 0.0146 - val_accuracy: 0.9875\n",
            "Epoch 120/150\n",
            "10/10 [==============================] - 0s 8ms/step - loss: 0.0136 - accuracy: 0.9942 - val_loss: 0.0149 - val_accuracy: 0.9875\n",
            "Epoch 121/150\n",
            "10/10 [==============================] - 0s 7ms/step - loss: 0.0159 - accuracy: 0.9921 - val_loss: 0.0142 - val_accuracy: 0.9875\n",
            "Epoch 122/150\n",
            "10/10 [==============================] - 0s 7ms/step - loss: 0.0123 - accuracy: 1.0000 - val_loss: 0.0138 - val_accuracy: 0.9875\n",
            "Epoch 123/150\n",
            "10/10 [==============================] - 0s 8ms/step - loss: 0.0035 - accuracy: 1.0000 - val_loss: 0.0141 - val_accuracy: 0.9875\n",
            "Epoch 124/150\n",
            "10/10 [==============================] - 0s 7ms/step - loss: 0.0124 - accuracy: 0.9979 - val_loss: 0.0148 - val_accuracy: 0.9875\n",
            "Epoch 125/150\n",
            "10/10 [==============================] - 0s 6ms/step - loss: 0.0108 - accuracy: 0.9973 - val_loss: 0.0157 - val_accuracy: 0.9875\n",
            "Epoch 126/150\n",
            "10/10 [==============================] - 0s 7ms/step - loss: 0.0243 - accuracy: 0.9914 - val_loss: 0.0168 - val_accuracy: 0.9875\n",
            "Epoch 127/150\n",
            "10/10 [==============================] - 0s 8ms/step - loss: 0.0105 - accuracy: 0.9978 - val_loss: 0.0161 - val_accuracy: 0.9875\n",
            "Epoch 128/150\n",
            "10/10 [==============================] - 0s 7ms/step - loss: 0.0066 - accuracy: 1.0000 - val_loss: 0.0148 - val_accuracy: 0.9875\n",
            "Epoch 129/150\n",
            "10/10 [==============================] - 0s 8ms/step - loss: 0.0059 - accuracy: 1.0000 - val_loss: 0.0139 - val_accuracy: 1.0000\n",
            "Epoch 130/150\n",
            "10/10 [==============================] - 0s 9ms/step - loss: 0.0154 - accuracy: 0.9979 - val_loss: 0.0140 - val_accuracy: 1.0000\n",
            "Epoch 131/150\n",
            "10/10 [==============================] - 0s 6ms/step - loss: 0.0073 - accuracy: 1.0000 - val_loss: 0.0142 - val_accuracy: 1.0000\n",
            "Epoch 132/150\n",
            "10/10 [==============================] - 0s 7ms/step - loss: 0.0106 - accuracy: 1.0000 - val_loss: 0.0142 - val_accuracy: 0.9875\n",
            "Epoch 133/150\n",
            "10/10 [==============================] - 0s 8ms/step - loss: 0.0070 - accuracy: 1.0000 - val_loss: 0.0136 - val_accuracy: 0.9875\n",
            "Epoch 134/150\n",
            "10/10 [==============================] - 0s 8ms/step - loss: 0.0067 - accuracy: 1.0000 - val_loss: 0.0133 - val_accuracy: 0.9875\n",
            "Epoch 135/150\n",
            "10/10 [==============================] - 0s 8ms/step - loss: 0.0086 - accuracy: 1.0000 - val_loss: 0.0136 - val_accuracy: 0.9875\n",
            "Epoch 136/150\n",
            "10/10 [==============================] - 0s 7ms/step - loss: 0.0088 - accuracy: 1.0000 - val_loss: 0.0137 - val_accuracy: 0.9875\n",
            "Epoch 137/150\n",
            "10/10 [==============================] - 0s 7ms/step - loss: 0.0093 - accuracy: 1.0000 - val_loss: 0.0144 - val_accuracy: 0.9875\n",
            "Epoch 138/150\n",
            "10/10 [==============================] - 0s 7ms/step - loss: 0.0102 - accuracy: 1.0000 - val_loss: 0.0148 - val_accuracy: 0.9875\n",
            "Epoch 139/150\n",
            "10/10 [==============================] - 0s 7ms/step - loss: 0.0067 - accuracy: 1.0000 - val_loss: 0.0146 - val_accuracy: 0.9875\n",
            "Epoch 140/150\n",
            "10/10 [==============================] - 0s 7ms/step - loss: 0.0058 - accuracy: 1.0000 - val_loss: 0.0146 - val_accuracy: 0.9875\n",
            "Epoch 141/150\n",
            "10/10 [==============================] - 0s 7ms/step - loss: 0.0080 - accuracy: 0.9973 - val_loss: 0.0146 - val_accuracy: 0.9875\n",
            "Epoch 142/150\n",
            "10/10 [==============================] - 0s 7ms/step - loss: 0.0120 - accuracy: 0.9939 - val_loss: 0.0138 - val_accuracy: 0.9875\n",
            "Epoch 143/150\n",
            "10/10 [==============================] - 0s 7ms/step - loss: 0.0084 - accuracy: 0.9984 - val_loss: 0.0148 - val_accuracy: 0.9875\n",
            "Epoch 144/150\n",
            "10/10 [==============================] - 0s 7ms/step - loss: 0.0057 - accuracy: 1.0000 - val_loss: 0.0159 - val_accuracy: 0.9875\n",
            "Epoch 145/150\n",
            "10/10 [==============================] - 0s 7ms/step - loss: 0.0218 - accuracy: 0.9908 - val_loss: 0.0157 - val_accuracy: 0.9875\n",
            "Epoch 146/150\n",
            "10/10 [==============================] - 0s 7ms/step - loss: 0.0064 - accuracy: 0.9994 - val_loss: 0.0156 - val_accuracy: 0.9875\n",
            "Epoch 147/150\n",
            "10/10 [==============================] - 0s 9ms/step - loss: 0.0119 - accuracy: 0.9942 - val_loss: 0.0164 - val_accuracy: 0.9875\n",
            "Epoch 148/150\n",
            "10/10 [==============================] - 0s 7ms/step - loss: 0.0088 - accuracy: 1.0000 - val_loss: 0.0160 - val_accuracy: 0.9875\n",
            "Epoch 149/150\n",
            "10/10 [==============================] - 0s 7ms/step - loss: 0.0095 - accuracy: 0.9994 - val_loss: 0.0155 - val_accuracy: 0.9875\n",
            "Epoch 150/150\n",
            "10/10 [==============================] - 0s 7ms/step - loss: 0.0064 - accuracy: 1.0000 - val_loss: 0.0152 - val_accuracy: 0.9875\n"
          ],
          "name": "stdout"
        }
      ]
    },
    {
      "cell_type": "markdown",
      "metadata": {
        "id": "fyLnmQMjfPJi"
      },
      "source": [
        "* **7. Predicciones**\n",
        "\n",
        "Dado que la función de activación es sigmoid, las predicciones > 0.5 serán de la clase 1 y las predicciones <= 0.5 serán de la clase 0\n",
        "\n",
        "<image src=https://upload.wikimedia.org/wikipedia/commons/thumb/8/88/Logistic-curve.svg/480px-Logistic-curve.svg.png >"
      ]
    },
    {
      "cell_type": "code",
      "metadata": {
        "colab": {
          "base_uri": "https://localhost:8080/"
        },
        "id": "wc7d-y3Ferzt",
        "outputId": "a51b176e-e659-4b3a-9cee-80876c32ece4"
      },
      "source": [
        "# Predicting the Test set results\n",
        "y_pred = model.predict(X_test)\n",
        "\n",
        "y_pred[y_pred > 0.5] = 1\n",
        "y_pred[y_pred <=0.5] = 0\n",
        "\n",
        "print(f'predichos \\nmalignant: {list(y_pred).count(0)} \\nbenign:{list(y_pred).count(1)}')"
      ],
      "execution_count": null,
      "outputs": [
        {
          "output_type": "stream",
          "text": [
            "predichos \n",
            "malignant: 65 \n",
            "benign:106\n"
          ],
          "name": "stdout"
        }
      ]
    },
    {
      "cell_type": "markdown",
      "metadata": {
        "id": "ggCF990sf_7P"
      },
      "source": [
        "* **8. Evaluación del modelo**"
      ]
    },
    {
      "cell_type": "code",
      "metadata": {
        "colab": {
          "base_uri": "https://localhost:8080/",
          "height": 282
        },
        "id": "VlMngVm7fdGd",
        "outputId": "d549242f-8d19-4918-9922-0f9bbedcaec4"
      },
      "source": [
        "from sklearn.metrics import confusion_matrix\n",
        "\n",
        "cm = confusion_matrix(y_test, y_pred)\n",
        "print(f\"Nuestra precisión es {((cm[0][0] + cm[1][1])/y_test.shape[0])*100}\")\n",
        "\n",
        "sns.heatmap(cm,annot=True)\n",
        "plt.savefig('h.png')"
      ],
      "execution_count": null,
      "outputs": [
        {
          "output_type": "stream",
          "text": [
            "Nuestra precisión es 95.90643274853801\n"
          ],
          "name": "stdout"
        },
        {
          "output_type": "display_data",
          "data": {
            "image/png": "[encoded data removed]",
            "text/plain": [
              "<Figure size 432x288 with 2 Axes>"
            ]
          },
          "metadata": {
            "tags": [],
            "needs_background": "light"
          }
        }
      ]
    },
    {
      "cell_type": "code",
      "metadata": {
        "colab": {
          "base_uri": "https://localhost:8080/",
          "height": 142
        },
        "id": "UNCcT4kZfe8G",
        "outputId": "88857947-57cf-4f5f-89fd-75be9ecaad3e"
      },
      "source": [
        "class_names = data.target_names\n",
        "list_confusion_matrix(cm, class_names)"
      ],
      "execution_count": null,
      "outputs": [
        {
          "output_type": "execute_result",
          "data": {
            "text/html": [
              "<div>\n",
              "<style scoped>\n",
              "    .dataframe tbody tr th:only-of-type {\n",
              "        vertical-align: middle;\n",
              "    }\n",
              "\n",
              "    .dataframe tbody tr th {\n",
              "        vertical-align: top;\n",
              "    }\n",
              "\n",
              "    .dataframe thead tr th {\n",
              "        text-align: left;\n",
              "    }\n",
              "</style>\n",
              "<table border=\"1\" class=\"dataframe\">\n",
              "  <thead>\n",
              "    <tr>\n",
              "      <th></th>\n",
              "      <th></th>\n",
              "      <th colspan=\"2\" halign=\"left\">Valor predicho</th>\n",
              "    </tr>\n",
              "    <tr>\n",
              "      <th></th>\n",
              "      <th></th>\n",
              "      <th>malignant</th>\n",
              "      <th>benign</th>\n",
              "    </tr>\n",
              "  </thead>\n",
              "  <tbody>\n",
              "    <tr>\n",
              "      <th rowspan=\"2\" valign=\"top\">Valor real</th>\n",
              "      <th>malignant</th>\n",
              "      <td>61</td>\n",
              "      <td>3</td>\n",
              "    </tr>\n",
              "    <tr>\n",
              "      <th>benign</th>\n",
              "      <td>4</td>\n",
              "      <td>103</td>\n",
              "    </tr>\n",
              "  </tbody>\n",
              "</table>\n",
              "</div>"
            ],
            "text/plain": [
              "                     Valor predicho       \n",
              "                          malignant benign\n",
              "Valor real malignant             61      3\n",
              "           benign                 4    103"
            ]
          },
          "metadata": {
            "tags": []
          },
          "execution_count": 20
        }
      ]
    },
    {
      "cell_type": "code",
      "metadata": {
        "colab": {
          "base_uri": "https://localhost:8080/",
          "height": 295
        },
        "id": "Hl7LPCWMsrAV",
        "outputId": "3a76ce34-6b6a-4f5e-f937-8f73d17b83de"
      },
      "source": [
        "plot_metric(history, 'loss')"
      ],
      "execution_count": null,
      "outputs": [
        {
          "output_type": "display_data",
          "data": {
            "image/png": "[encoded data removed]",
            "text/plain": [
              "<Figure size 432x288 with 1 Axes>"
            ]
          },
          "metadata": {
            "tags": [],
            "needs_background": "light"
          }
        }
      ]
    },
    {
      "cell_type": "code",
      "metadata": {
        "colab": {
          "base_uri": "https://localhost:8080/",
          "height": 295
        },
        "id": "rfag4hqruPm8",
        "outputId": "cf4e9b3d-0afb-4c22-d698-8975916c4917"
      },
      "source": [
        "plot_metric(history, 'accuracy')"
      ],
      "execution_count": null,
      "outputs": [
        {
          "output_type": "display_data",
          "data": {
            "image/png": "[encoded data removed]",
            "text/plain": [
              "<Figure size 432x288 with 1 Axes>"
            ]
          },
          "metadata": {
            "tags": [],
            "needs_background": "light"
          }
        }
      ]
    },
    {
      "cell_type": "markdown",
      "metadata": {
        "id": "VpKQLAYiyTyI"
      },
      "source": [
        "## I. Red neuronal de regresión\n",
        "### Boston Housing\n",
        "---\n"
      ]
    },
    {
      "cell_type": "markdown",
      "metadata": {
        "id": "xq97XNCYy_lp"
      },
      "source": [
        "* 1. Cargamos los datos y las etiquetas objetivo"
      ]
    },
    {
      "cell_type": "code",
      "metadata": {
        "colab": {
          "base_uri": "https://localhost:8080/"
        },
        "id": "AleXyqx3zPEB",
        "outputId": "0fa4d3dd-09cc-4d83-8780-a05e4cb46bfe"
      },
      "source": [
        "from sklearn.datasets import load_boston\n",
        "\n",
        "data = load_boston()\n",
        "X = data.data\n",
        "y = data.target\n",
        "\n",
        "print(f'Datos(filas, columnas){X.shape} y tipo: {type(X)}\\nEtiquetas(número): {y.shape} y tipo: {type(y)}')"
      ],
      "execution_count": 15,
      "outputs": [
        {
          "output_type": "stream",
          "text": [
            "Datos(filas, columnas)(506, 13) y tipo: <class 'numpy.ndarray'>\n",
            "Etiquetas(número): (506,) y tipo: <class 'numpy.ndarray'>\n"
          ],
          "name": "stdout"
        }
      ]
    },
    {
      "cell_type": "markdown",
      "metadata": {
        "id": "lJrkIBFB07t2"
      },
      "source": [
        "* 1.1 Exploramos los features"
      ]
    },
    {
      "cell_type": "code",
      "metadata": {
        "colab": {
          "base_uri": "https://localhost:8080/",
          "height": 289
        },
        "id": "-LhmHoyB07t7",
        "outputId": "2aa9ddf9-9c37-4353-bd56-faeb2f278e5c"
      },
      "source": [
        "print(f'{data.feature_names}') #como numpy array\n",
        "print(f'{X[0, :]} \\ncantidad de features: {len(X[0, :])}') #primer fila\n",
        "\n",
        "df_X = pd.DataFrame(dict(zip(data.feature_names, X))) #como DataFrame\n",
        "df_X[:5] #primeras 5 filas"
      ],
      "execution_count": 16,
      "outputs": [
        {
          "output_type": "stream",
          "text": [
            "['CRIM' 'ZN' 'INDUS' 'CHAS' 'NOX' 'RM' 'AGE' 'DIS' 'RAD' 'TAX' 'PTRATIO'\n",
            " 'B' 'LSTAT']\n",
            "[6.320e-03 1.800e+01 2.310e+00 0.000e+00 5.380e-01 6.575e+00 6.520e+01\n",
            " 4.090e+00 1.000e+00 2.960e+02 1.530e+01 3.969e+02 4.980e+00] \n",
            "cantidad de features: 13\n"
          ],
          "name": "stdout"
        },
        {
          "output_type": "execute_result",
          "data": {
            "text/html": [
              "<div>\n",
              "<style scoped>\n",
              "    .dataframe tbody tr th:only-of-type {\n",
              "        vertical-align: middle;\n",
              "    }\n",
              "\n",
              "    .dataframe tbody tr th {\n",
              "        vertical-align: top;\n",
              "    }\n",
              "\n",
              "    .dataframe thead th {\n",
              "        text-align: right;\n",
              "    }\n",
              "</style>\n",
              "<table border=\"1\" class=\"dataframe\">\n",
              "  <thead>\n",
              "    <tr style=\"text-align: right;\">\n",
              "      <th></th>\n",
              "      <th>CRIM</th>\n",
              "      <th>ZN</th>\n",
              "      <th>INDUS</th>\n",
              "      <th>CHAS</th>\n",
              "      <th>NOX</th>\n",
              "      <th>RM</th>\n",
              "      <th>AGE</th>\n",
              "      <th>DIS</th>\n",
              "      <th>RAD</th>\n",
              "      <th>TAX</th>\n",
              "      <th>PTRATIO</th>\n",
              "      <th>B</th>\n",
              "      <th>LSTAT</th>\n",
              "    </tr>\n",
              "  </thead>\n",
              "  <tbody>\n",
              "    <tr>\n",
              "      <th>0</th>\n",
              "      <td>0.00632</td>\n",
              "      <td>0.02731</td>\n",
              "      <td>0.02729</td>\n",
              "      <td>0.03237</td>\n",
              "      <td>0.06905</td>\n",
              "      <td>0.02985</td>\n",
              "      <td>0.08829</td>\n",
              "      <td>0.14455</td>\n",
              "      <td>0.21124</td>\n",
              "      <td>0.17004</td>\n",
              "      <td>0.22489</td>\n",
              "      <td>0.11747</td>\n",
              "      <td>0.09378</td>\n",
              "    </tr>\n",
              "    <tr>\n",
              "      <th>1</th>\n",
              "      <td>18.00000</td>\n",
              "      <td>0.00000</td>\n",
              "      <td>0.00000</td>\n",
              "      <td>0.00000</td>\n",
              "      <td>0.00000</td>\n",
              "      <td>0.00000</td>\n",
              "      <td>12.50000</td>\n",
              "      <td>12.50000</td>\n",
              "      <td>12.50000</td>\n",
              "      <td>12.50000</td>\n",
              "      <td>12.50000</td>\n",
              "      <td>12.50000</td>\n",
              "      <td>12.50000</td>\n",
              "    </tr>\n",
              "    <tr>\n",
              "      <th>2</th>\n",
              "      <td>2.31000</td>\n",
              "      <td>7.07000</td>\n",
              "      <td>7.07000</td>\n",
              "      <td>2.18000</td>\n",
              "      <td>2.18000</td>\n",
              "      <td>2.18000</td>\n",
              "      <td>7.87000</td>\n",
              "      <td>7.87000</td>\n",
              "      <td>7.87000</td>\n",
              "      <td>7.87000</td>\n",
              "      <td>7.87000</td>\n",
              "      <td>7.87000</td>\n",
              "      <td>7.87000</td>\n",
              "    </tr>\n",
              "    <tr>\n",
              "      <th>3</th>\n",
              "      <td>0.00000</td>\n",
              "      <td>0.00000</td>\n",
              "      <td>0.00000</td>\n",
              "      <td>0.00000</td>\n",
              "      <td>0.00000</td>\n",
              "      <td>0.00000</td>\n",
              "      <td>0.00000</td>\n",
              "      <td>0.00000</td>\n",
              "      <td>0.00000</td>\n",
              "      <td>0.00000</td>\n",
              "      <td>0.00000</td>\n",
              "      <td>0.00000</td>\n",
              "      <td>0.00000</td>\n",
              "    </tr>\n",
              "    <tr>\n",
              "      <th>4</th>\n",
              "      <td>0.53800</td>\n",
              "      <td>0.46900</td>\n",
              "      <td>0.46900</td>\n",
              "      <td>0.45800</td>\n",
              "      <td>0.45800</td>\n",
              "      <td>0.45800</td>\n",
              "      <td>0.52400</td>\n",
              "      <td>0.52400</td>\n",
              "      <td>0.52400</td>\n",
              "      <td>0.52400</td>\n",
              "      <td>0.52400</td>\n",
              "      <td>0.52400</td>\n",
              "      <td>0.52400</td>\n",
              "    </tr>\n",
              "  </tbody>\n",
              "</table>\n",
              "</div>"
            ],
            "text/plain": [
              "       CRIM       ZN    INDUS     CHAS  ...       TAX   PTRATIO         B     LSTAT\n",
              "0   0.00632  0.02731  0.02729  0.03237  ...   0.17004   0.22489   0.11747   0.09378\n",
              "1  18.00000  0.00000  0.00000  0.00000  ...  12.50000  12.50000  12.50000  12.50000\n",
              "2   2.31000  7.07000  7.07000  2.18000  ...   7.87000   7.87000   7.87000   7.87000\n",
              "3   0.00000  0.00000  0.00000  0.00000  ...   0.00000   0.00000   0.00000   0.00000\n",
              "4   0.53800  0.46900  0.46900  0.45800  ...   0.52400   0.52400   0.52400   0.52400\n",
              "\n",
              "[5 rows x 13 columns]"
            ]
          },
          "metadata": {
            "tags": []
          },
          "execution_count": 16
        }
      ]
    },
    {
      "cell_type": "markdown",
      "metadata": {
        "id": "cG_jW8sQ1Z0M"
      },
      "source": [
        "* 1.2 Exploramos  los target"
      ]
    },
    {
      "cell_type": "code",
      "metadata": {
        "colab": {
          "base_uri": "https://localhost:8080/",
          "height": 331
        },
        "id": "pA1w3-vR3vkE",
        "outputId": "1611ac01-ab83-40ee-fce1-92e61378b373"
      },
      "source": [
        "print(data.keys())\n",
        "#usando data.DESCR encontramos que la variable a predecir es MEDV\n",
        "print(\"MEDV: Median value of owner-occupied homes in $1000's\")\n",
        "pd.DataFrame({'MEDV': y}).describe()"
      ],
      "execution_count": 17,
      "outputs": [
        {
          "output_type": "stream",
          "text": [
            "dict_keys(['data', 'target', 'feature_names', 'DESCR', 'filename'])\n",
            "MEDV: Median value of owner-occupied homes in $1000's\n"
          ],
          "name": "stdout"
        },
        {
          "output_type": "execute_result",
          "data": {
            "text/html": [
              "<div>\n",
              "<style scoped>\n",
              "    .dataframe tbody tr th:only-of-type {\n",
              "        vertical-align: middle;\n",
              "    }\n",
              "\n",
              "    .dataframe tbody tr th {\n",
              "        vertical-align: top;\n",
              "    }\n",
              "\n",
              "    .dataframe thead th {\n",
              "        text-align: right;\n",
              "    }\n",
              "</style>\n",
              "<table border=\"1\" class=\"dataframe\">\n",
              "  <thead>\n",
              "    <tr style=\"text-align: right;\">\n",
              "      <th></th>\n",
              "      <th>MEDV</th>\n",
              "    </tr>\n",
              "  </thead>\n",
              "  <tbody>\n",
              "    <tr>\n",
              "      <th>count</th>\n",
              "      <td>506.000000</td>\n",
              "    </tr>\n",
              "    <tr>\n",
              "      <th>mean</th>\n",
              "      <td>22.532806</td>\n",
              "    </tr>\n",
              "    <tr>\n",
              "      <th>std</th>\n",
              "      <td>9.197104</td>\n",
              "    </tr>\n",
              "    <tr>\n",
              "      <th>min</th>\n",
              "      <td>5.000000</td>\n",
              "    </tr>\n",
              "    <tr>\n",
              "      <th>25%</th>\n",
              "      <td>17.025000</td>\n",
              "    </tr>\n",
              "    <tr>\n",
              "      <th>50%</th>\n",
              "      <td>21.200000</td>\n",
              "    </tr>\n",
              "    <tr>\n",
              "      <th>75%</th>\n",
              "      <td>25.000000</td>\n",
              "    </tr>\n",
              "    <tr>\n",
              "      <th>max</th>\n",
              "      <td>50.000000</td>\n",
              "    </tr>\n",
              "  </tbody>\n",
              "</table>\n",
              "</div>"
            ],
            "text/plain": [
              "             MEDV\n",
              "count  506.000000\n",
              "mean    22.532806\n",
              "std      9.197104\n",
              "min      5.000000\n",
              "25%     17.025000\n",
              "50%     21.200000\n",
              "75%     25.000000\n",
              "max     50.000000"
            ]
          },
          "metadata": {
            "tags": []
          },
          "execution_count": 17
        }
      ]
    },
    {
      "cell_type": "markdown",
      "metadata": {
        "id": "gTFUQoSM_HqX"
      },
      "source": [
        "* **2. dividimos los datos en test y train**"
      ]
    },
    {
      "cell_type": "code",
      "metadata": {
        "id": "-6B2QCq4_Hqa"
      },
      "source": [
        "from sklearn.model_selection import train_test_split\n",
        "\n",
        "X_train, X_test, y_train, y_test = train_test_split(X, y, test_size = 0.3, random_state = 0)"
      ],
      "execution_count": 18,
      "outputs": []
    },
    {
      "cell_type": "code",
      "metadata": {
        "colab": {
          "base_uri": "https://localhost:8080/"
        },
        "id": "zXbNSjgA_Hqc",
        "outputId": "c5af254a-4a50-47b4-acec-c99ec336f183"
      },
      "source": [
        "print(f'X test: {X_test.shape} & X train: {X_train.shape}')\n",
        "print(f'y test: {y_test.shape} & y train: {y_train.shape}')"
      ],
      "execution_count": 19,
      "outputs": [
        {
          "output_type": "stream",
          "text": [
            "X test: (152, 13) & X train: (354, 13)\n",
            "y test: (152,) & y train: (354,)\n"
          ],
          "name": "stdout"
        }
      ]
    },
    {
      "cell_type": "markdown",
      "metadata": {
        "id": "3guOAw4s_f8p"
      },
      "source": [
        "* **3. Normalizamos los datos**"
      ]
    },
    {
      "cell_type": "code",
      "metadata": {
        "id": "daYukOI7_f9A"
      },
      "source": [
        "from sklearn.preprocessing import StandardScaler\n",
        "\n",
        "normalizar = StandardScaler()\n",
        "X_train = normalizar.fit_transform(X_train)\n",
        "X_test = normalizar.transform(X_test) #por que este y no transform"
      ],
      "execution_count": 20,
      "outputs": []
    },
    {
      "cell_type": "markdown",
      "metadata": {
        "id": "ecEg_HrDAwyE"
      },
      "source": [
        "* **4. Definimos la arquitectura**"
      ]
    },
    {
      "cell_type": "code",
      "metadata": {
        "id": "pOiomzVcAwyb"
      },
      "source": [
        "from tensorflow.keras.models import Sequential\n",
        "from tensorflow.keras import layers \n",
        "\n",
        "model = Sequential()\n",
        "\n",
        "## add(): Adiciona capas una por una\n",
        "# layers.Dense(): Coloca una capa densa\n",
        "model.add(layers.Dense(units=128, activation='relu', input_shape=(13,), name='dense_1')) #capa de entrada 128 neuronas\n",
        ",\n",
        "#layers.dropout(): esto previene el overfitting (Regularización)\n",
        "model.add(layers.Dropout(0.1)) # 10% de las neuronas son descativadas en cada epoca\n",
        "model.add(layers.Dense(units=64, activation='relu', name='dense_2')) #capa oculta 64 neuronas\n",
        "\n",
        "model.add(layers.Dropout(0.1))\n",
        "model.add(layers.Dense(units=1, activation='linear', name='dense_3')) #capa de salida 1 neurona"
      ],
      "execution_count": 21,
      "outputs": []
    },
    {
      "cell_type": "markdown",
      "metadata": {
        "id": "VwdAtpGGA6j3"
      },
      "source": [
        "* **5. Compilamos el modelo**"
      ]
    },
    {
      "cell_type": "code",
      "metadata": {
        "colab": {
          "base_uri": "https://localhost:8080/",
          "height": 1000
        },
        "id": "sG2o8SFFA6j4",
        "outputId": "602c9aba-119a-46f1-e198-6cc20d290fd6"
      },
      "source": [
        "from tensorflow.keras import utils\n",
        "\n",
        "print(f'1er capa entrada: {128*13+128} parámetros \\n2da capa oculta: {64*128+64} parámetros \\n3er capa salida: {64+1} parámetros \\n')\n",
        "#1er capa 128 neuronas * 13 columnas X_train + 128 bias o intercerptos\n",
        "#2da capa 64 neuronas * 128 neuronas 1er capa + 64 bias o intercerptos\n",
        "#3er capa 16 neuronas 2da capa + 1 neurona 3er capa\n",
        "\n",
        "#model.compile(optimizer='adam', loss='binary_crossentropy', metrics=['mae'])\n",
        "model.compile(optimizer='adam', loss='mse', metrics=['mae'])\n",
        "\n",
        "model.summary()\n",
        "utils.plot_model(model, show_shapes=True)\n"
      ],
      "execution_count": 22,
      "outputs": [
        {
          "output_type": "stream",
          "text": [
            "1er capa entrada: 1792 parámetros \n",
            "2da capa oculta: 8256 parámetros \n",
            "3er capa salida: 65 parámetros \n",
            "\n",
            "Model: \"sequential_1\"\n",
            "_________________________________________________________________\n",
            "Layer (type)                 Output Shape              Param #   \n",
            "=================================================================\n",
            "dense_1 (Dense)              (None, 128)               1792      \n",
            "_________________________________________________________________\n",
            "dropout_2 (Dropout)          (None, 128)               0         \n",
            "_________________________________________________________________\n",
            "dense_2 (Dense)              (None, 64)                8256      \n",
            "_________________________________________________________________\n",
            "dropout_3 (Dropout)          (None, 64)                0         \n",
            "_________________________________________________________________\n",
            "dense_3 (Dense)              (None, 1)                 65        \n",
            "=================================================================\n",
            "Total params: 10,113\n",
            "Trainable params: 10,113\n",
            "Non-trainable params: 0\n",
            "_________________________________________________________________\n"
          ],
          "name": "stdout"
        },
        {
          "output_type": "execute_result",
          "data": {
            "image/png": "[encoded data removed]",
            "text/plain": [
              "<IPython.core.display.Image object>"
            ]
          },
          "metadata": {
            "tags": []
          },
          "execution_count": 22
        }
      ]
    },
    {
      "cell_type": "markdown",
      "metadata": {
        "id": "IrQIW1jNA6kG"
      },
      "source": [
        "* **6. Entrenamiento**"
      ]
    },
    {
      "cell_type": "code",
      "metadata": {
        "colab": {
          "base_uri": "https://localhost:8080/"
        },
        "id": "JmddPE58A6kH",
        "outputId": "79646290-618a-4aea-f8d3-36287241ce02"
      },
      "source": [
        "history = model.fit(X_train, y_train, batch_size=32, epochs=150, validation_split = 0.2)"
      ],
      "execution_count": 23,
      "outputs": [
        {
          "output_type": "stream",
          "text": [
            "Epoch 1/150\n",
            "9/9 [==============================] - 1s 63ms/step - loss: 567.0147 - mae: 22.1823 - val_loss: 513.9339 - val_mae: 20.8017\n",
            "Epoch 2/150\n",
            "9/9 [==============================] - 0s 8ms/step - loss: 552.0472 - mae: 21.4508 - val_loss: 452.3380 - val_mae: 19.3257\n",
            "Epoch 3/150\n",
            "9/9 [==============================] - 0s 7ms/step - loss: 457.5113 - mae: 19.4374 - val_loss: 375.8705 - val_mae: 17.4150\n",
            "Epoch 4/150\n",
            "9/9 [==============================] - 0s 7ms/step - loss: 414.9970 - mae: 18.1236 - val_loss: 283.2447 - val_mae: 14.9354\n",
            "Epoch 5/150\n",
            "9/9 [==============================] - 0s 7ms/step - loss: 288.8413 - mae: 14.9527 - val_loss: 186.6338 - val_mae: 11.7990\n",
            "Epoch 6/150\n",
            "9/9 [==============================] - 0s 8ms/step - loss: 191.4245 - mae: 11.7227 - val_loss: 106.6706 - val_mae: 8.3213\n",
            "Epoch 7/150\n",
            "9/9 [==============================] - 0s 7ms/step - loss: 114.5957 - mae: 8.5192 - val_loss: 65.5477 - val_mae: 6.1440\n",
            "Epoch 8/150\n",
            "9/9 [==============================] - 0s 7ms/step - loss: 67.5623 - mae: 6.7872 - val_loss: 54.8767 - val_mae: 5.5034\n",
            "Epoch 9/150\n",
            "9/9 [==============================] - 0s 7ms/step - loss: 51.6996 - mae: 5.6195 - val_loss: 46.4989 - val_mae: 4.9878\n",
            "Epoch 10/150\n",
            "9/9 [==============================] - 0s 7ms/step - loss: 43.4093 - mae: 5.1048 - val_loss: 36.3317 - val_mae: 4.2890\n",
            "Epoch 11/150\n",
            "9/9 [==============================] - 0s 8ms/step - loss: 34.1609 - mae: 4.6213 - val_loss: 29.7187 - val_mae: 3.7956\n",
            "Epoch 12/150\n",
            "9/9 [==============================] - 0s 7ms/step - loss: 28.8855 - mae: 3.9122 - val_loss: 26.5860 - val_mae: 3.6571\n",
            "Epoch 13/150\n",
            "9/9 [==============================] - 0s 8ms/step - loss: 32.4726 - mae: 4.0989 - val_loss: 24.7272 - val_mae: 3.5766\n",
            "Epoch 14/150\n",
            "9/9 [==============================] - 0s 7ms/step - loss: 27.8167 - mae: 3.9242 - val_loss: 23.7944 - val_mae: 3.5450\n",
            "Epoch 15/150\n",
            "9/9 [==============================] - 0s 7ms/step - loss: 21.4387 - mae: 3.4242 - val_loss: 23.1968 - val_mae: 3.4967\n",
            "Epoch 16/150\n",
            "9/9 [==============================] - 0s 8ms/step - loss: 20.8665 - mae: 3.2962 - val_loss: 22.3081 - val_mae: 3.4253\n",
            "Epoch 17/150\n",
            "9/9 [==============================] - 0s 8ms/step - loss: 19.7113 - mae: 3.2418 - val_loss: 21.5305 - val_mae: 3.3484\n",
            "Epoch 18/150\n",
            "9/9 [==============================] - 0s 7ms/step - loss: 16.3590 - mae: 2.9531 - val_loss: 20.7277 - val_mae: 3.2828\n",
            "Epoch 19/150\n",
            "9/9 [==============================] - 0s 8ms/step - loss: 16.8332 - mae: 3.0743 - val_loss: 19.8736 - val_mae: 3.2209\n",
            "Epoch 20/150\n",
            "9/9 [==============================] - 0s 8ms/step - loss: 21.1129 - mae: 3.3301 - val_loss: 19.2031 - val_mae: 3.1706\n",
            "Epoch 21/150\n",
            "9/9 [==============================] - 0s 8ms/step - loss: 22.1337 - mae: 3.4778 - val_loss: 18.9460 - val_mae: 3.1374\n",
            "Epoch 22/150\n",
            "9/9 [==============================] - 0s 7ms/step - loss: 14.9878 - mae: 2.9322 - val_loss: 18.9854 - val_mae: 3.1300\n",
            "Epoch 23/150\n",
            "9/9 [==============================] - 0s 7ms/step - loss: 20.6438 - mae: 3.2337 - val_loss: 18.5144 - val_mae: 3.0754\n",
            "Epoch 24/150\n",
            "9/9 [==============================] - 0s 8ms/step - loss: 16.0564 - mae: 2.7963 - val_loss: 18.1560 - val_mae: 3.0331\n",
            "Epoch 25/150\n",
            "9/9 [==============================] - 0s 8ms/step - loss: 13.6769 - mae: 2.7936 - val_loss: 17.5999 - val_mae: 2.9819\n",
            "Epoch 26/150\n",
            "9/9 [==============================] - 0s 8ms/step - loss: 15.7318 - mae: 2.8409 - val_loss: 17.2829 - val_mae: 2.9435\n",
            "Epoch 27/150\n",
            "9/9 [==============================] - 0s 8ms/step - loss: 14.7109 - mae: 2.8940 - val_loss: 17.1227 - val_mae: 2.9139\n",
            "Epoch 28/150\n",
            "9/9 [==============================] - 0s 7ms/step - loss: 14.9718 - mae: 2.8798 - val_loss: 16.7299 - val_mae: 2.8673\n",
            "Epoch 29/150\n",
            "9/9 [==============================] - 0s 8ms/step - loss: 13.5406 - mae: 2.7140 - val_loss: 16.6989 - val_mae: 2.8531\n",
            "Epoch 30/150\n",
            "9/9 [==============================] - 0s 7ms/step - loss: 14.6718 - mae: 2.9249 - val_loss: 15.9878 - val_mae: 2.7875\n",
            "Epoch 31/150\n",
            "9/9 [==============================] - 0s 9ms/step - loss: 11.9677 - mae: 2.5930 - val_loss: 15.7040 - val_mae: 2.7618\n",
            "Epoch 32/150\n",
            "9/9 [==============================] - 0s 8ms/step - loss: 13.2175 - mae: 2.6920 - val_loss: 15.5273 - val_mae: 2.7394\n",
            "Epoch 33/150\n",
            "9/9 [==============================] - 0s 8ms/step - loss: 11.1260 - mae: 2.4301 - val_loss: 15.5704 - val_mae: 2.7464\n",
            "Epoch 34/150\n",
            "9/9 [==============================] - 0s 8ms/step - loss: 12.0051 - mae: 2.6151 - val_loss: 15.2741 - val_mae: 2.7133\n",
            "Epoch 35/150\n",
            "9/9 [==============================] - 0s 7ms/step - loss: 10.7110 - mae: 2.4384 - val_loss: 15.3824 - val_mae: 2.7235\n",
            "Epoch 36/150\n",
            "9/9 [==============================] - 0s 9ms/step - loss: 14.0072 - mae: 2.7122 - val_loss: 15.3131 - val_mae: 2.7200\n",
            "Epoch 37/150\n",
            "9/9 [==============================] - 0s 8ms/step - loss: 12.6350 - mae: 2.6215 - val_loss: 15.0755 - val_mae: 2.7058\n",
            "Epoch 38/150\n",
            "9/9 [==============================] - 0s 8ms/step - loss: 14.7375 - mae: 2.8912 - val_loss: 14.7678 - val_mae: 2.6784\n",
            "Epoch 39/150\n",
            "9/9 [==============================] - 0s 8ms/step - loss: 13.2384 - mae: 2.6937 - val_loss: 15.0191 - val_mae: 2.7040\n",
            "Epoch 40/150\n",
            "9/9 [==============================] - 0s 9ms/step - loss: 12.5665 - mae: 2.6500 - val_loss: 14.5879 - val_mae: 2.6488\n",
            "Epoch 41/150\n",
            "9/9 [==============================] - 0s 8ms/step - loss: 14.3341 - mae: 2.6984 - val_loss: 14.4574 - val_mae: 2.6293\n",
            "Epoch 42/150\n",
            "9/9 [==============================] - 0s 7ms/step - loss: 14.1697 - mae: 2.8815 - val_loss: 14.4700 - val_mae: 2.6432\n",
            "Epoch 43/150\n",
            "9/9 [==============================] - 0s 7ms/step - loss: 13.9136 - mae: 2.7184 - val_loss: 14.1233 - val_mae: 2.6126\n",
            "Epoch 44/150\n",
            "9/9 [==============================] - 0s 8ms/step - loss: 13.9608 - mae: 2.7168 - val_loss: 14.0969 - val_mae: 2.6220\n",
            "Epoch 45/150\n",
            "9/9 [==============================] - 0s 8ms/step - loss: 16.4495 - mae: 2.9414 - val_loss: 14.0558 - val_mae: 2.6032\n",
            "Epoch 46/150\n",
            "9/9 [==============================] - 0s 7ms/step - loss: 13.6940 - mae: 2.7294 - val_loss: 13.8016 - val_mae: 2.5664\n",
            "Epoch 47/150\n",
            "9/9 [==============================] - 0s 8ms/step - loss: 13.7966 - mae: 2.6362 - val_loss: 13.2596 - val_mae: 2.4898\n",
            "Epoch 48/150\n",
            "9/9 [==============================] - 0s 8ms/step - loss: 11.6389 - mae: 2.4370 - val_loss: 13.7567 - val_mae: 2.5779\n",
            "Epoch 49/150\n",
            "9/9 [==============================] - 0s 9ms/step - loss: 11.5632 - mae: 2.5412 - val_loss: 13.1574 - val_mae: 2.4940\n",
            "Epoch 50/150\n",
            "9/9 [==============================] - 0s 8ms/step - loss: 11.0927 - mae: 2.4152 - val_loss: 12.9225 - val_mae: 2.4833\n",
            "Epoch 51/150\n",
            "9/9 [==============================] - 0s 7ms/step - loss: 15.2919 - mae: 2.7896 - val_loss: 12.9459 - val_mae: 2.4962\n",
            "Epoch 52/150\n",
            "9/9 [==============================] - 0s 7ms/step - loss: 12.4482 - mae: 2.6961 - val_loss: 12.6767 - val_mae: 2.4810\n",
            "Epoch 53/150\n",
            "9/9 [==============================] - 0s 8ms/step - loss: 11.9865 - mae: 2.6372 - val_loss: 12.7940 - val_mae: 2.4935\n",
            "Epoch 54/150\n",
            "9/9 [==============================] - 0s 7ms/step - loss: 13.1586 - mae: 2.6559 - val_loss: 12.7920 - val_mae: 2.5008\n",
            "Epoch 55/150\n",
            "9/9 [==============================] - 0s 7ms/step - loss: 11.4194 - mae: 2.5063 - val_loss: 12.6353 - val_mae: 2.4852\n",
            "Epoch 56/150\n",
            "9/9 [==============================] - 0s 7ms/step - loss: 12.4828 - mae: 2.6032 - val_loss: 12.6142 - val_mae: 2.4743\n",
            "Epoch 57/150\n",
            "9/9 [==============================] - 0s 7ms/step - loss: 10.4837 - mae: 2.3775 - val_loss: 12.2636 - val_mae: 2.4316\n",
            "Epoch 58/150\n",
            "9/9 [==============================] - 0s 7ms/step - loss: 11.5359 - mae: 2.5362 - val_loss: 12.5426 - val_mae: 2.4657\n",
            "Epoch 59/150\n",
            "9/9 [==============================] - 0s 9ms/step - loss: 12.0257 - mae: 2.3875 - val_loss: 12.7420 - val_mae: 2.4948\n",
            "Epoch 60/150\n",
            "9/9 [==============================] - 0s 8ms/step - loss: 11.2588 - mae: 2.4226 - val_loss: 12.6149 - val_mae: 2.4691\n",
            "Epoch 61/150\n",
            "9/9 [==============================] - 0s 8ms/step - loss: 12.7039 - mae: 2.5610 - val_loss: 12.7105 - val_mae: 2.4836\n",
            "Epoch 62/150\n",
            "9/9 [==============================] - 0s 8ms/step - loss: 9.3018 - mae: 2.3433 - val_loss: 12.5677 - val_mae: 2.4794\n",
            "Epoch 63/150\n",
            "9/9 [==============================] - 0s 8ms/step - loss: 9.1026 - mae: 2.3008 - val_loss: 12.0724 - val_mae: 2.4221\n",
            "Epoch 64/150\n",
            "9/9 [==============================] - 0s 8ms/step - loss: 13.1218 - mae: 2.6562 - val_loss: 11.9352 - val_mae: 2.4148\n",
            "Epoch 65/150\n",
            "9/9 [==============================] - 0s 7ms/step - loss: 15.3002 - mae: 2.8111 - val_loss: 11.9120 - val_mae: 2.4333\n",
            "Epoch 66/150\n",
            "9/9 [==============================] - 0s 8ms/step - loss: 11.3569 - mae: 2.5121 - val_loss: 11.7789 - val_mae: 2.4170\n",
            "Epoch 67/150\n",
            "9/9 [==============================] - 0s 7ms/step - loss: 11.1623 - mae: 2.4959 - val_loss: 11.4891 - val_mae: 2.3850\n",
            "Epoch 68/150\n",
            "9/9 [==============================] - 0s 7ms/step - loss: 11.3514 - mae: 2.5563 - val_loss: 11.6396 - val_mae: 2.4026\n",
            "Epoch 69/150\n",
            "9/9 [==============================] - 0s 7ms/step - loss: 10.4447 - mae: 2.4784 - val_loss: 11.7278 - val_mae: 2.4175\n",
            "Epoch 70/150\n",
            "9/9 [==============================] - 0s 8ms/step - loss: 10.6407 - mae: 2.4799 - val_loss: 12.1006 - val_mae: 2.4674\n",
            "Epoch 71/150\n",
            "9/9 [==============================] - 0s 8ms/step - loss: 11.4946 - mae: 2.5186 - val_loss: 12.6258 - val_mae: 2.5218\n",
            "Epoch 72/150\n",
            "9/9 [==============================] - 0s 7ms/step - loss: 10.0892 - mae: 2.3943 - val_loss: 12.5186 - val_mae: 2.5253\n",
            "Epoch 73/150\n",
            "9/9 [==============================] - 0s 7ms/step - loss: 11.1067 - mae: 2.5730 - val_loss: 11.3783 - val_mae: 2.3668\n",
            "Epoch 74/150\n",
            "9/9 [==============================] - 0s 8ms/step - loss: 10.7767 - mae: 2.4192 - val_loss: 11.3786 - val_mae: 2.3698\n",
            "Epoch 75/150\n",
            "9/9 [==============================] - 0s 8ms/step - loss: 13.4376 - mae: 2.6114 - val_loss: 11.5901 - val_mae: 2.4209\n",
            "Epoch 76/150\n",
            "9/9 [==============================] - 0s 7ms/step - loss: 10.4725 - mae: 2.4698 - val_loss: 11.4822 - val_mae: 2.3952\n",
            "Epoch 77/150\n",
            "9/9 [==============================] - 0s 7ms/step - loss: 9.8952 - mae: 2.3354 - val_loss: 11.2476 - val_mae: 2.3447\n",
            "Epoch 78/150\n",
            "9/9 [==============================] - 0s 7ms/step - loss: 9.5428 - mae: 2.3481 - val_loss: 11.5593 - val_mae: 2.3818\n",
            "Epoch 79/150\n",
            "9/9 [==============================] - 0s 7ms/step - loss: 9.1851 - mae: 2.2723 - val_loss: 11.4977 - val_mae: 2.3981\n",
            "Epoch 80/150\n",
            "9/9 [==============================] - 0s 7ms/step - loss: 10.2098 - mae: 2.3405 - val_loss: 11.0739 - val_mae: 2.3398\n",
            "Epoch 81/150\n",
            "9/9 [==============================] - 0s 7ms/step - loss: 14.3375 - mae: 2.6103 - val_loss: 11.1487 - val_mae: 2.3652\n",
            "Epoch 82/150\n",
            "9/9 [==============================] - 0s 7ms/step - loss: 9.9410 - mae: 2.4966 - val_loss: 11.3115 - val_mae: 2.3966\n",
            "Epoch 83/150\n",
            "9/9 [==============================] - 0s 7ms/step - loss: 12.3631 - mae: 2.4789 - val_loss: 11.6693 - val_mae: 2.4359\n",
            "Epoch 84/150\n",
            "9/9 [==============================] - 0s 7ms/step - loss: 10.3947 - mae: 2.4438 - val_loss: 11.1088 - val_mae: 2.3738\n",
            "Epoch 85/150\n",
            "9/9 [==============================] - 0s 7ms/step - loss: 8.0154 - mae: 2.1839 - val_loss: 10.7684 - val_mae: 2.3167\n",
            "Epoch 86/150\n",
            "9/9 [==============================] - 0s 8ms/step - loss: 12.0992 - mae: 2.6884 - val_loss: 11.1486 - val_mae: 2.3623\n",
            "Epoch 87/150\n",
            "9/9 [==============================] - 0s 7ms/step - loss: 9.3341 - mae: 2.2806 - val_loss: 11.0468 - val_mae: 2.3577\n",
            "Epoch 88/150\n",
            "9/9 [==============================] - 0s 8ms/step - loss: 9.9696 - mae: 2.2982 - val_loss: 11.1379 - val_mae: 2.3686\n",
            "Epoch 89/150\n",
            "9/9 [==============================] - 0s 7ms/step - loss: 10.4245 - mae: 2.2586 - val_loss: 11.0895 - val_mae: 2.3652\n",
            "Epoch 90/150\n",
            "9/9 [==============================] - 0s 7ms/step - loss: 10.7604 - mae: 2.3738 - val_loss: 11.1261 - val_mae: 2.3763\n",
            "Epoch 91/150\n",
            "9/9 [==============================] - 0s 8ms/step - loss: 10.6624 - mae: 2.3711 - val_loss: 11.4794 - val_mae: 2.4021\n",
            "Epoch 92/150\n",
            "9/9 [==============================] - 0s 8ms/step - loss: 11.4176 - mae: 2.4064 - val_loss: 11.1476 - val_mae: 2.3713\n",
            "Epoch 93/150\n",
            "9/9 [==============================] - 0s 8ms/step - loss: 9.4366 - mae: 2.3150 - val_loss: 11.1654 - val_mae: 2.3699\n",
            "Epoch 94/150\n",
            "9/9 [==============================] - 0s 8ms/step - loss: 11.2344 - mae: 2.4729 - val_loss: 11.2476 - val_mae: 2.3680\n",
            "Epoch 95/150\n",
            "9/9 [==============================] - 0s 8ms/step - loss: 10.6034 - mae: 2.2811 - val_loss: 11.4812 - val_mae: 2.4493\n",
            "Epoch 96/150\n",
            "9/9 [==============================] - 0s 7ms/step - loss: 9.4392 - mae: 2.2606 - val_loss: 10.9105 - val_mae: 2.3633\n",
            "Epoch 97/150\n",
            "9/9 [==============================] - 0s 7ms/step - loss: 10.1792 - mae: 2.4455 - val_loss: 11.4528 - val_mae: 2.4499\n",
            "Epoch 98/150\n",
            "9/9 [==============================] - 0s 7ms/step - loss: 8.9707 - mae: 2.2389 - val_loss: 10.7644 - val_mae: 2.3585\n",
            "Epoch 99/150\n",
            "9/9 [==============================] - 0s 8ms/step - loss: 8.6309 - mae: 2.2602 - val_loss: 10.7726 - val_mae: 2.3467\n",
            "Epoch 100/150\n",
            "9/9 [==============================] - 0s 8ms/step - loss: 11.3295 - mae: 2.4817 - val_loss: 10.8624 - val_mae: 2.3668\n",
            "Epoch 101/150\n",
            "9/9 [==============================] - 0s 8ms/step - loss: 12.5815 - mae: 2.6563 - val_loss: 10.5863 - val_mae: 2.3268\n",
            "Epoch 102/150\n",
            "9/9 [==============================] - 0s 7ms/step - loss: 9.9397 - mae: 2.4362 - val_loss: 10.3641 - val_mae: 2.3101\n",
            "Epoch 103/150\n",
            "9/9 [==============================] - 0s 8ms/step - loss: 8.8007 - mae: 2.3043 - val_loss: 10.1978 - val_mae: 2.2807\n",
            "Epoch 104/150\n",
            "9/9 [==============================] - 0s 8ms/step - loss: 9.9751 - mae: 2.2516 - val_loss: 10.4789 - val_mae: 2.3416\n",
            "Epoch 105/150\n",
            "9/9 [==============================] - 0s 7ms/step - loss: 9.2931 - mae: 2.3422 - val_loss: 10.2798 - val_mae: 2.3187\n",
            "Epoch 106/150\n",
            "9/9 [==============================] - 0s 7ms/step - loss: 9.6360 - mae: 2.2997 - val_loss: 10.4798 - val_mae: 2.3366\n",
            "Epoch 107/150\n",
            "9/9 [==============================] - 0s 8ms/step - loss: 10.0229 - mae: 2.4158 - val_loss: 10.8136 - val_mae: 2.4049\n",
            "Epoch 108/150\n",
            "9/9 [==============================] - 0s 8ms/step - loss: 8.4730 - mae: 2.2498 - val_loss: 10.5334 - val_mae: 2.3582\n",
            "Epoch 109/150\n",
            "9/9 [==============================] - 0s 9ms/step - loss: 8.9016 - mae: 2.1876 - val_loss: 10.5383 - val_mae: 2.3365\n",
            "Epoch 110/150\n",
            "9/9 [==============================] - 0s 7ms/step - loss: 8.5724 - mae: 2.2631 - val_loss: 11.1808 - val_mae: 2.4104\n",
            "Epoch 111/150\n",
            "9/9 [==============================] - 0s 7ms/step - loss: 10.2354 - mae: 2.3326 - val_loss: 10.5598 - val_mae: 2.3229\n",
            "Epoch 112/150\n",
            "9/9 [==============================] - 0s 7ms/step - loss: 10.6541 - mae: 2.4275 - val_loss: 10.8277 - val_mae: 2.3560\n",
            "Epoch 113/150\n",
            "9/9 [==============================] - 0s 7ms/step - loss: 10.6745 - mae: 2.4609 - val_loss: 10.7227 - val_mae: 2.3374\n",
            "Epoch 114/150\n",
            "9/9 [==============================] - 0s 7ms/step - loss: 11.3801 - mae: 2.3958 - val_loss: 10.6879 - val_mae: 2.3682\n",
            "Epoch 115/150\n",
            "9/9 [==============================] - 0s 8ms/step - loss: 9.9456 - mae: 2.4340 - val_loss: 10.4313 - val_mae: 2.3360\n",
            "Epoch 116/150\n",
            "9/9 [==============================] - 0s 9ms/step - loss: 9.8053 - mae: 2.3608 - val_loss: 10.4607 - val_mae: 2.3435\n",
            "Epoch 117/150\n",
            "9/9 [==============================] - 0s 8ms/step - loss: 10.5866 - mae: 2.3653 - val_loss: 9.9099 - val_mae: 2.2686\n",
            "Epoch 118/150\n",
            "9/9 [==============================] - 0s 8ms/step - loss: 10.9979 - mae: 2.2948 - val_loss: 9.9648 - val_mae: 2.2883\n",
            "Epoch 119/150\n",
            "9/9 [==============================] - 0s 8ms/step - loss: 7.7527 - mae: 2.1480 - val_loss: 10.2071 - val_mae: 2.3042\n",
            "Epoch 120/150\n",
            "9/9 [==============================] - 0s 8ms/step - loss: 8.5172 - mae: 2.2318 - val_loss: 10.1250 - val_mae: 2.3083\n",
            "Epoch 121/150\n",
            "9/9 [==============================] - 0s 7ms/step - loss: 10.1455 - mae: 2.3309 - val_loss: 10.4017 - val_mae: 2.3252\n",
            "Epoch 122/150\n",
            "9/9 [==============================] - 0s 7ms/step - loss: 10.6560 - mae: 2.5000 - val_loss: 10.8787 - val_mae: 2.3886\n",
            "Epoch 123/150\n",
            "9/9 [==============================] - 0s 8ms/step - loss: 8.8401 - mae: 2.1582 - val_loss: 10.4729 - val_mae: 2.3405\n",
            "Epoch 124/150\n",
            "9/9 [==============================] - 0s 8ms/step - loss: 8.7809 - mae: 2.3310 - val_loss: 10.2256 - val_mae: 2.3048\n",
            "Epoch 125/150\n",
            "9/9 [==============================] - 0s 8ms/step - loss: 8.2953 - mae: 2.1311 - val_loss: 10.8288 - val_mae: 2.3700\n",
            "Epoch 126/150\n",
            "9/9 [==============================] - 0s 7ms/step - loss: 9.2684 - mae: 2.3618 - val_loss: 10.8204 - val_mae: 2.3734\n",
            "Epoch 127/150\n",
            "9/9 [==============================] - 0s 9ms/step - loss: 10.3947 - mae: 2.4679 - val_loss: 10.4869 - val_mae: 2.3424\n",
            "Epoch 128/150\n",
            "9/9 [==============================] - 0s 8ms/step - loss: 10.5483 - mae: 2.3808 - val_loss: 9.9048 - val_mae: 2.2879\n",
            "Epoch 129/150\n",
            "9/9 [==============================] - 0s 8ms/step - loss: 7.5899 - mae: 2.0666 - val_loss: 9.5427 - val_mae: 2.2699\n",
            "Epoch 130/150\n",
            "9/9 [==============================] - 0s 9ms/step - loss: 9.1458 - mae: 2.3542 - val_loss: 9.7364 - val_mae: 2.2844\n",
            "Epoch 131/150\n",
            "9/9 [==============================] - 0s 8ms/step - loss: 9.4271 - mae: 2.2004 - val_loss: 9.6893 - val_mae: 2.2622\n",
            "Epoch 132/150\n",
            "9/9 [==============================] - 0s 8ms/step - loss: 8.9448 - mae: 2.2265 - val_loss: 10.2073 - val_mae: 2.3498\n",
            "Epoch 133/150\n",
            "9/9 [==============================] - 0s 8ms/step - loss: 9.0368 - mae: 2.3547 - val_loss: 9.9627 - val_mae: 2.3115\n",
            "Epoch 134/150\n",
            "9/9 [==============================] - 0s 8ms/step - loss: 8.5326 - mae: 2.1630 - val_loss: 10.1687 - val_mae: 2.3185\n",
            "Epoch 135/150\n",
            "9/9 [==============================] - 0s 8ms/step - loss: 10.0944 - mae: 2.3501 - val_loss: 9.8919 - val_mae: 2.3175\n",
            "Epoch 136/150\n",
            "9/9 [==============================] - 0s 9ms/step - loss: 8.4753 - mae: 2.1533 - val_loss: 10.1855 - val_mae: 2.3446\n",
            "Epoch 137/150\n",
            "9/9 [==============================] - 0s 8ms/step - loss: 8.4908 - mae: 2.3020 - val_loss: 9.1074 - val_mae: 2.2035\n",
            "Epoch 138/150\n",
            "9/9 [==============================] - 0s 8ms/step - loss: 9.0656 - mae: 2.3136 - val_loss: 9.9242 - val_mae: 2.2869\n",
            "Epoch 139/150\n",
            "9/9 [==============================] - 0s 8ms/step - loss: 8.2408 - mae: 2.1054 - val_loss: 9.7561 - val_mae: 2.2598\n",
            "Epoch 140/150\n",
            "9/9 [==============================] - 0s 7ms/step - loss: 7.6475 - mae: 2.0987 - val_loss: 10.0310 - val_mae: 2.3462\n",
            "Epoch 141/150\n",
            "9/9 [==============================] - 0s 8ms/step - loss: 8.2157 - mae: 2.1603 - val_loss: 9.6315 - val_mae: 2.2914\n",
            "Epoch 142/150\n",
            "9/9 [==============================] - 0s 8ms/step - loss: 7.2900 - mae: 2.0000 - val_loss: 9.4619 - val_mae: 2.2598\n",
            "Epoch 143/150\n",
            "9/9 [==============================] - 0s 8ms/step - loss: 7.1822 - mae: 2.0402 - val_loss: 9.3628 - val_mae: 2.2567\n",
            "Epoch 144/150\n",
            "9/9 [==============================] - 0s 8ms/step - loss: 9.5360 - mae: 2.3455 - val_loss: 9.4550 - val_mae: 2.2722\n",
            "Epoch 145/150\n",
            "9/9 [==============================] - 0s 8ms/step - loss: 7.0661 - mae: 2.0486 - val_loss: 9.6516 - val_mae: 2.2834\n",
            "Epoch 146/150\n",
            "9/9 [==============================] - 0s 8ms/step - loss: 10.6739 - mae: 2.2858 - val_loss: 9.9652 - val_mae: 2.3036\n",
            "Epoch 147/150\n",
            "9/9 [==============================] - 0s 8ms/step - loss: 9.4488 - mae: 2.2832 - val_loss: 9.6379 - val_mae: 2.2775\n",
            "Epoch 148/150\n",
            "9/9 [==============================] - 0s 8ms/step - loss: 7.0857 - mae: 1.9310 - val_loss: 9.3535 - val_mae: 2.2426\n",
            "Epoch 149/150\n",
            "9/9 [==============================] - 0s 9ms/step - loss: 8.2100 - mae: 2.2221 - val_loss: 9.3777 - val_mae: 2.2494\n",
            "Epoch 150/150\n",
            "9/9 [==============================] - 0s 8ms/step - loss: 8.5079 - mae: 2.1576 - val_loss: 9.1858 - val_mae: 2.2469\n"
          ],
          "name": "stdout"
        }
      ]
    },
    {
      "cell_type": "markdown",
      "metadata": {
        "id": "5H5mPCGnR7Zk"
      },
      "source": [
        "* **7. Predicciones**\n",
        "\n"
      ]
    },
    {
      "cell_type": "code",
      "metadata": {
        "colab": {
          "base_uri": "https://localhost:8080/",
          "height": 204
        },
        "id": "Y96p5KoJSMbL",
        "outputId": "577a58ef-bbd0-47fd-db36-22714af95432"
      },
      "source": [
        "hist = pd.DataFrame(history.history)\n",
        "hist['epoch'] = history.epoch\n",
        "hist.tail()"
      ],
      "execution_count": 24,
      "outputs": [
        {
          "output_type": "execute_result",
          "data": {
            "text/html": [
              "<div>\n",
              "<style scoped>\n",
              "    .dataframe tbody tr th:only-of-type {\n",
              "        vertical-align: middle;\n",
              "    }\n",
              "\n",
              "    .dataframe tbody tr th {\n",
              "        vertical-align: top;\n",
              "    }\n",
              "\n",
              "    .dataframe thead th {\n",
              "        text-align: right;\n",
              "    }\n",
              "</style>\n",
              "<table border=\"1\" class=\"dataframe\">\n",
              "  <thead>\n",
              "    <tr style=\"text-align: right;\">\n",
              "      <th></th>\n",
              "      <th>loss</th>\n",
              "      <th>mae</th>\n",
              "      <th>val_loss</th>\n",
              "      <th>val_mae</th>\n",
              "      <th>epoch</th>\n",
              "    </tr>\n",
              "  </thead>\n",
              "  <tbody>\n",
              "    <tr>\n",
              "      <th>145</th>\n",
              "      <td>9.050806</td>\n",
              "      <td>2.198735</td>\n",
              "      <td>9.965225</td>\n",
              "      <td>2.303628</td>\n",
              "      <td>145</td>\n",
              "    </tr>\n",
              "    <tr>\n",
              "      <th>146</th>\n",
              "      <td>9.956330</td>\n",
              "      <td>2.298265</td>\n",
              "      <td>9.637858</td>\n",
              "      <td>2.277468</td>\n",
              "      <td>146</td>\n",
              "    </tr>\n",
              "    <tr>\n",
              "      <th>147</th>\n",
              "      <td>8.233363</td>\n",
              "      <td>2.090091</td>\n",
              "      <td>9.353485</td>\n",
              "      <td>2.242594</td>\n",
              "      <td>147</td>\n",
              "    </tr>\n",
              "    <tr>\n",
              "      <th>148</th>\n",
              "      <td>8.377262</td>\n",
              "      <td>2.245930</td>\n",
              "      <td>9.377742</td>\n",
              "      <td>2.249431</td>\n",
              "      <td>148</td>\n",
              "    </tr>\n",
              "    <tr>\n",
              "      <th>149</th>\n",
              "      <td>9.042333</td>\n",
              "      <td>2.200878</td>\n",
              "      <td>9.185776</td>\n",
              "      <td>2.246857</td>\n",
              "      <td>149</td>\n",
              "    </tr>\n",
              "  </tbody>\n",
              "</table>\n",
              "</div>"
            ],
            "text/plain": [
              "         loss       mae  val_loss   val_mae  epoch\n",
              "145  9.050806  2.198735  9.965225  2.303628    145\n",
              "146  9.956330  2.298265  9.637858  2.277468    146\n",
              "147  8.233363  2.090091  9.353485  2.242594    147\n",
              "148  8.377262  2.245930  9.377742  2.249431    148\n",
              "149  9.042333  2.200878  9.185776  2.246857    149"
            ]
          },
          "metadata": {
            "tags": []
          },
          "execution_count": 24
        }
      ]
    },
    {
      "cell_type": "markdown",
      "metadata": {
        "id": "4nau5JMtR7Zr"
      },
      "source": [
        "* **8. Evaluación del modelo**"
      ]
    },
    {
      "cell_type": "code",
      "metadata": {
        "colab": {
          "base_uri": "https://localhost:8080/",
          "height": 283
        },
        "id": "PBrcdNXpSYJR",
        "outputId": "00fadf13-8e84-4af6-d54d-932123499783"
      },
      "source": [
        "def plot_history(history):\n",
        "  hist = pd.DataFrame(history.history)\n",
        "  hist['epoch'] = history.epoch\n",
        "\n",
        "  plt.figure()\n",
        "  plt.xlabel('Epoch')\n",
        "  plt.ylabel('Mean Abs Error [MPG]')\n",
        "  plt.plot(hist['epoch'], hist['mae'],\n",
        "           label='Train Error')\n",
        "  plt.plot(hist['epoch'], hist['val_mae'],\n",
        "           label = 'Val Error')\n",
        "  plt.ylim([0,5])\n",
        "  plt.legend()\n",
        "\n",
        "  plt.show()\n",
        "\n",
        "\n",
        "plot_history(history)"
      ],
      "execution_count": null,
      "outputs": [
        {
          "output_type": "display_data",
          "data": {
            "image/png": "[encoded data removed]",
            "text/plain": [
              "<Figure size 432x288 with 1 Axes>"
            ]
          },
          "metadata": {
            "tags": [],
            "needs_background": "light"
          }
        }
      ]
    },
    {
      "cell_type": "code",
      "metadata": {
        "colab": {
          "base_uri": "https://localhost:8080/"
        },
        "id": "0kcUFxSo8Lb_",
        "outputId": "a349db29-757d-4fb0-cf8b-f3a987848b5d"
      },
      "source": [
        "y_pred = model.predict(X_test).flatten()\n",
        "y_pred.shape"
      ],
      "execution_count": 30,
      "outputs": [
        {
          "output_type": "execute_result",
          "data": {
            "text/plain": [
              "(152,)"
            ]
          },
          "metadata": {
            "tags": []
          },
          "execution_count": 30
        }
      ]
    },
    {
      "cell_type": "code",
      "metadata": {
        "colab": {
          "base_uri": "https://localhost:8080/",
          "height": 283
        },
        "id": "VsfM2y2a8tR1",
        "outputId": "afd44489-42e8-47eb-ef6c-8f1ec6026d97"
      },
      "source": [
        "plt.scatter(y_test, y_pred)\n",
        "plt.xlabel('True Values [MDEV]')\n",
        "plt.ylabel('Predictions [MDEV]')\n",
        "plt.xlim([0, 60])\n",
        "plt.ylim([0, 60])\n",
        "_ = plt.plot([0, 60], [0, 60])"
      ],
      "execution_count": 37,
      "outputs": [
        {
          "output_type": "display_data",
          "data": {
            "image/png": "[encoded data removed]",
            "text/plain": [
              "<Figure size 432x288 with 1 Axes>"
            ]
          },
          "metadata": {
            "tags": [],
            "needs_background": "light"
          }
        }
      ]
    },
    {
      "cell_type": "code",
      "metadata": {
        "id": "kvGbG00G9Gcs"
      },
      "source": [
        ""
      ],
      "execution_count": null,
      "outputs": []
    }
  ]
}