{
  "nbformat": 4,
  "nbformat_minor": 0,
  "metadata": {
    "colab": {
      "name": "Mi_primer_cuadernito.ipynb",
      "provenance": []
    },
    "kernelspec": {
      "name": "python3",
      "display_name": "Python 3"
    }
  },
  "cells": [
    {
      "cell_type": "code",
      "metadata": {
        "id": "FunT5kDbbvbv"
      },
      "source": [
        ""
      ],
      "execution_count": null,
      "outputs": []
    },
    {
      "cell_type": "markdown",
      "metadata": {
        "id": "fXe35sAxd9aG"
      },
      "source": [
        "# Titulo\r\n",
        "---\r\n",
        "## Subtitulo\r\n",
        "#### Capitulo 1\r\n",
        "##### sub sub\r\n",
        "###### subsub sub\r\n",
        "\r\n",
        "[Este es un link a una web de Google Cloud](https://cloud.google.com/tpu/)\r\n",
        "\r\n",
        "[Como aprender Markdown](https://www.markdownguide.org/basic-syntax/)\r\n",
        "\r\n",
        "![Esto es como se coloca una imagen](https://live.mrf.io/statics/i/ps/www.muycomputer.com/wp-content/uploads/2019/08/Matrix4.jpg?width=1200&enable=upscale)\r\n"
      ]
    },
    {
      "cell_type": "markdown",
      "metadata": {
        "id": "AZy4lhV2kSWs"
      },
      "source": [
        "*Así se hace la cursiva*\r\n",
        "\r\n",
        "**Así se escribe en negrita**\r\n",
        "\r\n",
        "***Asi es negrita y cursiva a la vez***\r\n",
        "> indenta "
      ]
    },
    {
      "cell_type": "markdown",
      "metadata": {
        "id": "v4z2jAcclknU"
      },
      "source": [
        "# Lenguaje LaTeX\r\n",
        "---\r\n",
        "$y=x^2$\r\n",
        "\r\n",
        "Centrada\r\n",
        "$$y=x^2$$\r\n",
        "\r\n",
        "$$\\frac{dC}{dt}=kC$$\r\n"
      ]
    },
    {
      "cell_type": "code",
      "metadata": {
        "colab": {
          "base_uri": "https://localhost:8080/"
        },
        "id": "6MHmminSlE-c",
        "outputId": "30683168-07e9-4c40-a55a-fbfebd1d3fd1"
      },
      "source": [
        "print('Hola AMIGO')"
      ],
      "execution_count": 1,
      "outputs": [
        {
          "output_type": "stream",
          "text": [
            "Hola AMIGO\n"
          ],
          "name": "stdout"
        }
      ]
    }
  ]
}