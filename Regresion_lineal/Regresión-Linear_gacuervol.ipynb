{
 "cells": [
  {
   "cell_type": "markdown",
   "metadata": {},
   "source": [
    "# Regresión Lineal "
   ]
  },
  {
   "cell_type": "markdown",
   "metadata": {},
   "source": [
    "## Introducción\n",
    "---\n",
    "<div style=\"text-align: justify\"> \n",
    "<p>La palabra regresión hace referencia a un conjunto de técnicas para modelar matemáticamente relaciones entre una o más variables independientes, es decir nos permite definir funciones matemáticas que permiten <b>predecir</b> el valor de una variable dependiente a partir de una o varias variables independientes. Por tanto, esto ofrece una manera de describir las observaciones o datos y predecir su comportamiento para diferentes escenarios.\n",
    "    \n",
    "<b>Por tanto esta facultad de predicción hace a la regresión una técnica esencial para el Aprendizaje de Máquina.</b>\n",
    "\n",
    "Uno de los tipos de regresión más comunes es la Regresión Lineal y esta se sustenta de dos supuestos:\n",
    "\n",
    "<ol>\n",
    "<li>Se asume que existe una relación lineal entre la variable dependiente $\\mathit{y}$ con las variables independientes $\\mathbf{x}$, donde la $\\mathit{y}$ puede ser representada como la sumatoria ponderada de los elementos de $\\mathbf{x}$, dado un cierto ruido $\\varepsilon$\n",
    "<li>Se asume que cualquier ruido sigue una distribución gausiana.</li>\n",
    "</ol>\n",
    "    \n",
    "El objetivo es encontrar la función matemática que más se ajuste a los datos y minimice el error entre las observaciones iniciales y las predicciones. Uno de los métodos más utilizados en la regresión lineal es el método de <b>mínimos cuadrados</B>.\n",
    " </div>\n"
   ]
  },
  {
   "cell_type": "markdown",
   "metadata": {},
   "source": [
    "![image](https://github.com/gacuervol/GIT-IA-Y-AP/blob/main/Regresion_lineal/lr.JPG?raw=true)"
   ]
  },
  {
   "cell_type": "markdown",
   "metadata": {},
   "source": [
    "## Historia\n",
    "---\n",
    "La historia de la regresión está ligada a la historia de la co-relación, los primeros registros de este concepto se remontan a 1889 en Inglaterra; **Francis Galton** un polímata inglés y primo de Charles Darwin tiene la atribución de ser el primero en proponer estas dos ideas.\n",
    "\n",
    "En palabras de Galton (1888):\n",
    "> \"Cuando la variación de un órgano variable es acompañada en promedio por más o menos la variación de la otra... Es fácil ver que la correlación debe ser una consecuencia de la variación de las variaciones de los dos órganos siendo parcialmente debido a causas comunes \"\n",
    "\n",
    "Los modelos teóricos proporcionados por Galton para el análisis estadístico establecieron las bases de lo que sería la formulación de la regresión. Durante la investigación de Galton donde resolviendo la relación hereditaria de guisantes y el tamaño de su progenie, este descubrió lo que hoy en día se conoce como la ley de la reversión o regresión la cual postula que:\n",
    "\n",
    "> la media de cualquier porción de la progenie difiere de la media poblacional de una población en un cantidad proporcional a desviación de la media de los padres. sin embargo el desplazamiento de la descendencia respecto a la media poblacional es siempre menos que la de los padres y en consecuencia esta media es siempre reversible o posible de devolver a la media poblacional y esta relación es posible de expresar matemáticamente como una ecuación lineal.\n",
    "\n"
   ]
  },
  {
   "cell_type": "markdown",
   "metadata": {},
   "source": [
    "# Planteamiento del algoritmo\n",
    "\n",
    "Consideremos un conjunto de datos $\\mathbf{x}$ que representan la varaible independiente y otro conjunto de datos $\\mathbf{y}$ que describen la variable dependiente.\n",
    "\n",
    "De manera que si asumimos que existe un arelación lineal entre estas dos varaibles podemos definir una función matemtica que nos permita modelar esta relación:\n",
    "$$\\hat{y_i} \\approx b_0 + b_i x_i$$\n",
    "\n",
    "o en otras palabras:\n",
    "\n",
    "$$\\mathsf{X^\\top_{2xn}} \\mathsf{X_{nx2}} \\mathsf{b_2} \\approx \\mathsf{X^\\top_{2xn}} \\hat{\\mathsf{y_n}}$$\n",
    "\n",
    "$$\\Updownarrow$$\n",
    "$${\\tiny \\begin{bmatrix} 1 & 1 &\\dots& 1 \\\\ x_2 & x_1 & \\dots& x_n\\end{bmatrix} \\begin{bmatrix}  1 & x_1 \\\\ 1 & x_2\\\\\\vdots & \\vdots\\\\1&x_n\\end{bmatrix} \\begin{bmatrix}  b_0 \\\\ b_1\\end{bmatrix} = \\begin{bmatrix}1 & 1 & \\dots& 1 \\\\ x_2 & x_1 &\\dots& x_n \\end{bmatrix} \\begin{bmatrix}y_1\\\\ y_2 \\\\ \\vdots \\\\y_n \\end{bmatrix}}$$\n",
    "\n",
    "\n",
    "Para esto se debe utilizar un algortimo que se base en minimizar el error cuadrático \"*least squared error (LSE)*\" entre el modelo $\\hat{\\mathbf{y}}$ respecto a $\\mathit{x}^2$.\n",
    "\n",
    "Es decir se debe encontrar el mínimo de la función **LSE** donde la sumatoria de los residuales ($e_i = y_i - \\hat{y}=y_i - \\mathit{b_0} + \\mathit{b_i} \\mathit{x}_{i}$) al cuadrado sea lo menor posible, por lo que se vuelve un ejercicio de optimización.\n",
    "\n",
    "$$LSE = \\sum_{i=1}^n e_i^2=e^2_1+e^2_2+\\dots+e^2_n $$\n",
    "$$(LSE)' = 0$$\n",
    "\n",
    "Esto con el fin de hallar los coeficientes ($b_0, b_i$) de la función de regresión $\\hat{y_i} \\approx b_0 + b_i x_i$\n",
    "\n",
    "$$b_1 = \\frac{\\sum_{i=1}^{n} (x_i - \\bar{x})(y_i - \\bar{y})}{\\sum_{i=1}^{n} (x_i - \\bar{x})^2}$$\n",
    "\n",
    "$$b_0 = \\bar{y}-b_1 \\bar{x}$$"
   ]
  },
  {
   "cell_type": "markdown",
   "metadata": {},
   "source": [
    "## Algoritmo\n",
    "---\n",
    "\n",
    "Para el siguiente ejemplo de utilizaron los datos de edad de corteza oceánica junto con el grosor sedimentario de la Cuenca Panamá\n",
    "\n",
    "para la varaible dependiente $y$ será *Sed_thickness (m)* el grosor de la pila sedimentaria\n",
    "para la varaible de predictora $x$ será *Age (Ma)* edad de la corteza en millones de años (Ma),\n",
    "para la variable $\\hat{y}$ usamos la variable ``y_est``\n",
    "para hallar los ceoficientes $b_0$ y $b_1$ se usara la funcion de Numpy ```np.polyfit(x, y, deg=1)``` la cual utiliza la función de mínimos cuadrados (LSE)"
   ]
  },
  {
   "cell_type": "code",
   "execution_count": 29,
   "metadata": {},
   "outputs": [],
   "source": [
    "#importamos los paquetes necesarios\n",
    "import matplotlib.pyplot as plt\n",
    "import numpy as np\n",
    "import pandas as pd\n",
    "import os"
   ]
  },
  {
   "cell_type": "code",
   "execution_count": 30,
   "metadata": {},
   "outputs": [
    {
     "data": {
      "text/plain": [
       "(1049, 17)"
      ]
     },
     "execution_count": 30,
     "metadata": {},
     "output_type": "execute_result"
    }
   ],
   "source": [
    "#importamos el set de datos\n",
    "ruta = 'C:/Users/mofoko/Desktop/10 semestre/Sist. intel/Proyecto'\n",
    "df_Flujo_calor = pd.read_csv(os.path.join(ruta,'df_Flujo_calor3.csv'), index_col= 0)\n",
    "df_Flujo_calor.shape"
   ]
  },
  {
   "cell_type": "code",
   "execution_count": 31,
   "metadata": {},
   "outputs": [
    {
     "data": {
      "text/html": [
       "<div>\n",
       "<style scoped>\n",
       "    .dataframe tbody tr th:only-of-type {\n",
       "        vertical-align: middle;\n",
       "    }\n",
       "\n",
       "    .dataframe tbody tr th {\n",
       "        vertical-align: top;\n",
       "    }\n",
       "\n",
       "    .dataframe thead th {\n",
       "        text-align: right;\n",
       "    }\n",
       "</style>\n",
       "<table border=\"1\" class=\"dataframe\">\n",
       "  <thead>\n",
       "    <tr style=\"text-align: right;\">\n",
       "      <th></th>\n",
       "      <th>Sed_thickness (m)</th>\n",
       "      <th>Age (Ma)</th>\n",
       "    </tr>\n",
       "  </thead>\n",
       "  <tbody>\n",
       "    <tr>\n",
       "      <th>0</th>\n",
       "      <td>279.0</td>\n",
       "      <td>10.1</td>\n",
       "    </tr>\n",
       "    <tr>\n",
       "      <th>1</th>\n",
       "      <td>211.0</td>\n",
       "      <td>7.6</td>\n",
       "    </tr>\n",
       "    <tr>\n",
       "      <th>2</th>\n",
       "      <td>203.0</td>\n",
       "      <td>5.9</td>\n",
       "    </tr>\n",
       "    <tr>\n",
       "      <th>3</th>\n",
       "      <td>159.0</td>\n",
       "      <td>3.6</td>\n",
       "    </tr>\n",
       "    <tr>\n",
       "      <th>4</th>\n",
       "      <td>145.0</td>\n",
       "      <td>3.1</td>\n",
       "    </tr>\n",
       "    <tr>\n",
       "      <th>...</th>\n",
       "      <td>...</td>\n",
       "      <td>...</td>\n",
       "    </tr>\n",
       "    <tr>\n",
       "      <th>1061</th>\n",
       "      <td>173.0</td>\n",
       "      <td>10.1</td>\n",
       "    </tr>\n",
       "    <tr>\n",
       "      <th>1063</th>\n",
       "      <td>201.0</td>\n",
       "      <td>10.2</td>\n",
       "    </tr>\n",
       "    <tr>\n",
       "      <th>1064</th>\n",
       "      <td>91.0</td>\n",
       "      <td>11.5</td>\n",
       "    </tr>\n",
       "    <tr>\n",
       "      <th>1065</th>\n",
       "      <td>68.0</td>\n",
       "      <td>8.2</td>\n",
       "    </tr>\n",
       "    <tr>\n",
       "      <th>1066</th>\n",
       "      <td>47.0</td>\n",
       "      <td>4.4</td>\n",
       "    </tr>\n",
       "  </tbody>\n",
       "</table>\n",
       "<p>1049 rows × 2 columns</p>\n",
       "</div>"
      ],
      "text/plain": [
       "      Sed_thickness (m)  Age (Ma)\n",
       "0                 279.0      10.1\n",
       "1                 211.0       7.6\n",
       "2                 203.0       5.9\n",
       "3                 159.0       3.6\n",
       "4                 145.0       3.1\n",
       "...                 ...       ...\n",
       "1061              173.0      10.1\n",
       "1063              201.0      10.2\n",
       "1064               91.0      11.5\n",
       "1065               68.0       8.2\n",
       "1066               47.0       4.4\n",
       "\n",
       "[1049 rows x 2 columns]"
      ]
     },
     "execution_count": 31,
     "metadata": {},
     "output_type": "execute_result"
    }
   ],
   "source": [
    "df_ejemplo= pd.concat([df_Flujo_calor['Sed_thickness (m)'], df_Flujo_calor['Age (Ma)']], axis = 1)\n",
    "df_ejemplo                      "
   ]
  },
  {
   "cell_type": "code",
   "execution_count": 32,
   "metadata": {},
   "outputs": [],
   "source": [
    "x =  df_ejemplo['Age (Ma)']\n",
    "y = df_ejemplo['Sed_thickness (m)']  \n",
    "\n",
    "# fit a linear curve an estimate its y-values and their error.\n",
    "b_1, b_0 = np.polyfit(x, y, deg=1)\n",
    "\n",
    "y_est = b_1 * x + b_0\n",
    "\n"
   ]
  },
  {
   "cell_type": "code",
   "execution_count": 38,
   "metadata": {},
   "outputs": [
    {
     "name": "stdout",
     "output_type": "stream",
     "text": [
      "Coeficiente b_1: 25.1 \n",
      "Intercepto b_0: 31.6\n"
     ]
    }
   ],
   "source": [
    "print(f'Coeficiente b_1: {round(b_1, 1)} \\nIntercepto b_0: {round(b_0, 1)}')"
   ]
  },
  {
   "cell_type": "code",
   "execution_count": 37,
   "metadata": {},
   "outputs": [
    {
     "data": {
      "image/png": "[encoded data removed]",
      "text/plain": [
       "<Figure size 432x288 with 1 Axes>"
      ]
     },
     "metadata": {
      "needs_background": "light"
     },
     "output_type": "display_data"
    }
   ],
   "source": [
    "fig, ax = plt.subplots()\n",
    "\n",
    "ax.plot(x, y, 'o')\n",
    "ax.plot(x, y_est, '-', c = 'r') #funcion o modelo\n",
    "\n",
    "ax.set_title('Regresión lineal')\n",
    "ax.set_xlabel('Age (Ma)')\n",
    "ax.set_ylabel('Sed_thickness (m)')\n",
    "plt.text(20, 1000, '$\\hat{y}=31.6+25.1x_i$')\n",
    "ax.spines['left'].set_position('zero')\n",
    "\n",
    "plt.show()\n"
   ]
  },
  {
   "cell_type": "markdown",
   "metadata": {},
   "source": [
    "## Conclusión\n",
    "---\n",
    "La regresión lineal es una técnica para modelar datos con el fin de lograr hacer predicciones a partir de los mismos, además de permitir ver el tipo de correlación y la fuerza de la misma entre varias variables.\n",
    "\n",
    "Este modelo necesita de la definición de unos coeficientes que permiten ajustar una recta a los datos, para que esta curva pueda ajustarse a los datos con la menor desviación respecto a los mismos es necesario el uso de la metodología de los Mínimos Cuadrados.\n",
    "\n",
    "La función de Mínimos Cuadrados (LSE) me permite hallar los coeficiente de la recta al encontrar el mínimo de esta función garantizando así la construcción del modelo lineal que mejor se ajuste a los datos.\n"
   ]
  },
  {
   "cell_type": "markdown",
   "metadata": {},
   "source": [
    "# Bibliografía\n",
    "---\n",
    ">Aston Zhang, Zachary C. Lipton, Mu Li, & Alexander J. Smola (2020). Dive into Deep Learning. 87-88 pp\n",
    "\n",
    ">Barnes, T. (1998). A history of regression: actors, networks, machines, and numbers. Environment and Planning A, 30. 212-215 pp\n",
    "\n",
    ">Galton F, 1888, \"Co-relations and their measurements, chiefly from anthropometric data\"\n",
    "Proceedings of the Royal Society of London 45 135 - 145 pp\n",
    "\n",
    "> Gunderson, B., West, B.T. & Shedden, K. ( s.f.). Understanding and Visualizing Data with Python. Universidad de Michigan\n",
    "https:/\\www.coursera.org/learn/understanding-visualization-data\n",
    "\n"
   ]
  },
  {
   "cell_type": "code",
   "execution_count": null,
   "metadata": {},
   "outputs": [],
   "source": []
  }
 ],
 "metadata": {
  "kernelspec": {
   "display_name": "Python 3",
   "language": "python",
   "name": "python3"
  },
  "language_info": {
   "codemirror_mode": {
    "name": "ipython",
    "version": 3
   },
   "file_extension": ".py",
   "mimetype": "text/x-python",
   "name": "python",
   "nbconvert_exporter": "python",
   "pygments_lexer": "ipython3",
   "version": "3.8.3"
  }
 },
 "nbformat": 4,
 "nbformat_minor": 4
}
