{
  "nbformat": 4,
  "nbformat_minor": 0,
  "metadata": {
    "accelerator": "GPU",
    "colab": {
      "name": "Taller Autoencoder.ipynb",
      "provenance": [],
      "collapsed_sections": [],
      "toc_visible": true
    },
    "kernelspec": {
      "display_name": "Python 3",
      "name": "python3"
    },
    "language_info": {
      "name": "python"
    }
  },
  "cells": [
    {
      "cell_type": "markdown",
      "metadata": {
        "id": "TTlxECJTqaM2"
      },
      "source": [
        "# Autoencoder: Ejemplo fashion MNIST\n",
        "---\n",
        "**Giovanny Alejandro Cuervo Londoño**\n",
        "\n",
        "Cree un autoencoder para el conjunto de datos Fashion MNIST, usando una red convolucional. Los datos puede obtenerlos directamente en keras como se hizo el conjunto MNIST de digitos. Revise el enlace."
      ]
    },
    {
      "cell_type": "markdown",
      "metadata": {
        "id": "YGrSt-ZdI4Bs"
      },
      "source": [
        "* **0. Importamos los paquetes necesarios** "
      ]
    },
    {
      "cell_type": "code",
      "metadata": {
        "id": "HTyQWEl1qO2t"
      },
      "source": [
        "import numpy as np\n",
        "import pandas as pd\n",
        "import tensorflow as tf\n",
        "import cv2 as cv\n",
        "import matplotlib.pyplot as plt"
      ],
      "execution_count": 27,
      "outputs": []
    },
    {
      "cell_type": "code",
      "metadata": {
        "colab": {
          "base_uri": "https://localhost:8080/"
        },
        "id": "oi0JAFNeqkoQ",
        "outputId": "2da934d6-a86d-4587-ef3b-39a61c39de2d"
      },
      "source": [
        "print('Numpy', np.__version__)\n",
        "print('Pandas', pd.__version__)\n",
        "print('Tensorflow', tf.__version__)\n",
        "print('OpenCV', cv.__version__)\n"
      ],
      "execution_count": 28,
      "outputs": [
        {
          "output_type": "stream",
          "text": [
            "Numpy 1.19.5\n",
            "Pandas 1.1.5\n",
            "Tensorflow 2.4.1\n",
            "OpenCV 4.1.2\n"
          ],
          "name": "stdout"
        }
      ]
    },
    {
      "cell_type": "markdown",
      "metadata": {
        "id": "fQPV_iCFI_TY"
      },
      "source": [
        "Este notebook se hizo con las librerías\n",
        "> Numpy 1.19.5\n",
        "\n",
        "> Pandas 1.1.5\n",
        "\n",
        "> Seaborn 0.11.1\n",
        "\n",
        "> Tensor Flow 2.4.1"
      ]
    },
    {
      "cell_type": "markdown",
      "metadata": {
        "id": "41fpPTC4JGBv"
      },
      "source": [
        "* **0. Funciones Necesarias definidas** "
      ]
    },
    {
      "cell_type": "code",
      "metadata": {
        "id": "2C_QdPiMIl1N"
      },
      "source": [
        "def get_key(my_dict, val):\n",
        "    for key, value in my_dict.items():\n",
        "         if val == value:\n",
        "             return key"
      ],
      "execution_count": 29,
      "outputs": []
    },
    {
      "cell_type": "markdown",
      "metadata": {
        "id": "0OQcNuUxJMeF"
      },
      "source": [
        "## I. Autoencoder Red Convolucional\n",
        "### Fashion MNIST\n",
        "---"
      ]
    },
    {
      "cell_type": "markdown",
      "metadata": {
        "id": "QgZUzXlzJZk3"
      },
      "source": [
        "* **1. Cargamos los datos y las etiquetas objetivo**"
      ]
    },
    {
      "cell_type": "code",
      "metadata": {
        "id": "faSVp24dJV2s"
      },
      "source": [
        "from tensorflow import keras\n",
        "\n",
        "(X_train, y_train), (X_test, y_test) = keras.datasets.fashion_mnist.load_data()"
      ],
      "execution_count": 30,
      "outputs": []
    },
    {
      "cell_type": "code",
      "metadata": {
        "colab": {
          "base_uri": "https://localhost:8080/"
        },
        "id": "yt2ei3YMJpyL",
        "outputId": "175052ba-8eb0-46b3-9908-5619c9e7112f"
      },
      "source": [
        "print(f'Datos entreno {X_train.shape} y evaluación {X_test.shape} tipo: {type(X_train), type(X_test)}\\nEtiquetas(número) de entreno: {y_train.shape} y evaluación {y_test.shape} y tipo: {(type(y_train), type(y_test))}')"
      ],
      "execution_count": 31,
      "outputs": [
        {
          "output_type": "stream",
          "text": [
            "Datos entreno (60000, 28, 28) y evaluación (10000, 28, 28) tipo: (<class 'numpy.ndarray'>, <class 'numpy.ndarray'>)\n",
            "Etiquetas(número) de entreno: (60000,) y evaluación (10000,) y tipo: (<class 'numpy.ndarray'>, <class 'numpy.ndarray'>)\n"
          ],
          "name": "stdout"
        }
      ]
    },
    {
      "cell_type": "code",
      "metadata": {
        "id": "02jeX1BQKwqf"
      },
      "source": [
        "labels = {'T-shirt/top': 0, 'Trouser' : 1, 'Pullover': 2, 'Dress': 3, 'Coat': 4, 'Sandal': 5, 'Shirt': 6, 'Sneaker': 7, 'Bag': 8, 'Ankle boot': 9}"
      ],
      "execution_count": 32,
      "outputs": []
    },
    {
      "cell_type": "markdown",
      "metadata": {
        "id": "znS0DIwENuj7"
      },
      "source": [
        "* 1.1 Visualizamos los datos los datos"
      ]
    },
    {
      "cell_type": "code",
      "metadata": {
        "colab": {
          "base_uri": "https://localhost:8080/",
          "height": 589
        },
        "id": "vyOQfquBNs6d",
        "outputId": "053a8794-664b-4ebe-9c21-cd3de5a40fdf"
      },
      "source": [
        "from numpy.random import randint\n",
        "plt.figure(figsize=(10,10))\n",
        "\n",
        "for idx, val in enumerate(randint(X_train.shape[0], size=9)):\n",
        "    plt.subplot(3,3,idx+1)\n",
        "    plt.xticks([])\n",
        "    plt.yticks([])\n",
        "    plt.grid(False)\n",
        "    plt.imshow(X_train[val], cmap=plt.cm.binary)\n",
        "    plt.xlabel(get_key(labels, y_train[val]))\n",
        "plt.show()"
      ],
      "execution_count": 33,
      "outputs": [
        {
          "output_type": "display_data",
          "data": {
            "image/png": "[encoded data removed]",
            "text/plain": [
              "<Figure size 720x720 with 9 Axes>"
            ]
          },
          "metadata": {
            "tags": []
          }
        }
      ]
    },
    {
      "cell_type": "markdown",
      "metadata": {
        "id": "15sts1KhSW16"
      },
      "source": [
        "* **2. Preprocesamiento los datos**"
      ]
    },
    {
      "cell_type": "code",
      "metadata": {
        "colab": {
          "base_uri": "https://localhost:8080/",
          "height": 316
        },
        "id": "-_ago189wkhU",
        "outputId": "44db99e9-4a31-4664-c9cc-b23c6517dd8b"
      },
      "source": [
        "#pasamos las imágenes de 28 , 28 a ==> 24, 24\n",
        "print(f'Tamaño original: {X_train[1].shape}')\n",
        "def resize_image(img, new_size):\n",
        "  \"\"\"\n",
        "  img = imagen a reescalar\n",
        "  new_size = tupla (x, y) con el nuevo tamaño\n",
        "  \"\"\"\n",
        "  res = cv.resize(img, new_size, interpolation = cv.INTER_CUBIC)\n",
        "  return res\n",
        "\n",
        "new_size = resize_image(X_train[1], (24, 24))\n",
        "print(f'Nuevo tamaño: {new_size.shape}')\n",
        "\n",
        "plt.imshow(new_size, cmap=plt.cm.binary)"
      ],
      "execution_count": 34,
      "outputs": [
        {
          "output_type": "stream",
          "text": [
            "Tamaño original: (28, 28)\n",
            "Nuevo tamaño: (24, 24)\n"
          ],
          "name": "stdout"
        },
        {
          "output_type": "execute_result",
          "data": {
            "text/plain": [
              "<matplotlib.image.AxesImage at 0x7fc37f729710>"
            ]
          },
          "metadata": {
            "tags": []
          },
          "execution_count": 34
        },
        {
          "output_type": "display_data",
          "data": {
            "image/png": "[encoded data removed]",
            "text/plain": [
              "<Figure size 432x288 with 1 Axes>"
            ]
          },
          "metadata": {
            "tags": [],
            "needs_background": "light"
          }
        }
      ]
    },
    {
      "cell_type": "markdown",
      "metadata": {
        "id": "BUynXTOWNRx_"
      },
      "source": [
        "**¿Por qué se tuvo que hacer un resize de las imágenes?**\n",
        "\n",
        "Con el tamaño original 28 x 28 el auto encoder no retornaba al shape orginal sino que retornaba 32 x 32 esto debido a que:\n",
        "8:45 05/05/2021\n",
        "Alvaro Mauricio Montenegro Diaz: \n",
        "El problema es que si observa en su modelo, el encoder baja a la mitad de la dimensión de una capa a l a siguiente. Entonces el asunto va bien así en dimensiones: 28->14->7. Pero en el siguiente paso, como **7 no es par**,  el modelo transforma a tamaño 4!. El decoder no pude reajustar este tamaño.\n",
        "\n",
        "Dos soluciones: \n",
        "1)  Cambiar el tamaño de la imágenes originales a 24x24. Así obtiene la reducción 24->12->6->3. Ahora el decoder si puede devolver bien las dimensiones.\n",
        "2) Quitar una capa convolucional. Siempre se asegura que las reducciones se pueden devolver en tamaños.\n",
        "\n",
        "En realidad puede haber otras soluciones.\n",
        "\n",
        "Por favor nos cuenta que hizo\n",
        "\n",
        "**En este caso se uso la solución 1.**"
      ]
    },
    {
      "cell_type": "code",
      "metadata": {
        "colab": {
          "base_uri": "https://localhost:8080/"
        },
        "id": "z3wE7S_T4Bf6",
        "outputId": "c8f0bf20-c993-451c-9b7a-6161458a501b"
      },
      "source": [
        "#resize de los datos de train\n",
        "for i in range(0, X_train.shape[0]):\n",
        "  new_size = resize_image(X_train[i], (24, 24))\n",
        "  new_size = new_size[np.newaxis, :, :]\n",
        "  #print(f'new_size{i}: {new_size.shape}')\n",
        "  if i == 0:\n",
        "    Xtrain_images = new_size.copy()\n",
        "    #print(type(Xtrain_images))\n",
        "    #print(f'first: {Xtrain_images.shape}')\n",
        "  else:\n",
        "    Xtrain_images = np.concatenate((Xtrain_images, new_size), axis=0)\n",
        "    if i%5000 == 0:\n",
        "      print(f'output{i}: {Xtrain_images.shape}')\n",
        "\n",
        "Xtrain_images.shape"
      ],
      "execution_count": 35,
      "outputs": [
        {
          "output_type": "stream",
          "text": [
            "output5000: (5001, 24, 24)\n",
            "output10000: (10001, 24, 24)\n",
            "output15000: (15001, 24, 24)\n",
            "output20000: (20001, 24, 24)\n",
            "output25000: (25001, 24, 24)\n",
            "output30000: (30001, 24, 24)\n",
            "output35000: (35001, 24, 24)\n",
            "output40000: (40001, 24, 24)\n",
            "output45000: (45001, 24, 24)\n",
            "output50000: (50001, 24, 24)\n",
            "output55000: (55001, 24, 24)\n"
          ],
          "name": "stdout"
        },
        {
          "output_type": "execute_result",
          "data": {
            "text/plain": [
              "(60000, 24, 24)"
            ]
          },
          "metadata": {
            "tags": []
          },
          "execution_count": 35
        }
      ]
    },
    {
      "cell_type": "code",
      "metadata": {
        "colab": {
          "base_uri": "https://localhost:8080/"
        },
        "id": "jMVfhbq4F1os",
        "outputId": "113e20de-701b-46b4-a776-cb40f2e27694"
      },
      "source": [
        "#resize de los datos de test\n",
        "for i in range(0, X_test.shape[0]):\n",
        "  new_size = resize_image(X_test[i], (24, 24))\n",
        "  new_size = new_size[np.newaxis, :, :]\n",
        "  #print(f'new_size{i}: {new_size.shape}')\n",
        "  if i == 0:\n",
        "    Xtest_images = new_size.copy()\n",
        "    #print(type(Xtest_images))\n",
        "    #print(f'first: {Xtest_images.shape}')\n",
        "  else:\n",
        "    Xtest_images = np.concatenate((Xtest_images, new_size), axis=0)\n",
        "    if i%5000 == 0:\n",
        "      print(f'output{i}: {Xtest_images.shape}')\n",
        "\n",
        "Xtest_images.shape"
      ],
      "execution_count": 36,
      "outputs": [
        {
          "output_type": "stream",
          "text": [
            "output5000: (5001, 24, 24)\n"
          ],
          "name": "stdout"
        },
        {
          "output_type": "execute_result",
          "data": {
            "text/plain": [
              "(10000, 24, 24)"
            ]
          },
          "metadata": {
            "tags": []
          },
          "execution_count": 36
        }
      ]
    },
    {
      "cell_type": "code",
      "metadata": {
        "colab": {
          "base_uri": "https://localhost:8080/"
        },
        "id": "9K9oka0cSWH-",
        "outputId": "0f195e87-105d-41e4-cfe2-7dc72d7b527d"
      },
      "source": [
        "# reshape para colocar los datos de entrenamiento en el fomato apropiado.\n",
        "# Agrega una dimensión al final\n",
        "train_images = Xtrain_images.reshape(60000, 24, 24, 1)\n",
        "#normalizamos los px de las imagenes para que queden entre 0 y 1 \n",
        "train_images = train_images/255.0\n",
        "\n",
        "# reshape para colocar los datos de test en el fomato apropiado. Agrega una dimensión al final y  normaliza los datos\n",
        "test_images = Xtest_images.reshape(10000, 24, 24, 1)\n",
        "test_images = test_images/255.0\n",
        "\n",
        "print(\"Nueva forma de los datos de train:\", train_images.shape)\n",
        "print(\"Nueva forma de los datos de test:\", test_images.shape)"
      ],
      "execution_count": 37,
      "outputs": [
        {
          "output_type": "stream",
          "text": [
            "Nueva forma de los datos de train: (60000, 24, 24, 1)\n",
            "Nueva forma de los datos de test: (10000, 24, 24, 1)\n"
          ],
          "name": "stdout"
        }
      ]
    },
    {
      "cell_type": "code",
      "metadata": {
        "colab": {
          "base_uri": "https://localhost:8080/"
        },
        "id": "eT5IV23pPw4N",
        "outputId": "81bcece9-704c-4012-a76b-2ab73fb0175a"
      },
      "source": [
        "print(f'Imagenes (train) preprocesadas \\nvalor minimo: {train_images[0].min()} \\nvalor max: {train_images[0].max()}')"
      ],
      "execution_count": 38,
      "outputs": [
        {
          "output_type": "stream",
          "text": [
            "Imagenes (train) preprocesadas \n",
            "valor minimo: 0.0 \n",
            "valor max: 1.0\n"
          ],
          "name": "stdout"
        }
      ]
    },
    {
      "cell_type": "markdown",
      "metadata": {
        "id": "vnz9H4vjXB6R"
      },
      "source": [
        "* **4. Definimos la arquitectura del encoder**"
      ]
    },
    {
      "cell_type": "markdown",
      "metadata": {
        "id": "xtXAy7ZpWkct"
      },
      "source": [
        "* 4.1 reducción de tamaño con conv2D\n",
        "\n",
        "para entender como las convoluciones cofican la información al reducir su tamaño definimos una función "
      ]
    },
    {
      "cell_type": "markdown",
      "metadata": {
        "id": "IBcK8t2gPVUq"
      },
      "source": [
        "> $n$ = input shape $(n, n, n_c)$ *rows $n$, cols $n$, canales $n_c$*\n",
        "\n",
        "> $p$ = padding donde $p = \\frac{f - 1}{2}$\n",
        "\n",
        "> $k$ = kernel shape $(k, k, k_c)$ *rows $k$, cols $k$, canales $k_c$*\n",
        "\n",
        "> $s$ =  1 stride o salto por defecto (1, 1)"
      ]
    },
    {
      "cell_type": "code",
      "metadata": {
        "id": "jm1dK9qhNvUX"
      },
      "source": [
        "def shape_after_conv(imput_shape, kernel_shape, n_kernels, padding = 'valid', stride = 1):\n",
        "  \"\"\"\n",
        "  Esta funcion retorna el tamaño de los datos despues de una \n",
        "  convolucion.\n",
        "\n",
        "  inputs:\n",
        "  imput_shape = tupla shape del dato no de los datos\n",
        "  kernel_shape = tupla shape del kernel\n",
        "  padding = el tipo de padding utilizado 'same' o 'valid' (default)\n",
        "  stride = salto del kernel por defecto en layers.conv2D es 1 (default)\n",
        "  n_kernels = cantidad de kernels en layers.conv2D\n",
        "\n",
        "  output\n",
        "  nuevo shape de los datos despues de una convolucion\n",
        "  \"\"\"\n",
        "  n = imput_shape[1]\n",
        "  if padding == 'same':\n",
        "    p = (kernel_shape[0] - 1)/2\n",
        "  else:\n",
        "    p = 0\n",
        "  k = kernel_shape[0]\n",
        "  s = stride\n",
        "  floor = lambda n, p, k, s:  ((n + 2*p - k)/s) + 1\n",
        "  shape_conv = (floor(n, p, k, s), floor(n, p, k, s), n_kernels)\n",
        "  \n",
        "  return shape_conv"
      ],
      "execution_count": 39,
      "outputs": []
    },
    {
      "cell_type": "code",
      "metadata": {
        "colab": {
          "base_uri": "https://localhost:8080/"
        },
        "id": "wLH_bWPIW9nI",
        "outputId": "23d19ec2-35f5-406b-bc93-289db059cdd5"
      },
      "source": [
        "#en esta celda exploramos como se contrae la informacion dependiendo de los parametros de la convolucion\n",
        "input = (28, 28, 1)\n",
        "filters = [4, 16, 32, 64] #Estos filtros van en potencias de dos 2**2 = 4, 2**4 = 16, 2**5 = 32, 2**6 =64\n",
        "for i, filter in enumerate(filters):\n",
        "  input = shape_after_conv(input, (3, 3), filter, stride=2, padding= 'valid')\n",
        "  print(f'output conv{i+1}: {input}') #salen sin redondear"
      ],
      "execution_count": 40,
      "outputs": [
        {
          "output_type": "stream",
          "text": [
            "output conv1: (13.5, 13.5, 4)\n",
            "output conv2: (6.25, 6.25, 16)\n",
            "output conv3: (2.625, 2.625, 32)\n",
            "output conv4: (0.8125, 0.8125, 64)\n"
          ],
          "name": "stdout"
        }
      ]
    },
    {
      "cell_type": "code",
      "metadata": {
        "colab": {
          "base_uri": "https://localhost:8080/",
          "height": 1000
        },
        "id": "-s5rbELxVj8Q",
        "outputId": "3b76cfd4-81cb-456f-dcb4-a5551045c05c"
      },
      "source": [
        "from tensorflow.keras.models import Model\n",
        "from keras import layers, Input\n",
        "from tensorflow.keras import utils\n",
        "\n",
        "inputs = Input(shape =(24, 24, 1)) \n",
        "print(f'output inputs: {inputs.shape}')\n",
        "#encoder\n",
        "#input = 28 x 28 x 1 (wide and thin)\n",
        "conv1 = layers.Conv2D(4, (3, 3), activation='relu', strides=(2,2),padding='same')(inputs) \n",
        "print(f'output conv1: {conv1.shape}') #(None, 24, 24, 1)\n",
        "conv2 = layers.Conv2D(16, (3, 3), activation='relu', strides=(2,2),padding='same')(conv1)\n",
        "print(f'output conv2: {conv2.shape}') #(None, 12, 12, 4)\n",
        "conv3 = layers.Conv2D(32, (3, 3), activation='relu', strides=(2,2),padding='same')(conv2)\n",
        "print(f'output conv3: {conv3.shape}') #(None, 3, 3, 32)\n",
        "#conv4 = layers.Conv2D(64, (3, 3), activation='relu', strides=(2,2),padding='same')(conv3) #2 x 2 x 64\n",
        "\n",
        "# Save the shape to the decoder\n",
        "shape = conv3.shape#.as_list()\n",
        "print(f'output conv3: {shape}') #(None, 2, 2, 64)\n",
        "flat = layers.Flatten()(conv3)\n",
        "print(f'output flat: {flat.shape}') #(None, 256\n",
        "\n",
        "encoded = layers.Dense(shape[-1], name ='latent_vector')(flat) \n",
        "print(f'output dense: {encoded.shape}')\n",
        "encoder = Model(inputs, encoded, name ='encoder')\n",
        "\n",
        "encoder.summary()\n",
        "utils.plot_model(encoder, show_shapes=True) "
      ],
      "execution_count": 41,
      "outputs": [
        {
          "output_type": "stream",
          "text": [
            "output inputs: (None, 24, 24, 1)\n",
            "output conv1: (None, 12, 12, 4)\n",
            "output conv2: (None, 6, 6, 16)\n",
            "output conv3: (None, 3, 3, 32)\n",
            "output conv3: (None, 3, 3, 32)\n",
            "output flat: (None, 288)\n",
            "output dense: (None, 32)\n",
            "Model: \"encoder\"\n",
            "_________________________________________________________________\n",
            "Layer (type)                 Output Shape              Param #   \n",
            "=================================================================\n",
            "input_2 (InputLayer)         [(None, 24, 24, 1)]       0         \n",
            "_________________________________________________________________\n",
            "conv2d_3 (Conv2D)            (None, 12, 12, 4)         40        \n",
            "_________________________________________________________________\n",
            "conv2d_4 (Conv2D)            (None, 6, 6, 16)          592       \n",
            "_________________________________________________________________\n",
            "conv2d_5 (Conv2D)            (None, 3, 3, 32)          4640      \n",
            "_________________________________________________________________\n",
            "flatten_1 (Flatten)          (None, 288)               0         \n",
            "_________________________________________________________________\n",
            "latent_vector (Dense)        (None, 32)                9248      \n",
            "=================================================================\n",
            "Total params: 14,520\n",
            "Trainable params: 14,520\n",
            "Non-trainable params: 0\n",
            "_________________________________________________________________\n"
          ],
          "name": "stdout"
        },
        {
          "output_type": "execute_result",
          "data": {
            "image/png": "[encoded data removed]",
            "text/plain": [
              "<IPython.core.display.Image object>"
            ]
          },
          "metadata": {
            "tags": []
          },
          "execution_count": 41
        }
      ]
    },
    {
      "cell_type": "markdown",
      "metadata": {
        "id": "wOOipvvsegha"
      },
      "source": [
        "* **5. Definimos la arquitectura del decoder**"
      ]
    },
    {
      "cell_type": "code",
      "metadata": {
        "colab": {
          "base_uri": "https://localhost:8080/",
          "height": 1000
        },
        "id": "yu-8VpYjVnUe",
        "outputId": "878abfde-e13d-452c-9d08-4c7f2d8df9c3"
      },
      "source": [
        " \n",
        "#decoder\n",
        "encoded_inputs = Input(shape =(shape[-1],), name ='decoder_input') # (None, 64)\n",
        "print(f'output input: {encoded_inputs.shape}')\n",
        "latent_dec = layers.Dense(np.prod(shape[1:]))(encoded_inputs) # (None, 256)\n",
        "print(f'output dense2: {latent_dec.shape}') \n",
        "reshape_dec = layers.Reshape((shape[1], shape[2], shape[3]))(latent_dec) # (None, 2, 2, 64)\n",
        "print(f'output dense2 reshape: {reshape_dec.shape}')\n",
        "conv1_dec = layers.Conv2DTranspose(16, (3, 3), activation='relu', strides=(2,2),padding='same')(reshape_dec) # (None, 4, 4, 32)\n",
        "print(f'output conv1_dec: {conv1_dec.shape}')\n",
        "conv2_dec = layers.Conv2DTranspose(4, (3, 3), activation='relu', strides=(2,2),padding='same')(conv1_dec) # (None, 8, 8, 16)\n",
        "print(f'output conv2_dec: {conv2_dec.shape}')\n",
        "#maxpool = layers.MaxPool2D(pool_size=(2, 2), strides=(1, 1), padding='valid')(conv2_dec) # (None, 7, 7, 16)\n",
        "#print(f'output maxpool: {maxpool.shape}')\n",
        "#conv3_dec = layers.Conv2DTranspose(4, (3, 3), activation='relu', strides=(2,2),padding='same')(conv2_dec) # (None, 14, 14, 4)\n",
        "#print(f'output conv3_dec: {conv3_dec.shape}')\n",
        "decoded = layers.Conv2DTranspose(1, (3, 3), activation='sigmoid', strides=(2,2),padding='same')(conv2_dec) # (None, 28, 28, 1)\n",
        "print(f'output conv4_dec: {decoded.shape}')\n",
        "decoder = Model(encoded_inputs, decoded, name ='decoder')\n",
        "\n",
        "decoder.summary()\n",
        "utils.plot_model(decoder, show_shapes=True)\n",
        "\n",
        "\n",
        "\n",
        "\n"
      ],
      "execution_count": 42,
      "outputs": [
        {
          "output_type": "stream",
          "text": [
            "output input: (None, 32)\n",
            "output dense2: (None, 288)\n",
            "output dense2 reshape: (None, 3, 3, 32)\n",
            "output conv1_dec: (None, 6, 6, 16)\n",
            "output conv2_dec: (None, 12, 12, 4)\n",
            "output conv4_dec: (None, 24, 24, 1)\n",
            "Model: \"decoder\"\n",
            "_________________________________________________________________\n",
            "Layer (type)                 Output Shape              Param #   \n",
            "=================================================================\n",
            "decoder_input (InputLayer)   [(None, 32)]              0         \n",
            "_________________________________________________________________\n",
            "dense_1 (Dense)              (None, 288)               9504      \n",
            "_________________________________________________________________\n",
            "reshape_1 (Reshape)          (None, 3, 3, 32)          0         \n",
            "_________________________________________________________________\n",
            "conv2d_transpose_3 (Conv2DTr (None, 6, 6, 16)          4624      \n",
            "_________________________________________________________________\n",
            "conv2d_transpose_4 (Conv2DTr (None, 12, 12, 4)         580       \n",
            "_________________________________________________________________\n",
            "conv2d_transpose_5 (Conv2DTr (None, 24, 24, 1)         37        \n",
            "=================================================================\n",
            "Total params: 14,745\n",
            "Trainable params: 14,745\n",
            "Non-trainable params: 0\n",
            "_________________________________________________________________\n"
          ],
          "name": "stdout"
        },
        {
          "output_type": "execute_result",
          "data": {
            "image/png": "[encoded data removed]",
            "text/plain": [
              "<IPython.core.display.Image object>"
            ]
          },
          "metadata": {
            "tags": []
          },
          "execution_count": 42
        }
      ]
    },
    {
      "cell_type": "markdown",
      "metadata": {
        "id": "gWKI7Sh-svwd"
      },
      "source": [
        "* **6. Compilamos el modelo**"
      ]
    },
    {
      "cell_type": "code",
      "metadata": {
        "colab": {
          "base_uri": "https://localhost:8080/",
          "height": 554
        },
        "id": "cE1-4EEEfSD5",
        "outputId": "fc204ae7-c309-44be-d6e6-945bf6efd1c8"
      },
      "source": [
        "from tensorflow.keras import utils\n",
        "\n",
        "\n",
        "#model.compile(optimizer='adam', loss='binary_crossentropy', metrics=['accuracy', 'mse'])\n",
        "autoencoder = Model(inputs, decoder(encoder(inputs)))\n",
        "autoencoder.compile(loss='mean_squared_error', optimizer = 'adam', metrics=['accuracy', 'mse'])\n",
        "\n",
        "autoencoder.summary()\n",
        "utils.plot_model(autoencoder, show_shapes=True)"
      ],
      "execution_count": 43,
      "outputs": [
        {
          "output_type": "stream",
          "text": [
            "Model: \"model_1\"\n",
            "_________________________________________________________________\n",
            "Layer (type)                 Output Shape              Param #   \n",
            "=================================================================\n",
            "input_2 (InputLayer)         [(None, 24, 24, 1)]       0         \n",
            "_________________________________________________________________\n",
            "encoder (Functional)         (None, 32)                14520     \n",
            "_________________________________________________________________\n",
            "decoder (Functional)         (None, 24, 24, 1)         14745     \n",
            "=================================================================\n",
            "Total params: 29,265\n",
            "Trainable params: 29,265\n",
            "Non-trainable params: 0\n",
            "_________________________________________________________________\n"
          ],
          "name": "stdout"
        },
        {
          "output_type": "execute_result",
          "data": {
            "image/png": "[encoded data removed]",
            "text/plain": [
              "<IPython.core.display.Image object>"
            ]
          },
          "metadata": {
            "tags": []
          },
          "execution_count": 43
        }
      ]
    },
    {
      "cell_type": "code",
      "metadata": {
        "colab": {
          "base_uri": "https://localhost:8080/"
        },
        "id": "WD-_Ntfus9HH",
        "outputId": "632ff4fa-70f1-4ee0-c3f8-590f5824b3eb"
      },
      "source": [
        "history = autoencoder.fit(train_images, train_images, batch_size=128, epochs=50, shuffle=True, validation_data=(test_images,test_images))"
      ],
      "execution_count": 44,
      "outputs": [
        {
          "output_type": "stream",
          "text": [
            "Epoch 1/50\n",
            "469/469 [==============================] - 10s 20ms/step - loss: 0.0890 - accuracy: 0.4311 - mse: 0.0890 - val_loss: 0.0211 - val_accuracy: 0.4563 - val_mse: 0.0211\n",
            "Epoch 2/50\n",
            "469/469 [==============================] - 9s 20ms/step - loss: 0.0196 - accuracy: 0.4578 - mse: 0.0196 - val_loss: 0.0165 - val_accuracy: 0.4573 - val_mse: 0.0165\n",
            "Epoch 3/50\n",
            "469/469 [==============================] - 9s 20ms/step - loss: 0.0157 - accuracy: 0.4604 - mse: 0.0157 - val_loss: 0.0142 - val_accuracy: 0.4578 - val_mse: 0.0142\n",
            "Epoch 4/50\n",
            "469/469 [==============================] - 9s 20ms/step - loss: 0.0137 - accuracy: 0.4599 - mse: 0.0137 - val_loss: 0.0129 - val_accuracy: 0.4581 - val_mse: 0.0129\n",
            "Epoch 5/50\n",
            "469/469 [==============================] - 9s 20ms/step - loss: 0.0125 - accuracy: 0.4601 - mse: 0.0125 - val_loss: 0.0121 - val_accuracy: 0.4582 - val_mse: 0.0121\n",
            "Epoch 6/50\n",
            "469/469 [==============================] - 9s 19ms/step - loss: 0.0117 - accuracy: 0.4609 - mse: 0.0117 - val_loss: 0.0113 - val_accuracy: 0.4583 - val_mse: 0.0113\n",
            "Epoch 7/50\n",
            "469/469 [==============================] - 9s 19ms/step - loss: 0.0111 - accuracy: 0.4607 - mse: 0.0111 - val_loss: 0.0109 - val_accuracy: 0.4584 - val_mse: 0.0109\n",
            "Epoch 8/50\n",
            "469/469 [==============================] - 9s 20ms/step - loss: 0.0107 - accuracy: 0.4609 - mse: 0.0107 - val_loss: 0.0105 - val_accuracy: 0.4584 - val_mse: 0.0105\n",
            "Epoch 9/50\n",
            "469/469 [==============================] - 9s 20ms/step - loss: 0.0104 - accuracy: 0.4608 - mse: 0.0104 - val_loss: 0.0103 - val_accuracy: 0.4585 - val_mse: 0.0103\n",
            "Epoch 10/50\n",
            "469/469 [==============================] - 9s 20ms/step - loss: 0.0101 - accuracy: 0.4600 - mse: 0.0101 - val_loss: 0.0101 - val_accuracy: 0.4585 - val_mse: 0.0101\n",
            "Epoch 11/50\n",
            "469/469 [==============================] - 9s 20ms/step - loss: 0.0099 - accuracy: 0.4605 - mse: 0.0099 - val_loss: 0.0098 - val_accuracy: 0.4585 - val_mse: 0.0098\n",
            "Epoch 12/50\n",
            "469/469 [==============================] - 9s 20ms/step - loss: 0.0097 - accuracy: 0.4608 - mse: 0.0097 - val_loss: 0.0097 - val_accuracy: 0.4585 - val_mse: 0.0097\n",
            "Epoch 13/50\n",
            "469/469 [==============================] - 9s 20ms/step - loss: 0.0096 - accuracy: 0.4611 - mse: 0.0096 - val_loss: 0.0095 - val_accuracy: 0.4586 - val_mse: 0.0095\n",
            "Epoch 14/50\n",
            "469/469 [==============================] - 9s 20ms/step - loss: 0.0094 - accuracy: 0.4608 - mse: 0.0094 - val_loss: 0.0094 - val_accuracy: 0.4586 - val_mse: 0.0094\n",
            "Epoch 15/50\n",
            "469/469 [==============================] - 9s 20ms/step - loss: 0.0092 - accuracy: 0.4600 - mse: 0.0092 - val_loss: 0.0093 - val_accuracy: 0.4586 - val_mse: 0.0093\n",
            "Epoch 16/50\n",
            "469/469 [==============================] - 9s 20ms/step - loss: 0.0091 - accuracy: 0.4605 - mse: 0.0091 - val_loss: 0.0092 - val_accuracy: 0.4586 - val_mse: 0.0092\n",
            "Epoch 17/50\n",
            "469/469 [==============================] - 9s 20ms/step - loss: 0.0090 - accuracy: 0.4608 - mse: 0.0090 - val_loss: 0.0091 - val_accuracy: 0.4586 - val_mse: 0.0091\n",
            "Epoch 18/50\n",
            "469/469 [==============================] - 9s 20ms/step - loss: 0.0089 - accuracy: 0.4602 - mse: 0.0089 - val_loss: 0.0090 - val_accuracy: 0.4586 - val_mse: 0.0090\n",
            "Epoch 19/50\n",
            "469/469 [==============================] - 9s 20ms/step - loss: 0.0088 - accuracy: 0.4607 - mse: 0.0088 - val_loss: 0.0089 - val_accuracy: 0.4586 - val_mse: 0.0089\n",
            "Epoch 20/50\n",
            "469/469 [==============================] - 9s 20ms/step - loss: 0.0087 - accuracy: 0.4608 - mse: 0.0087 - val_loss: 0.0088 - val_accuracy: 0.4586 - val_mse: 0.0088\n",
            "Epoch 21/50\n",
            "469/469 [==============================] - 9s 20ms/step - loss: 0.0087 - accuracy: 0.4602 - mse: 0.0087 - val_loss: 0.0088 - val_accuracy: 0.4586 - val_mse: 0.0088\n",
            "Epoch 22/50\n",
            "469/469 [==============================] - 9s 20ms/step - loss: 0.0086 - accuracy: 0.4609 - mse: 0.0086 - val_loss: 0.0087 - val_accuracy: 0.4586 - val_mse: 0.0087\n",
            "Epoch 23/50\n",
            "469/469 [==============================] - 9s 20ms/step - loss: 0.0085 - accuracy: 0.4612 - mse: 0.0085 - val_loss: 0.0086 - val_accuracy: 0.4586 - val_mse: 0.0086\n",
            "Epoch 24/50\n",
            "469/469 [==============================] - 9s 20ms/step - loss: 0.0085 - accuracy: 0.4605 - mse: 0.0085 - val_loss: 0.0086 - val_accuracy: 0.4587 - val_mse: 0.0086\n",
            "Epoch 25/50\n",
            "469/469 [==============================] - 9s 20ms/step - loss: 0.0084 - accuracy: 0.4613 - mse: 0.0084 - val_loss: 0.0085 - val_accuracy: 0.4586 - val_mse: 0.0085\n",
            "Epoch 26/50\n",
            "469/469 [==============================] - 9s 20ms/step - loss: 0.0084 - accuracy: 0.4606 - mse: 0.0084 - val_loss: 0.0084 - val_accuracy: 0.4587 - val_mse: 0.0084\n",
            "Epoch 27/50\n",
            "469/469 [==============================] - 9s 20ms/step - loss: 0.0083 - accuracy: 0.4619 - mse: 0.0083 - val_loss: 0.0084 - val_accuracy: 0.4587 - val_mse: 0.0084\n",
            "Epoch 28/50\n",
            "469/469 [==============================] - 9s 20ms/step - loss: 0.0083 - accuracy: 0.4614 - mse: 0.0083 - val_loss: 0.0084 - val_accuracy: 0.4587 - val_mse: 0.0084\n",
            "Epoch 29/50\n",
            "469/469 [==============================] - 9s 20ms/step - loss: 0.0083 - accuracy: 0.4607 - mse: 0.0083 - val_loss: 0.0083 - val_accuracy: 0.4587 - val_mse: 0.0083\n",
            "Epoch 30/50\n",
            "469/469 [==============================] - 9s 20ms/step - loss: 0.0083 - accuracy: 0.4605 - mse: 0.0083 - val_loss: 0.0083 - val_accuracy: 0.4587 - val_mse: 0.0083\n",
            "Epoch 31/50\n",
            "469/469 [==============================] - 9s 20ms/step - loss: 0.0082 - accuracy: 0.4605 - mse: 0.0082 - val_loss: 0.0083 - val_accuracy: 0.4587 - val_mse: 0.0083\n",
            "Epoch 32/50\n",
            "469/469 [==============================] - 9s 20ms/step - loss: 0.0081 - accuracy: 0.4607 - mse: 0.0081 - val_loss: 0.0083 - val_accuracy: 0.4587 - val_mse: 0.0083\n",
            "Epoch 33/50\n",
            "469/469 [==============================] - 9s 20ms/step - loss: 0.0081 - accuracy: 0.4608 - mse: 0.0081 - val_loss: 0.0082 - val_accuracy: 0.4587 - val_mse: 0.0082\n",
            "Epoch 34/50\n",
            "469/469 [==============================] - 9s 20ms/step - loss: 0.0081 - accuracy: 0.4603 - mse: 0.0081 - val_loss: 0.0082 - val_accuracy: 0.4587 - val_mse: 0.0082\n",
            "Epoch 35/50\n",
            "469/469 [==============================] - 9s 20ms/step - loss: 0.0080 - accuracy: 0.4615 - mse: 0.0080 - val_loss: 0.0081 - val_accuracy: 0.4587 - val_mse: 0.0081\n",
            "Epoch 36/50\n",
            "469/469 [==============================] - 9s 20ms/step - loss: 0.0080 - accuracy: 0.4599 - mse: 0.0080 - val_loss: 0.0081 - val_accuracy: 0.4587 - val_mse: 0.0081\n",
            "Epoch 37/50\n",
            "469/469 [==============================] - 9s 20ms/step - loss: 0.0080 - accuracy: 0.4613 - mse: 0.0080 - val_loss: 0.0081 - val_accuracy: 0.4587 - val_mse: 0.0081\n",
            "Epoch 38/50\n",
            "469/469 [==============================] - 9s 20ms/step - loss: 0.0080 - accuracy: 0.4609 - mse: 0.0080 - val_loss: 0.0081 - val_accuracy: 0.4587 - val_mse: 0.0081\n",
            "Epoch 39/50\n",
            "469/469 [==============================] - 9s 20ms/step - loss: 0.0080 - accuracy: 0.4607 - mse: 0.0080 - val_loss: 0.0080 - val_accuracy: 0.4587 - val_mse: 0.0080\n",
            "Epoch 40/50\n",
            "469/469 [==============================] - 9s 20ms/step - loss: 0.0079 - accuracy: 0.4618 - mse: 0.0079 - val_loss: 0.0080 - val_accuracy: 0.4587 - val_mse: 0.0080\n",
            "Epoch 41/50\n",
            "469/469 [==============================] - 9s 20ms/step - loss: 0.0079 - accuracy: 0.4613 - mse: 0.0079 - val_loss: 0.0080 - val_accuracy: 0.4587 - val_mse: 0.0080\n",
            "Epoch 42/50\n",
            "469/469 [==============================] - 9s 20ms/step - loss: 0.0079 - accuracy: 0.4605 - mse: 0.0079 - val_loss: 0.0080 - val_accuracy: 0.4587 - val_mse: 0.0080\n",
            "Epoch 43/50\n",
            "469/469 [==============================] - 9s 20ms/step - loss: 0.0079 - accuracy: 0.4613 - mse: 0.0079 - val_loss: 0.0080 - val_accuracy: 0.4587 - val_mse: 0.0080\n",
            "Epoch 44/50\n",
            "469/469 [==============================] - 9s 20ms/step - loss: 0.0079 - accuracy: 0.4599 - mse: 0.0079 - val_loss: 0.0079 - val_accuracy: 0.4587 - val_mse: 0.0079\n",
            "Epoch 45/50\n",
            "469/469 [==============================] - 9s 20ms/step - loss: 0.0078 - accuracy: 0.4612 - mse: 0.0078 - val_loss: 0.0079 - val_accuracy: 0.4587 - val_mse: 0.0079\n",
            "Epoch 46/50\n",
            "469/469 [==============================] - 9s 20ms/step - loss: 0.0078 - accuracy: 0.4615 - mse: 0.0078 - val_loss: 0.0079 - val_accuracy: 0.4587 - val_mse: 0.0079\n",
            "Epoch 47/50\n",
            "469/469 [==============================] - 9s 20ms/step - loss: 0.0078 - accuracy: 0.4604 - mse: 0.0078 - val_loss: 0.0079 - val_accuracy: 0.4587 - val_mse: 0.0079\n",
            "Epoch 48/50\n",
            "469/469 [==============================] - 9s 20ms/step - loss: 0.0078 - accuracy: 0.4608 - mse: 0.0078 - val_loss: 0.0079 - val_accuracy: 0.4587 - val_mse: 0.0079\n",
            "Epoch 49/50\n",
            "469/469 [==============================] - 9s 20ms/step - loss: 0.0078 - accuracy: 0.4612 - mse: 0.0078 - val_loss: 0.0079 - val_accuracy: 0.4587 - val_mse: 0.0079\n",
            "Epoch 50/50\n",
            "469/469 [==============================] - 9s 20ms/step - loss: 0.0077 - accuracy: 0.4603 - mse: 0.0077 - val_loss: 0.0078 - val_accuracy: 0.4587 - val_mse: 0.0078\n"
          ],
          "name": "stdout"
        }
      ]
    },
    {
      "cell_type": "code",
      "metadata": {
        "colab": {
          "base_uri": "https://localhost:8080/"
        },
        "id": "oMaa_nqiPzzA",
        "outputId": "04d0b342-3f24-4773-8090-e4714095c2c5"
      },
      "source": [
        "#entrenamiento con GPU\n",
        "import timeit\n",
        "\n",
        "def entrenamiento_gpu():\n",
        "  with tf.device('/device:GPU:0'):\n",
        "    #especificamos que se use la GPU\n",
        "    history = autoencoder.fit(train_images, train_images, validation_data=(test_images,test_images), batch_size=256, epochs=50, verbose=1)\n",
        "  \n",
        "  return history\n",
        "\n",
        "gpu_time = timeit.timeit('entrenamiento_gpu()', number=1, setup='from __main__ import entrenamiento_gpu')"
      ],
      "execution_count": 45,
      "outputs": [
        {
          "output_type": "stream",
          "text": [
            "Epoch 1/50\n",
            "235/235 [==============================] - 8s 32ms/step - loss: 0.0077 - accuracy: 0.4609 - mse: 0.0077 - val_loss: 0.0078 - val_accuracy: 0.4587 - val_mse: 0.0078\n",
            "Epoch 2/50\n",
            "235/235 [==============================] - 7s 32ms/step - loss: 0.0077 - accuracy: 0.4609 - mse: 0.0077 - val_loss: 0.0077 - val_accuracy: 0.4587 - val_mse: 0.0077\n",
            "Epoch 3/50\n",
            "235/235 [==============================] - 8s 32ms/step - loss: 0.0076 - accuracy: 0.4609 - mse: 0.0076 - val_loss: 0.0078 - val_accuracy: 0.4587 - val_mse: 0.0078\n",
            "Epoch 4/50\n",
            "235/235 [==============================] - 7s 32ms/step - loss: 0.0076 - accuracy: 0.4609 - mse: 0.0076 - val_loss: 0.0077 - val_accuracy: 0.4587 - val_mse: 0.0077\n",
            "Epoch 5/50\n",
            "235/235 [==============================] - 8s 32ms/step - loss: 0.0076 - accuracy: 0.4609 - mse: 0.0076 - val_loss: 0.0078 - val_accuracy: 0.4587 - val_mse: 0.0078\n",
            "Epoch 6/50\n",
            "235/235 [==============================] - 8s 32ms/step - loss: 0.0076 - accuracy: 0.4609 - mse: 0.0076 - val_loss: 0.0077 - val_accuracy: 0.4587 - val_mse: 0.0077\n",
            "Epoch 7/50\n",
            "235/235 [==============================] - 8s 33ms/step - loss: 0.0076 - accuracy: 0.4609 - mse: 0.0076 - val_loss: 0.0077 - val_accuracy: 0.4587 - val_mse: 0.0077\n",
            "Epoch 8/50\n",
            "235/235 [==============================] - 8s 32ms/step - loss: 0.0076 - accuracy: 0.4609 - mse: 0.0076 - val_loss: 0.0077 - val_accuracy: 0.4587 - val_mse: 0.0077\n",
            "Epoch 9/50\n",
            "235/235 [==============================] - 7s 32ms/step - loss: 0.0076 - accuracy: 0.4609 - mse: 0.0076 - val_loss: 0.0077 - val_accuracy: 0.4587 - val_mse: 0.0077\n",
            "Epoch 10/50\n",
            "235/235 [==============================] - 7s 32ms/step - loss: 0.0076 - accuracy: 0.4609 - mse: 0.0076 - val_loss: 0.0077 - val_accuracy: 0.4588 - val_mse: 0.0077\n",
            "Epoch 11/50\n",
            "235/235 [==============================] - 8s 32ms/step - loss: 0.0076 - accuracy: 0.4609 - mse: 0.0076 - val_loss: 0.0077 - val_accuracy: 0.4587 - val_mse: 0.0077\n",
            "Epoch 12/50\n",
            "235/235 [==============================] - 7s 32ms/step - loss: 0.0076 - accuracy: 0.4609 - mse: 0.0076 - val_loss: 0.0077 - val_accuracy: 0.4587 - val_mse: 0.0077\n",
            "Epoch 13/50\n",
            "235/235 [==============================] - 7s 32ms/step - loss: 0.0076 - accuracy: 0.4609 - mse: 0.0076 - val_loss: 0.0077 - val_accuracy: 0.4587 - val_mse: 0.0077\n",
            "Epoch 14/50\n",
            "235/235 [==============================] - 7s 32ms/step - loss: 0.0076 - accuracy: 0.4609 - mse: 0.0076 - val_loss: 0.0077 - val_accuracy: 0.4588 - val_mse: 0.0077\n",
            "Epoch 15/50\n",
            "235/235 [==============================] - 7s 32ms/step - loss: 0.0076 - accuracy: 0.4609 - mse: 0.0076 - val_loss: 0.0077 - val_accuracy: 0.4587 - val_mse: 0.0077\n",
            "Epoch 16/50\n",
            "235/235 [==============================] - 7s 32ms/step - loss: 0.0076 - accuracy: 0.4609 - mse: 0.0076 - val_loss: 0.0077 - val_accuracy: 0.4587 - val_mse: 0.0077\n",
            "Epoch 17/50\n",
            "235/235 [==============================] - 7s 32ms/step - loss: 0.0075 - accuracy: 0.4609 - mse: 0.0075 - val_loss: 0.0077 - val_accuracy: 0.4587 - val_mse: 0.0077\n",
            "Epoch 18/50\n",
            "235/235 [==============================] - 7s 32ms/step - loss: 0.0075 - accuracy: 0.4609 - mse: 0.0075 - val_loss: 0.0076 - val_accuracy: 0.4587 - val_mse: 0.0076\n",
            "Epoch 19/50\n",
            "235/235 [==============================] - 7s 32ms/step - loss: 0.0075 - accuracy: 0.4609 - mse: 0.0075 - val_loss: 0.0077 - val_accuracy: 0.4587 - val_mse: 0.0077\n",
            "Epoch 20/50\n",
            "235/235 [==============================] - 7s 32ms/step - loss: 0.0075 - accuracy: 0.4609 - mse: 0.0075 - val_loss: 0.0077 - val_accuracy: 0.4588 - val_mse: 0.0077\n",
            "Epoch 21/50\n",
            "235/235 [==============================] - 7s 32ms/step - loss: 0.0075 - accuracy: 0.4609 - mse: 0.0075 - val_loss: 0.0076 - val_accuracy: 0.4588 - val_mse: 0.0076\n",
            "Epoch 22/50\n",
            "235/235 [==============================] - 7s 32ms/step - loss: 0.0075 - accuracy: 0.4609 - mse: 0.0075 - val_loss: 0.0077 - val_accuracy: 0.4587 - val_mse: 0.0077\n",
            "Epoch 23/50\n",
            "235/235 [==============================] - 7s 32ms/step - loss: 0.0075 - accuracy: 0.4609 - mse: 0.0075 - val_loss: 0.0076 - val_accuracy: 0.4587 - val_mse: 0.0076\n",
            "Epoch 24/50\n",
            "235/235 [==============================] - 8s 32ms/step - loss: 0.0075 - accuracy: 0.4609 - mse: 0.0075 - val_loss: 0.0076 - val_accuracy: 0.4587 - val_mse: 0.0076\n",
            "Epoch 25/50\n",
            "235/235 [==============================] - 8s 32ms/step - loss: 0.0075 - accuracy: 0.4609 - mse: 0.0075 - val_loss: 0.0076 - val_accuracy: 0.4587 - val_mse: 0.0076\n",
            "Epoch 26/50\n",
            "235/235 [==============================] - 7s 32ms/step - loss: 0.0075 - accuracy: 0.4609 - mse: 0.0075 - val_loss: 0.0076 - val_accuracy: 0.4588 - val_mse: 0.0076\n",
            "Epoch 27/50\n",
            "235/235 [==============================] - 7s 32ms/step - loss: 0.0075 - accuracy: 0.4609 - mse: 0.0075 - val_loss: 0.0076 - val_accuracy: 0.4587 - val_mse: 0.0076\n",
            "Epoch 28/50\n",
            "235/235 [==============================] - 8s 32ms/step - loss: 0.0075 - accuracy: 0.4609 - mse: 0.0075 - val_loss: 0.0076 - val_accuracy: 0.4588 - val_mse: 0.0076\n",
            "Epoch 29/50\n",
            "235/235 [==============================] - 8s 32ms/step - loss: 0.0075 - accuracy: 0.4609 - mse: 0.0075 - val_loss: 0.0076 - val_accuracy: 0.4588 - val_mse: 0.0076\n",
            "Epoch 30/50\n",
            "235/235 [==============================] - 7s 32ms/step - loss: 0.0075 - accuracy: 0.4609 - mse: 0.0075 - val_loss: 0.0076 - val_accuracy: 0.4587 - val_mse: 0.0076\n",
            "Epoch 31/50\n",
            "235/235 [==============================] - 8s 32ms/step - loss: 0.0075 - accuracy: 0.4609 - mse: 0.0075 - val_loss: 0.0076 - val_accuracy: 0.4587 - val_mse: 0.0076\n",
            "Epoch 32/50\n",
            "235/235 [==============================] - 8s 32ms/step - loss: 0.0075 - accuracy: 0.4609 - mse: 0.0075 - val_loss: 0.0076 - val_accuracy: 0.4588 - val_mse: 0.0076\n",
            "Epoch 33/50\n",
            "235/235 [==============================] - 7s 32ms/step - loss: 0.0075 - accuracy: 0.4609 - mse: 0.0075 - val_loss: 0.0076 - val_accuracy: 0.4588 - val_mse: 0.0076\n",
            "Epoch 34/50\n",
            "235/235 [==============================] - 8s 32ms/step - loss: 0.0075 - accuracy: 0.4609 - mse: 0.0075 - val_loss: 0.0076 - val_accuracy: 0.4587 - val_mse: 0.0076\n",
            "Epoch 35/50\n",
            "235/235 [==============================] - 8s 32ms/step - loss: 0.0075 - accuracy: 0.4609 - mse: 0.0075 - val_loss: 0.0076 - val_accuracy: 0.4587 - val_mse: 0.0076\n",
            "Epoch 36/50\n",
            "235/235 [==============================] - 8s 32ms/step - loss: 0.0075 - accuracy: 0.4609 - mse: 0.0075 - val_loss: 0.0075 - val_accuracy: 0.4587 - val_mse: 0.0075\n",
            "Epoch 37/50\n",
            "235/235 [==============================] - 8s 32ms/step - loss: 0.0074 - accuracy: 0.4609 - mse: 0.0074 - val_loss: 0.0075 - val_accuracy: 0.4587 - val_mse: 0.0075\n",
            "Epoch 38/50\n",
            "235/235 [==============================] - 8s 32ms/step - loss: 0.0074 - accuracy: 0.4609 - mse: 0.0074 - val_loss: 0.0075 - val_accuracy: 0.4587 - val_mse: 0.0075\n",
            "Epoch 39/50\n",
            "235/235 [==============================] - 8s 32ms/step - loss: 0.0074 - accuracy: 0.4609 - mse: 0.0074 - val_loss: 0.0075 - val_accuracy: 0.4587 - val_mse: 0.0075\n",
            "Epoch 40/50\n",
            "235/235 [==============================] - 8s 32ms/step - loss: 0.0074 - accuracy: 0.4609 - mse: 0.0074 - val_loss: 0.0075 - val_accuracy: 0.4588 - val_mse: 0.0075\n",
            "Epoch 41/50\n",
            "235/235 [==============================] - 8s 32ms/step - loss: 0.0074 - accuracy: 0.4609 - mse: 0.0074 - val_loss: 0.0075 - val_accuracy: 0.4588 - val_mse: 0.0075\n",
            "Epoch 42/50\n",
            "235/235 [==============================] - 8s 32ms/step - loss: 0.0074 - accuracy: 0.4609 - mse: 0.0074 - val_loss: 0.0075 - val_accuracy: 0.4587 - val_mse: 0.0075\n",
            "Epoch 43/50\n",
            "235/235 [==============================] - 8s 32ms/step - loss: 0.0074 - accuracy: 0.4609 - mse: 0.0074 - val_loss: 0.0076 - val_accuracy: 0.4588 - val_mse: 0.0076\n",
            "Epoch 44/50\n",
            "235/235 [==============================] - 7s 32ms/step - loss: 0.0074 - accuracy: 0.4609 - mse: 0.0074 - val_loss: 0.0075 - val_accuracy: 0.4588 - val_mse: 0.0075\n",
            "Epoch 45/50\n",
            "235/235 [==============================] - 7s 32ms/step - loss: 0.0074 - accuracy: 0.4609 - mse: 0.0074 - val_loss: 0.0075 - val_accuracy: 0.4587 - val_mse: 0.0075\n",
            "Epoch 46/50\n",
            "235/235 [==============================] - 8s 32ms/step - loss: 0.0074 - accuracy: 0.4609 - mse: 0.0074 - val_loss: 0.0075 - val_accuracy: 0.4587 - val_mse: 0.0075\n",
            "Epoch 47/50\n",
            "235/235 [==============================] - 7s 32ms/step - loss: 0.0074 - accuracy: 0.4609 - mse: 0.0074 - val_loss: 0.0075 - val_accuracy: 0.4588 - val_mse: 0.0075\n",
            "Epoch 48/50\n",
            "235/235 [==============================] - 7s 32ms/step - loss: 0.0074 - accuracy: 0.4609 - mse: 0.0074 - val_loss: 0.0075 - val_accuracy: 0.4587 - val_mse: 0.0075\n",
            "Epoch 49/50\n",
            "235/235 [==============================] - 8s 32ms/step - loss: 0.0074 - accuracy: 0.4609 - mse: 0.0074 - val_loss: 0.0075 - val_accuracy: 0.4588 - val_mse: 0.0075\n",
            "Epoch 50/50\n",
            "235/235 [==============================] - 8s 32ms/step - loss: 0.0074 - accuracy: 0.4609 - mse: 0.0074 - val_loss: 0.0075 - val_accuracy: 0.4588 - val_mse: 0.0075\n"
          ],
          "name": "stdout"
        }
      ]
    },
    {
      "cell_type": "markdown",
      "metadata": {
        "id": "z3qq2onKUMm1"
      },
      "source": [
        "* **7. Evaluación**"
      ]
    },
    {
      "cell_type": "code",
      "metadata": {
        "colab": {
          "base_uri": "https://localhost:8080/"
        },
        "id": "6e6QP0WVUMm5",
        "outputId": "9f7ac651-6a63-4e0e-b2fc-236fa8dd8a80"
      },
      "source": [
        "autoencoder.evaluate(test_images,test_images)"
      ],
      "execution_count": 46,
      "outputs": [
        {
          "output_type": "stream",
          "text": [
            "313/313 [==============================] - 1s 3ms/step - loss: 0.0075 - accuracy: 0.4588 - mse: 0.0075\n"
          ],
          "name": "stdout"
        },
        {
          "output_type": "execute_result",
          "data": {
            "text/plain": [
              "[0.0074797216802835464, 0.45876023173332214, 0.007479724939912558]"
            ]
          },
          "metadata": {
            "tags": []
          },
          "execution_count": 46
        }
      ]
    },
    {
      "cell_type": "markdown",
      "metadata": {
        "id": "5KbjN5JqUuv1"
      },
      "source": [
        "* **8. Guardamos el modelo entrenado y evaluado**"
      ]
    },
    {
      "cell_type": "code",
      "metadata": {
        "id": "0PAlrJujUuv3"
      },
      "source": [
        "autoencoder.save('./Autoencoder_FashionMINIST.h5') #guardamos el modelo entrenado y evaluado"
      ],
      "execution_count": 47,
      "outputs": []
    },
    {
      "cell_type": "code",
      "metadata": {
        "id": "WmLuUwj6Uuv4"
      },
      "source": [
        "#para cargamos nuestro modelo entrenado y evaluado\n",
        "from tensorflow.keras.models import load_model\n",
        "\n",
        "autoencoder = load_model('/content/Autoencoder_FashionMINIST.h5')"
      ],
      "execution_count": 48,
      "outputs": []
    },
    {
      "cell_type": "markdown",
      "metadata": {
        "id": "5H5mPCGnR7Zk"
      },
      "source": [
        "* **9. Predicciones**\n",
        "\n"
      ]
    },
    {
      "cell_type": "code",
      "metadata": {
        "colab": {
          "base_uri": "https://localhost:8080/",
          "height": 198
        },
        "id": "Y96p5KoJSMbL",
        "outputId": "5f9977a1-4710-40c6-e719-db68d71506ef"
      },
      "source": [
        "hist = pd.DataFrame(history.history)\n",
        "hist['epoch'] = history.epoch\n",
        "hist.tail()"
      ],
      "execution_count": 49,
      "outputs": [
        {
          "output_type": "execute_result",
          "data": {
            "text/html": [
              "<div>\n",
              "<style scoped>\n",
              "    .dataframe tbody tr th:only-of-type {\n",
              "        vertical-align: middle;\n",
              "    }\n",
              "\n",
              "    .dataframe tbody tr th {\n",
              "        vertical-align: top;\n",
              "    }\n",
              "\n",
              "    .dataframe thead th {\n",
              "        text-align: right;\n",
              "    }\n",
              "</style>\n",
              "<table border=\"1\" class=\"dataframe\">\n",
              "  <thead>\n",
              "    <tr style=\"text-align: right;\">\n",
              "      <th></th>\n",
              "      <th>loss</th>\n",
              "      <th>accuracy</th>\n",
              "      <th>mse</th>\n",
              "      <th>val_loss</th>\n",
              "      <th>val_accuracy</th>\n",
              "      <th>val_mse</th>\n",
              "      <th>epoch</th>\n",
              "    </tr>\n",
              "  </thead>\n",
              "  <tbody>\n",
              "    <tr>\n",
              "      <th>45</th>\n",
              "      <td>0.007810</td>\n",
              "      <td>0.460902</td>\n",
              "      <td>0.007810</td>\n",
              "      <td>0.007875</td>\n",
              "      <td>0.458718</td>\n",
              "      <td>0.007875</td>\n",
              "      <td>45</td>\n",
              "    </tr>\n",
              "    <tr>\n",
              "      <th>46</th>\n",
              "      <td>0.007789</td>\n",
              "      <td>0.460904</td>\n",
              "      <td>0.007789</td>\n",
              "      <td>0.007874</td>\n",
              "      <td>0.458728</td>\n",
              "      <td>0.007874</td>\n",
              "      <td>46</td>\n",
              "    </tr>\n",
              "    <tr>\n",
              "      <th>47</th>\n",
              "      <td>0.007772</td>\n",
              "      <td>0.460905</td>\n",
              "      <td>0.007772</td>\n",
              "      <td>0.007897</td>\n",
              "      <td>0.458687</td>\n",
              "      <td>0.007897</td>\n",
              "      <td>47</td>\n",
              "    </tr>\n",
              "    <tr>\n",
              "      <th>48</th>\n",
              "      <td>0.007753</td>\n",
              "      <td>0.460907</td>\n",
              "      <td>0.007753</td>\n",
              "      <td>0.007855</td>\n",
              "      <td>0.458731</td>\n",
              "      <td>0.007855</td>\n",
              "      <td>48</td>\n",
              "    </tr>\n",
              "    <tr>\n",
              "      <th>49</th>\n",
              "      <td>0.007738</td>\n",
              "      <td>0.460908</td>\n",
              "      <td>0.007738</td>\n",
              "      <td>0.007842</td>\n",
              "      <td>0.458711</td>\n",
              "      <td>0.007842</td>\n",
              "      <td>49</td>\n",
              "    </tr>\n",
              "  </tbody>\n",
              "</table>\n",
              "</div>"
            ],
            "text/plain": [
              "        loss  accuracy       mse  val_loss  val_accuracy   val_mse  epoch\n",
              "45  0.007810  0.460902  0.007810  0.007875      0.458718  0.007875     45\n",
              "46  0.007789  0.460904  0.007789  0.007874      0.458728  0.007874     46\n",
              "47  0.007772  0.460905  0.007772  0.007897      0.458687  0.007897     47\n",
              "48  0.007753  0.460907  0.007753  0.007855      0.458731  0.007855     48\n",
              "49  0.007738  0.460908  0.007738  0.007842      0.458711  0.007842     49"
            ]
          },
          "metadata": {
            "tags": []
          },
          "execution_count": 49
        }
      ]
    },
    {
      "cell_type": "markdown",
      "metadata": {
        "id": "4nau5JMtR7Zr"
      },
      "source": [
        "* **10. Evaluación del modelo**"
      ]
    },
    {
      "cell_type": "code",
      "metadata": {
        "colab": {
          "base_uri": "https://localhost:8080/",
          "height": 279
        },
        "id": "PBrcdNXpSYJR",
        "outputId": "6efe3f0d-b5fa-4ab1-82df-76cb272bada5"
      },
      "source": [
        "def plot_history(history):\n",
        "  hist = pd.DataFrame(history.history)\n",
        "  hist['epoch'] = history.epoch\n",
        "\n",
        "  plt.figure()\n",
        "  plt.xlabel('Epoch')\n",
        "  plt.ylabel('loss')\n",
        "  plt.plot(hist['epoch'], hist['loss'],\n",
        "           label='Train loss')\n",
        "  plt.plot(hist['epoch'], hist['val_loss'],\n",
        "           label = 'Val loss')\n",
        "  plt.ylim([0.0075,0.0085])\n",
        "  plt.legend()\n",
        "\n",
        "  plt.show()\n",
        "\n",
        "\n",
        "plot_history(history)"
      ],
      "execution_count": 50,
      "outputs": [
        {
          "output_type": "display_data",
          "data": {
            "image/png": "[encoded data removed]",
            "text/plain": [
              "<Figure size 432x288 with 1 Axes>"
            ]
          },
          "metadata": {
            "tags": [],
            "needs_background": "light"
          }
        }
      ]
    },
    {
      "cell_type": "code",
      "metadata": {
        "id": "poUZJHX3uef5"
      },
      "source": [
        ""
      ],
      "execution_count": 50,
      "outputs": []
    },
    {
      "cell_type": "code",
      "metadata": {
        "colab": {
          "base_uri": "https://localhost:8080/",
          "height": 194
        },
        "id": "HTeBqpcpCSv3",
        "outputId": "b14826c3-dda6-4fc9-ee15-ac5ed3da2a63"
      },
      "source": [
        "decoded_imgs = autoencoder.predict(test_images)\n",
        "n = 10\n",
        "plt.figure(figsize=(20, 4))\n",
        "for i, num in enumerate(randint(test_images.shape[0], size=8)): \n",
        "    # Display original\n",
        "    ax = plt.subplot(2, 8, i+1)\n",
        "    plt.imshow(test_images[num].reshape(24, 24))\n",
        "    plt.gray()\n",
        "    ax.get_xaxis().set_visible(False)\n",
        "    ax.get_yaxis().set_visible(False)\n",
        "    ax.set_title(get_key(labels, y_test[num]))\n",
        "\n",
        "    # Display reconstruction\n",
        "    ax = plt.subplot(2, 8, i+9)\n",
        "    plt.imshow(decoded_imgs[num].reshape(24, 24))\n",
        "    plt.gray()\n",
        "    ax.get_xaxis().set_visible(False)\n",
        "    ax.get_yaxis().set_visible(False)\n",
        "plt.show()"
      ],
      "execution_count": 55,
      "outputs": [
        {
          "output_type": "display_data",
          "data": {
            "image/png": "[encoded data removed]",
            "text/plain": [
              "<Figure size 1440x288 with 16 Axes>"
            ]
          },
          "metadata": {
            "tags": [],
            "needs_background": "light"
          }
        }
      ]
    },
    {
      "cell_type": "markdown",
      "metadata": {
        "id": "QORYmjfBwa3Z"
      },
      "source": [
        "Con este codigo se puede generar nuevas prendas de vestir"
      ]
    },
    {
      "cell_type": "code",
      "metadata": {
        "id": "RYIfQSvcsZlO",
        "colab": {
          "base_uri": "https://localhost:8080/",
          "height": 282
        },
        "outputId": "10494cf6-b79d-465e-caa2-df102d8e5dfc"
      },
      "source": [
        "g = tf.random.Generator.from_non_deterministic_state()\n",
        "#esta funcion es un generador inicializando su estado de forma no determinista.\n",
        "random_latent_space = g.normal(shape=(1, 32))\n",
        "ropa_random = decoder(random_latent_space)\n",
        "imagen_ropa_random = tf.reshape(ropa_random, [24,24])\n",
        "plt.imshow(imagen_ropa_random, cmap=plt.cm.binary)"
      ],
      "execution_count": 102,
      "outputs": [
        {
          "output_type": "execute_result",
          "data": {
            "text/plain": [
              "<matplotlib.image.AxesImage at 0x7fc379452210>"
            ]
          },
          "metadata": {
            "tags": []
          },
          "execution_count": 102
        },
        {
          "output_type": "display_data",
          "data": {
            "image/png": "[encoded data removed]",
            "text/plain": [
              "<Figure size 432x288 with 1 Axes>"
            ]
          },
          "metadata": {
            "tags": [],
            "needs_background": "light"
          }
        }
      ]
    },
    {
      "cell_type": "markdown",
      "metadata": {
        "id": "gkaHxFtOtd3B"
      },
      "source": [
        "espacio latente"
      ]
    },
    {
      "cell_type": "code",
      "metadata": {
        "id": "IJmQzmM0sZwI"
      },
      "source": [
        "encoded_images_test = encoder(test_images)"
      ],
      "execution_count": 66,
      "outputs": []
    },
    {
      "cell_type": "code",
      "metadata": {
        "id": "x-CmK6vYsZtT",
        "colab": {
          "base_uri": "https://localhost:8080/"
        },
        "outputId": "78c0d9d4-c08c-4e63-ca54-f6b9cbcafe53"
      },
      "source": [
        "encoded_images_test"
      ],
      "execution_count": 79,
      "outputs": [
        {
          "output_type": "execute_result",
          "data": {
            "text/plain": [
              "<tf.Tensor: shape=(10000, 32), dtype=float32, numpy=\n",
              "array([[ -2.9107156 ,   2.2005036 ,  -1.7878087 , ...,   0.8358246 ,\n",
              "         -1.5213385 ,   2.9681306 ],\n",
              "       [  0.8878804 ,  -2.0735607 , -10.3982115 , ...,  -0.8794638 ,\n",
              "          4.9908657 ,  -4.0019183 ],\n",
              "       [ -2.421937  ,  -2.9240394 ,  -3.0542102 , ...,   0.77115285,\n",
              "          2.260231  ,   5.1159782 ],\n",
              "       ...,\n",
              "       [  2.479601  ,   2.646494  ,  -6.57945   , ...,  -1.2502873 ,\n",
              "         -1.9003378 ,   0.43289712],\n",
              "       [ -5.002645  ,   0.2870811 ,   0.92226386, ...,  -0.2633274 ,\n",
              "          1.876097  ,   4.2996535 ],\n",
              "       [ -2.7164674 ,   0.50644296,  -0.60411286, ...,  -0.53232455,\n",
              "         -0.24944569,   2.7322671 ]], dtype=float32)>"
            ]
          },
          "metadata": {
            "tags": []
          },
          "execution_count": 79
        }
      ]
    },
    {
      "cell_type": "code",
      "metadata": {
        "id": "d7cqBZ9osZqF",
        "colab": {
          "base_uri": "https://localhost:8080/"
        },
        "outputId": "4ed81adf-d7e8-46e7-abb7-542431b1b157"
      },
      "source": [
        "test_images_labels = [get_key(labels, num) for num in y_test]\n",
        "\n",
        "test_images_labels[0:10] #primeras 10\n"
      ],
      "execution_count": 81,
      "outputs": [
        {
          "output_type": "execute_result",
          "data": {
            "text/plain": [
              "['Ankle boot',\n",
              " 'Pullover',\n",
              " 'Trouser',\n",
              " 'Trouser',\n",
              " 'Shirt',\n",
              " 'Trouser',\n",
              " 'Coat',\n",
              " 'Shirt',\n",
              " 'Sandal',\n",
              " 'Sneaker']"
            ]
          },
          "metadata": {
            "tags": []
          },
          "execution_count": 81
        }
      ]
    },
    {
      "cell_type": "code",
      "metadata": {
        "id": "09GXcW4ZtSw7"
      },
      "source": [
        ""
      ],
      "execution_count": null,
      "outputs": []
    }
  ]
}