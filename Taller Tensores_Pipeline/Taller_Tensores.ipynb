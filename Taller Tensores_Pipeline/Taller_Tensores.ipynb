{
  "nbformat": 4,
  "nbformat_minor": 0,
  "metadata": {
    "colab": {
      "name": "Taller_Tensores.ipynb",
      "provenance": [],
      "toc_visible": true
    },
    "kernelspec": {
      "display_name": "Python 3",
      "language": "python",
      "name": "python3"
    },
    "language_info": {
      "codemirror_mode": {
        "name": "ipython",
        "version": 3
      },
      "file_extension": ".py",
      "mimetype": "text/x-python",
      "name": "python",
      "nbconvert_exporter": "python",
      "pygments_lexer": "ipython3",
      "version": "3.8.5"
    }
  },
  "cells": [
    {
      "cell_type": "markdown",
      "metadata": {
        "id": "P7AUgkXi5Wvs"
      },
      "source": [
        "# Taller de Tensores\n",
        "---\n"
      ]
    },
    {
      "cell_type": "code",
      "metadata": {
        "id": "aiiv-7yV1ZGY"
      },
      "source": [
        "import tensorflow as tf\n",
        "import numpy as np\n",
        "import os\n"
      ],
      "execution_count": 3,
      "outputs": []
    },
    {
      "cell_type": "code",
      "metadata": {
        "colab": {
          "base_uri": "https://localhost:8080/"
        },
        "id": "GobNzqEL5sYf",
        "outputId": "7b75e7f4-b468-4c41-baad-59cdcee902a3"
      },
      "source": [
        "print(f'tensorflow: {tf.__version__}')\n",
        "print(f'numpy: {np.__version__}')"
      ],
      "execution_count": null,
      "outputs": [
        {
          "output_type": "stream",
          "text": [
            "tensorflow: 2.4.1\n",
            "numpy: 1.19.5\n"
          ],
          "name": "stdout"
        }
      ]
    },
    {
      "cell_type": "markdown",
      "metadata": {
        "id": "dkpY8MoW6nKe"
      },
      "source": [
        "Este notebook se realizó con las versiones:\n",
        "> tensorflow: 2.4.1\n",
        "\n",
        "> numpy: 1.19.5\n",
        "\n"
      ]
    },
    {
      "cell_type": "markdown",
      "metadata": {
        "id": "XqCwu73eRl8G"
      },
      "source": [
        "### Tensor de Adios\n",
        "---\n",
        "Cargamos el tensor de audios de cetáceos"
      ]
    },
    {
      "cell_type": "code",
      "metadata": {
        "colab": {
          "base_uri": "https://localhost:8080/"
        },
        "id": "f8wbaNe8d75R",
        "outputId": "8d4f278a-2584-4c3a-dbe6-7fbb2af73628"
      },
      "source": [
        "#si esta trabajando en google drive\n",
        "from google.colab import drive\n",
        "drive.mount('/content/drive')\n",
        "\n",
        "pathdir = '/content/drive/MyDrive/Colab Notebooks/IA y AP/Proyecto/Audios/'\n",
        "listdir = os.listdir(pathdir)\n",
        "print(f'Cantidad de audios: {len(listdir)}')"
      ],
      "execution_count": null,
      "outputs": [
        {
          "output_type": "stream",
          "text": [
            "Drive already mounted at /content/drive; to attempt to forcibly remount, call drive.mount(\"/content/drive\", force_remount=True).\n",
            "Cantidad de audios: 1697\n"
          ],
          "name": "stdout"
        }
      ]
    },
    {
      "cell_type": "code",
      "metadata": {
        "id": "zyWEiiVvdz-9"
      },
      "source": [
        "#cargamos el tensor de audios\n",
        "path = '/content/drive/MyDrive/Colab Notebooks/IA y AP/Proyecto/' #Trabajando desde Drive\n",
        "#path = '/home/mofoko/Desktop/Diplomato intel artificial/IA y AP/Proyecto/' #Trabajando desde local\n",
        "npz = np.load(path + 'Tensor_ceatceos.npz')"
      ],
      "execution_count": null,
      "outputs": []
    },
    {
      "cell_type": "code",
      "metadata": {
        "colab": {
          "base_uri": "https://localhost:8080/"
        },
        "id": "qmYP7W4f1ZGX",
        "outputId": "c57f6440-c70b-41bd-eb70-3e54bfc64495"
      },
      "source": [
        "print(type(npz))\n",
        "#npz guarda el tensor en un diccionario\n",
        "print(npz.files) #.files nos da las keys del diccionario\n",
        "T = np.array(npz['arr_0'])\n",
        "print(T)\n",
        "print(T.shape)"
      ],
      "execution_count": null,
      "outputs": [
        {
          "output_type": "stream",
          "text": [
            "<class 'numpy.lib.npyio.NpzFile'>\n",
            "['arr_0']\n",
            "[[[ 4.49563786e-02  0.00000000e+00]\n",
            "  [ 6.17534816e-02  4.53514739e-05]\n",
            "  [ 5.63177690e-02  9.07029478e-05]\n",
            "  ...\n",
            "  [ 1.72668621e-02  4.97129252e+00]\n",
            "  [ 2.19469201e-02  4.97133787e+00]\n",
            "  [ 7.48272240e-03  4.97138322e+00]]\n",
            "\n",
            " [[ 3.68937780e-03  0.00000000e+00]\n",
            "  [ 1.20888213e-02  1.56908156e-04]\n",
            "  [ 1.37021476e-02  3.13816313e-04]\n",
            "  ...\n",
            "  [-2.36057267e-02  1.71998014e+01]\n",
            "  [-2.23530717e-02  1.71999583e+01]\n",
            "  [ 0.00000000e+00  1.72001152e+01]]\n",
            "\n",
            " [[ 2.89834309e-02  0.00000000e+00]\n",
            "  [ 4.94505689e-02  1.40939986e-04]\n",
            "  [ 4.60001454e-02  2.81879972e-04]\n",
            "  ...\n",
            "  [ 8.60219747e-02  1.54494184e+01]\n",
            "  [ 9.03071985e-02  1.54495594e+01]\n",
            "  [ 7.36405477e-02  1.54497003e+01]]\n",
            "\n",
            " ...\n",
            "\n",
            " [[-1.81061495e-02  0.00000000e+00]\n",
            "  [-2.60394644e-02  1.18623354e-04]\n",
            "  [-2.38069836e-02  2.37246708e-04]\n",
            "  ...\n",
            "  [ 2.12385189e-02  1.30031362e+01]\n",
            "  [ 2.87449583e-02  1.30032548e+01]\n",
            "  [ 3.03709973e-02  1.30033734e+01]]\n",
            "\n",
            " [[-1.07235275e-01  0.00000000e+00]\n",
            "  [-2.02339560e-01  2.53125930e-04]\n",
            "  [-1.64035887e-01  5.06251859e-04]\n",
            "  ...\n",
            "  [ 2.36216676e-03  2.77469050e+01]\n",
            "  [-1.79522298e-02  2.77471581e+01]\n",
            "  [-4.27694470e-02  2.77474113e+01]]\n",
            "\n",
            " [[ 2.85504684e-02  0.00000000e+00]\n",
            "  [ 4.45734300e-02  1.30951657e-04]\n",
            "  [ 3.08575369e-02  2.61903314e-04]\n",
            "  ...\n",
            "  [-5.15770130e-02  1.43545278e+01]\n",
            "  [-6.40907064e-02  1.43546587e+01]\n",
            "  [-6.10806569e-02  1.43547897e+01]]]\n",
            "(1697, 109620, 2)\n"
          ],
          "name": "stdout"
        }
      ]
    },
    {
      "cell_type": "code",
      "metadata": {
        "id": "srlFsh9s1ZGY",
        "colab": {
          "base_uri": "https://localhost:8080/"
        },
        "outputId": "419f80ae-a02b-4d1f-8c77-2544a5b0e999"
      },
      "source": [
        "print(f'Primero audio: {T[0, :, :].shape}')"
      ],
      "execution_count": null,
      "outputs": [
        {
          "output_type": "stream",
          "text": [
            "Primero audio: (109620, 2)\n"
          ],
          "name": "stdout"
        }
      ]
    },
    {
      "cell_type": "markdown",
      "metadata": {
        "id": "Rc85brYY7CcU"
      },
      "source": [
        "## Rango Tensores\n",
        "---\n",
        "\n",
        "Definir números, vectores y matrices en **tf** como tensores de rango cero, uno y dos."
      ]
    },
    {
      "cell_type": "code",
      "metadata": {
        "colab": {
          "base_uri": "https://localhost:8080/"
        },
        "id": "pR23xJWc51rT",
        "outputId": "e46f0c80-9526-41f3-cbc4-4572f5e642fe"
      },
      "source": [
        "#definir una constante o tenor de rango cero\n",
        "num = np.around(T[0, 0, 0], 4)\n",
        "t0 = tf.constant(num)\n",
        "print(t0)"
      ],
      "execution_count": null,
      "outputs": [
        {
          "output_type": "stream",
          "text": [
            "tf.Tensor(0.045, shape=(), dtype=float64)\n"
          ],
          "name": "stdout"
        }
      ]
    },
    {
      "cell_type": "code",
      "metadata": {
        "colab": {
          "base_uri": "https://localhost:8080/"
        },
        "id": "YHX4gcDV70Bw",
        "outputId": "46ede26e-d9d3-441b-a8a2-9221d350f230"
      },
      "source": [
        "#definir un vector o tensor de rango 1\n",
        "v = np.around(T[0, 0:3, 0], 4)\n",
        "t1 = tf.constant(v)\n",
        "print(t1)"
      ],
      "execution_count": null,
      "outputs": [
        {
          "output_type": "stream",
          "text": [
            "tf.Tensor([0.045  0.0618 0.0563], shape=(3,), dtype=float64)\n"
          ],
          "name": "stdout"
        }
      ]
    },
    {
      "cell_type": "code",
      "metadata": {
        "colab": {
          "base_uri": "https://localhost:8080/"
        },
        "id": "qX8Esf448Ezl",
        "outputId": "ef838a4f-ca0a-47ce-b00e-7ddd9ec72e9a"
      },
      "source": [
        "#definir una matriz o tensor de rango 2\n",
        "M = np.around(T[0, 0:3, 0:3], 4)\n",
        "t2 = tf.constant(M)\n",
        "print(t2)"
      ],
      "execution_count": null,
      "outputs": [
        {
          "output_type": "stream",
          "text": [
            "tf.Tensor(\n",
            "[[0.045  0.    ]\n",
            " [0.0618 0.    ]\n",
            " [0.0563 0.0001]], shape=(3, 2), dtype=float64)\n"
          ],
          "name": "stdout"
        }
      ]
    },
    {
      "cell_type": "code",
      "metadata": {
        "colab": {
          "base_uri": "https://localhost:8080/"
        },
        "id": "TOiBbvjF8t3q",
        "outputId": "6901d692-9b46-413c-8be7-8986bf874868"
      },
      "source": [
        "#definir un tensor de rango 3\n",
        "tensor = np.around(T[0:2, 0:3, 0:3], 4)\n",
        "t3 = tf.constant(tensor)\n",
        "print(t3)"
      ],
      "execution_count": null,
      "outputs": [
        {
          "output_type": "stream",
          "text": [
            "tf.Tensor(\n",
            "[[[0.045  0.    ]\n",
            "  [0.0618 0.    ]\n",
            "  [0.0563 0.0001]]\n",
            "\n",
            " [[0.0037 0.    ]\n",
            "  [0.0121 0.0002]\n",
            "  [0.0137 0.0003]]], shape=(2, 3, 2), dtype=float64)\n"
          ],
          "name": "stdout"
        }
      ]
    },
    {
      "cell_type": "code",
      "metadata": {
        "colab": {
          "base_uri": "https://localhost:8080/"
        },
        "id": "N4FDfsMb9bt9",
        "outputId": "bc028357-7eea-4d04-e8ab-1141438f5ed8"
      },
      "source": [
        "#converitir un tensor de tensorflow a un arreglo numpy\n",
        "t3.numpy()"
      ],
      "execution_count": null,
      "outputs": [
        {
          "output_type": "execute_result",
          "data": {
            "text/plain": [
              "array([[[0.045 , 0.    ],\n",
              "        [0.0618, 0.    ],\n",
              "        [0.0563, 0.0001]],\n",
              "\n",
              "       [[0.0037, 0.    ],\n",
              "        [0.0121, 0.0002],\n",
              "        [0.0137, 0.0003]]])"
            ]
          },
          "metadata": {
            "tags": []
          },
          "execution_count": 46
        }
      ]
    },
    {
      "cell_type": "code",
      "metadata": {
        "colab": {
          "base_uri": "https://localhost:8080/"
        },
        "id": "UNaeeUD49ytp",
        "outputId": "2af4bd8e-e30d-4995-9cfb-93abc2d38633"
      },
      "source": [
        "#tensor (array) de numpy\n",
        "t3.numpy().shape"
      ],
      "execution_count": null,
      "outputs": [
        {
          "output_type": "execute_result",
          "data": {
            "text/plain": [
              "(2, 3, 2)"
            ]
          },
          "metadata": {
            "tags": []
          },
          "execution_count": 16
        }
      ]
    },
    {
      "cell_type": "code",
      "metadata": {
        "colab": {
          "base_uri": "https://localhost:8080/"
        },
        "id": "gY3LNjAB-CsC",
        "outputId": "93529853-6e48-4f74-cd66-091eeedd85a2"
      },
      "source": [
        "#tensor de tensorflow\n",
        "t3.shape"
      ],
      "execution_count": null,
      "outputs": [
        {
          "output_type": "execute_result",
          "data": {
            "text/plain": [
              "TensorShape([2, 3, 2])"
            ]
          },
          "metadata": {
            "tags": []
          },
          "execution_count": 17
        }
      ]
    },
    {
      "cell_type": "markdown",
      "metadata": {
        "id": "AsXutDP8-aLA"
      },
      "source": [
        "## Algebra mínima de tensores\n",
        "---"
      ]
    },
    {
      "cell_type": "code",
      "metadata": {
        "colab": {
          "base_uri": "https://localhost:8080/"
        },
        "id": "HyHRBtcb_mXX",
        "outputId": "5468c1d1-8af2-434f-aaf3-c73fb38470a1"
      },
      "source": [
        "#definimos dos matrices\n",
        "a = tf.constant(np.around(T[0, 0:2, 0:2], 4))\n",
        "b = tf.constant(np.around(T[1, 0:2, 0:2], 4))\n",
        "\n",
        "#las sumamos, multiplicamos\n",
        "print('Matriz a:')\n",
        "print(a,\"\\n\")\n",
        "print('Matriz b:')\n",
        "print(b,\"\\n\")\n",
        "print('Matriz a+b:')\n",
        "print(tf.add(a,b),\"\\n\") #suma matricial\n",
        "print('Matriz a(*)b:')\n",
        "print(tf.multiply(a,b),\"\\n\") #Hadamard product\n",
        "print('Matriz a*b:')\n",
        "print(tf.matmul(a,b),\"\\n\") #multiplicacion de matrices"
      ],
      "execution_count": null,
      "outputs": [
        {
          "output_type": "stream",
          "text": [
            "Matriz a:\n",
            "tf.Tensor(\n",
            "[[0.045  0.    ]\n",
            " [0.0618 0.    ]], shape=(2, 2), dtype=float64) \n",
            "\n",
            "Matriz b:\n",
            "tf.Tensor(\n",
            "[[0.0037 0.    ]\n",
            " [0.0121 0.0002]], shape=(2, 2), dtype=float64) \n",
            "\n",
            "Matriz a+b:\n",
            "tf.Tensor(\n",
            "[[0.0487 0.    ]\n",
            " [0.0739 0.0002]], shape=(2, 2), dtype=float64) \n",
            "\n",
            "Matriz a(*)b:\n",
            "tf.Tensor(\n",
            "[[0.0001665  0.        ]\n",
            " [0.00074778 0.        ]], shape=(2, 2), dtype=float64) \n",
            "\n",
            "Matriz a*b:\n",
            "tf.Tensor(\n",
            "[[0.0001665  0.        ]\n",
            " [0.00022866 0.        ]], shape=(2, 2), dtype=float64) \n",
            "\n"
          ],
          "name": "stdout"
        }
      ]
    },
    {
      "cell_type": "code",
      "metadata": {
        "colab": {
          "base_uri": "https://localhost:8080/"
        },
        "id": "-0ek8UGi_uNa",
        "outputId": "58ad1039-fd05-4400-b953-b7614e530ff5"
      },
      "source": [
        "#las operaciones anteriores tambien se pueden hacer asi\n",
        "print(a+b,\"\\n\") #suma de matrices\n",
        "print(a*b, \"\\n\") #Hadamard product\n",
        "print(a@b, \"\\n\") #multiplicacion de matrices"
      ],
      "execution_count": null,
      "outputs": [
        {
          "output_type": "stream",
          "text": [
            "tf.Tensor(\n",
            "[[0.0487 0.    ]\n",
            " [0.0739 0.0002]], shape=(2, 2), dtype=float64) \n",
            "\n",
            "tf.Tensor(\n",
            "[[0.0001665  0.        ]\n",
            " [0.00074778 0.        ]], shape=(2, 2), dtype=float64) \n",
            "\n",
            "tf.Tensor(\n",
            "[[0.0001665  0.        ]\n",
            " [0.00022866 0.        ]], shape=(2, 2), dtype=float64) \n",
            "\n"
          ],
          "name": "stdout"
        }
      ]
    },
    {
      "cell_type": "markdown",
      "metadata": {
        "id": "q2qYHU_OBHgG"
      },
      "source": [
        "## Funciones de Reducción¶\n",
        "---"
      ]
    },
    {
      "cell_type": "code",
      "metadata": {
        "colab": {
          "base_uri": "https://localhost:8080/"
        },
        "id": "qCwMlt6BA8nN",
        "outputId": "006cce65-e541-4bc0-9128-ac7f145d5463"
      },
      "source": [
        "c = tf.constant(T[2, 0:3, 0:2])\n",
        "\n",
        "print('Matriz c:')\n",
        "print(c,\"\\n\")\n",
        "print('máximo valor de Matriz c:')\n",
        "print(tf.reduce_max(c),\"\\n\") #maximo valos en la matriz\n",
        "print('mínimo valor de Matriz c:')\n",
        "print(tf.reduce_min(c),\"\\n\") #minimo valor de la matriz\n",
        "print('media aritmética de Matriz c:')\n",
        "print(tf.reduce_mean(c),\"\\n\") #media aritmeticas de los valores de la matriz\n",
        "print('idx de los máximos valores de Matriz c en cada columna:')\n",
        "print(tf.argmax(c, axis=None),\"\\n\") #devulve los indices en un eje del mayor valor de la matriz o menor en caso de empates\n",
        "print('softmax de Matriz c:')\n",
        "print(tf.nn.softmax(c),\"\\n\") #aplica la funcion de activacion softmax a la matriz\n",
        "print('suma de los vectores columna de softmax de Matriz c:')\n",
        "print(tf.reduce_sum(tf.nn.softmax(c),axis=1),\"\\n\") #suma todos los elementos de la matriz en el eje 1 es decir las columnas\n",
        "# es decir [0.50724535, 0.51232491. 0.51142758] + [0.49275465, 0.48767509, 0.48857242] = [1.0, 1.0, 1.0]"
      ],
      "execution_count": null,
      "outputs": [
        {
          "output_type": "stream",
          "text": [
            "Matriz c:\n",
            "tf.Tensor(\n",
            "[[0.02898343 0.        ]\n",
            " [0.04945057 0.00014094]\n",
            " [0.04600015 0.00028188]], shape=(3, 2), dtype=float64) \n",
            "\n",
            "máximo valor de Matriz c:\n",
            "tf.Tensor(0.04945056885480881, shape=(), dtype=float64) \n",
            "\n",
            "mínimo valor de Matriz c:\n",
            "tf.Tensor(0.0, shape=(), dtype=float64) \n",
            "\n",
            "media aritmética de Matriz c:\n",
            "tf.Tensor(0.02080949418759895, shape=(), dtype=float64) \n",
            "\n",
            "idx de los máximos valores de Matriz c en cada columna:\n",
            "tf.Tensor([1 2], shape=(2,), dtype=int64) \n",
            "\n",
            "softmax de Matriz c:\n",
            "tf.Tensor(\n",
            "[[0.50724535 0.49275465]\n",
            " [0.51232491 0.48767509]\n",
            " [0.51142758 0.48857242]], shape=(3, 2), dtype=float64) \n",
            "\n",
            "suma de los vectores columna de softmax de Matriz c:\n",
            "tf.Tensor([1. 1. 1.], shape=(3,), dtype=float64) \n",
            "\n"
          ],
          "name": "stdout"
        }
      ]
    },
    {
      "cell_type": "markdown",
      "metadata": {
        "id": "lhPzr8VmKrnT"
      },
      "source": [
        "## Indexación\n",
        "---\n",
        "+ Los índices empiezam em cero.\n",
        "+ Los índices negativos cuentan hacia atrás desde el final.\n",
        "+ Los dos puntos (:) se utilizan para los cortes. inicio:final:salto"
      ]
    },
    {
      "cell_type": "code",
      "metadata": {
        "colab": {
          "base_uri": "https://localhost:8080/"
        },
        "id": "Ij3rQOtDBI4Q",
        "outputId": "546f8dd1-270e-4a14-d77a-3f66851e6945"
      },
      "source": [
        "t1 =  tf.constant(np.around(T[0, 0:5, 0], 4))\n",
        "print('vector:', t1)\n",
        "print(\"Primero: \", t1[0])\n",
        "print(\"Segundo: \", t1[1])\n",
        "print(\"Ultimo: \", t1[-1].numpy())"
      ],
      "execution_count": null,
      "outputs": [
        {
          "output_type": "stream",
          "text": [
            "vector: tf.Tensor([0.045  0.0618 0.0563 0.0624 0.0583], shape=(5,), dtype=float64)\n",
            "Primero:  tf.Tensor(0.045, shape=(), dtype=float64)\n",
            "Segundo:  tf.Tensor(0.0618, shape=(), dtype=float64)\n",
            "Ultimo:  0.0583\n"
          ],
          "name": "stdout"
        }
      ]
    },
    {
      "cell_type": "markdown",
      "metadata": {
        "id": "GadLmoxdM1xT"
      },
      "source": [
        "### Extracción de partes de un tensor: *slices*"
      ]
    },
    {
      "cell_type": "code",
      "metadata": {
        "colab": {
          "base_uri": "https://localhost:8080/"
        },
        "id": "HarxoUYxLfec",
        "outputId": "abc0f7b4-783b-4d00-b3b0-562c7ed40de4"
      },
      "source": [
        "t1 =  tf.constant(np.around(T[0, :10, 0], 4))\n",
        "print('Todo', t1[:].numpy()) \n",
        "print('Antes la posición 4 ', t1[:4].numpy()) #los elementos con indices 0, 1, 2, 3 sin incluir el 4\n",
        "print('Desde la posición 4 hasta el final', t1[4:].numpy()) #todos los elementos despues del cuarto elemento\n",
        "print('Desde la posición 2 hasta anterior a 7', t1[4:7].numpy()) #elementos con indices 4, 5, 6 sin incluir el idx 7\n",
        "print('Todos los elementos en posición par ', t1[::2].numpy()) #los elemento con idx pares 0, 2, 4, 6 ...\n",
        "print('Invertido todo el orden', t1[::-1].numpy()) #todos los elemmentos en orden inverso\n"
      ],
      "execution_count": null,
      "outputs": [
        {
          "output_type": "stream",
          "text": [
            "Todo [0.045  0.0618 0.0563 0.0624 0.0583 0.0591 0.0559 0.0593 0.0561 0.0584]\n",
            "Antes la posición 4  [0.045  0.0618 0.0563 0.0624]\n",
            "Desde la posición 4 hasta el final [0.0583 0.0591 0.0559 0.0593 0.0561 0.0584]\n",
            "Desde la posición 2 hasta anterior a 7 [0.0583 0.0591 0.0559]\n",
            "Todos los elementos en posición par  [0.045  0.0563 0.0583 0.0559 0.0561]\n",
            "Invertido todo el orden [0.0584 0.0561 0.0593 0.0559 0.0591 0.0583 0.0624 0.0563 0.0618 0.045 ]\n"
          ],
          "name": "stdout"
        }
      ]
    },
    {
      "cell_type": "markdown",
      "metadata": {
        "id": "FYTP_QV4kU-J"
      },
      "source": [
        "## Indexación multi-eje"
      ]
    },
    {
      "cell_type": "code",
      "metadata": {
        "colab": {
          "base_uri": "https://localhost:8080/"
        },
        "id": "sS5o8Li7NHGD",
        "outputId": "47bb53d6-3680-4dd9-b527-a42da002df06"
      },
      "source": [
        "m = np.transpose(np.around(T[0, :3, :], 4))\n",
        "t23 = tf.constant(m)\n",
        "print(t23.numpy())"
      ],
      "execution_count": null,
      "outputs": [
        {
          "output_type": "stream",
          "text": [
            "[[0.045  0.0618 0.0563]\n",
            " [0.     0.     0.0001]]\n"
          ],
          "name": "stdout"
        }
      ]
    },
    {
      "cell_type": "code",
      "metadata": {
        "colab": {
          "base_uri": "https://localhost:8080/"
        },
        "id": "b3lbF1SURIad",
        "outputId": "252ffe6d-b9fa-4d61-c75b-d355226530e9"
      },
      "source": [
        "print('Posición 1,1 = ',t23[1,1].numpy())\n",
        "print('Segunda fila: ', t23[1,:].numpy())\n",
        "print('Segunda columna: ', t23[:,1].numpy())\n",
        "print('Última columna: ', t23[:,-1].numpy())\n",
        "print('Primer elemento de la última columna: ', t23[0,-1].numpy())\n",
        "print('Saltarse la primera columna: \\n', t23[:,1:].numpy())\n"
      ],
      "execution_count": null,
      "outputs": [
        {
          "output_type": "stream",
          "text": [
            "Posición 1,1 =  0.0\n",
            "Segunda fila:  [0.     0.     0.0001]\n",
            "Segunda columna:  [0.0618 0.    ]\n",
            "Última columna:  [0.0563 0.0001]\n",
            "Primer elemento de la última columna:  0.0563\n",
            "Saltarse la primera columna: \n",
            " [[0.0618 0.0563]\n",
            " [0.     0.0001]]\n"
          ],
          "name": "stdout"
        }
      ]
    },
    {
      "cell_type": "code",
      "metadata": {
        "id": "00GjTVK_TTTR",
        "colab": {
          "base_uri": "https://localhost:8080/"
        },
        "outputId": "49afa305-ea9b-4528-818d-62f7d6344739"
      },
      "source": [
        "m = np.around(T[:3, :5, :], 4)\n",
        "t = tf.constant(m) \n",
        "print(t.numpy())"
      ],
      "execution_count": null,
      "outputs": [
        {
          "output_type": "stream",
          "text": [
            "[[[0.045  0.    ]\n",
            "  [0.0618 0.    ]\n",
            "  [0.0563 0.0001]\n",
            "  [0.0624 0.0001]\n",
            "  [0.0583 0.0002]]\n",
            "\n",
            " [[0.0037 0.    ]\n",
            "  [0.0121 0.0002]\n",
            "  [0.0137 0.0003]\n",
            "  [0.0212 0.0005]\n",
            "  [0.0283 0.0006]]\n",
            "\n",
            " [[0.029  0.    ]\n",
            "  [0.0495 0.0001]\n",
            "  [0.046  0.0003]\n",
            "  [0.0479 0.0004]\n",
            "  [0.0419 0.0006]]]\n"
          ],
          "name": "stdout"
        }
      ]
    },
    {
      "cell_type": "code",
      "metadata": {
        "colab": {
          "base_uri": "https://localhost:8080/"
        },
        "id": "CkC1rkHdoRNC",
        "outputId": "13280b11-472d-47f8-fa00-11ef71d5c73b"
      },
      "source": [
        "print('Extrae la primera capa\\n', t[0,:,:])\n",
        "print('Extrae la segunda capa\\n', t[1])"
      ],
      "execution_count": null,
      "outputs": [
        {
          "output_type": "stream",
          "text": [
            "Extrae la primera capa\n",
            " tf.Tensor(\n",
            "[[0.045  0.    ]\n",
            " [0.0618 0.    ]\n",
            " [0.0563 0.0001]\n",
            " [0.0624 0.0001]\n",
            " [0.0583 0.0002]], shape=(5, 2), dtype=float64)\n",
            "Extrae la segunda capa\n",
            " tf.Tensor(\n",
            "[[0.0037 0.    ]\n",
            " [0.0121 0.0002]\n",
            " [0.0137 0.0003]\n",
            " [0.0212 0.0005]\n",
            " [0.0283 0.0006]], shape=(5, 2), dtype=float64)\n"
          ],
          "name": "stdout"
        }
      ]
    },
    {
      "cell_type": "markdown",
      "metadata": {
        "id": "Ak2qLIXozV4Q"
      },
      "source": [
        "## Manipular formas\n"
      ]
    },
    {
      "cell_type": "code",
      "metadata": {
        "colab": {
          "base_uri": "https://localhost:8080/"
        },
        "id": "ufzW7yZAz5zy",
        "outputId": "e7b4ef14-3a04-42e8-a74e-6b6002d452dc"
      },
      "source": [
        "x = tf.constant(np.around(T[:3, :1, 0], 4))\n",
        "print(x.shape)\n",
        "print(x.shape.as_list())"
      ],
      "execution_count": null,
      "outputs": [
        {
          "output_type": "stream",
          "text": [
            "(3, 1)\n",
            "[3, 1]\n"
          ],
          "name": "stdout"
        }
      ]
    },
    {
      "cell_type": "code",
      "metadata": {
        "colab": {
          "base_uri": "https://localhost:8080/"
        },
        "id": "_5gRKn_j0V5y",
        "outputId": "2e05ddad-a8b9-47e8-88c9-cec08286798c"
      },
      "source": [
        "reshaped = tf.reshape(x,[1,3])\n",
        "print(reshaped.numpy())\n",
        "print(x.numpy())"
      ],
      "execution_count": null,
      "outputs": [
        {
          "output_type": "stream",
          "text": [
            "[[0.045  0.0037 0.029 ]]\n",
            "[[0.045 ]\n",
            " [0.0037]\n",
            " [0.029 ]]\n"
          ],
          "name": "stdout"
        }
      ]
    },
    {
      "cell_type": "markdown",
      "metadata": {
        "id": "Tx3nWWkz19gv"
      },
      "source": [
        "Con ```tf.reshape``` los datos mantienen su disposición en la memoria y se crea un nuevo tensor, con la forma solicitada, apuntando a los mismos datos. TensorFlow usa un orden de memoria de \"fila principal\" de estilo C, donde incrementar el índice de la derecha corresponde a un solo paso en la memoria."
      ]
    },
    {
      "cell_type": "markdown",
      "metadata": {
        "id": "PnSGG9C23z0H"
      },
      "source": [
        "## Aplana un tensor\n",
        "---\n",
        "Esta operación permite ver el orden como están organizados los datos en memoria"
      ]
    },
    {
      "cell_type": "code",
      "metadata": {
        "colab": {
          "base_uri": "https://localhost:8080/"
        },
        "id": "zIyc9w8T1_Xc",
        "outputId": "223ba32d-b495-4909-91a9-d360f93e5efe"
      },
      "source": [
        "print(\"t actual: \\n\", t.numpy())\n",
        "flat = tf.reshape(t, [-1])\n",
        "print(\"\\n t aplanado: \\n\", flat.numpy())"
      ],
      "execution_count": null,
      "outputs": [
        {
          "output_type": "stream",
          "text": [
            "t actual: \n",
            " [[[0.045  0.    ]\n",
            "  [0.0618 0.    ]\n",
            "  [0.0563 0.0001]\n",
            "  [0.0624 0.0001]\n",
            "  [0.0583 0.0002]]\n",
            "\n",
            " [[0.0037 0.    ]\n",
            "  [0.0121 0.0002]\n",
            "  [0.0137 0.0003]\n",
            "  [0.0212 0.0005]\n",
            "  [0.0283 0.0006]]\n",
            "\n",
            " [[0.029  0.    ]\n",
            "  [0.0495 0.0001]\n",
            "  [0.046  0.0003]\n",
            "  [0.0479 0.0004]\n",
            "  [0.0419 0.0006]]]\n",
            "\n",
            " t aplanado: \n",
            " [0.045  0.     0.0618 0.     0.0563 0.0001 0.0624 0.0001 0.0583 0.0002\n",
            " 0.0037 0.     0.0121 0.0002 0.0137 0.0003 0.0212 0.0005 0.0283 0.0006\n",
            " 0.029  0.     0.0495 0.0001 0.046  0.0003 0.0479 0.0004 0.0419 0.0006]\n"
          ],
          "name": "stdout"
        }
      ]
    },
    {
      "cell_type": "markdown",
      "metadata": {
        "id": "B5FE-85f4MW0"
      },
      "source": [
        "Normalmente, el único uso razonable de tf.reshape es combinar o dividir ejes adyacentes (o agregar / eliminar 1 s).\n",
        "\n",
        "Para este tensor de 2x3x5, remodelar a (2x3)x5 o 2x (3x5) son dos cosas razonables, ya que los cortes no se mezclan:"
      ]
    },
    {
      "cell_type": "code",
      "metadata": {
        "colab": {
          "base_uri": "https://localhost:8080/"
        },
        "id": "BgflI3fN385E",
        "outputId": "47b8a0ee-5ff5-43c2-ce55-7b8b3d593432"
      },
      "source": [
        "print(t.shape.as_list())"
      ],
      "execution_count": null,
      "outputs": [
        {
          "output_type": "stream",
          "text": [
            "[3, 5, 2]\n"
          ],
          "name": "stdout"
        }
      ]
    },
    {
      "cell_type": "code",
      "metadata": {
        "colab": {
          "base_uri": "https://localhost:8080/"
        },
        "id": "WulHgdOh4Ytv",
        "outputId": "54686078-08fc-4a02-eaa6-89094e692294"
      },
      "source": [
        "print(tf.reshape(t, [2*3,5]))"
      ],
      "execution_count": null,
      "outputs": [
        {
          "output_type": "stream",
          "text": [
            "tf.Tensor(\n",
            "[[0.045  0.     0.0618 0.     0.0563]\n",
            " [0.0001 0.0624 0.0001 0.0583 0.0002]\n",
            " [0.0037 0.     0.0121 0.0002 0.0137]\n",
            " [0.0003 0.0212 0.0005 0.0283 0.0006]\n",
            " [0.029  0.     0.0495 0.0001 0.046 ]\n",
            " [0.0003 0.0479 0.0004 0.0419 0.0006]], shape=(6, 5), dtype=float64)\n"
          ],
          "name": "stdout"
        }
      ]
    },
    {
      "cell_type": "code",
      "metadata": {
        "colab": {
          "base_uri": "https://localhost:8080/"
        },
        "id": "sXkFw2Ws4bj5",
        "outputId": "653cf04b-89f6-4e77-f71e-2ac0307d4114"
      },
      "source": [
        "print(tf.reshape(t, [2,3*5]))"
      ],
      "execution_count": null,
      "outputs": [
        {
          "output_type": "stream",
          "text": [
            "tf.Tensor(\n",
            "[[0.045  0.     0.0618 0.     0.0563 0.0001 0.0624 0.0001 0.0583 0.0002\n",
            "  0.0037 0.     0.0121 0.0002 0.0137]\n",
            " [0.0003 0.0212 0.0005 0.0283 0.0006 0.029  0.     0.0495 0.0001 0.046\n",
            "  0.0003 0.0479 0.0004 0.0419 0.0006]], shape=(2, 15), dtype=float64)\n"
          ],
          "name": "stdout"
        }
      ]
    },
    {
      "cell_type": "markdown",
      "metadata": {
        "id": "S8_puRiV4ohB"
      },
      "source": [
        "No es necesario definir todos los tamaños en todas las dimensiones. veámos como rehacer los dos ejemplos anteriores, respecitivamente. El **-1** le dice a tf que **decida cuál es la dimensión correcta**."
      ]
    },
    {
      "cell_type": "code",
      "metadata": {
        "colab": {
          "base_uri": "https://localhost:8080/"
        },
        "id": "ZVo_nIaR4h33",
        "outputId": "92fb9108-976f-45d5-a8e4-4f9ca8d368c0"
      },
      "source": [
        "print(tf.reshape(t, [-1,5]))"
      ],
      "execution_count": null,
      "outputs": [
        {
          "output_type": "stream",
          "text": [
            "tf.Tensor(\n",
            "[[0.045  0.     0.0618 0.     0.0563]\n",
            " [0.0001 0.0624 0.0001 0.0583 0.0002]\n",
            " [0.0037 0.     0.0121 0.0002 0.0137]\n",
            " [0.0003 0.0212 0.0005 0.0283 0.0006]\n",
            " [0.029  0.     0.0495 0.0001 0.046 ]\n",
            " [0.0003 0.0479 0.0004 0.0419 0.0006]], shape=(6, 5), dtype=float64)\n"
          ],
          "name": "stdout"
        }
      ]
    },
    {
      "cell_type": "code",
      "metadata": {
        "colab": {
          "base_uri": "https://localhost:8080/"
        },
        "id": "QOO1B4m94v-r",
        "outputId": "b82943af-00c7-487f-f8b3-6d66ee60d3db"
      },
      "source": [
        "print(tf.reshape(t, [3,-1]))"
      ],
      "execution_count": null,
      "outputs": [
        {
          "output_type": "stream",
          "text": [
            "tf.Tensor(\n",
            "[[0.045  0.     0.0618 0.     0.0563 0.0001 0.0624 0.0001 0.0583 0.0002]\n",
            " [0.0037 0.     0.0121 0.0002 0.0137 0.0003 0.0212 0.0005 0.0283 0.0006]\n",
            " [0.029  0.     0.0495 0.0001 0.046  0.0003 0.0479 0.0004 0.0419 0.0006]], shape=(3, 10), dtype=float64)\n"
          ],
          "name": "stdout"
        }
      ]
    },
    {
      "cell_type": "markdown",
      "metadata": {
        "id": "xr8e9Zps5ELg"
      },
      "source": [
        "Aunque es posible hacer el siguiente reshape no tiene sentido, porque se pierde la integridad de la información.\n",
        "\n",
        "Asegúrese que enti3nde la razón."
      ]
    },
    {
      "cell_type": "code",
      "metadata": {
        "colab": {
          "base_uri": "https://localhost:8080/"
        },
        "id": "kuHcgGR75DZ4",
        "outputId": "438289fb-92f9-4c19-dc97-98a2dae292fd"
      },
      "source": [
        "print(tf.reshape(t, [3,2,5]))"
      ],
      "execution_count": null,
      "outputs": [
        {
          "output_type": "stream",
          "text": [
            "tf.Tensor(\n",
            "[[[0.045  0.     0.0618 0.     0.0563]\n",
            "  [0.0001 0.0624 0.0001 0.0583 0.0002]]\n",
            "\n",
            " [[0.0037 0.     0.0121 0.0002 0.0137]\n",
            "  [0.0003 0.0212 0.0005 0.0283 0.0006]]\n",
            "\n",
            " [[0.029  0.     0.0495 0.0001 0.046 ]\n",
            "  [0.0003 0.0479 0.0004 0.0419 0.0006]]], shape=(3, 2, 5), dtype=float64)\n"
          ],
          "name": "stdout"
        }
      ]
    },
    {
      "cell_type": "markdown",
      "metadata": {
        "id": "DY9J6XIU5qpO"
      },
      "source": [
        "### Definición Conversión de tipos. Cast\n",
        "---\n",
        "No definir el tipo de flotante o cantidad de números decimales puede afectar nuestros calculos"
      ]
    },
    {
      "cell_type": "code",
      "metadata": {
        "colab": {
          "base_uri": "https://localhost:8080/"
        },
        "id": "3zcHTLui458-",
        "outputId": "04ae648a-cb8e-4658-b4af-281156dabe9d"
      },
      "source": [
        "f64_tensor = tf.constant(T[0, :3, 0], dtype = tf.float64)\n",
        "print(f64_tensor)\n",
        "\n",
        "f16_tensor = tf.cast(f64_tensor,dtype= tf.float16)\n",
        "print(f16_tensor)\n",
        "\n",
        "u8_tensor = tf.cast(f16_tensor, dtype = tf.uint8)\n",
        "print(u8_tensor)"
      ],
      "execution_count": null,
      "outputs": [
        {
          "output_type": "stream",
          "text": [
            "tf.Tensor([0.04495638 0.06175348 0.05631777], shape=(3,), dtype=float64)\n",
            "tf.Tensor([0.04495 0.06177 0.0563 ], shape=(3,), dtype=float16)\n",
            "tf.Tensor([0 0 0], shape=(3,), dtype=uint8)\n"
          ],
          "name": "stdout"
        }
      ]
    },
    {
      "cell_type": "markdown",
      "metadata": {
        "id": "L_uyvT2B6pco"
      },
      "source": [
        "## Radiofusión (broadcasting)\n",
        "---\n",
        "La radiodifusión es un concepto tomado de la función equivalente en NumPy . En resumen, bajo ciertas condiciones, los tensores más pequeños se \"estiran\" automáticamente para adaptarse a tensores más grandes cuando se ejecutan operaciones combinadas en ellos.\n",
        "\n",
        "El caso más simple y común es cuando intenta multiplicar o agregar un tensor a un escalar. En ese caso, el escalar se transmite para que tenga la misma forma que el otro argumento."
      ]
    },
    {
      "cell_type": "code",
      "metadata": {
        "colab": {
          "base_uri": "https://localhost:8080/"
        },
        "id": "zvvDh7Rk5t9B",
        "outputId": "020d7a79-6346-4c84-f8fe-a06d350be81b"
      },
      "source": [
        "x = tf.constant([1, 2 ,3])\n",
        "y = tf.constant(2)\n",
        "z = tf.constant([2, 2 ,2])\n",
        "\n",
        "# el mismo resultado\n",
        "print(tf.multiply(x,2))\n",
        "print(x*y)\n",
        "print(x*z)"
      ],
      "execution_count": null,
      "outputs": [
        {
          "output_type": "stream",
          "text": [
            "tf.Tensor([2 4 6], shape=(3,), dtype=int32)\n",
            "tf.Tensor([2 4 6], shape=(3,), dtype=int32)\n",
            "tf.Tensor([2 4 6], shape=(3,), dtype=int32)\n"
          ],
          "name": "stdout"
        }
      ]
    },
    {
      "cell_type": "code",
      "metadata": {
        "colab": {
          "base_uri": "https://localhost:8080/"
        },
        "id": "rdbXosJR7J1s",
        "outputId": "d71334e4-ef8c-4958-9316-3caef13495a9"
      },
      "source": [
        "x = tf.reshape(x, [3,1])\n",
        "y = tf.range(1,5)\n",
        "print(x, \"\\n\")\n",
        "print(y, \"\\n\")"
      ],
      "execution_count": null,
      "outputs": [
        {
          "output_type": "stream",
          "text": [
            "tf.Tensor(\n",
            "[[1]\n",
            " [2]\n",
            " [3]], shape=(3, 1), dtype=int32) \n",
            "\n",
            "tf.Tensor([1 2 3 4], shape=(4,), dtype=int32) \n",
            "\n"
          ],
          "name": "stdout"
        }
      ]
    },
    {
      "cell_type": "code",
      "metadata": {
        "colab": {
          "base_uri": "https://localhost:8080/"
        },
        "id": "rzy39gI08pi9",
        "outputId": "29628373-d8c6-4678-df6f-83709382b75e"
      },
      "source": [
        "print(tf.multiply(x,y))"
      ],
      "execution_count": null,
      "outputs": [
        {
          "output_type": "stream",
          "text": [
            "tf.Tensor(\n",
            "[[ 1  2  3  4]\n",
            " [ 2  4  6  8]\n",
            " [ 3  6  9 12]], shape=(3, 4), dtype=int32)\n"
          ],
          "name": "stdout"
        }
      ]
    },
    {
      "cell_type": "markdown",
      "metadata": {
        "id": "Qt3ur3qZ9T3F"
      },
      "source": [
        "Del mismo modo, los ejes con longitud 1 se pueden estirar para que coincidan con los otros argumentos. Ambos argumentos se pueden estirar en el mismo cálculo.\n",
        "\n",
        "En este caso, una matriz de *3x1* se multiplica por elementos por una matriz de *1x4* para producir una matriz de 3x4. Observe que el 1 inicial es opcional: la forma de y es [4]. En matemáticas esta multiplicación se conoce como **producto externo**."
      ]
    },
    {
      "cell_type": "markdown",
      "metadata": {
        "id": "StNmeBUm9fln"
      },
      "source": [
        "#### tf.broadcast_to()\n",
        "---\n",
        "expande una lista o arreglo al shape desado\n"
      ]
    },
    {
      "cell_type": "code",
      "metadata": {
        "colab": {
          "base_uri": "https://localhost:8080/"
        },
        "id": "bm1PNV1N82vt",
        "outputId": "9de451fa-d9ee-4e38-db49-bd82c5e30974"
      },
      "source": [
        "print(tf.broadcast_to([1,2,3], [3,3]))"
      ],
      "execution_count": null,
      "outputs": [
        {
          "output_type": "stream",
          "text": [
            "tf.Tensor(\n",
            "[[1 2 3]\n",
            " [1 2 3]\n",
            " [1 2 3]], shape=(3, 3), dtype=int32)\n"
          ],
          "name": "stdout"
        }
      ]
    },
    {
      "cell_type": "markdown",
      "metadata": {
        "id": "3z0AmDlh-m4M"
      },
      "source": [
        "#### tf.convert_to_tensor()\n",
        "---\n",
        "convierte listas o array a objetos tensorflow\n",
        "\n",
        "La mayoría de las operaciones, como *tf.matmul* y *tf.reshape* toman argumentos de la clase *tf.Tensor*. Sin embargo, notará que en el caso anterior, se aceptan objetos de Python con forma de tensores.\n",
        "\n",
        "La mayoría, pero no todas, las operaciones llaman a *tf.convert_to_tensor* con argumentos no tensoriales. Existe un registro de conversiones, y la mayoría de las clases de objetos como *ndarray* , *TensorShape* , de Python, y *tf.Variable* se convertirán todas automáticamente."
      ]
    },
    {
      "cell_type": "code",
      "metadata": {
        "colab": {
          "base_uri": "https://localhost:8080/"
        },
        "id": "ISt-t3L69j3U",
        "outputId": "e732eb3e-85b8-433f-85ee-5f8abb79085d"
      },
      "source": [
        "py_list = [1, 2, 3]\n",
        "print(type(py_list))\n",
        "tensor = tf.convert_to_tensor(py_list)\n",
        "print(type(tensor))"
      ],
      "execution_count": null,
      "outputs": [
        {
          "output_type": "stream",
          "text": [
            "<class 'list'>\n",
            "<class 'tensorflow.python.framework.ops.EagerTensor'>\n"
          ],
          "name": "stdout"
        }
      ]
    },
    {
      "cell_type": "markdown",
      "metadata": {
        "id": "QgVT8wcv_Xo_"
      },
      "source": [
        "### Tensores irregulares (ragged tensors)\n",
        "---\n",
        "Un tensor con números variables de elementos a lo largo de algún eje se llama \"irregular\". Utilice tf.ragged.RaggedTensor para datos irregulares.\n",
        "\n",
        "Por ejemplo, esto no se puede representar como un tensor regular:"
      ]
    },
    {
      "cell_type": "code",
      "metadata": {
        "id": "cMk7qhSe-Uki"
      },
      "source": [
        "ragged_list = [\n",
        "    [0, 1, 2, 3],\n",
        "    [4, 5],\n",
        "    [6, 7, 8],\n",
        "    [9]]"
      ],
      "execution_count": 1,
      "outputs": []
    },
    {
      "cell_type": "code",
      "metadata": {
        "colab": {
          "base_uri": "https://localhost:8080/"
        },
        "id": "ERbWu6NaVCkk",
        "outputId": "3c11f445-0dad-4354-ebdb-dc9471364933"
      },
      "source": [
        "try:\n",
        "    tensor = tf.constant(ragged_list)\n",
        "except Exception as e:\n",
        "     print(f\"{type(e).__name__}: {e}\")"
      ],
      "execution_count": 4,
      "outputs": [
        {
          "output_type": "stream",
          "text": [
            "ValueError: Can't convert non-rectangular Python sequence to Tensor.\n"
          ],
          "name": "stdout"
        }
      ]
    },
    {
      "cell_type": "markdown",
      "metadata": {
        "id": "SIEYWi3bVW16"
      },
      "source": [
        "En su lugar, cree un tf.RaggedTensor usando ```tf.ragged.constant``` :"
      ]
    },
    {
      "cell_type": "code",
      "metadata": {
        "colab": {
          "base_uri": "https://localhost:8080/"
        },
        "id": "7RH3-n7OVX4Z",
        "outputId": "cc6885f8-deca-4e8a-ecc1-5bae0138584b"
      },
      "source": [
        "ragged_t = tf.ragged.constant(ragged_list)\n",
        "\n",
        "print(ragged_t.shape)"
      ],
      "execution_count": 5,
      "outputs": [
        {
          "output_type": "stream",
          "text": [
            "(4, None)\n"
          ],
          "name": "stdout"
        }
      ]
    },
    {
      "cell_type": "markdown",
      "metadata": {
        "id": "S3fbSWEGVrdw"
      },
      "source": [
        "En este tensor irregular es posible definir que tiene 4 filas pero no es posible la cantidad de columnas dado que son diferente cantidad para cada fila"
      ]
    },
    {
      "cell_type": "markdown",
      "metadata": {
        "id": "qOo7zfbJV7_u"
      },
      "source": [
        "## Tensores de strings\n",
        "---\n",
        "Los tensores irregulares se usan para trabajar con strings"
      ]
    },
    {
      "cell_type": "code",
      "metadata": {
        "colab": {
          "base_uri": "https://localhost:8080/"
        },
        "id": "6SgAlqiBVov5",
        "outputId": "2bef1a5d-0093-4c1b-a35b-e655d19335aa"
      },
      "source": [
        "st1 = tf.constant(\"Este tensor string\")\n",
        "print(st1)"
      ],
      "execution_count": 15,
      "outputs": [
        {
          "output_type": "stream",
          "text": [
            "tf.Tensor(b'Este tensor string', shape=(), dtype=string)\n"
          ],
          "name": "stdout"
        }
      ]
    },
    {
      "cell_type": "code",
      "metadata": {
        "colab": {
          "base_uri": "https://localhost:8080/"
        },
        "id": "r-hcjt-JWIKU",
        "outputId": "b882755e-a12e-4bb0-95d2-ab62ff4d07df"
      },
      "source": [
        "st2 = tf.constant([\"Este tensor string\",\n",
        "                 \"Cadena 2\",\n",
        "                 \"Cadena 3\",\n",
        "                 \"🥳\"])\n",
        "print(st2)"
      ],
      "execution_count": 17,
      "outputs": [
        {
          "output_type": "stream",
          "text": [
            "tf.Tensor([b'Este tensor string' b'Cadena 2' b'Cadena 3' b'\\xf0\\x9f\\xa5\\xb3'], shape=(4,), dtype=string)\n"
          ],
          "name": "stdout"
        }
      ]
    },
    {
      "cell_type": "code",
      "metadata": {
        "colab": {
          "base_uri": "https://localhost:8080/"
        },
        "id": "60oVcQvpWV_o",
        "outputId": "abfc0311-c2d3-451f-b441-9d56ad8d9469"
      },
      "source": [
        "st2[2]"
      ],
      "execution_count": 18,
      "outputs": [
        {
          "output_type": "execute_result",
          "data": {
            "text/plain": [
              "<tf.Tensor: shape=(), dtype=string, numpy=b'Cadena 3'>"
            ]
          },
          "metadata": {
            "tags": []
          },
          "execution_count": 18
        }
      ]
    },
    {
      "cell_type": "markdown",
      "metadata": {
        "id": "NipSLBpPXfYc"
      },
      "source": [
        "El prefijo b indica que el tipo *(dtype)*  tf.string no es unicode."
      ]
    },
    {
      "cell_type": "code",
      "metadata": {
        "colab": {
          "base_uri": "https://localhost:8080/"
        },
        "id": "Uyo_mbcHWdFC",
        "outputId": "747b1bc7-b9ee-48c3-937e-e1ee4cdf5ed0"
      },
      "source": [
        "print(tf.strings.split(st2))"
      ],
      "execution_count": 19,
      "outputs": [
        {
          "output_type": "stream",
          "text": [
            "<tf.RaggedTensor [[b'Este', b'tensor', b'string'], [b'Cadena', b'2'], [b'Cadena', b'3'], [b'\\xf0\\x9f\\xa5\\xb3']]>\n"
          ],
          "name": "stdout"
        }
      ]
    },
    {
      "cell_type": "code",
      "metadata": {
        "colab": {
          "base_uri": "https://localhost:8080/"
        },
        "id": "0Ui7nurmX46d",
        "outputId": "bf430003-84d9-47dc-f0fc-ffa47dc0ed7a"
      },
      "source": [
        "st_split = tf.strings.split(st)\n",
        "for i in st_split:\n",
        "    print(i)"
      ],
      "execution_count": 20,
      "outputs": [
        {
          "output_type": "stream",
          "text": [
            "tf.Tensor([b'Este' b'tensor' b'string'], shape=(3,), dtype=string)\n",
            "tf.Tensor([b'Cadena' b'2'], shape=(2,), dtype=string)\n",
            "tf.Tensor([b'Cadena' b'3'], shape=(2,), dtype=string)\n",
            "tf.Tensor([b'\\xf0\\x9f\\xa5\\xb3'], shape=(1,), dtype=string)\n"
          ],
          "name": "stdout"
        }
      ]
    },
    {
      "cell_type": "markdown",
      "metadata": {
        "id": "iJjGlKjSYZg5"
      },
      "source": [
        "### string to number"
      ]
    },
    {
      "cell_type": "code",
      "metadata": {
        "colab": {
          "base_uri": "https://localhost:8080/"
        },
        "id": "I6dCGinoYbLA",
        "outputId": "0414698c-c673-438c-96b9-f5485e497bc1"
      },
      "source": [
        "st = tf.constant(\"1 10 10.4\")\n",
        "\n",
        "print(tf.strings.to_number(tf.strings.split(st, \" \")))"
      ],
      "execution_count": 23,
      "outputs": [
        {
          "output_type": "stream",
          "text": [
            "tf.Tensor([ 1.  10.  10.4], shape=(3,), dtype=float32)\n"
          ],
          "name": "stdout"
        }
      ]
    },
    {
      "cell_type": "markdown",
      "metadata": {
        "id": "MnnvXznXZB9n"
      },
      "source": [
        "## Tensores dispersos. SparseTensor\n",
        "---\n",
        "Es una funcion que define un tensor por medio de 3 argumentos\n",
        "> **índices:** índices de los valores que uno quiere definir diferentes a cero\n",
        "\n",
        "> **values:** son los valores de los datos que uno define para los índices definidos en el primer parámetro\n",
        "\n",
        "> **dense_shape:** es la forma del tensor los valores que no esten definidos en los parámetros anteriores serán cero."
      ]
    },
    {
      "cell_type": "code",
      "metadata": {
        "colab": {
          "base_uri": "https://localhost:8080/"
        },
        "id": "htNLeUqwYd41",
        "outputId": "c25af598-0bac-4d86-d34b-16243ce158f4"
      },
      "source": [
        "#  tensor disperso\n",
        "sparse_tensor = tf.sparse.SparseTensor(indices = [[0,1], [1,2]],\n",
        "                                       values = [1,2],\n",
        "                                       dense_shape\n",
        "                                        =[3,4])\n",
        "print(sparse_tensor, \"\\n\")\n",
        "\n",
        "# convierte a tensor denso\n",
        "print(tf.sparse.to_dense(sparse_tensor))"
      ],
      "execution_count": 24,
      "outputs": [
        {
          "output_type": "stream",
          "text": [
            "SparseTensor(indices=tf.Tensor(\n",
            "[[0 1]\n",
            " [1 2]], shape=(2, 2), dtype=int64), values=tf.Tensor([1 2], shape=(2,), dtype=int32), dense_shape=tf.Tensor([3 4], shape=(2,), dtype=int64)) \n",
            "\n",
            "tf.Tensor(\n",
            "[[0 1 0 0]\n",
            " [0 0 2 0]\n",
            " [0 0 0 0]], shape=(3, 4), dtype=int32)\n"
          ],
          "name": "stdout"
        }
      ]
    },
    {
      "cell_type": "code",
      "metadata": {
        "id": "jCx6zAMzZGjX"
      },
      "source": [
        ""
      ],
      "execution_count": null,
      "outputs": []
    }
  ]
}